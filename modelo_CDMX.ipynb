{
 "cells": [
  {
   "cell_type": "code",
   "execution_count": 1,
   "metadata": {},
   "outputs": [],
   "source": [
    "import requests, zipfile, io\n",
    "import pandas as pd\n",
    "import numpy as np\n",
    "import bokeh.plotting as bpl\n",
    "import bokeh.palettes as bpt\n",
    "import colorcet as cc\n",
    "from scipy.integrate import odeint\n",
    "from scipy.integrate import solve_ivp\n",
    "from scipy.optimize import minimize\n",
    "from sklearn.metrics import mean_squared_log_error, mean_squared_error"
   ]
  },
  {
   "cell_type": "code",
   "execution_count": 2,
   "metadata": {},
   "outputs": [
    {
     "data": {
      "text/html": [
       "\n",
       "    <div class=\"bk-root\">\n",
       "        <a href=\"https://bokeh.org\" target=\"_blank\" class=\"bk-logo bk-logo-small bk-logo-notebook\"></a>\n",
       "        <span id=\"1001\">Loading BokehJS ...</span>\n",
       "    </div>"
      ]
     },
     "metadata": {},
     "output_type": "display_data"
    },
    {
     "data": {
      "application/javascript": [
       "\n",
       "(function(root) {\n",
       "  function now() {\n",
       "    return new Date();\n",
       "  }\n",
       "\n",
       "  var force = true;\n",
       "\n",
       "  if (typeof root._bokeh_onload_callbacks === \"undefined\" || force === true) {\n",
       "    root._bokeh_onload_callbacks = [];\n",
       "    root._bokeh_is_loading = undefined;\n",
       "  }\n",
       "\n",
       "  var JS_MIME_TYPE = 'application/javascript';\n",
       "  var HTML_MIME_TYPE = 'text/html';\n",
       "  var EXEC_MIME_TYPE = 'application/vnd.bokehjs_exec.v0+json';\n",
       "  var CLASS_NAME = 'output_bokeh rendered_html';\n",
       "\n",
       "  /**\n",
       "   * Render data to the DOM node\n",
       "   */\n",
       "  function render(props, node) {\n",
       "    var script = document.createElement(\"script\");\n",
       "    node.appendChild(script);\n",
       "  }\n",
       "\n",
       "  /**\n",
       "   * Handle when an output is cleared or removed\n",
       "   */\n",
       "  function handleClearOutput(event, handle) {\n",
       "    var cell = handle.cell;\n",
       "\n",
       "    var id = cell.output_area._bokeh_element_id;\n",
       "    var server_id = cell.output_area._bokeh_server_id;\n",
       "    // Clean up Bokeh references\n",
       "    if (id != null && id in Bokeh.index) {\n",
       "      Bokeh.index[id].model.document.clear();\n",
       "      delete Bokeh.index[id];\n",
       "    }\n",
       "\n",
       "    if (server_id !== undefined) {\n",
       "      // Clean up Bokeh references\n",
       "      var cmd = \"from bokeh.io.state import curstate; print(curstate().uuid_to_server['\" + server_id + \"'].get_sessions()[0].document.roots[0]._id)\";\n",
       "      cell.notebook.kernel.execute(cmd, {\n",
       "        iopub: {\n",
       "          output: function(msg) {\n",
       "            var id = msg.content.text.trim();\n",
       "            if (id in Bokeh.index) {\n",
       "              Bokeh.index[id].model.document.clear();\n",
       "              delete Bokeh.index[id];\n",
       "            }\n",
       "          }\n",
       "        }\n",
       "      });\n",
       "      // Destroy server and session\n",
       "      var cmd = \"import bokeh.io.notebook as ion; ion.destroy_server('\" + server_id + \"')\";\n",
       "      cell.notebook.kernel.execute(cmd);\n",
       "    }\n",
       "  }\n",
       "\n",
       "  /**\n",
       "   * Handle when a new output is added\n",
       "   */\n",
       "  function handleAddOutput(event, handle) {\n",
       "    var output_area = handle.output_area;\n",
       "    var output = handle.output;\n",
       "\n",
       "    // limit handleAddOutput to display_data with EXEC_MIME_TYPE content only\n",
       "    if ((output.output_type != \"display_data\") || (!output.data.hasOwnProperty(EXEC_MIME_TYPE))) {\n",
       "      return\n",
       "    }\n",
       "\n",
       "    var toinsert = output_area.element.find(\".\" + CLASS_NAME.split(' ')[0]);\n",
       "\n",
       "    if (output.metadata[EXEC_MIME_TYPE][\"id\"] !== undefined) {\n",
       "      toinsert[toinsert.length - 1].firstChild.textContent = output.data[JS_MIME_TYPE];\n",
       "      // store reference to embed id on output_area\n",
       "      output_area._bokeh_element_id = output.metadata[EXEC_MIME_TYPE][\"id\"];\n",
       "    }\n",
       "    if (output.metadata[EXEC_MIME_TYPE][\"server_id\"] !== undefined) {\n",
       "      var bk_div = document.createElement(\"div\");\n",
       "      bk_div.innerHTML = output.data[HTML_MIME_TYPE];\n",
       "      var script_attrs = bk_div.children[0].attributes;\n",
       "      for (var i = 0; i < script_attrs.length; i++) {\n",
       "        toinsert[toinsert.length - 1].firstChild.setAttribute(script_attrs[i].name, script_attrs[i].value);\n",
       "        toinsert[toinsert.length - 1].firstChild.textContent = bk_div.children[0].textContent\n",
       "      }\n",
       "      // store reference to server id on output_area\n",
       "      output_area._bokeh_server_id = output.metadata[EXEC_MIME_TYPE][\"server_id\"];\n",
       "    }\n",
       "  }\n",
       "\n",
       "  function register_renderer(events, OutputArea) {\n",
       "\n",
       "    function append_mime(data, metadata, element) {\n",
       "      // create a DOM node to render to\n",
       "      var toinsert = this.create_output_subarea(\n",
       "        metadata,\n",
       "        CLASS_NAME,\n",
       "        EXEC_MIME_TYPE\n",
       "      );\n",
       "      this.keyboard_manager.register_events(toinsert);\n",
       "      // Render to node\n",
       "      var props = {data: data, metadata: metadata[EXEC_MIME_TYPE]};\n",
       "      render(props, toinsert[toinsert.length - 1]);\n",
       "      element.append(toinsert);\n",
       "      return toinsert\n",
       "    }\n",
       "\n",
       "    /* Handle when an output is cleared or removed */\n",
       "    events.on('clear_output.CodeCell', handleClearOutput);\n",
       "    events.on('delete.Cell', handleClearOutput);\n",
       "\n",
       "    /* Handle when a new output is added */\n",
       "    events.on('output_added.OutputArea', handleAddOutput);\n",
       "\n",
       "    /**\n",
       "     * Register the mime type and append_mime function with output_area\n",
       "     */\n",
       "    OutputArea.prototype.register_mime_type(EXEC_MIME_TYPE, append_mime, {\n",
       "      /* Is output safe? */\n",
       "      safe: true,\n",
       "      /* Index of renderer in `output_area.display_order` */\n",
       "      index: 0\n",
       "    });\n",
       "  }\n",
       "\n",
       "  // register the mime type if in Jupyter Notebook environment and previously unregistered\n",
       "  if (root.Jupyter !== undefined) {\n",
       "    var events = require('base/js/events');\n",
       "    var OutputArea = require('notebook/js/outputarea').OutputArea;\n",
       "\n",
       "    if (OutputArea.prototype.mime_types().indexOf(EXEC_MIME_TYPE) == -1) {\n",
       "      register_renderer(events, OutputArea);\n",
       "    }\n",
       "  }\n",
       "\n",
       "  \n",
       "  if (typeof (root._bokeh_timeout) === \"undefined\" || force === true) {\n",
       "    root._bokeh_timeout = Date.now() + 5000;\n",
       "    root._bokeh_failed_load = false;\n",
       "  }\n",
       "\n",
       "  var NB_LOAD_WARNING = {'data': {'text/html':\n",
       "     \"<div style='background-color: #fdd'>\\n\"+\n",
       "     \"<p>\\n\"+\n",
       "     \"BokehJS does not appear to have successfully loaded. If loading BokehJS from CDN, this \\n\"+\n",
       "     \"may be due to a slow or bad network connection. Possible fixes:\\n\"+\n",
       "     \"</p>\\n\"+\n",
       "     \"<ul>\\n\"+\n",
       "     \"<li>re-rerun `output_notebook()` to attempt to load from CDN again, or</li>\\n\"+\n",
       "     \"<li>use INLINE resources instead, as so:</li>\\n\"+\n",
       "     \"</ul>\\n\"+\n",
       "     \"<code>\\n\"+\n",
       "     \"from bokeh.resources import INLINE\\n\"+\n",
       "     \"output_notebook(resources=INLINE)\\n\"+\n",
       "     \"</code>\\n\"+\n",
       "     \"</div>\"}};\n",
       "\n",
       "  function display_loaded() {\n",
       "    var el = document.getElementById(\"1001\");\n",
       "    if (el != null) {\n",
       "      el.textContent = \"BokehJS is loading...\";\n",
       "    }\n",
       "    if (root.Bokeh !== undefined) {\n",
       "      if (el != null) {\n",
       "        el.textContent = \"BokehJS \" + root.Bokeh.version + \" successfully loaded.\";\n",
       "      }\n",
       "    } else if (Date.now() < root._bokeh_timeout) {\n",
       "      setTimeout(display_loaded, 100)\n",
       "    }\n",
       "  }\n",
       "\n",
       "\n",
       "  function run_callbacks() {\n",
       "    try {\n",
       "      root._bokeh_onload_callbacks.forEach(function(callback) {\n",
       "        if (callback != null)\n",
       "          callback();\n",
       "      });\n",
       "    } finally {\n",
       "      delete root._bokeh_onload_callbacks\n",
       "    }\n",
       "    console.debug(\"Bokeh: all callbacks have finished\");\n",
       "  }\n",
       "\n",
       "  function load_libs(css_urls, js_urls, callback) {\n",
       "    if (css_urls == null) css_urls = [];\n",
       "    if (js_urls == null) js_urls = [];\n",
       "\n",
       "    root._bokeh_onload_callbacks.push(callback);\n",
       "    if (root._bokeh_is_loading > 0) {\n",
       "      console.debug(\"Bokeh: BokehJS is being loaded, scheduling callback at\", now());\n",
       "      return null;\n",
       "    }\n",
       "    if (js_urls == null || js_urls.length === 0) {\n",
       "      run_callbacks();\n",
       "      return null;\n",
       "    }\n",
       "    console.debug(\"Bokeh: BokehJS not loaded, scheduling load and callback at\", now());\n",
       "    root._bokeh_is_loading = css_urls.length + js_urls.length;\n",
       "\n",
       "    function on_load() {\n",
       "      root._bokeh_is_loading--;\n",
       "      if (root._bokeh_is_loading === 0) {\n",
       "        console.debug(\"Bokeh: all BokehJS libraries/stylesheets loaded\");\n",
       "        run_callbacks()\n",
       "      }\n",
       "    }\n",
       "\n",
       "    function on_error() {\n",
       "      console.error(\"failed to load \" + url);\n",
       "    }\n",
       "\n",
       "    for (var i = 0; i < css_urls.length; i++) {\n",
       "      var url = css_urls[i];\n",
       "      const element = document.createElement(\"link\");\n",
       "      element.onload = on_load;\n",
       "      element.onerror = on_error;\n",
       "      element.rel = \"stylesheet\";\n",
       "      element.type = \"text/css\";\n",
       "      element.href = url;\n",
       "      console.debug(\"Bokeh: injecting link tag for BokehJS stylesheet: \", url);\n",
       "      document.body.appendChild(element);\n",
       "    }\n",
       "\n",
       "    const hashes = {\"https://cdn.bokeh.org/bokeh/release/bokeh-2.0.1.min.js\": \"JpP8FXbgAZLkfur7LiK3j9AGBhHNIvF742meBJrjO2ShJDhCG2I1uVvW+0DUtrmc\", \"https://cdn.bokeh.org/bokeh/release/bokeh-widgets-2.0.1.min.js\": \"xZlADit0Q04ISQEdKg2k3L4W9AwQBAuDs9nJL9fM/WwzL1tEU9VPNezOFX0nLEAz\", \"https://cdn.bokeh.org/bokeh/release/bokeh-tables-2.0.1.min.js\": \"4BuPRZkdMKSnj3zoxiNrQ86XgNw0rYmBOxe7nshquXwwcauupgBF2DHLVG1WuZlV\", \"https://cdn.bokeh.org/bokeh/release/bokeh-gl-2.0.1.min.js\": \"Dv1SQ87hmDqK6S5OhBf0bCuwAEvL5QYL0PuR/F1SPVhCS/r/abjkbpKDYL2zeM19\"};\n",
       "\n",
       "    for (var i = 0; i < js_urls.length; i++) {\n",
       "      var url = js_urls[i];\n",
       "      var element = document.createElement('script');\n",
       "      element.onload = on_load;\n",
       "      element.onerror = on_error;\n",
       "      element.async = false;\n",
       "      element.src = url;\n",
       "      if (url in hashes) {\n",
       "        element.crossOrigin = \"anonymous\";\n",
       "        element.integrity = \"sha384-\" + hashes[url];\n",
       "      }\n",
       "      console.debug(\"Bokeh: injecting script tag for BokehJS library: \", url);\n",
       "      document.head.appendChild(element);\n",
       "    }\n",
       "  };var element = document.getElementById(\"1001\");\n",
       "  if (element == null) {\n",
       "    console.error(\"Bokeh: ERROR: autoload.js configured with elementid '1001' but no matching script tag was found. \")\n",
       "    return false;\n",
       "  }\n",
       "\n",
       "  function inject_raw_css(css) {\n",
       "    const element = document.createElement(\"style\");\n",
       "    element.appendChild(document.createTextNode(css));\n",
       "    document.body.appendChild(element);\n",
       "  }\n",
       "\n",
       "  \n",
       "  var js_urls = [\"https://cdn.bokeh.org/bokeh/release/bokeh-2.0.1.min.js\", \"https://cdn.bokeh.org/bokeh/release/bokeh-widgets-2.0.1.min.js\", \"https://cdn.bokeh.org/bokeh/release/bokeh-tables-2.0.1.min.js\", \"https://cdn.bokeh.org/bokeh/release/bokeh-gl-2.0.1.min.js\"];\n",
       "  var css_urls = [];\n",
       "  \n",
       "\n",
       "  var inline_js = [\n",
       "    function(Bokeh) {\n",
       "      Bokeh.set_log_level(\"info\");\n",
       "    },\n",
       "    function(Bokeh) {\n",
       "    \n",
       "    \n",
       "    }\n",
       "  ];\n",
       "\n",
       "  function run_inline_js() {\n",
       "    \n",
       "    if (root.Bokeh !== undefined || force === true) {\n",
       "      \n",
       "    for (var i = 0; i < inline_js.length; i++) {\n",
       "      inline_js[i].call(root, root.Bokeh);\n",
       "    }\n",
       "    if (force === true) {\n",
       "        display_loaded();\n",
       "      }} else if (Date.now() < root._bokeh_timeout) {\n",
       "      setTimeout(run_inline_js, 100);\n",
       "    } else if (!root._bokeh_failed_load) {\n",
       "      console.log(\"Bokeh: BokehJS failed to load within specified timeout.\");\n",
       "      root._bokeh_failed_load = true;\n",
       "    } else if (force !== true) {\n",
       "      var cell = $(document.getElementById(\"1001\")).parents('.cell').data().cell;\n",
       "      cell.output_area.append_execute_result(NB_LOAD_WARNING)\n",
       "    }\n",
       "\n",
       "  }\n",
       "\n",
       "  if (root._bokeh_is_loading === 0) {\n",
       "    console.debug(\"Bokeh: BokehJS loaded, going straight to plotting\");\n",
       "    run_inline_js();\n",
       "  } else {\n",
       "    load_libs(css_urls, js_urls, function() {\n",
       "      console.debug(\"Bokeh: BokehJS plotting callback run at\", now());\n",
       "      run_inline_js();\n",
       "    });\n",
       "  }\n",
       "}(window));"
      ],
      "application/vnd.bokehjs_load.v0+json": "\n(function(root) {\n  function now() {\n    return new Date();\n  }\n\n  var force = true;\n\n  if (typeof root._bokeh_onload_callbacks === \"undefined\" || force === true) {\n    root._bokeh_onload_callbacks = [];\n    root._bokeh_is_loading = undefined;\n  }\n\n  \n\n  \n  if (typeof (root._bokeh_timeout) === \"undefined\" || force === true) {\n    root._bokeh_timeout = Date.now() + 5000;\n    root._bokeh_failed_load = false;\n  }\n\n  var NB_LOAD_WARNING = {'data': {'text/html':\n     \"<div style='background-color: #fdd'>\\n\"+\n     \"<p>\\n\"+\n     \"BokehJS does not appear to have successfully loaded. If loading BokehJS from CDN, this \\n\"+\n     \"may be due to a slow or bad network connection. Possible fixes:\\n\"+\n     \"</p>\\n\"+\n     \"<ul>\\n\"+\n     \"<li>re-rerun `output_notebook()` to attempt to load from CDN again, or</li>\\n\"+\n     \"<li>use INLINE resources instead, as so:</li>\\n\"+\n     \"</ul>\\n\"+\n     \"<code>\\n\"+\n     \"from bokeh.resources import INLINE\\n\"+\n     \"output_notebook(resources=INLINE)\\n\"+\n     \"</code>\\n\"+\n     \"</div>\"}};\n\n  function display_loaded() {\n    var el = document.getElementById(\"1001\");\n    if (el != null) {\n      el.textContent = \"BokehJS is loading...\";\n    }\n    if (root.Bokeh !== undefined) {\n      if (el != null) {\n        el.textContent = \"BokehJS \" + root.Bokeh.version + \" successfully loaded.\";\n      }\n    } else if (Date.now() < root._bokeh_timeout) {\n      setTimeout(display_loaded, 100)\n    }\n  }\n\n\n  function run_callbacks() {\n    try {\n      root._bokeh_onload_callbacks.forEach(function(callback) {\n        if (callback != null)\n          callback();\n      });\n    } finally {\n      delete root._bokeh_onload_callbacks\n    }\n    console.debug(\"Bokeh: all callbacks have finished\");\n  }\n\n  function load_libs(css_urls, js_urls, callback) {\n    if (css_urls == null) css_urls = [];\n    if (js_urls == null) js_urls = [];\n\n    root._bokeh_onload_callbacks.push(callback);\n    if (root._bokeh_is_loading > 0) {\n      console.debug(\"Bokeh: BokehJS is being loaded, scheduling callback at\", now());\n      return null;\n    }\n    if (js_urls == null || js_urls.length === 0) {\n      run_callbacks();\n      return null;\n    }\n    console.debug(\"Bokeh: BokehJS not loaded, scheduling load and callback at\", now());\n    root._bokeh_is_loading = css_urls.length + js_urls.length;\n\n    function on_load() {\n      root._bokeh_is_loading--;\n      if (root._bokeh_is_loading === 0) {\n        console.debug(\"Bokeh: all BokehJS libraries/stylesheets loaded\");\n        run_callbacks()\n      }\n    }\n\n    function on_error() {\n      console.error(\"failed to load \" + url);\n    }\n\n    for (var i = 0; i < css_urls.length; i++) {\n      var url = css_urls[i];\n      const element = document.createElement(\"link\");\n      element.onload = on_load;\n      element.onerror = on_error;\n      element.rel = \"stylesheet\";\n      element.type = \"text/css\";\n      element.href = url;\n      console.debug(\"Bokeh: injecting link tag for BokehJS stylesheet: \", url);\n      document.body.appendChild(element);\n    }\n\n    const hashes = {\"https://cdn.bokeh.org/bokeh/release/bokeh-2.0.1.min.js\": \"JpP8FXbgAZLkfur7LiK3j9AGBhHNIvF742meBJrjO2ShJDhCG2I1uVvW+0DUtrmc\", \"https://cdn.bokeh.org/bokeh/release/bokeh-widgets-2.0.1.min.js\": \"xZlADit0Q04ISQEdKg2k3L4W9AwQBAuDs9nJL9fM/WwzL1tEU9VPNezOFX0nLEAz\", \"https://cdn.bokeh.org/bokeh/release/bokeh-tables-2.0.1.min.js\": \"4BuPRZkdMKSnj3zoxiNrQ86XgNw0rYmBOxe7nshquXwwcauupgBF2DHLVG1WuZlV\", \"https://cdn.bokeh.org/bokeh/release/bokeh-gl-2.0.1.min.js\": \"Dv1SQ87hmDqK6S5OhBf0bCuwAEvL5QYL0PuR/F1SPVhCS/r/abjkbpKDYL2zeM19\"};\n\n    for (var i = 0; i < js_urls.length; i++) {\n      var url = js_urls[i];\n      var element = document.createElement('script');\n      element.onload = on_load;\n      element.onerror = on_error;\n      element.async = false;\n      element.src = url;\n      if (url in hashes) {\n        element.crossOrigin = \"anonymous\";\n        element.integrity = \"sha384-\" + hashes[url];\n      }\n      console.debug(\"Bokeh: injecting script tag for BokehJS library: \", url);\n      document.head.appendChild(element);\n    }\n  };var element = document.getElementById(\"1001\");\n  if (element == null) {\n    console.error(\"Bokeh: ERROR: autoload.js configured with elementid '1001' but no matching script tag was found. \")\n    return false;\n  }\n\n  function inject_raw_css(css) {\n    const element = document.createElement(\"style\");\n    element.appendChild(document.createTextNode(css));\n    document.body.appendChild(element);\n  }\n\n  \n  var js_urls = [\"https://cdn.bokeh.org/bokeh/release/bokeh-2.0.1.min.js\", \"https://cdn.bokeh.org/bokeh/release/bokeh-widgets-2.0.1.min.js\", \"https://cdn.bokeh.org/bokeh/release/bokeh-tables-2.0.1.min.js\", \"https://cdn.bokeh.org/bokeh/release/bokeh-gl-2.0.1.min.js\"];\n  var css_urls = [];\n  \n\n  var inline_js = [\n    function(Bokeh) {\n      Bokeh.set_log_level(\"info\");\n    },\n    function(Bokeh) {\n    \n    \n    }\n  ];\n\n  function run_inline_js() {\n    \n    if (root.Bokeh !== undefined || force === true) {\n      \n    for (var i = 0; i < inline_js.length; i++) {\n      inline_js[i].call(root, root.Bokeh);\n    }\n    if (force === true) {\n        display_loaded();\n      }} else if (Date.now() < root._bokeh_timeout) {\n      setTimeout(run_inline_js, 100);\n    } else if (!root._bokeh_failed_load) {\n      console.log(\"Bokeh: BokehJS failed to load within specified timeout.\");\n      root._bokeh_failed_load = true;\n    } else if (force !== true) {\n      var cell = $(document.getElementById(\"1001\")).parents('.cell').data().cell;\n      cell.output_area.append_execute_result(NB_LOAD_WARNING)\n    }\n\n  }\n\n  if (root._bokeh_is_loading === 0) {\n    console.debug(\"Bokeh: BokehJS loaded, going straight to plotting\");\n    run_inline_js();\n  } else {\n    load_libs(css_urls, js_urls, function() {\n      console.debug(\"Bokeh: BokehJS plotting callback run at\", now());\n      run_inline_js();\n    });\n  }\n}(window));"
     },
     "metadata": {},
     "output_type": "display_data"
    }
   ],
   "source": [
    "bpl.output_notebook()"
   ]
  },
  {
   "cell_type": "markdown",
   "metadata": {},
   "source": [
    "Definición del modelo de CDMX, los detalles del modelo se encuentran en [https://modelo.covid19.cdmx.gob.mx/modelo-epidemico](https://modelo.covid19.cdmx.gob.mx/modelo-epidemico)"
   ]
  },
  {
   "cell_type": "code",
   "execution_count": 3,
   "metadata": {},
   "outputs": [],
   "source": [
    "# Susceptibles equation\n",
    "def dS_dt(S, I, R_t, t_inf):\n",
    "    return -(R_t / t_inf) * I * S\n",
    "\n",
    "# Expuestos equation\n",
    "def dE_dt(S, E, I, R_t, t_inf, t_inc):\n",
    "    return (R_t / t_inf) * I * S - (E / t_inc)\n",
    "\n",
    "# Infectados equation\n",
    "def dI_dt(I, E, t_inc, t_inf):\n",
    "    return (E / t_inc) - (I / t_inf)\n",
    "\n",
    "#Leves equation\n",
    "def dL_dt(I, L, p_grave, t_inf, t_rl):\n",
    "    return (1-p_grave)*(I /t_inf) - (L / t_rl)\n",
    "\n",
    "#Graves equation\n",
    "def dG_dt(I, G, p_grave, t_inf, t_hosp):\n",
    "    return p_grave*(I / t_inf) - (G / t_hosp)\n",
    "\n",
    "# Hospializados equation\n",
    "def dH_dt(G, H, t_hosp, p_icu, t_rh, t_icu):\n",
    "    return (G / t_hosp) - (1-p_icu)*(H / t_rh) - (p_icu)*(H / t_icu)\n",
    "\n",
    "# ICU equation\n",
    "def dICU_dt(H, ICU, p_icu, t_icu, p_m, t_ricu, t_m):\n",
    "    return p_icu*(H / t_icu) - (1-p_m)*(ICU / t_ricu) - p_m*(ICU / t_m)\n",
    "\n",
    "# Recovered equation\n",
    "def dR_dt(L, H, ICU, t_rl, p_icu, t_rh, p_m, t_ricu):\n",
    "    return (L / t_rl) + (1-p_icu)*(H / t_rh) + (1-p_m)*(ICU / t_ricu)\n",
    "\n",
    "# Deaths equation\n",
    "def dD_dt(ICU, t_m, p_m):\n",
    "    return p_m*(ICU / t_m)\n",
    "\n",
    "\n",
    "def CDMX_model(t, y, R_t, t_inf=2.9, t_inc=5.2, t_rh=12, t_rl=14, t_hosp=4, t_icu=1, t_ricu=7, t_m=8, p_m=.03, p_grave=.138, p_icu=0.05):\n",
    "\n",
    "    if callable(R_t):\n",
    "        reprod = R_t(t)\n",
    "    else:\n",
    "        reprod = R_t\n",
    "        \n",
    "    S, E, I, L, G, H, ICU, R, D = y\n",
    "    \n",
    "    S_out = dS_dt(S, I, reprod, t_inf)\n",
    "    E_out = dE_dt(S, E, I, reprod, t_inf, t_inc)\n",
    "    I_out = dI_dt(I, E, t_inc, t_inf)\n",
    "    L_out = dL_dt(I, L, p_grave, t_inf, t_rl)\n",
    "    G_out = dG_dt(I, G, p_grave, t_inf, t_hosp)\n",
    "    H_out = dH_dt(G, H, t_hosp, p_icu, t_rh, t_icu)\n",
    "    ICU_out = dICU_dt(H, ICU, p_icu, t_icu, p_m, t_ricu, t_m)\n",
    "    R_out = dR_dt(L, H, ICU, t_rl, p_icu, t_rh, p_m, t_ricu)\n",
    "    D_out = dD_dt(ICU, t_m, p_m)\n",
    "    return [S_out, E_out, I_out, L_out, G_out, H_out, ICU_out, R_out, D_out]"
   ]
  },
  {
   "cell_type": "markdown",
   "metadata": {},
   "source": [
    "Ejecución del modelo de CDMX con los parámetros que reportan, hay dos instancias, una sin intervenciones y la otra con 3 intervenciones"
   ]
  },
  {
   "cell_type": "code",
   "execution_count": 659,
   "metadata": {},
   "outputs": [],
   "source": [
    "N = 22000000\n",
    "n_infected = 556*2\n",
    "max_days = 200\n",
    "inicio = '2020-03-19'\n",
    "tiempos = pd.date_range(start=inicio, periods=max_days).values\n",
    "serie_tiempos = pd.Series(tiempos)\n",
    "\n",
    "initial_state = [(N - n_infected)/ N, 0, n_infected / N, 0, 0, 0, 0, 0, 0]\n",
    "\n",
    "R_0 = 3.8\n",
    "t_inf=2.9\n",
    "t_inc=5.2\n",
    "t_rh=12\n",
    "t_rl=14\n",
    "t_hosp=4\n",
    "t_icu=1\n",
    "t_ricu = 7\n",
    "t_m=8\n",
    "p_m=0.65\n",
    "p_grave=0.138\n",
    "p_icu=0.05\n",
    "\n",
    "intervenciones = [{\"R\":2.83,\"fecha\":inicio},\n",
    "                  {\"R\":2.2,\"fecha\":\"2020-03-22\"},\n",
    "                  {\"R\":0.95,\"fecha\":\"2020-04-01\"},\n",
    "                  {\"R\":1.6,\"fecha\":\"2020-04-13\"},\n",
    "                  {\"R\":0.95,\"fecha\":\"2020-04-20\"}]\n",
    "\n",
    "def rep(t):\n",
    "    rfinal = R_0\n",
    "    for intervencion in intervenciones:\n",
    "        tint = serie_tiempos[(serie_tiempos-pd.Timestamp(intervencion[\"fecha\"])).dt.days==0].index[0]\n",
    "        if (t > tint):\n",
    "            rfinal = intervencion[\"R\"]\n",
    "    return rfinal\n",
    "\n",
    "args_sin_interv = (R_0, t_inf, t_inc, t_rh, t_rl, t_hosp, t_icu, t_ricu, t_m, p_m, p_grave, p_icu)\n",
    "args_con_interv = (rep, t_inf, t_inc, t_rh, t_rl, t_hosp, t_icu, t_ricu, t_m, p_m, p_grave, p_icu)\n",
    "\n",
    "sol_sin_interv = solve_ivp(CDMX_model, [0, max_days], initial_state, args=args_sin_interv, t_eval=np.arange(max_days))\n",
    "sol_con_interv = solve_ivp(CDMX_model, [0, max_days], initial_state, args=args_con_interv, t_eval=np.arange(max_days))"
   ]
  },
  {
   "cell_type": "code",
   "execution_count": 660,
   "metadata": {},
   "outputs": [],
   "source": [
    "labels = [\"Susceptibles\",\"Expuestos\",\"Infectados\",\"Leves\",\"Graves\",\"Hospitalizados\",\"ICUs\",\"Recuperados\",\"Defunciones\"]\n",
    "colores = {\"Susceptibles\":\"#969696\",\n",
    "           \"Recuperados\":\"Green\",\n",
    "           \"Expuestos\":\"Pink\",\n",
    "           \"Infectados\":\"Red\",\n",
    "           \"Leves\":\"#807DBA\",\n",
    "           \"Graves\":\"#54278F\",\n",
    "           \"Hospitalizados\":\"#CC4C02\",\n",
    "           \"ICUs\":\"#662506\",\n",
    "           \"Defunciones\":\"#525252\"}"
   ]
  },
  {
   "cell_type": "code",
   "execution_count": 661,
   "metadata": {},
   "outputs": [],
   "source": [
    "solucion_sin = pd.DataFrame(sol_sin_interv.y.T*N,columns=labels,index=sol_sin_interv.t)\n",
    "solucion_con = pd.DataFrame(sol_con_interv.y.T*N,columns=labels,index=sol_con_interv.t)"
   ]
  },
  {
   "cell_type": "code",
   "execution_count": 662,
   "metadata": {},
   "outputs": [],
   "source": [
    "solucion_sin[\"Fecha\"] = tiempos\n",
    "solucion_con[\"Fecha\"] = tiempos"
   ]
  },
  {
   "cell_type": "code",
   "execution_count": 663,
   "metadata": {},
   "outputs": [],
   "source": [
    "solucion_con[\"R_t\"] = pd.Series([rep(ti) for ti in sol_con_interv.t],index=sol_con_interv.t)"
   ]
  },
  {
   "cell_type": "code",
   "execution_count": 664,
   "metadata": {},
   "outputs": [
    {
     "data": {
      "text/html": [
       "<div>\n",
       "<style scoped>\n",
       "    .dataframe tbody tr th:only-of-type {\n",
       "        vertical-align: middle;\n",
       "    }\n",
       "\n",
       "    .dataframe tbody tr th {\n",
       "        vertical-align: top;\n",
       "    }\n",
       "\n",
       "    .dataframe thead th {\n",
       "        text-align: right;\n",
       "    }\n",
       "</style>\n",
       "<table border=\"1\" class=\"dataframe\">\n",
       "  <thead>\n",
       "    <tr style=\"text-align: right;\">\n",
       "      <th></th>\n",
       "      <th>Susceptibles</th>\n",
       "      <th>Expuestos</th>\n",
       "      <th>Infectados</th>\n",
       "      <th>Leves</th>\n",
       "      <th>Graves</th>\n",
       "      <th>Hospitalizados</th>\n",
       "      <th>ICUs</th>\n",
       "      <th>Recuperados</th>\n",
       "      <th>Defunciones</th>\n",
       "      <th>Fecha</th>\n",
       "    </tr>\n",
       "  </thead>\n",
       "  <tbody>\n",
       "    <tr>\n",
       "      <th>14</th>\n",
       "      <td>2.192687e+07</td>\n",
       "      <td>40777.038529</td>\n",
       "      <td>13371.245243</td>\n",
       "      <td>12802.045827</td>\n",
       "      <td>1310.043894</td>\n",
       "      <td>880.233552</td>\n",
       "      <td>114.879001</td>\n",
       "      <td>3.847460e+03</td>\n",
       "      <td>31.894097</td>\n",
       "      <td>2020-04-02</td>\n",
       "    </tr>\n",
       "    <tr>\n",
       "      <th>15</th>\n",
       "      <td>2.190711e+07</td>\n",
       "      <td>51727.032899</td>\n",
       "      <td>16961.131891</td>\n",
       "      <td>16271.449378</td>\n",
       "      <td>1662.582166</td>\n",
       "      <td>1119.383271</td>\n",
       "      <td>147.561806</td>\n",
       "      <td>4.962367e+03</td>\n",
       "      <td>42.471225</td>\n",
       "      <td>2020-04-03</td>\n",
       "    </tr>\n",
       "    <tr>\n",
       "      <th>16</th>\n",
       "      <td>2.188214e+07</td>\n",
       "      <td>65493.066317</td>\n",
       "      <td>21564.312070</td>\n",
       "      <td>20651.496378</td>\n",
       "      <td>2105.453167</td>\n",
       "      <td>1424.285630</td>\n",
       "      <td>188.825600</td>\n",
       "      <td>6.381451e+03</td>\n",
       "      <td>56.051051</td>\n",
       "      <td>2020-04-04</td>\n",
       "    </tr>\n",
       "    <tr>\n",
       "      <th>17</th>\n",
       "      <td>2.185047e+07</td>\n",
       "      <td>82907.954216</td>\n",
       "      <td>27430.238970</td>\n",
       "      <td>26208.090063</td>\n",
       "      <td>2666.358529</td>\n",
       "      <td>1812.358088</td>\n",
       "      <td>241.146334</td>\n",
       "      <td>8.188692e+03</td>\n",
       "      <td>73.460560</td>\n",
       "      <td>2020-04-05</td>\n",
       "    </tr>\n",
       "    <tr>\n",
       "      <th>18</th>\n",
       "      <td>2.181026e+07</td>\n",
       "      <td>105058.351372</td>\n",
       "      <td>34826.005867</td>\n",
       "      <td>33279.820324</td>\n",
       "      <td>3382.153135</td>\n",
       "      <td>2303.657282</td>\n",
       "      <td>307.628523</td>\n",
       "      <td>1.048528e+04</td>\n",
       "      <td>95.700885</td>\n",
       "      <td>2020-04-06</td>\n",
       "    </tr>\n",
       "    <tr>\n",
       "      <th>...</th>\n",
       "      <td>...</td>\n",
       "      <td>...</td>\n",
       "      <td>...</td>\n",
       "      <td>...</td>\n",
       "      <td>...</td>\n",
       "      <td>...</td>\n",
       "      <td>...</td>\n",
       "      <td>...</td>\n",
       "      <td>...</td>\n",
       "      <td>...</td>\n",
       "    </tr>\n",
       "    <tr>\n",
       "      <th>195</th>\n",
       "      <td>5.395168e+05</td>\n",
       "      <td>2.782056</td>\n",
       "      <td>-16.080566</td>\n",
       "      <td>587.097457</td>\n",
       "      <td>5.974264</td>\n",
       "      <td>-5.901763</td>\n",
       "      <td>1.680581</td>\n",
       "      <td>2.075023e+07</td>\n",
       "      <td>709678.770529</td>\n",
       "      <td>2020-09-30</td>\n",
       "    </tr>\n",
       "    <tr>\n",
       "      <th>196</th>\n",
       "      <td>5.395175e+05</td>\n",
       "      <td>1.440237</td>\n",
       "      <td>-8.323521</td>\n",
       "      <td>540.177793</td>\n",
       "      <td>3.092472</td>\n",
       "      <td>-3.019413</td>\n",
       "      <td>1.041372</td>\n",
       "      <td>2.075027e+07</td>\n",
       "      <td>709678.932148</td>\n",
       "      <td>2020-10-01</td>\n",
       "    </tr>\n",
       "    <tr>\n",
       "      <th>197</th>\n",
       "      <td>5.395178e+05</td>\n",
       "      <td>0.874827</td>\n",
       "      <td>-5.055191</td>\n",
       "      <td>500.327946</td>\n",
       "      <td>1.878250</td>\n",
       "      <td>-1.810388</td>\n",
       "      <td>0.747436</td>\n",
       "      <td>2.075031e+07</td>\n",
       "      <td>709679.016785</td>\n",
       "      <td>2020-10-02</td>\n",
       "    </tr>\n",
       "    <tr>\n",
       "      <th>198</th>\n",
       "      <td>5.395177e+05</td>\n",
       "      <td>0.968861</td>\n",
       "      <td>-5.599332</td>\n",
       "      <td>466.704675</td>\n",
       "      <td>2.080372</td>\n",
       "      <td>-2.022551</td>\n",
       "      <td>0.746986</td>\n",
       "      <td>2.075034e+07</td>\n",
       "      <td>709679.035883</td>\n",
       "      <td>2020-10-03</td>\n",
       "    </tr>\n",
       "    <tr>\n",
       "      <th>199</th>\n",
       "      <td>5.395175e+05</td>\n",
       "      <td>1.335211</td>\n",
       "      <td>-7.717771</td>\n",
       "      <td>436.962288</td>\n",
       "      <td>2.867351</td>\n",
       "      <td>-2.820984</td>\n",
       "      <td>0.870243</td>\n",
       "      <td>2.075037e+07</td>\n",
       "      <td>709679.026219</td>\n",
       "      <td>2020-10-04</td>\n",
       "    </tr>\n",
       "  </tbody>\n",
       "</table>\n",
       "<p>186 rows × 10 columns</p>\n",
       "</div>"
      ],
      "text/plain": [
       "     Susceptibles      Expuestos    Infectados         Leves       Graves  \\\n",
       "14   2.192687e+07   40777.038529  13371.245243  12802.045827  1310.043894   \n",
       "15   2.190711e+07   51727.032899  16961.131891  16271.449378  1662.582166   \n",
       "16   2.188214e+07   65493.066317  21564.312070  20651.496378  2105.453167   \n",
       "17   2.185047e+07   82907.954216  27430.238970  26208.090063  2666.358529   \n",
       "18   2.181026e+07  105058.351372  34826.005867  33279.820324  3382.153135   \n",
       "..            ...            ...           ...           ...          ...   \n",
       "195  5.395168e+05       2.782056    -16.080566    587.097457     5.974264   \n",
       "196  5.395175e+05       1.440237     -8.323521    540.177793     3.092472   \n",
       "197  5.395178e+05       0.874827     -5.055191    500.327946     1.878250   \n",
       "198  5.395177e+05       0.968861     -5.599332    466.704675     2.080372   \n",
       "199  5.395175e+05       1.335211     -7.717771    436.962288     2.867351   \n",
       "\n",
       "     Hospitalizados        ICUs   Recuperados    Defunciones      Fecha  \n",
       "14       880.233552  114.879001  3.847460e+03      31.894097 2020-04-02  \n",
       "15      1119.383271  147.561806  4.962367e+03      42.471225 2020-04-03  \n",
       "16      1424.285630  188.825600  6.381451e+03      56.051051 2020-04-04  \n",
       "17      1812.358088  241.146334  8.188692e+03      73.460560 2020-04-05  \n",
       "18      2303.657282  307.628523  1.048528e+04      95.700885 2020-04-06  \n",
       "..              ...         ...           ...            ...        ...  \n",
       "195       -5.901763    1.680581  2.075023e+07  709678.770529 2020-09-30  \n",
       "196       -3.019413    1.041372  2.075027e+07  709678.932148 2020-10-01  \n",
       "197       -1.810388    0.747436  2.075031e+07  709679.016785 2020-10-02  \n",
       "198       -2.022551    0.746986  2.075034e+07  709679.035883 2020-10-03  \n",
       "199       -2.820984    0.870243  2.075037e+07  709679.026219 2020-10-04  \n",
       "\n",
       "[186 rows x 10 columns]"
      ]
     },
     "execution_count": 664,
     "metadata": {},
     "output_type": "execute_result"
    }
   ],
   "source": [
    "solucion_sin[solucion_sin[\"Fecha\"]>\"2020-04-01\"]"
   ]
  },
  {
   "cell_type": "code",
   "execution_count": 929,
   "metadata": {},
   "outputs": [],
   "source": [
    "p_sin = bpl.figure(x_axis_type=\"datetime\",plot_width=800,plot_height=600,title=\"Modelo CDMX\")"
   ]
  },
  {
   "cell_type": "code",
   "execution_count": 930,
   "metadata": {},
   "outputs": [],
   "source": [
    "for label in labels:\n",
    "    p_sin.line(x=solucion_sin[\"Fecha\"],y=solucion_sin[label]/1000,color=colores[label],line_width=3,legend_label=label,line_alpha=0.5)"
   ]
  },
  {
   "cell_type": "code",
   "execution_count": 931,
   "metadata": {},
   "outputs": [],
   "source": [
    "p_sin.xaxis.axis_label = 'Fecha'\n",
    "p_sin.yaxis.axis_label = 'Miles de personas'\n",
    "p_sin.legend.location = \"center_right\""
   ]
  },
  {
   "cell_type": "code",
   "execution_count": 932,
   "metadata": {},
   "outputs": [
    {
     "data": {
      "text/html": [
       "\n",
       "\n",
       "\n",
       "\n",
       "\n",
       "\n",
       "  <div class=\"bk-root\" id=\"8de37d24-e116-466e-b926-9ae475c91a58\" data-root-id=\"182240\"></div>\n"
      ]
     },
     "metadata": {},
     "output_type": "display_data"
    },
    {
     "data": {
      "application/javascript": [
       "(function(root) {\n",
       "  function embed_document(root) {\n",
       "    \n",
       "  var docs_json = {\"1e63e252-2e29-4d3f-a98d-7d03ae2e09a1\":{\"roots\":{\"references\":[{\"attributes\":{\"below\":[{\"id\":\"182251\"}],\"center\":[{\"id\":\"182254\"},{\"id\":\"182258\"},{\"id\":\"182296\"}],\"left\":[{\"id\":\"182255\"}],\"plot_width\":800,\"renderers\":[{\"id\":\"182276\"},{\"id\":\"182301\"},{\"id\":\"182327\"},{\"id\":\"182355\"},{\"id\":\"182385\"},{\"id\":\"182417\"},{\"id\":\"182451\"},{\"id\":\"182487\"},{\"id\":\"182525\"}],\"title\":{\"id\":\"182241\"},\"toolbar\":{\"id\":\"182266\"},\"x_range\":{\"id\":\"182243\"},\"x_scale\":{\"id\":\"182247\"},\"y_range\":{\"id\":\"182245\"},\"y_scale\":{\"id\":\"182249\"}},\"id\":\"182240\",\"subtype\":\"Figure\",\"type\":\"Plot\"},{\"attributes\":{\"months\":[0,4,8]},\"id\":\"182293\",\"type\":\"MonthsTicker\"},{\"attributes\":{\"mantissas\":[1,2,5],\"max_interval\":500.0,\"num_minor_ticks\":0},\"id\":\"182284\",\"type\":\"AdaptiveTicker\"},{\"attributes\":{\"months\":[0,2,4,6,8,10]},\"id\":\"182292\",\"type\":\"MonthsTicker\"},{\"attributes\":{},\"id\":\"185316\",\"type\":\"UnionRenderers\"},{\"attributes\":{},\"id\":\"182281\",\"type\":\"BasicTickFormatter\"},{\"attributes\":{},\"id\":\"182366\",\"type\":\"Selection\"},{\"attributes\":{},\"id\":\"182247\",\"type\":\"LinearScale\"},{\"attributes\":{},\"id\":\"182243\",\"type\":\"DataRange1d\"},{\"attributes\":{\"data\":{\"x\":{\"__ndarray__\":\"AAAAbwEPd0IAAMDUUw93QgAAgDqmD3dCAABAoPgPd0IAAAAGSxB3QgAAwGudEHdCAACA0e8Qd0IAAEA3QhF3QgAAAJ2UEXdCAADAAucRd0IAAIBoORJ3QgAAQM6LEndCAAAANN4Sd0IAAMCZMBN3QgAAgP+CE3dCAABAZdUTd0IAAADLJxR3QgAAwDB6FHdCAACAlswUd0IAAED8HhV3QgAAAGJxFXdCAADAx8MVd0IAAIAtFhZ3QgAAQJNoFndCAAAA+boWd0IAAMBeDRd3QgAAgMRfF3dCAABAKrIXd0IAAACQBBh3QgAAwPVWGHdCAACAW6kYd0IAAEDB+xh3QgAAACdOGXdCAADAjKAZd0IAAIDy8hl3QgAAQFhFGndCAAAAvpcad0IAAMAj6hp3QgAAgIk8G3dCAABA744bd0IAAABV4Rt3QgAAwLozHHdCAACAIIYcd0IAAECG2Bx3QgAAAOwqHXdCAADAUX0dd0IAAIC3zx13QgAAQB0iHndCAAAAg3Qed0IAAMDoxh53QgAAgE4ZH3dCAABAtGsfd0IAAAAavh93QgAAwH8QIHdCAACA5WIgd0IAAEBLtSB3QgAAALEHIXdCAADAFlohd0IAAIB8rCF3QgAAQOL+IXdCAAAASFEid0IAAMCtoyJ3QgAAgBP2IndCAABAeUgjd0IAAADfmiN3QgAAwETtI3dCAACAqj8kd0IAAEAQkiR3QgAAAHbkJHdCAADA2zYld0IAAIBBiSV3QgAAQKfbJXdCAAAADS4md0IAAMBygCZ3QgAAgNjSJndCAABAPiUnd0IAAACkdyd3QgAAwAnKJ3dCAACAbxwod0IAAEDVbih3QgAAADvBKHdCAADAoBMpd0IAAIAGZil3QgAAQGy4KXdCAAAA0goqd0IAAMA3XSp3QgAAgJ2vKndCAABAAwIrd0IAAABpVCt3QgAAwM6mK3dCAACANPkrd0IAAECaSyx3QgAAAACeLHdCAADAZfAsd0IAAIDLQi13QgAAQDGVLXdCAAAAl+ctd0IAAMD8OS53QgAAgGKMLndCAABAyN4ud0IAAAAuMS93QgAAwJODL3dCAACA+dUvd0IAAEBfKDB3QgAAAMV6MHdCAADAKs0wd0IAAICQHzF3QgAAQPZxMXdCAAAAXMQxd0IAAMDBFjJ3QgAAgCdpMndCAABAjbsyd0IAAADzDTN3QgAAwFhgM3dCAACAvrIzd0IAAEAkBTR3QgAAAIpXNHdCAADA76k0d0IAAIBV/DR3QgAAQLtONXdCAAAAIaE1d0IAAMCG8zV3QgAAgOxFNndCAABAUpg2d0IAAAC46jZ3QgAAwB09N3dCAACAg483d0IAAEDp4Td3QgAAAE80OHdCAADAtIY4d0IAAIAa2Th3QgAAQIArOXdCAAAA5n05d0IAAMBL0Dl3QgAAgLEiOndCAABAF3U6d0IAAAB9xzp3QgAAwOIZO3dCAACASGw7d0IAAECuvjt3QgAAABQRPHdCAADAeWM8d0IAAIDftTx3QgAAQEUIPXdCAAAAq1o9d0IAAMAQrT13QgAAgHb/PXdCAABA3FE+d0IAAABCpD53QgAAwKf2PndCAACADUk/d0IAAEBzmz93QgAAANntP3dCAADAPkBAd0IAAICkkkB3QgAAQArlQHdCAAAAcDdBd0IAAMDViUF3QgAAgDvcQXdCAABAoS5Cd0IAAAAHgUJ3QgAAwGzTQndCAACA0iVDd0IAAEA4eEN3QgAAAJ7KQ3dCAADAAx1Ed0IAAIBpb0R3QgAAQM/BRHdCAAAANRRFd0IAAMCaZkV3QgAAgAC5RXdCAABAZgtGd0IAAADMXUZ3QgAAwDGwRndCAACAlwJHd0IAAED9VEd3QgAAAGOnR3dCAADAyPlHd0IAAIAuTEh3QgAAQJSeSHdCAAAA+vBId0IAAMBfQ0l3QgAAgMWVSXdCAABAK+hJd0IAAACROkp3QgAAwPaMSndCAACAXN9Kd0IAAEDCMUt3QgAAACiES3dCAADAjdZLd0IAAIDzKEx3QgAAQFl7THdCAAAAv81Md0IAAMAkIE13QgAAgIpyTXdCAABA8MRNd0IAAABWF053QgAAwLtpTndCAACAIbxOd0IAAECHDk93Qg==\",\"dtype\":\"float64\",\"shape\":[200]},\"y\":{\"__ndarray__\":\"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\",\"dtype\":\"float64\",\"shape\":[200]}},\"selected\":{\"id\":\"182468\"},\"selection_policy\":{\"id\":\"182469\"}},\"id\":\"182414\",\"type\":\"ColumnDataSource\"},{\"attributes\":{\"data\":{\"x\":{\"__ndarray__\":\"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\",\"dtype\":\"float64\",\"shape\":[200]},\"y\":{\"__ndarray__\":\"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\",\"dtype\":\"float64\",\"shape\":[200]}},\"selected\":{\"id\":\"182432\"},\"selection_policy\":{\"id\":\"182433\"}},\"id\":\"182382\",\"type\":\"ColumnDataSource\"},{\"attributes\":{\"data\":{\"x\":{\"__ndarray__\":\"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\",\"dtype\":\"float64\",\"shape\":[200]},\"y\":{\"__ndarray__\":\"AAAAAAAAAAAi9LOxf1GFP87O9uXNjqQ/CI8bB69Ztj+R9SPRd8DDP96fxf+1Wc8/2vWFlq5R1z/5U6h5YabgP0VlgqKLGuc/UVfTI95k7z+5rwwfzwH1P1qz83nHzPs/Q+DafcQ8AkA9CFD7dMIHQEUxNeCYxw5AETYjwHbZE0DfvjX6moYZQFNwTDecYCBAGwqzGHb4JEA0X1Ktx8kqQEmuj7s7FTFA1rTv7SHENUAB9shgl7Y7QFOEh9/3n0FAl++62vNiRkDmKb2J6WhMQLMY/wtPBFJAXjWXQqPVVkDeP7UZSOZcQK4KWbuzQWJAOvCh5RsJZ0CbWkhVJARtQCxOGlHXOnJA8sncpY3WdkA1qZglrIZ8QPT/7ZSAv4FAYTuxlRb6hUCCT3pWkRCLQNjVFw3bkZBAMLZYq9omlEAI9t+UBlGYQONupo3dGp1ANe1pvXxFoUC0uAbYBVCkQI0E4autqqdAGSMDzilSq0AzKOPGHkCvQMfNMBDstbFAhGvgXjTms0CPX/7Kyiu2QHAn6/R8gbhAaosBTj/iukDR64Oo5Ei9QGSNhIRGsL9AeO3PWhAKwUBzz4AmiTjCQHWBnFLkYcNAkIEVKHyExEAl+u0MD5/FQON70aawsMZAjKcsWb+4x0Cf5ia1lrbIQFyWD07LqclAA4XVkh+SykDnsoWCfG/LQOEFVSfqQcxAwgA7UHwJzUBgq1vTZ8bNQKw12SrteM5AA5gutlYhz0BR27EQ+L/PQJHirxCWKtBAQ80efa5w0EAYICNRerLQQOHDMSwt8NBA6Be3Sfkp0UDzuCXFD2DRQC1Tk02kktFAPIz8R+vB0UBQiRlYFu7RQGc+901UF9JAV273JdE90kDGqtAItmHSQIPjlYIrg9JAiBnucVqi0kB45AOfaL/SQDIjhJF52tJAu0ihkK7z0kBFXBOjJgvTQFkpT4/+INNAYti0O1I100BYuXddPEjTQL+rul3VWdNA1rlIOjRq00CRGJWFbnnTQJ4nu2aYh9NAX3F+mcSU00Ab78elBKHTQAuLBlBprNNAjPVuewG300C7FOQp28DTQIagXJcDytNArCLjOYfS00C79pXBcdrTQBZKpxjO4dNA3iJeZ6bo00BUq0RnBO/TQP7BRF/w9NNAvjG72XH600BYb6wKkP/TQG6ZxM9RBNRAg3hXsL0I1ED7fmDd2QzUQBjJgjGsENRA/hwJMToU1EB8pNQGiRfUQNFAWwqdGtRA1GFVAHod1EDO7A+TIyDUQJulTESdItRAuC5Cbeok1EA7CZw+DifUQNSUesALKdRAzw9z0uUq1EBGdLQhnyzUQDNKXdk5LtRARMHK7bcv1EAN/JZDGzHUQH+0Ea1lMtRA1ztA6pgz1ECtet2otjTUQObwWYTANdRAxLXbBbg21EBbCPCOnjfUQOzZiSl1ONRACBFK0jw51EBwUDaA9jnUQGOxaySjOtRArcMeqkM71ECgjZv22DvUQBKMReljPNRAZLKXW+U81EC9Up0LXj3UQJfhHHHOPdRAVShNBDc+1EClJgk/mD7UQLvua5zyPtRAU6XQmEY/1ECugdKxlD/UQJbNTGbdP9RAWeVaNiFA1EAaL9eHYEDUQNll+IObQNRAzx+JYdJA1EBL5B9cBUHUQFVN0LM0QdRApQcrrWBB1ECq0j2RiUHUQIaAk62vQdRAL2fJUdNB1EDaTUya9EHUQBlW5pUTQtRA8uz5XzBC1EAHbooYS0LUQJEjPORjQtRAZkZU7HpC1EDy/bhekELUQDtg8W2kQtRAM5vqN7dC1EDZd4W6yELUQH5BcQDZQtRAJpdqGOhC1EDmJToV9kLUQOaotA0DQ9RAXum6HA9D1ECavjlhGkPUQNEUIfokQ9RAMdeX5i5D1EC76iMjOEPUQAZSU7JAQ9RAh0v0mkhD1ECTURXoT0PUQFwaBalWQ9RA9JdS8VxD1EBJ+MzYYkPUQJpNG3ZoQ9RAXhPmv21D1ECKGBWrckPUQLmJ7zJ3Q9RAwd0tWHtD1ECs1fkgf0PUQL987piCQ9RAeigY0YVD1ECQePTfiEPUQIX+TdqLQ9RAIXebpY5D1EBFAz86kUPUQGoM05mTQ9RAZPGyyJVD1EBdBvvNl0PUQA==\",\"dtype\":\"float64\",\"shape\":[200]}},\"selected\":{\"id\":\"182546\"},\"selection_policy\":{\"id\":\"182547\"}},\"id\":\"182484\",\"type\":\"ColumnDataSource\"},{\"attributes\":{},\"id\":\"182546\",\"type\":\"Selection\"},{\"attributes\":{},\"id\":\"182245\",\"type\":\"DataRange1d\"},{\"attributes\":{\"line_alpha\":0.5,\"line_color\":\"#662506\",\"line_width\":3,\"x\":{\"field\":\"x\"},\"y\":{\"field\":\"y\"}},\"id\":\"182449\",\"type\":\"Line\"},{\"attributes\":{\"source\":{\"id\":\"182522\"}},\"id\":\"182526\",\"type\":\"CDSView\"},{\"attributes\":{},\"id\":\"182469\",\"type\":\"UnionRenderers\"},{\"attributes\":{\"days\":[1,8,15,22]},\"id\":\"182289\",\"type\":\"DaysTicker\"},{\"attributes\":{\"data\":{\"x\":{\"__ndarray__\":\"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\",\"dtype\":\"float64\",\"shape\":[200]},\"y\":{\"__ndarray__\":\"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\",\"dtype\":\"float64\",\"shape\":[200]}},\"selected\":{\"id\":\"182366\"},\"selection_policy\":{\"id\":\"182367\"}},\"id\":\"182324\",\"type\":\"ColumnDataSource\"},{\"attributes\":{},\"id\":\"182367\",\"type\":\"UnionRenderers\"},{\"attributes\":{\"base\":60,\"mantissas\":[1,2,5,10,15,20,30],\"max_interval\":1800000.0,\"min_interval\":1000.0,\"num_minor_ticks\":0},\"id\":\"182285\",\"type\":\"AdaptiveTicker\"},{\"attributes\":{},\"id\":\"182433\",\"type\":\"UnionRenderers\"},{\"attributes\":{\"data\":{\"x\":{\"__ndarray__\":\"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\",\"dtype\":\"float64\",\"shape\":[200]},\"y\":{\"__ndarray__\":\"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\",\"dtype\":\"float64\",\"shape\":[200]}},\"selected\":{\"id\":\"182398\"},\"selection_policy\":{\"id\":\"182399\"}},\"id\":\"182352\",\"type\":\"ColumnDataSource\"},{\"attributes\":{},\"id\":\"182263\",\"type\":\"ResetTool\"},{\"attributes\":{\"line_alpha\":0.5,\"line_color\":\"#54278F\",\"line_width\":3,\"x\":{\"field\":\"x\"},\"y\":{\"field\":\"y\"}},\"id\":\"182383\",\"type\":\"Line\"},{\"attributes\":{\"data_source\":{\"id\":\"182448\"},\"glyph\":{\"id\":\"182449\"},\"hover_glyph\":null,\"muted_glyph\":null,\"nonselection_glyph\":{\"id\":\"182450\"},\"selection_glyph\":null,\"view\":{\"id\":\"182452\"}},\"id\":\"182451\",\"type\":\"GlyphRenderer\"},{\"attributes\":{\"active_drag\":\"auto\",\"active_inspect\":\"auto\",\"active_multi\":null,\"active_scroll\":\"auto\",\"active_tap\":\"auto\",\"tools\":[{\"id\":\"182259\"},{\"id\":\"182260\"},{\"id\":\"182261\"},{\"id\":\"182262\"},{\"id\":\"182263\"},{\"id\":\"182264\"}]},\"id\":\"182266\",\"type\":\"Toolbar\"},{\"attributes\":{\"base\":24,\"mantissas\":[1,2,4,6,8,12],\"max_interval\":43200000.0,\"min_interval\":3600000.0,\"num_minor_ticks\":0},\"id\":\"182286\",\"type\":\"AdaptiveTicker\"},{\"attributes\":{},\"id\":\"182262\",\"type\":\"SaveTool\"},{\"attributes\":{\"label\":{\"value\":\"Graves\"},\"renderers\":[{\"id\":\"182385\"}]},\"id\":\"182413\",\"type\":\"LegendItem\"},{\"attributes\":{\"data_source\":{\"id\":\"182522\"},\"glyph\":{\"id\":\"182523\"},\"hover_glyph\":null,\"muted_glyph\":null,\"nonselection_glyph\":{\"id\":\"182524\"},\"selection_glyph\":null,\"view\":{\"id\":\"182526\"}},\"id\":\"182525\",\"type\":\"GlyphRenderer\"},{\"attributes\":{\"data\":{\"x\":{\"__ndarray__\":\"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\",\"dtype\":\"float64\",\"shape\":[200]},\"y\":{\"__ndarray__\":\"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\",\"dtype\":\"float64\",\"shape\":[200]}},\"selected\":{\"id\":\"182506\"},\"selection_policy\":{\"id\":\"182507\"}},\"id\":\"182448\",\"type\":\"ColumnDataSource\"},{\"attributes\":{\"label\":{\"value\":\"Hospitalizados\"},\"renderers\":[{\"id\":\"182417\"}]},\"id\":\"182447\",\"type\":\"LegendItem\"},{\"attributes\":{\"line_alpha\":0.5,\"line_color\":\"#807DBA\",\"line_width\":3,\"x\":{\"field\":\"x\"},\"y\":{\"field\":\"y\"}},\"id\":\"182353\",\"type\":\"Line\"},{\"attributes\":{\"overlay\":{\"id\":\"182265\"}},\"id\":\"182261\",\"type\":\"BoxZoomTool\"},{\"attributes\":{\"source\":{\"id\":\"182352\"}},\"id\":\"182356\",\"type\":\"CDSView\"},{\"attributes\":{},\"id\":\"182264\",\"type\":\"HelpTool\"},{\"attributes\":{},\"id\":\"182308\",\"type\":\"Selection\"},{\"attributes\":{\"days\":[1,4,7,10,13,16,19,22,25,28]},\"id\":\"182288\",\"type\":\"DaysTicker\"},{\"attributes\":{\"line_alpha\":0.1,\"line_color\":\"Red\",\"line_width\":3,\"x\":{\"field\":\"x\"},\"y\":{\"field\":\"y\"}},\"id\":\"182326\",\"type\":\"Line\"},{\"attributes\":{},\"id\":\"182260\",\"type\":\"WheelZoomTool\"},{\"attributes\":{},\"id\":\"182468\",\"type\":\"Selection\"},{\"attributes\":{\"label\":{\"value\":\"Recuperados\"},\"renderers\":[{\"id\":\"182487\"}]},\"id\":\"182521\",\"type\":\"LegendItem\"},{\"attributes\":{},\"id\":\"182398\",\"type\":\"Selection\"},{\"attributes\":{\"line_alpha\":0.5,\"line_color\":\"#CC4C02\",\"line_width\":3,\"x\":{\"field\":\"x\"},\"y\":{\"field\":\"y\"}},\"id\":\"182415\",\"type\":\"Line\"},{\"attributes\":{\"text\":\"Modelo CDMX\"},\"id\":\"182241\",\"type\":\"Title\"},{\"attributes\":{\"source\":{\"id\":\"182414\"}},\"id\":\"182418\",\"type\":\"CDSView\"},{\"attributes\":{},\"id\":\"182259\",\"type\":\"PanTool\"},{\"attributes\":{},\"id\":\"182432\",\"type\":\"Selection\"},{\"attributes\":{\"data_source\":{\"id\":\"182414\"},\"glyph\":{\"id\":\"182415\"},\"hover_glyph\":null,\"muted_glyph\":null,\"nonselection_glyph\":{\"id\":\"182416\"},\"selection_glyph\":null,\"view\":{\"id\":\"182418\"}},\"id\":\"182417\",\"type\":\"GlyphRenderer\"},{\"attributes\":{\"label\":{\"value\":\"Susceptibles\"},\"renderers\":[{\"id\":\"182276\"}]},\"id\":\"182297\",\"type\":\"LegendItem\"},{\"attributes\":{\"data\":{\"x\":{\"__ndarray__\":\"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\",\"dtype\":\"float64\",\"shape\":[200]},\"y\":{\"__ndarray__\":\"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\",\"dtype\":\"float64\",\"shape\":[200]}},\"selected\":{\"id\":\"182336\"},\"selection_policy\":{\"id\":\"182337\"}},\"id\":\"182298\",\"type\":\"ColumnDataSource\"},{\"attributes\":{\"line_alpha\":0.1,\"line_color\":\"#CC4C02\",\"line_width\":3,\"x\":{\"field\":\"x\"},\"y\":{\"field\":\"y\"}},\"id\":\"182416\",\"type\":\"Line\"},{\"attributes\":{\"months\":[0,1,2,3,4,5,6,7,8,9,10,11]},\"id\":\"182291\",\"type\":\"MonthsTicker\"},{\"attributes\":{\"data_source\":{\"id\":\"182352\"},\"glyph\":{\"id\":\"182353\"},\"hover_glyph\":null,\"muted_glyph\":null,\"nonselection_glyph\":{\"id\":\"182354\"},\"selection_glyph\":null,\"view\":{\"id\":\"182356\"}},\"id\":\"182355\",\"type\":\"GlyphRenderer\"},{\"attributes\":{},\"id\":\"182547\",\"type\":\"UnionRenderers\"},{\"attributes\":{\"bottom_units\":\"screen\",\"fill_alpha\":0.5,\"fill_color\":\"lightgrey\",\"left_units\":\"screen\",\"level\":\"overlay\",\"line_alpha\":1.0,\"line_color\":\"black\",\"line_dash\":[4,4],\"line_width\":2,\"render_mode\":\"css\",\"right_units\":\"screen\",\"top_units\":\"screen\"},\"id\":\"182265\",\"type\":\"BoxAnnotation\"},{\"attributes\":{\"days\":[1,2,3,4,5,6,7,8,9,10,11,12,13,14,15,16,17,18,19,20,21,22,23,24,25,26,27,28,29,30,31]},\"id\":\"182287\",\"type\":\"DaysTicker\"},{\"attributes\":{\"line_alpha\":0.1,\"line_color\":\"#807DBA\",\"line_width\":3,\"x\":{\"field\":\"x\"},\"y\":{\"field\":\"y\"}},\"id\":\"182354\",\"type\":\"Line\"},{\"attributes\":{\"source\":{\"id\":\"182448\"}},\"id\":\"182452\",\"type\":\"CDSView\"},{\"attributes\":{\"days\":[1,15]},\"id\":\"182290\",\"type\":\"DaysTicker\"},{\"attributes\":{\"source\":{\"id\":\"182484\"}},\"id\":\"182488\",\"type\":\"CDSView\"},{\"attributes\":{},\"id\":\"182336\",\"type\":\"Selection\"},{\"attributes\":{\"line_alpha\":0.1,\"line_color\":\"#54278F\",\"line_width\":3,\"x\":{\"field\":\"x\"},\"y\":{\"field\":\"y\"}},\"id\":\"182384\",\"type\":\"Line\"},{\"attributes\":{\"line_alpha\":0.5,\"line_color\":\"Pink\",\"line_width\":3,\"x\":{\"field\":\"x\"},\"y\":{\"field\":\"y\"}},\"id\":\"182299\",\"type\":\"Line\"},{\"attributes\":{\"line_alpha\":0.5,\"line_color\":\"#969696\",\"line_width\":3,\"x\":{\"field\":\"x\"},\"y\":{\"field\":\"y\"}},\"id\":\"182274\",\"type\":\"Line\"},{\"attributes\":{},\"id\":\"182279\",\"type\":\"DatetimeTickFormatter\"},{\"attributes\":{\"label\":{\"value\":\"Expuestos\"},\"renderers\":[{\"id\":\"182301\"}]},\"id\":\"182323\",\"type\":\"LegendItem\"},{\"attributes\":{\"source\":{\"id\":\"182273\"}},\"id\":\"182277\",\"type\":\"CDSView\"},{\"attributes\":{\"source\":{\"id\":\"182324\"}},\"id\":\"182328\",\"type\":\"CDSView\"},{\"attributes\":{\"label\":{\"value\":\"Defunciones\"},\"renderers\":[{\"id\":\"182525\"}]},\"id\":\"182561\",\"type\":\"LegendItem\"},{\"attributes\":{\"data_source\":{\"id\":\"182484\"},\"glyph\":{\"id\":\"182485\"},\"hover_glyph\":null,\"muted_glyph\":null,\"nonselection_glyph\":{\"id\":\"182486\"},\"selection_glyph\":null,\"view\":{\"id\":\"182488\"}},\"id\":\"182487\",\"type\":\"GlyphRenderer\"},{\"attributes\":{\"data_source\":{\"id\":\"182324\"},\"glyph\":{\"id\":\"182325\"},\"hover_glyph\":null,\"muted_glyph\":null,\"nonselection_glyph\":{\"id\":\"182326\"},\"selection_glyph\":null,\"view\":{\"id\":\"182328\"}},\"id\":\"182327\",\"type\":\"GlyphRenderer\"},{\"attributes\":{\"line_alpha\":0.1,\"line_color\":\"Pink\",\"line_width\":3,\"x\":{\"field\":\"x\"},\"y\":{\"field\":\"y\"}},\"id\":\"182300\",\"type\":\"Line\"},{\"attributes\":{},\"id\":\"182256\",\"type\":\"BasicTicker\"},{\"attributes\":{},\"id\":\"182507\",\"type\":\"UnionRenderers\"},{\"attributes\":{\"line_alpha\":0.5,\"line_color\":\"Red\",\"line_width\":3,\"x\":{\"field\":\"x\"},\"y\":{\"field\":\"y\"}},\"id\":\"182325\",\"type\":\"Line\"},{\"attributes\":{\"axis_label\":\"Fecha\",\"formatter\":{\"id\":\"182279\"},\"ticker\":{\"id\":\"182252\"}},\"id\":\"182251\",\"type\":\"DatetimeAxis\"},{\"attributes\":{\"line_alpha\":0.1,\"line_color\":\"#662506\",\"line_width\":3,\"x\":{\"field\":\"x\"},\"y\":{\"field\":\"y\"}},\"id\":\"182450\",\"type\":\"Line\"},{\"attributes\":{\"label\":{\"value\":\"Leves\"},\"renderers\":[{\"id\":\"182355\"}]},\"id\":\"182381\",\"type\":\"LegendItem\"},{\"attributes\":{\"line_alpha\":0.5,\"line_color\":\"#525252\",\"line_width\":3,\"x\":{\"field\":\"x\"},\"y\":{\"field\":\"y\"}},\"id\":\"182523\",\"type\":\"Line\"},{\"attributes\":{\"source\":{\"id\":\"182382\"}},\"id\":\"182386\",\"type\":\"CDSView\"},{\"attributes\":{},\"id\":\"182309\",\"type\":\"UnionRenderers\"},{\"attributes\":{\"data_source\":{\"id\":\"182273\"},\"glyph\":{\"id\":\"182274\"},\"hover_glyph\":null,\"muted_glyph\":null,\"nonselection_glyph\":{\"id\":\"182275\"},\"selection_glyph\":null,\"view\":{\"id\":\"182277\"}},\"id\":\"182276\",\"type\":\"GlyphRenderer\"},{\"attributes\":{\"label\":{\"value\":\"ICUs\"},\"renderers\":[{\"id\":\"182451\"}]},\"id\":\"182483\",\"type\":\"LegendItem\"},{\"attributes\":{\"label\":{\"value\":\"Infectados\"},\"renderers\":[{\"id\":\"182327\"}]},\"id\":\"182351\",\"type\":\"LegendItem\"},{\"attributes\":{\"data\":{\"x\":{\"__ndarray__\":\"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\",\"dtype\":\"float64\",\"shape\":[200]},\"y\":{\"__ndarray__\":\"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\",\"dtype\":\"float64\",\"shape\":[200]}},\"selected\":{\"id\":\"185315\"},\"selection_policy\":{\"id\":\"185316\"}},\"id\":\"182522\",\"type\":\"ColumnDataSource\"},{\"attributes\":{\"line_alpha\":0.1,\"line_color\":\"#525252\",\"line_width\":3,\"x\":{\"field\":\"x\"},\"y\":{\"field\":\"y\"}},\"id\":\"182524\",\"type\":\"Line\"},{\"attributes\":{},\"id\":\"182399\",\"type\":\"UnionRenderers\"},{\"attributes\":{},\"id\":\"182249\",\"type\":\"LinearScale\"},{\"attributes\":{\"axis\":{\"id\":\"182255\"},\"dimension\":1,\"ticker\":null},\"id\":\"182258\",\"type\":\"Grid\"},{\"attributes\":{\"line_alpha\":0.1,\"line_color\":\"Green\",\"line_width\":3,\"x\":{\"field\":\"x\"},\"y\":{\"field\":\"y\"}},\"id\":\"182486\",\"type\":\"Line\"},{\"attributes\":{},\"id\":\"182337\",\"type\":\"UnionRenderers\"},{\"attributes\":{\"axis_label\":\"Miles de personas\",\"formatter\":{\"id\":\"182281\"},\"ticker\":{\"id\":\"182256\"}},\"id\":\"182255\",\"type\":\"LinearAxis\"},{\"attributes\":{},\"id\":\"185315\",\"type\":\"Selection\"},{\"attributes\":{\"line_alpha\":0.1,\"line_color\":\"#969696\",\"line_width\":3,\"x\":{\"field\":\"x\"},\"y\":{\"field\":\"y\"}},\"id\":\"182275\",\"type\":\"Line\"},{\"attributes\":{\"num_minor_ticks\":5,\"tickers\":[{\"id\":\"182284\"},{\"id\":\"182285\"},{\"id\":\"182286\"},{\"id\":\"182287\"},{\"id\":\"182288\"},{\"id\":\"182289\"},{\"id\":\"182290\"},{\"id\":\"182291\"},{\"id\":\"182292\"},{\"id\":\"182293\"},{\"id\":\"182294\"},{\"id\":\"182295\"}]},\"id\":\"182252\",\"type\":\"DatetimeTicker\"},{\"attributes\":{\"line_alpha\":0.5,\"line_color\":\"Green\",\"line_width\":3,\"x\":{\"field\":\"x\"},\"y\":{\"field\":\"y\"}},\"id\":\"182485\",\"type\":\"Line\"},{\"attributes\":{\"items\":[{\"id\":\"182297\"},{\"id\":\"182323\"},{\"id\":\"182351\"},{\"id\":\"182381\"},{\"id\":\"182413\"},{\"id\":\"182447\"},{\"id\":\"182483\"},{\"id\":\"182521\"},{\"id\":\"182561\"}],\"location\":\"center_right\"},\"id\":\"182296\",\"type\":\"Legend\"},{\"attributes\":{\"data\":{\"x\":{\"__ndarray__\":\"AAAAbwEPd0IAAMDUUw93QgAAgDqmD3dCAABAoPgPd0IAAAAGSxB3QgAAwGudEHdCAACA0e8Qd0IAAEA3QhF3QgAAAJ2UEXdCAADAAucRd0IAAIBoORJ3QgAAQM6LEndCAAAANN4Sd0IAAMCZMBN3QgAAgP+CE3dCAABAZdUTd0IAAADLJxR3QgAAwDB6FHdCAACAlswUd0IAAED8HhV3QgAAAGJxFXdCAADAx8MVd0IAAIAtFhZ3QgAAQJNoFndCAAAA+boWd0IAAMBeDRd3QgAAgMRfF3dCAABAKrIXd0IAAACQBBh3QgAAwPVWGHdCAACAW6kYd0IAAEDB+xh3QgAAACdOGXdCAADAjKAZd0IAAIDy8hl3QgAAQFhFGndCAAAAvpcad0IAAMAj6hp3QgAAgIk8G3dCAABA744bd0IAAABV4Rt3QgAAwLozHHdCAACAIIYcd0IAAECG2Bx3QgAAAOwqHXdCAADAUX0dd0IAAIC3zx13QgAAQB0iHndCAAAAg3Qed0IAAMDoxh53QgAAgE4ZH3dCAABAtGsfd0IAAAAavh93QgAAwH8QIHdCAACA5WIgd0IAAEBLtSB3QgAAALEHIXdCAADAFlohd0IAAIB8rCF3QgAAQOL+IXdCAAAASFEid0IAAMCtoyJ3QgAAgBP2IndCAABAeUgjd0IAAADfmiN3QgAAwETtI3dCAACAqj8kd0IAAEAQkiR3QgAAAHbkJHdCAADA2zYld0IAAIBBiSV3QgAAQKfbJXdCAAAADS4md0IAAMBygCZ3QgAAgNjSJndCAABAPiUnd0IAAACkdyd3QgAAwAnKJ3dCAACAbxwod0IAAEDVbih3QgAAADvBKHdCAADAoBMpd0IAAIAGZil3QgAAQGy4KXdCAAAA0goqd0IAAMA3XSp3QgAAgJ2vKndCAABAAwIrd0IAAABpVCt3QgAAwM6mK3dCAACANPkrd0IAAECaSyx3QgAAAACeLHdCAADAZfAsd0IAAIDLQi13QgAAQDGVLXdCAAAAl+ctd0IAAMD8OS53QgAAgGKMLndCAABAyN4ud0IAAAAuMS93QgAAwJODL3dCAACA+dUvd0IAAEBfKDB3QgAAAMV6MHdCAADAKs0wd0IAAICQHzF3QgAAQPZxMXdCAAAAXMQxd0IAAMDBFjJ3QgAAgCdpMndCAABAjbsyd0IAAADzDTN3QgAAwFhgM3dCAACAvrIzd0IAAEAkBTR3QgAAAIpXNHdCAADA76k0d0IAAIBV/DR3QgAAQLtONXdCAAAAIaE1d0IAAMCG8zV3QgAAgOxFNndCAABAUpg2d0IAAAC46jZ3QgAAwB09N3dCAACAg483d0IAAEDp4Td3QgAAAE80OHdCAADAtIY4d0IAAIAa2Th3QgAAQIArOXdCAAAA5n05d0IAAMBL0Dl3QgAAgLEiOndCAABAF3U6d0IAAAB9xzp3QgAAwOIZO3dCAACASGw7d0IAAECuvjt3QgAAABQRPHdCAADAeWM8d0IAAIDftTx3QgAAQEUIPXdCAAAAq1o9d0IAAMAQrT13QgAAgHb/PXdCAABA3FE+d0IAAABCpD53QgAAwKf2PndCAACADUk/d0IAAEBzmz93QgAAANntP3dCAADAPkBAd0IAAICkkkB3QgAAQArlQHdCAAAAcDdBd0IAAMDViUF3QgAAgDvcQXdCAABAoS5Cd0IAAAAHgUJ3QgAAwGzTQndCAACA0iVDd0IAAEA4eEN3QgAAAJ7KQ3dCAADAAx1Ed0IAAIBpb0R3QgAAQM/BRHdCAAAANRRFd0IAAMCaZkV3QgAAgAC5RXdCAABAZgtGd0IAAADMXUZ3QgAAwDGwRndCAACAlwJHd0IAAED9VEd3QgAAAGOnR3dCAADAyPlHd0IAAIAuTEh3QgAAQJSeSHdCAAAA+vBId0IAAMBfQ0l3QgAAgMWVSXdCAABAK+hJd0IAAACROkp3QgAAwPaMSndCAACAXN9Kd0IAAEDCMUt3QgAAACiES3dCAADAjdZLd0IAAIDzKEx3QgAAQFl7THdCAAAAv81Md0IAAMAkIE13QgAAgIpyTXdCAABA8MRNd0IAAABWF053QgAAwLtpTndCAACAIbxOd0IAAECHDk93Qg==\",\"dtype\":\"float64\",\"shape\":[200]},\"y\":{\"__ndarray__\":\"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\",\"dtype\":\"float64\",\"shape\":[200]}},\"selected\":{\"id\":\"182308\"},\"selection_policy\":{\"id\":\"182309\"}},\"id\":\"182273\",\"type\":\"ColumnDataSource\"},{\"attributes\":{},\"id\":\"182295\",\"type\":\"YearsTicker\"},{\"attributes\":{\"data_source\":{\"id\":\"182382\"},\"glyph\":{\"id\":\"182383\"},\"hover_glyph\":null,\"muted_glyph\":null,\"nonselection_glyph\":{\"id\":\"182384\"},\"selection_glyph\":null,\"view\":{\"id\":\"182386\"}},\"id\":\"182385\",\"type\":\"GlyphRenderer\"},{\"attributes\":{\"source\":{\"id\":\"182298\"}},\"id\":\"182302\",\"type\":\"CDSView\"},{\"attributes\":{},\"id\":\"182506\",\"type\":\"Selection\"},{\"attributes\":{\"months\":[0,6]},\"id\":\"182294\",\"type\":\"MonthsTicker\"},{\"attributes\":{\"data_source\":{\"id\":\"182298\"},\"glyph\":{\"id\":\"182299\"},\"hover_glyph\":null,\"muted_glyph\":null,\"nonselection_glyph\":{\"id\":\"182300\"},\"selection_glyph\":null,\"view\":{\"id\":\"182302\"}},\"id\":\"182301\",\"type\":\"GlyphRenderer\"},{\"attributes\":{\"axis\":{\"id\":\"182251\"},\"ticker\":null},\"id\":\"182254\",\"type\":\"Grid\"}],\"root_ids\":[\"182240\"]},\"title\":\"Bokeh Application\",\"version\":\"2.0.1\"}};\n",
       "  var render_items = [{\"docid\":\"1e63e252-2e29-4d3f-a98d-7d03ae2e09a1\",\"root_ids\":[\"182240\"],\"roots\":{\"182240\":\"8de37d24-e116-466e-b926-9ae475c91a58\"}}];\n",
       "  root.Bokeh.embed.embed_items_notebook(docs_json, render_items);\n",
       "\n",
       "  }\n",
       "  if (root.Bokeh !== undefined) {\n",
       "    embed_document(root);\n",
       "  } else {\n",
       "    var attempts = 0;\n",
       "    var timer = setInterval(function(root) {\n",
       "      if (root.Bokeh !== undefined) {\n",
       "        clearInterval(timer);\n",
       "        embed_document(root);\n",
       "      } else {\n",
       "        attempts++;\n",
       "        if (attempts > 100) {\n",
       "          clearInterval(timer);\n",
       "          console.log(\"Bokeh: ERROR: Unable to run BokehJS code because BokehJS library is missing\");\n",
       "        }\n",
       "      }\n",
       "    }, 10, root)\n",
       "  }\n",
       "})(window);"
      ],
      "application/vnd.bokehjs_exec.v0+json": ""
     },
     "metadata": {
      "application/vnd.bokehjs_exec.v0+json": {
       "id": "182240"
      }
     },
     "output_type": "display_data"
    }
   ],
   "source": [
    "bpl.show(p_sin)"
   ]
  },
  {
   "cell_type": "code",
   "execution_count": 669,
   "metadata": {},
   "outputs": [],
   "source": [
    "rp = bpl.figure(x_axis_type=\"datetime\",plot_width=800,plot_height=600,title=\"Modelo CDMX\",y_range=(0,4))"
   ]
  },
  {
   "cell_type": "code",
   "execution_count": 670,
   "metadata": {},
   "outputs": [],
   "source": [
    "for label in [\"Infectados\"]:\n",
    "    #p.line(x=solucion_sin[\"Fecha\"],y=solucion_sin[label]/1000,color=colores[label],line_width=3,legend_label=label,line_alpha=0.5)\n",
    "    rp.line(x=solucion_con[\"Fecha\"],y=solucion_con[\"R_t\"],color=colores[label],line_width=3,legend_label=label,line_alpha=0.5)"
   ]
  },
  {
   "cell_type": "code",
   "execution_count": 671,
   "metadata": {},
   "outputs": [],
   "source": [
    "rp.xaxis.axis_label = 'Fecha'\n",
    "rp.yaxis.axis_label = 'R_t'\n",
    "rp.legend.location = \"center_right\""
   ]
  },
  {
   "cell_type": "code",
   "execution_count": 672,
   "metadata": {},
   "outputs": [
    {
     "data": {
      "text/html": [
       "\n",
       "\n",
       "\n",
       "\n",
       "\n",
       "\n",
       "  <div class=\"bk-root\" id=\"c0861ad5-8fc2-4d8b-ac84-1961672ea851\" data-root-id=\"103754\"></div>\n"
      ]
     },
     "metadata": {},
     "output_type": "display_data"
    },
    {
     "data": {
      "application/javascript": [
       "(function(root) {\n",
       "  function embed_document(root) {\n",
       "    \n",
       "  var docs_json = {\"f9e368b5-8def-440e-8aed-4f8d5baea662\":{\"roots\":{\"references\":[{\"attributes\":{\"below\":[{\"id\":\"103765\"}],\"center\":[{\"id\":\"103768\"},{\"id\":\"103772\"},{\"id\":\"103810\"}],\"left\":[{\"id\":\"103769\"}],\"plot_width\":800,\"renderers\":[{\"id\":\"103790\"}],\"title\":{\"id\":\"103755\"},\"toolbar\":{\"id\":\"103780\"},\"x_range\":{\"id\":\"103757\"},\"x_scale\":{\"id\":\"103761\"},\"y_range\":{\"id\":\"103759\"},\"y_scale\":{\"id\":\"103763\"}},\"id\":\"103754\",\"subtype\":\"Figure\",\"type\":\"Plot\"},{\"attributes\":{\"data\":{\"x\":{\"__ndarray__\":\"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\",\"dtype\":\"float64\",\"shape\":[200]},\"y\":{\"__ndarray__\":\"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\",\"dtype\":\"float64\",\"shape\":[200]}},\"selected\":{\"id\":\"105739\"},\"selection_policy\":{\"id\":\"105740\"}},\"id\":\"103787\",\"type\":\"ColumnDataSource\"},{\"attributes\":{\"data_source\":{\"id\":\"103787\"},\"glyph\":{\"id\":\"103788\"},\"hover_glyph\":null,\"muted_glyph\":null,\"nonselection_glyph\":{\"id\":\"103789\"},\"selection_glyph\":null,\"view\":{\"id\":\"103791\"}},\"id\":\"103790\",\"type\":\"GlyphRenderer\"},{\"attributes\":{\"axis_label\":\"Fecha\",\"formatter\":{\"id\":\"103793\"},\"ticker\":{\"id\":\"103766\"}},\"id\":\"103765\",\"type\":\"DatetimeAxis\"},{\"attributes\":{},\"id\":\"103773\",\"type\":\"PanTool\"},{\"attributes\":{},\"id\":\"105740\",\"type\":\"UnionRenderers\"},{\"attributes\":{\"base\":60,\"mantissas\":[1,2,5,10,15,20,30],\"max_interval\":1800000.0,\"min_interval\":1000.0,\"num_minor_ticks\":0},\"id\":\"103799\",\"type\":\"AdaptiveTicker\"},{\"attributes\":{\"base\":24,\"mantissas\":[1,2,4,6,8,12],\"max_interval\":43200000.0,\"min_interval\":3600000.0,\"num_minor_ticks\":0},\"id\":\"103800\",\"type\":\"AdaptiveTicker\"},{\"attributes\":{\"axis_label\":\"R_t\",\"formatter\":{\"id\":\"103795\"},\"ticker\":{\"id\":\"103770\"}},\"id\":\"103769\",\"type\":\"LinearAxis\"},{\"attributes\":{\"months\":[0,6]},\"id\":\"103808\",\"type\":\"MonthsTicker\"},{\"attributes\":{\"axis\":{\"id\":\"103769\"},\"dimension\":1,\"ticker\":null},\"id\":\"103772\",\"type\":\"Grid\"},{\"attributes\":{},\"id\":\"103770\",\"type\":\"BasicTicker\"},{\"attributes\":{\"bottom_units\":\"screen\",\"fill_alpha\":0.5,\"fill_color\":\"lightgrey\",\"left_units\":\"screen\",\"level\":\"overlay\",\"line_alpha\":1.0,\"line_color\":\"black\",\"line_dash\":[4,4],\"line_width\":2,\"render_mode\":\"css\",\"right_units\":\"screen\",\"top_units\":\"screen\"},\"id\":\"103779\",\"type\":\"BoxAnnotation\"},{\"attributes\":{\"months\":[0,1,2,3,4,5,6,7,8,9,10,11]},\"id\":\"103805\",\"type\":\"MonthsTicker\"},{\"attributes\":{\"days\":[1,2,3,4,5,6,7,8,9,10,11,12,13,14,15,16,17,18,19,20,21,22,23,24,25,26,27,28,29,30,31]},\"id\":\"103801\",\"type\":\"DaysTicker\"},{\"attributes\":{\"days\":[1,8,15,22]},\"id\":\"103803\",\"type\":\"DaysTicker\"},{\"attributes\":{\"axis\":{\"id\":\"103765\"},\"ticker\":null},\"id\":\"103768\",\"type\":\"Grid\"},{\"attributes\":{\"overlay\":{\"id\":\"103779\"}},\"id\":\"103775\",\"type\":\"BoxZoomTool\"},{\"attributes\":{},\"id\":\"105739\",\"type\":\"Selection\"},{\"attributes\":{\"months\":[0,4,8]},\"id\":\"103807\",\"type\":\"MonthsTicker\"},{\"attributes\":{\"days\":[1,15]},\"id\":\"103804\",\"type\":\"DaysTicker\"},{\"attributes\":{},\"id\":\"103793\",\"type\":\"DatetimeTickFormatter\"},{\"attributes\":{},\"id\":\"103774\",\"type\":\"WheelZoomTool\"},{\"attributes\":{},\"id\":\"103795\",\"type\":\"BasicTickFormatter\"},{\"attributes\":{\"active_drag\":\"auto\",\"active_inspect\":\"auto\",\"active_multi\":null,\"active_scroll\":\"auto\",\"active_tap\":\"auto\",\"tools\":[{\"id\":\"103773\"},{\"id\":\"103774\"},{\"id\":\"103775\"},{\"id\":\"103776\"},{\"id\":\"103777\"},{\"id\":\"103778\"}]},\"id\":\"103780\",\"type\":\"Toolbar\"},{\"attributes\":{\"num_minor_ticks\":5,\"tickers\":[{\"id\":\"103798\"},{\"id\":\"103799\"},{\"id\":\"103800\"},{\"id\":\"103801\"},{\"id\":\"103802\"},{\"id\":\"103803\"},{\"id\":\"103804\"},{\"id\":\"103805\"},{\"id\":\"103806\"},{\"id\":\"103807\"},{\"id\":\"103808\"},{\"id\":\"103809\"}]},\"id\":\"103766\",\"type\":\"DatetimeTicker\"},{\"attributes\":{\"source\":{\"id\":\"103787\"}},\"id\":\"103791\",\"type\":\"CDSView\"},{\"attributes\":{\"items\":[{\"id\":\"103811\"}],\"location\":\"center_right\"},\"id\":\"103810\",\"type\":\"Legend\"},{\"attributes\":{},\"id\":\"103757\",\"type\":\"DataRange1d\"},{\"attributes\":{},\"id\":\"103761\",\"type\":\"LinearScale\"},{\"attributes\":{\"line_alpha\":0.5,\"line_color\":\"Red\",\"line_width\":3,\"x\":{\"field\":\"x\"},\"y\":{\"field\":\"y\"}},\"id\":\"103788\",\"type\":\"Line\"},{\"attributes\":{\"label\":{\"value\":\"Infectados\"},\"renderers\":[{\"id\":\"103790\"}]},\"id\":\"103811\",\"type\":\"LegendItem\"},{\"attributes\":{},\"id\":\"103778\",\"type\":\"HelpTool\"},{\"attributes\":{\"mantissas\":[1,2,5],\"max_interval\":500.0,\"num_minor_ticks\":0},\"id\":\"103798\",\"type\":\"AdaptiveTicker\"},{\"attributes\":{\"line_alpha\":0.1,\"line_color\":\"Red\",\"line_width\":3,\"x\":{\"field\":\"x\"},\"y\":{\"field\":\"y\"}},\"id\":\"103789\",\"type\":\"Line\"},{\"attributes\":{},\"id\":\"103763\",\"type\":\"LinearScale\"},{\"attributes\":{},\"id\":\"103776\",\"type\":\"SaveTool\"},{\"attributes\":{\"months\":[0,2,4,6,8,10]},\"id\":\"103806\",\"type\":\"MonthsTicker\"},{\"attributes\":{},\"id\":\"103777\",\"type\":\"ResetTool\"},{\"attributes\":{\"days\":[1,4,7,10,13,16,19,22,25,28]},\"id\":\"103802\",\"type\":\"DaysTicker\"},{\"attributes\":{},\"id\":\"103809\",\"type\":\"YearsTicker\"},{\"attributes\":{\"end\":4},\"id\":\"103759\",\"type\":\"Range1d\"},{\"attributes\":{\"text\":\"Modelo CDMX\"},\"id\":\"103755\",\"type\":\"Title\"}],\"root_ids\":[\"103754\"]},\"title\":\"Bokeh Application\",\"version\":\"2.0.1\"}};\n",
       "  var render_items = [{\"docid\":\"f9e368b5-8def-440e-8aed-4f8d5baea662\",\"root_ids\":[\"103754\"],\"roots\":{\"103754\":\"c0861ad5-8fc2-4d8b-ac84-1961672ea851\"}}];\n",
       "  root.Bokeh.embed.embed_items_notebook(docs_json, render_items);\n",
       "\n",
       "  }\n",
       "  if (root.Bokeh !== undefined) {\n",
       "    embed_document(root);\n",
       "  } else {\n",
       "    var attempts = 0;\n",
       "    var timer = setInterval(function(root) {\n",
       "      if (root.Bokeh !== undefined) {\n",
       "        clearInterval(timer);\n",
       "        embed_document(root);\n",
       "      } else {\n",
       "        attempts++;\n",
       "        if (attempts > 100) {\n",
       "          clearInterval(timer);\n",
       "          console.log(\"Bokeh: ERROR: Unable to run BokehJS code because BokehJS library is missing\");\n",
       "        }\n",
       "      }\n",
       "    }, 10, root)\n",
       "  }\n",
       "})(window);"
      ],
      "application/vnd.bokehjs_exec.v0+json": ""
     },
     "metadata": {
      "application/vnd.bokehjs_exec.v0+json": {
       "id": "103754"
      }
     },
     "output_type": "display_data"
    }
   ],
   "source": [
    "bpl.show(rp)"
   ]
  },
  {
   "cell_type": "code",
   "execution_count": 673,
   "metadata": {},
   "outputs": [],
   "source": [
    "p_con = bpl.figure(x_axis_type=\"datetime\",plot_width=800,plot_height=600,title=\"Modelo CDMX\")"
   ]
  },
  {
   "cell_type": "code",
   "execution_count": 674,
   "metadata": {},
   "outputs": [],
   "source": [
    "for label in [\"ICUs\"]:\n",
    "    p_con.line(x=solucion_con[\"Fecha\"],y=solucion_con[label]/1000,color=colores[label],line_width=3,legend_label=label,line_alpha=0.5,line_dash=\"dotted\")"
   ]
  },
  {
   "cell_type": "code",
   "execution_count": 675,
   "metadata": {},
   "outputs": [],
   "source": [
    "p_con.xaxis.axis_label = 'Fecha'\n",
    "p_con.yaxis.axis_label = 'Miles de personas'\n",
    "p_con.legend.location = \"center_right\""
   ]
  },
  {
   "cell_type": "code",
   "execution_count": 676,
   "metadata": {},
   "outputs": [
    {
     "data": {
      "text/html": [
       "\n",
       "\n",
       "\n",
       "\n",
       "\n",
       "\n",
       "  <div class=\"bk-root\" id=\"8432d75d-e104-491d-8703-8af1907d5532\" data-root-id=\"105874\"></div>\n"
      ]
     },
     "metadata": {},
     "output_type": "display_data"
    },
    {
     "data": {
      "application/javascript": [
       "(function(root) {\n",
       "  function embed_document(root) {\n",
       "    \n",
       "  var docs_json = {\"856ea471-3f31-46ff-9b7a-064f13fb5d09\":{\"roots\":{\"references\":[{\"attributes\":{\"below\":[{\"id\":\"105885\"}],\"center\":[{\"id\":\"105888\"},{\"id\":\"105892\"},{\"id\":\"105930\"}],\"left\":[{\"id\":\"105889\"}],\"plot_width\":800,\"renderers\":[{\"id\":\"105910\"}],\"title\":{\"id\":\"105875\"},\"toolbar\":{\"id\":\"105900\"},\"x_range\":{\"id\":\"105877\"},\"x_scale\":{\"id\":\"105881\"},\"y_range\":{\"id\":\"105879\"},\"y_scale\":{\"id\":\"105883\"}},\"id\":\"105874\",\"subtype\":\"Figure\",\"type\":\"Plot\"},{\"attributes\":{},\"id\":\"105879\",\"type\":\"DataRange1d\"},{\"attributes\":{\"axis_label\":\"Fecha\",\"formatter\":{\"id\":\"105913\"},\"ticker\":{\"id\":\"105886\"}},\"id\":\"105885\",\"type\":\"DatetimeAxis\"},{\"attributes\":{},\"id\":\"105894\",\"type\":\"WheelZoomTool\"},{\"attributes\":{},\"id\":\"105897\",\"type\":\"ResetTool\"},{\"attributes\":{},\"id\":\"105913\",\"type\":\"DatetimeTickFormatter\"},{\"attributes\":{\"days\":[1,4,7,10,13,16,19,22,25,28]},\"id\":\"105922\",\"type\":\"DaysTicker\"},{\"attributes\":{},\"id\":\"105883\",\"type\":\"LinearScale\"},{\"attributes\":{\"months\":[0,2,4,6,8,10]},\"id\":\"105926\",\"type\":\"MonthsTicker\"},{\"attributes\":{\"bottom_units\":\"screen\",\"fill_alpha\":0.5,\"fill_color\":\"lightgrey\",\"left_units\":\"screen\",\"level\":\"overlay\",\"line_alpha\":1.0,\"line_color\":\"black\",\"line_dash\":[4,4],\"line_width\":2,\"render_mode\":\"css\",\"right_units\":\"screen\",\"top_units\":\"screen\"},\"id\":\"105899\",\"type\":\"BoxAnnotation\"},{\"attributes\":{\"base\":24,\"mantissas\":[1,2,4,6,8,12],\"max_interval\":43200000.0,\"min_interval\":3600000.0,\"num_minor_ticks\":0},\"id\":\"105920\",\"type\":\"AdaptiveTicker\"},{\"attributes\":{},\"id\":\"105877\",\"type\":\"DataRange1d\"},{\"attributes\":{\"text\":\"Modelo CDMX\"},\"id\":\"105875\",\"type\":\"Title\"},{\"attributes\":{\"source\":{\"id\":\"105907\"}},\"id\":\"105911\",\"type\":\"CDSView\"},{\"attributes\":{\"active_drag\":\"auto\",\"active_inspect\":\"auto\",\"active_multi\":null,\"active_scroll\":\"auto\",\"active_tap\":\"auto\",\"tools\":[{\"id\":\"105893\"},{\"id\":\"105894\"},{\"id\":\"105895\"},{\"id\":\"105896\"},{\"id\":\"105897\"},{\"id\":\"105898\"}]},\"id\":\"105900\",\"type\":\"Toolbar\"},{\"attributes\":{\"items\":[{\"id\":\"105931\"}],\"location\":\"center_right\"},\"id\":\"105930\",\"type\":\"Legend\"},{\"attributes\":{\"months\":[0,6]},\"id\":\"105928\",\"type\":\"MonthsTicker\"},{\"attributes\":{\"months\":[0,4,8]},\"id\":\"105927\",\"type\":\"MonthsTicker\"},{\"attributes\":{},\"id\":\"105929\",\"type\":\"YearsTicker\"},{\"attributes\":{},\"id\":\"105881\",\"type\":\"LinearScale\"},{\"attributes\":{},\"id\":\"105915\",\"type\":\"BasicTickFormatter\"},{\"attributes\":{\"mantissas\":[1,2,5],\"max_interval\":500.0,\"num_minor_ticks\":0},\"id\":\"105918\",\"type\":\"AdaptiveTicker\"},{\"attributes\":{},\"id\":\"105898\",\"type\":\"HelpTool\"},{\"attributes\":{\"months\":[0,1,2,3,4,5,6,7,8,9,10,11]},\"id\":\"105925\",\"type\":\"MonthsTicker\"},{\"attributes\":{\"data_source\":{\"id\":\"105907\"},\"glyph\":{\"id\":\"105908\"},\"hover_glyph\":null,\"muted_glyph\":null,\"nonselection_glyph\":{\"id\":\"105909\"},\"selection_glyph\":null,\"view\":{\"id\":\"105911\"}},\"id\":\"105910\",\"type\":\"GlyphRenderer\"},{\"attributes\":{\"axis_label\":\"Miles de personas\",\"formatter\":{\"id\":\"105915\"},\"ticker\":{\"id\":\"105890\"}},\"id\":\"105889\",\"type\":\"LinearAxis\"},{\"attributes\":{\"line_alpha\":0.5,\"line_color\":\"#662506\",\"line_dash\":[2,4],\"line_width\":3,\"x\":{\"field\":\"x\"},\"y\":{\"field\":\"y\"}},\"id\":\"105908\",\"type\":\"Line\"},{\"attributes\":{},\"id\":\"105893\",\"type\":\"PanTool\"},{\"attributes\":{\"num_minor_ticks\":5,\"tickers\":[{\"id\":\"105918\"},{\"id\":\"105919\"},{\"id\":\"105920\"},{\"id\":\"105921\"},{\"id\":\"105922\"},{\"id\":\"105923\"},{\"id\":\"105924\"},{\"id\":\"105925\"},{\"id\":\"105926\"},{\"id\":\"105927\"},{\"id\":\"105928\"},{\"id\":\"105929\"}]},\"id\":\"105886\",\"type\":\"DatetimeTicker\"},{\"attributes\":{\"line_alpha\":0.1,\"line_color\":\"#662506\",\"line_dash\":[2,4],\"line_width\":3,\"x\":{\"field\":\"x\"},\"y\":{\"field\":\"y\"}},\"id\":\"105909\",\"type\":\"Line\"},{\"attributes\":{\"days\":[1,2,3,4,5,6,7,8,9,10,11,12,13,14,15,16,17,18,19,20,21,22,23,24,25,26,27,28,29,30,31]},\"id\":\"105921\",\"type\":\"DaysTicker\"},{\"attributes\":{\"data\":{\"x\":{\"__ndarray__\":\"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\",\"dtype\":\"float64\",\"shape\":[200]},\"y\":{\"__ndarray__\":\"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\",\"dtype\":\"float64\",\"shape\":[200]}},\"selected\":{\"id\":\"107879\"},\"selection_policy\":{\"id\":\"107880\"}},\"id\":\"105907\",\"type\":\"ColumnDataSource\"},{\"attributes\":{},\"id\":\"107879\",\"type\":\"Selection\"},{\"attributes\":{\"days\":[1,15]},\"id\":\"105924\",\"type\":\"DaysTicker\"},{\"attributes\":{},\"id\":\"105890\",\"type\":\"BasicTicker\"},{\"attributes\":{\"base\":60,\"mantissas\":[1,2,5,10,15,20,30],\"max_interval\":1800000.0,\"min_interval\":1000.0,\"num_minor_ticks\":0},\"id\":\"105919\",\"type\":\"AdaptiveTicker\"},{\"attributes\":{\"days\":[1,8,15,22]},\"id\":\"105923\",\"type\":\"DaysTicker\"},{\"attributes\":{\"overlay\":{\"id\":\"105899\"}},\"id\":\"105895\",\"type\":\"BoxZoomTool\"},{\"attributes\":{\"label\":{\"value\":\"ICUs\"},\"renderers\":[{\"id\":\"105910\"}]},\"id\":\"105931\",\"type\":\"LegendItem\"},{\"attributes\":{},\"id\":\"107880\",\"type\":\"UnionRenderers\"},{\"attributes\":{\"axis\":{\"id\":\"105885\"},\"ticker\":null},\"id\":\"105888\",\"type\":\"Grid\"},{\"attributes\":{\"axis\":{\"id\":\"105889\"},\"dimension\":1,\"ticker\":null},\"id\":\"105892\",\"type\":\"Grid\"},{\"attributes\":{},\"id\":\"105896\",\"type\":\"SaveTool\"}],\"root_ids\":[\"105874\"]},\"title\":\"Bokeh Application\",\"version\":\"2.0.1\"}};\n",
       "  var render_items = [{\"docid\":\"856ea471-3f31-46ff-9b7a-064f13fb5d09\",\"root_ids\":[\"105874\"],\"roots\":{\"105874\":\"8432d75d-e104-491d-8703-8af1907d5532\"}}];\n",
       "  root.Bokeh.embed.embed_items_notebook(docs_json, render_items);\n",
       "\n",
       "  }\n",
       "  if (root.Bokeh !== undefined) {\n",
       "    embed_document(root);\n",
       "  } else {\n",
       "    var attempts = 0;\n",
       "    var timer = setInterval(function(root) {\n",
       "      if (root.Bokeh !== undefined) {\n",
       "        clearInterval(timer);\n",
       "        embed_document(root);\n",
       "      } else {\n",
       "        attempts++;\n",
       "        if (attempts > 100) {\n",
       "          clearInterval(timer);\n",
       "          console.log(\"Bokeh: ERROR: Unable to run BokehJS code because BokehJS library is missing\");\n",
       "        }\n",
       "      }\n",
       "    }, 10, root)\n",
       "  }\n",
       "})(window);"
      ],
      "application/vnd.bokehjs_exec.v0+json": ""
     },
     "metadata": {
      "application/vnd.bokehjs_exec.v0+json": {
       "id": "105874"
      }
     },
     "output_type": "display_data"
    }
   ],
   "source": [
    "bpl.show(p_con)"
   ]
  },
  {
   "cell_type": "markdown",
   "metadata": {},
   "source": [
    "Obtención de los últimos datos para México"
   ]
  },
  {
   "cell_type": "code",
   "execution_count": 482,
   "metadata": {},
   "outputs": [],
   "source": [
    "urlnew = \"http://187.191.75.115/gobmx/salud/datos_abiertos/datos_abiertos_covid19.zip\"\n",
    "fecha_archivo = pd.Timestamp(\"2020-05-15\")"
   ]
  },
  {
   "cell_type": "code",
   "execution_count": 13,
   "metadata": {},
   "outputs": [],
   "source": [
    "archivo = fecha_archivo.strftime(\"%y%m%d\")+\"COVID19MEXICO.csv\""
   ]
  },
  {
   "cell_type": "code",
   "execution_count": 14,
   "metadata": {},
   "outputs": [],
   "source": [
    "r = requests.get(urlnew)\n",
    "z = zipfile.ZipFile(io.BytesIO(r.content))\n",
    "z.extractall(path=\"./datos_federales/\")"
   ]
  },
  {
   "cell_type": "code",
   "execution_count": 15,
   "metadata": {},
   "outputs": [],
   "source": [
    "data = pd.read_csv('./datos_federales/' + archivo,encoding=\"latin1\", low_memory=False)"
   ]
  },
  {
   "cell_type": "code",
   "execution_count": 16,
   "metadata": {},
   "outputs": [],
   "source": [
    "data[\"FECHA_ACTUALIZACION\"] = pd.to_datetime(data[\"FECHA_ACTUALIZACION\"],format=\"%Y-%m-%d\")\n",
    "data[\"FECHA_INGRESO\"] = pd.to_datetime(data[\"FECHA_INGRESO\"],format=\"%Y-%m-%d\")\n",
    "data[\"FECHA_DEF\"] = pd.to_datetime(data[\"FECHA_DEF\"].replace({\"9999-99-99\":None}),format=\"%Y-%m-%d\")\n",
    "data[\"FECHA_SINTOMAS\"] = pd.to_datetime(data[\"FECHA_SINTOMAS\"],format=\"%Y-%m-%d\")"
   ]
  },
  {
   "cell_type": "code",
   "execution_count": 44,
   "metadata": {},
   "outputs": [
    {
     "data": {
      "text/html": [
       "<div>\n",
       "<style scoped>\n",
       "    .dataframe tbody tr th:only-of-type {\n",
       "        vertical-align: middle;\n",
       "    }\n",
       "\n",
       "    .dataframe tbody tr th {\n",
       "        vertical-align: top;\n",
       "    }\n",
       "\n",
       "    .dataframe thead th {\n",
       "        text-align: right;\n",
       "    }\n",
       "</style>\n",
       "<table border=\"1\" class=\"dataframe\">\n",
       "  <thead>\n",
       "    <tr style=\"text-align: right;\">\n",
       "      <th></th>\n",
       "      <th>FECHA_ACTUALIZACION</th>\n",
       "      <th>ID_REGISTRO</th>\n",
       "      <th>ORIGEN</th>\n",
       "      <th>SECTOR</th>\n",
       "      <th>ENTIDAD_UM</th>\n",
       "      <th>SEXO</th>\n",
       "      <th>ENTIDAD_NAC</th>\n",
       "      <th>ENTIDAD_RES</th>\n",
       "      <th>MUNICIPIO_RES</th>\n",
       "      <th>TIPO_PACIENTE</th>\n",
       "      <th>...</th>\n",
       "      <th>CARDIOVASCULAR</th>\n",
       "      <th>OBESIDAD</th>\n",
       "      <th>RENAL_CRONICA</th>\n",
       "      <th>TABAQUISMO</th>\n",
       "      <th>OTRO_CASO</th>\n",
       "      <th>RESULTADO</th>\n",
       "      <th>MIGRANTE</th>\n",
       "      <th>PAIS_NACIONALIDAD</th>\n",
       "      <th>PAIS_ORIGEN</th>\n",
       "      <th>UCI</th>\n",
       "    </tr>\n",
       "  </thead>\n",
       "  <tbody>\n",
       "    <tr>\n",
       "      <th>0</th>\n",
       "      <td>2020-05-15</td>\n",
       "      <td>04ba92</td>\n",
       "      <td>2</td>\n",
       "      <td>3</td>\n",
       "      <td>15</td>\n",
       "      <td>2</td>\n",
       "      <td>15</td>\n",
       "      <td>15</td>\n",
       "      <td>29</td>\n",
       "      <td>1</td>\n",
       "      <td>...</td>\n",
       "      <td>2</td>\n",
       "      <td>2</td>\n",
       "      <td>2</td>\n",
       "      <td>1</td>\n",
       "      <td>2</td>\n",
       "      <td>1</td>\n",
       "      <td>99</td>\n",
       "      <td>MÃ©xico</td>\n",
       "      <td>99</td>\n",
       "      <td>97</td>\n",
       "    </tr>\n",
       "    <tr>\n",
       "      <th>1</th>\n",
       "      <td>2020-05-15</td>\n",
       "      <td>12fb08</td>\n",
       "      <td>2</td>\n",
       "      <td>3</td>\n",
       "      <td>27</td>\n",
       "      <td>1</td>\n",
       "      <td>27</td>\n",
       "      <td>27</td>\n",
       "      <td>4</td>\n",
       "      <td>1</td>\n",
       "      <td>...</td>\n",
       "      <td>2</td>\n",
       "      <td>2</td>\n",
       "      <td>2</td>\n",
       "      <td>2</td>\n",
       "      <td>1</td>\n",
       "      <td>1</td>\n",
       "      <td>99</td>\n",
       "      <td>MÃ©xico</td>\n",
       "      <td>99</td>\n",
       "      <td>97</td>\n",
       "    </tr>\n",
       "    <tr>\n",
       "      <th>2</th>\n",
       "      <td>2020-05-15</td>\n",
       "      <td>13889a</td>\n",
       "      <td>2</td>\n",
       "      <td>3</td>\n",
       "      <td>27</td>\n",
       "      <td>1</td>\n",
       "      <td>27</td>\n",
       "      <td>27</td>\n",
       "      <td>12</td>\n",
       "      <td>1</td>\n",
       "      <td>...</td>\n",
       "      <td>2</td>\n",
       "      <td>1</td>\n",
       "      <td>2</td>\n",
       "      <td>2</td>\n",
       "      <td>1</td>\n",
       "      <td>1</td>\n",
       "      <td>99</td>\n",
       "      <td>MÃ©xico</td>\n",
       "      <td>99</td>\n",
       "      <td>97</td>\n",
       "    </tr>\n",
       "  </tbody>\n",
       "</table>\n",
       "<p>3 rows × 35 columns</p>\n",
       "</div>"
      ],
      "text/plain": [
       "  FECHA_ACTUALIZACION ID_REGISTRO  ORIGEN  SECTOR  ENTIDAD_UM  SEXO  \\\n",
       "0          2020-05-15      04ba92       2       3          15     2   \n",
       "1          2020-05-15      12fb08       2       3          27     1   \n",
       "2          2020-05-15      13889a       2       3          27     1   \n",
       "\n",
       "   ENTIDAD_NAC  ENTIDAD_RES  MUNICIPIO_RES  TIPO_PACIENTE  ... CARDIOVASCULAR  \\\n",
       "0           15           15             29              1  ...              2   \n",
       "1           27           27              4              1  ...              2   \n",
       "2           27           27             12              1  ...              2   \n",
       "\n",
       "  OBESIDAD RENAL_CRONICA  TABAQUISMO  OTRO_CASO  RESULTADO  MIGRANTE  \\\n",
       "0        2             2           1          2          1        99   \n",
       "1        2             2           2          1          1        99   \n",
       "2        1             2           2          1          1        99   \n",
       "\n",
       "   PAIS_NACIONALIDAD  PAIS_ORIGEN  UCI  \n",
       "0            MÃ©xico           99   97  \n",
       "1            MÃ©xico           99   97  \n",
       "2            MÃ©xico           99   97  \n",
       "\n",
       "[3 rows x 35 columns]"
      ]
     },
     "execution_count": 44,
     "metadata": {},
     "output_type": "execute_result"
    }
   ],
   "source": [
    "data[:3]"
   ]
  },
  {
   "cell_type": "markdown",
   "metadata": {},
   "source": [
    "Filtrado de datos"
   ]
  },
  {
   "cell_type": "code",
   "execution_count": 116,
   "metadata": {},
   "outputs": [],
   "source": [
    "sun_data_mun = pd.read_csv(\"./datos_SUNs/Proy_ZM_2015_mun.csv\",encoding=\"latin1\")\n",
    "sun_data = pd.read_csv(\"./datos_SUNs/Proy_ZM_2015.csv\",encoding=\"latin1\")"
   ]
  },
  {
   "cell_type": "code",
   "execution_count": 119,
   "metadata": {},
   "outputs": [],
   "source": [
    "sun_data_mun[\"CVE_MUN\"] = sun_data_mun[\"CVE_MUN\"].astype(str).str.zfill(5)"
   ]
  },
  {
   "cell_type": "code",
   "execution_count": 143,
   "metadata": {},
   "outputs": [],
   "source": [
    "suns = pd.merge(sun_data[[\"CVE_SUN\",\"NOM_SUN\",\"P_2020\"]],sun_data_mun.groupby(\"CVE_SUN\")[\"CVE_MUN\"].unique().to_frame(\"claves\").reset_index(),how=\"outer\",on=\"CVE_SUN\")"
   ]
  },
  {
   "cell_type": "code",
   "execution_count": 145,
   "metadata": {},
   "outputs": [
    {
     "data": {
      "text/plain": [
       "array(['Aguascalientes', 'Ensenada', 'Mexicali', 'Tijuana', 'La Paz',\n",
       "       'Campeche', 'La Laguna', 'Monclova-Frontera', 'Piedras Negras',\n",
       "       'Saltillo', 'Colima-Villa de Álvarez', 'Tecomán', 'Tapachula',\n",
       "       'Tuxtla Gutiérrez', 'Chihuahua', 'Delicias', 'Hidalgo del Parral',\n",
       "       'Juárez', 'Valle de México', 'Durango', 'Celaya', 'Guanajuato',\n",
       "       'León', 'Moroleón-Uriangato', 'San Francisco del Rincón',\n",
       "       'Acapulco', 'Chilpancingo', 'Pachuca', 'Tula', 'Tulancingo',\n",
       "       'Guadalajara', 'Ocotlán', 'Puerto Vallarta', 'Tianguistenco',\n",
       "       'Toluca', 'La Piedad-Pénjamo', 'Morelia', 'Zamora', 'Cuautla',\n",
       "       'Cuernavaca', 'Tepic', 'Monterrey', 'Oaxaca', 'Tehuantepec',\n",
       "       'Puebla-Tlaxcala', 'Tehuacán', 'Teziutlán', 'Querétaro', 'Cancún',\n",
       "       'Chetumal', 'Rioverde', 'San Luis Potosí', 'Culiacán', 'Mazatlán',\n",
       "       'Guaymas', 'Hermosillo', 'Nogales', 'Villahermosa',\n",
       "       'Ciudad Victoria', 'Matamoros', 'Nuevo Laredo', 'Reynosa',\n",
       "       'Tampico', 'Tlaxcala-Apizaco', 'Acayucan', 'Coatzacoalcos',\n",
       "       'Córdoba', 'Minatitlán', 'Orizaba', 'Poza Rica', 'Veracruz',\n",
       "       'Xalapa', 'Mérida', 'Zacatecas-Guadalupe'], dtype=object)"
      ]
     },
     "execution_count": 145,
     "metadata": {},
     "output_type": "execute_result"
    }
   ],
   "source": [
    "suns[\"NOM_SUN\"].unique()"
   ]
  },
  {
   "cell_type": "code",
   "execution_count": 189,
   "metadata": {},
   "outputs": [
    {
     "data": {
      "text/html": [
       "<div>\n",
       "<style scoped>\n",
       "    .dataframe tbody tr th:only-of-type {\n",
       "        vertical-align: middle;\n",
       "    }\n",
       "\n",
       "    .dataframe tbody tr th {\n",
       "        vertical-align: top;\n",
       "    }\n",
       "\n",
       "    .dataframe thead th {\n",
       "        text-align: right;\n",
       "    }\n",
       "</style>\n",
       "<table border=\"1\" class=\"dataframe\">\n",
       "  <thead>\n",
       "    <tr style=\"text-align: right;\">\n",
       "      <th></th>\n",
       "      <th>CVE_SUN</th>\n",
       "      <th>NOM_SUN</th>\n",
       "      <th>P_2020</th>\n",
       "      <th>claves</th>\n",
       "    </tr>\n",
       "  </thead>\n",
       "  <tbody>\n",
       "    <tr>\n",
       "      <th>18</th>\n",
       "      <td>M09.01</td>\n",
       "      <td>Valle de México</td>\n",
       "      <td>21942666</td>\n",
       "      <td>[09002, 09003, 09004, 09005, 09006, 09007, 090...</td>\n",
       "    </tr>\n",
       "  </tbody>\n",
       "</table>\n",
       "</div>"
      ],
      "text/plain": [
       "   CVE_SUN          NOM_SUN    P_2020  \\\n",
       "18  M09.01  Valle de México  21942666   \n",
       "\n",
       "                                               claves  \n",
       "18  [09002, 09003, 09004, 09005, 09006, 09007, 090...  "
      ]
     },
     "execution_count": 189,
     "metadata": {},
     "output_type": "execute_result"
    }
   ],
   "source": [
    "z_urbana =suns[suns[\"NOM_SUN\"]=='Valle de México']\n",
    "poblacion = z_urbana[\"P_2020\"].values[0]\n",
    "z_urbana"
   ]
  },
  {
   "cell_type": "code",
   "execution_count": 151,
   "metadata": {},
   "outputs": [],
   "source": [
    "data[\"CVE_MUN_RES\"] = data[\"ENTIDAD_RES\"].astype(str).str.zfill(2) + data[\"MUNICIPIO_RES\"].astype(str).str.zfill(3)"
   ]
  },
  {
   "cell_type": "code",
   "execution_count": 160,
   "metadata": {},
   "outputs": [],
   "source": [
    "data_zurb = data[(data[\"RESULTADO\"]==1)&(data[\"CVE_MUN_RES\"].isin(z_urbana[\"claves\"].values[0]))]"
   ]
  },
  {
   "cell_type": "code",
   "execution_count": 161,
   "metadata": {},
   "outputs": [
    {
     "data": {
      "text/html": [
       "<div>\n",
       "<style scoped>\n",
       "    .dataframe tbody tr th:only-of-type {\n",
       "        vertical-align: middle;\n",
       "    }\n",
       "\n",
       "    .dataframe tbody tr th {\n",
       "        vertical-align: top;\n",
       "    }\n",
       "\n",
       "    .dataframe thead th {\n",
       "        text-align: right;\n",
       "    }\n",
       "</style>\n",
       "<table border=\"1\" class=\"dataframe\">\n",
       "  <thead>\n",
       "    <tr style=\"text-align: right;\">\n",
       "      <th></th>\n",
       "      <th>FECHA_ACTUALIZACION</th>\n",
       "      <th>ID_REGISTRO</th>\n",
       "      <th>ORIGEN</th>\n",
       "      <th>SECTOR</th>\n",
       "      <th>ENTIDAD_UM</th>\n",
       "      <th>SEXO</th>\n",
       "      <th>ENTIDAD_NAC</th>\n",
       "      <th>ENTIDAD_RES</th>\n",
       "      <th>MUNICIPIO_RES</th>\n",
       "      <th>TIPO_PACIENTE</th>\n",
       "      <th>...</th>\n",
       "      <th>OBESIDAD</th>\n",
       "      <th>RENAL_CRONICA</th>\n",
       "      <th>TABAQUISMO</th>\n",
       "      <th>OTRO_CASO</th>\n",
       "      <th>RESULTADO</th>\n",
       "      <th>MIGRANTE</th>\n",
       "      <th>PAIS_NACIONALIDAD</th>\n",
       "      <th>PAIS_ORIGEN</th>\n",
       "      <th>UCI</th>\n",
       "      <th>CVE_MUN_RES</th>\n",
       "    </tr>\n",
       "  </thead>\n",
       "  <tbody>\n",
       "    <tr>\n",
       "      <th>0</th>\n",
       "      <td>2020-05-15</td>\n",
       "      <td>04ba92</td>\n",
       "      <td>2</td>\n",
       "      <td>3</td>\n",
       "      <td>15</td>\n",
       "      <td>2</td>\n",
       "      <td>15</td>\n",
       "      <td>15</td>\n",
       "      <td>29</td>\n",
       "      <td>1</td>\n",
       "      <td>...</td>\n",
       "      <td>2</td>\n",
       "      <td>2</td>\n",
       "      <td>1</td>\n",
       "      <td>2</td>\n",
       "      <td>1</td>\n",
       "      <td>99</td>\n",
       "      <td>MÃ©xico</td>\n",
       "      <td>99</td>\n",
       "      <td>97</td>\n",
       "      <td>15029</td>\n",
       "    </tr>\n",
       "    <tr>\n",
       "      <th>3</th>\n",
       "      <td>2020-05-15</td>\n",
       "      <td>088d98</td>\n",
       "      <td>2</td>\n",
       "      <td>4</td>\n",
       "      <td>15</td>\n",
       "      <td>1</td>\n",
       "      <td>30</td>\n",
       "      <td>15</td>\n",
       "      <td>20</td>\n",
       "      <td>2</td>\n",
       "      <td>...</td>\n",
       "      <td>2</td>\n",
       "      <td>2</td>\n",
       "      <td>2</td>\n",
       "      <td>99</td>\n",
       "      <td>1</td>\n",
       "      <td>99</td>\n",
       "      <td>MÃ©xico</td>\n",
       "      <td>99</td>\n",
       "      <td>2</td>\n",
       "      <td>15020</td>\n",
       "    </tr>\n",
       "    <tr>\n",
       "      <th>5</th>\n",
       "      <td>2020-05-15</td>\n",
       "      <td>09faca</td>\n",
       "      <td>2</td>\n",
       "      <td>4</td>\n",
       "      <td>15</td>\n",
       "      <td>2</td>\n",
       "      <td>15</td>\n",
       "      <td>15</td>\n",
       "      <td>70</td>\n",
       "      <td>1</td>\n",
       "      <td>...</td>\n",
       "      <td>2</td>\n",
       "      <td>2</td>\n",
       "      <td>2</td>\n",
       "      <td>99</td>\n",
       "      <td>1</td>\n",
       "      <td>99</td>\n",
       "      <td>MÃ©xico</td>\n",
       "      <td>99</td>\n",
       "      <td>97</td>\n",
       "      <td>15070</td>\n",
       "    </tr>\n",
       "  </tbody>\n",
       "</table>\n",
       "<p>3 rows × 36 columns</p>\n",
       "</div>"
      ],
      "text/plain": [
       "  FECHA_ACTUALIZACION ID_REGISTRO  ORIGEN  SECTOR  ENTIDAD_UM  SEXO  \\\n",
       "0          2020-05-15      04ba92       2       3          15     2   \n",
       "3          2020-05-15      088d98       2       4          15     1   \n",
       "5          2020-05-15      09faca       2       4          15     2   \n",
       "\n",
       "   ENTIDAD_NAC  ENTIDAD_RES  MUNICIPIO_RES  TIPO_PACIENTE  ... OBESIDAD  \\\n",
       "0           15           15             29              1  ...        2   \n",
       "3           30           15             20              2  ...        2   \n",
       "5           15           15             70              1  ...        2   \n",
       "\n",
       "  RENAL_CRONICA TABAQUISMO  OTRO_CASO  RESULTADO  MIGRANTE  PAIS_NACIONALIDAD  \\\n",
       "0             2          1          2          1        99            MÃ©xico   \n",
       "3             2          2         99          1        99            MÃ©xico   \n",
       "5             2          2         99          1        99            MÃ©xico   \n",
       "\n",
       "   PAIS_ORIGEN  UCI  CVE_MUN_RES  \n",
       "0           99   97        15029  \n",
       "3           99    2        15020  \n",
       "5           99   97        15070  \n",
       "\n",
       "[3 rows x 36 columns]"
      ]
     },
     "execution_count": 161,
     "metadata": {},
     "output_type": "execute_result"
    }
   ],
   "source": [
    "data_zurb[:3]"
   ]
  },
  {
   "cell_type": "code",
   "execution_count": 164,
   "metadata": {},
   "outputs": [],
   "source": [
    "time_index = pd.date_range(data_zurb[\"FECHA_SINTOMAS\"].min(), fecha_archivo, freq='1D')"
   ]
  },
  {
   "cell_type": "code",
   "execution_count": 284,
   "metadata": {},
   "outputs": [],
   "source": [
    "casos = data_zurb.groupby(\"FECHA_SINTOMAS\").size().to_frame(\"Confirmados\").reindex(time_index)"
   ]
  },
  {
   "cell_type": "code",
   "execution_count": 285,
   "metadata": {},
   "outputs": [],
   "source": [
    "casos[\"Graves\"] = data_zurb[data_zurb[\"TIPO_PACIENTE\"]==2].groupby([\"FECHA_SINTOMAS\"]).size()"
   ]
  },
  {
   "cell_type": "code",
   "execution_count": 286,
   "metadata": {},
   "outputs": [],
   "source": [
    "casos[\"Decesos\"] = data_zurb.groupby(\"FECHA_DEF\").size()"
   ]
  },
  {
   "cell_type": "code",
   "execution_count": 287,
   "metadata": {},
   "outputs": [],
   "source": [
    "casos[\"Confirmados_acumulados\"] = casos[\"Confirmados\"].fillna(0).cumsum()\n",
    "casos[\"Decesos_acumulados\"] = casos[\"Decesos\"].fillna(0).cumsum()\n",
    "casos[\"Graves_acumulados\"] = casos[\"Graves\"].fillna(0).cumsum()"
   ]
  },
  {
   "cell_type": "code",
   "execution_count": 288,
   "metadata": {},
   "outputs": [
    {
     "data": {
      "text/html": [
       "<div>\n",
       "<style scoped>\n",
       "    .dataframe tbody tr th:only-of-type {\n",
       "        vertical-align: middle;\n",
       "    }\n",
       "\n",
       "    .dataframe tbody tr th {\n",
       "        vertical-align: top;\n",
       "    }\n",
       "\n",
       "    .dataframe thead th {\n",
       "        text-align: right;\n",
       "    }\n",
       "</style>\n",
       "<table border=\"1\" class=\"dataframe\">\n",
       "  <thead>\n",
       "    <tr style=\"text-align: right;\">\n",
       "      <th></th>\n",
       "      <th>Confirmados</th>\n",
       "      <th>Graves</th>\n",
       "      <th>Decesos</th>\n",
       "      <th>Confirmados_acumulados</th>\n",
       "      <th>Decesos_acumulados</th>\n",
       "      <th>Graves_acumulados</th>\n",
       "    </tr>\n",
       "  </thead>\n",
       "  <tbody>\n",
       "    <tr>\n",
       "      <th>2020-02-17</th>\n",
       "      <td>1.0</td>\n",
       "      <td>NaN</td>\n",
       "      <td>NaN</td>\n",
       "      <td>2.0</td>\n",
       "      <td>0.0</td>\n",
       "      <td>0.0</td>\n",
       "    </tr>\n",
       "    <tr>\n",
       "      <th>2020-02-18</th>\n",
       "      <td>1.0</td>\n",
       "      <td>NaN</td>\n",
       "      <td>NaN</td>\n",
       "      <td>3.0</td>\n",
       "      <td>0.0</td>\n",
       "      <td>0.0</td>\n",
       "    </tr>\n",
       "    <tr>\n",
       "      <th>2020-02-19</th>\n",
       "      <td>1.0</td>\n",
       "      <td>NaN</td>\n",
       "      <td>NaN</td>\n",
       "      <td>4.0</td>\n",
       "      <td>0.0</td>\n",
       "      <td>0.0</td>\n",
       "    </tr>\n",
       "    <tr>\n",
       "      <th>2020-02-20</th>\n",
       "      <td>NaN</td>\n",
       "      <td>NaN</td>\n",
       "      <td>NaN</td>\n",
       "      <td>4.0</td>\n",
       "      <td>0.0</td>\n",
       "      <td>0.0</td>\n",
       "    </tr>\n",
       "    <tr>\n",
       "      <th>2020-02-21</th>\n",
       "      <td>1.0</td>\n",
       "      <td>1.0</td>\n",
       "      <td>NaN</td>\n",
       "      <td>5.0</td>\n",
       "      <td>0.0</td>\n",
       "      <td>1.0</td>\n",
       "    </tr>\n",
       "    <tr>\n",
       "      <th>2020-02-22</th>\n",
       "      <td>1.0</td>\n",
       "      <td>1.0</td>\n",
       "      <td>NaN</td>\n",
       "      <td>6.0</td>\n",
       "      <td>0.0</td>\n",
       "      <td>2.0</td>\n",
       "    </tr>\n",
       "    <tr>\n",
       "      <th>2020-02-23</th>\n",
       "      <td>1.0</td>\n",
       "      <td>NaN</td>\n",
       "      <td>NaN</td>\n",
       "      <td>7.0</td>\n",
       "      <td>0.0</td>\n",
       "      <td>2.0</td>\n",
       "    </tr>\n",
       "    <tr>\n",
       "      <th>2020-02-24</th>\n",
       "      <td>NaN</td>\n",
       "      <td>NaN</td>\n",
       "      <td>NaN</td>\n",
       "      <td>7.0</td>\n",
       "      <td>0.0</td>\n",
       "      <td>2.0</td>\n",
       "    </tr>\n",
       "    <tr>\n",
       "      <th>2020-02-25</th>\n",
       "      <td>NaN</td>\n",
       "      <td>NaN</td>\n",
       "      <td>NaN</td>\n",
       "      <td>7.0</td>\n",
       "      <td>0.0</td>\n",
       "      <td>2.0</td>\n",
       "    </tr>\n",
       "    <tr>\n",
       "      <th>2020-02-26</th>\n",
       "      <td>1.0</td>\n",
       "      <td>1.0</td>\n",
       "      <td>NaN</td>\n",
       "      <td>8.0</td>\n",
       "      <td>0.0</td>\n",
       "      <td>3.0</td>\n",
       "    </tr>\n",
       "    <tr>\n",
       "      <th>2020-02-27</th>\n",
       "      <td>1.0</td>\n",
       "      <td>1.0</td>\n",
       "      <td>NaN</td>\n",
       "      <td>9.0</td>\n",
       "      <td>0.0</td>\n",
       "      <td>4.0</td>\n",
       "    </tr>\n",
       "    <tr>\n",
       "      <th>2020-02-28</th>\n",
       "      <td>2.0</td>\n",
       "      <td>NaN</td>\n",
       "      <td>NaN</td>\n",
       "      <td>11.0</td>\n",
       "      <td>0.0</td>\n",
       "      <td>4.0</td>\n",
       "    </tr>\n",
       "  </tbody>\n",
       "</table>\n",
       "</div>"
      ],
      "text/plain": [
       "            Confirmados  Graves  Decesos  Confirmados_acumulados  \\\n",
       "2020-02-17          1.0     NaN      NaN                     2.0   \n",
       "2020-02-18          1.0     NaN      NaN                     3.0   \n",
       "2020-02-19          1.0     NaN      NaN                     4.0   \n",
       "2020-02-20          NaN     NaN      NaN                     4.0   \n",
       "2020-02-21          1.0     1.0      NaN                     5.0   \n",
       "2020-02-22          1.0     1.0      NaN                     6.0   \n",
       "2020-02-23          1.0     NaN      NaN                     7.0   \n",
       "2020-02-24          NaN     NaN      NaN                     7.0   \n",
       "2020-02-25          NaN     NaN      NaN                     7.0   \n",
       "2020-02-26          1.0     1.0      NaN                     8.0   \n",
       "2020-02-27          1.0     1.0      NaN                     9.0   \n",
       "2020-02-28          2.0     NaN      NaN                    11.0   \n",
       "\n",
       "            Decesos_acumulados  Graves_acumulados  \n",
       "2020-02-17                 0.0                0.0  \n",
       "2020-02-18                 0.0                0.0  \n",
       "2020-02-19                 0.0                0.0  \n",
       "2020-02-20                 0.0                0.0  \n",
       "2020-02-21                 0.0                1.0  \n",
       "2020-02-22                 0.0                2.0  \n",
       "2020-02-23                 0.0                2.0  \n",
       "2020-02-24                 0.0                2.0  \n",
       "2020-02-25                 0.0                2.0  \n",
       "2020-02-26                 0.0                3.0  \n",
       "2020-02-27                 0.0                4.0  \n",
       "2020-02-28                 0.0                4.0  "
      ]
     },
     "execution_count": 288,
     "metadata": {},
     "output_type": "execute_result"
    }
   ],
   "source": [
    "casos[18:30]"
   ]
  },
  {
   "cell_type": "markdown",
   "metadata": {},
   "source": [
    "Graficado de datos para Zona Urbana"
   ]
  },
  {
   "cell_type": "code",
   "execution_count": 388,
   "metadata": {},
   "outputs": [],
   "source": [
    "s = bpl.figure(x_axis_type=\"datetime\",plot_width=1000,plot_height=600,x_range=(pd.Timestamp(\"2020-02-14\"),pd.Timestamp(\"2020-04-20\")),y_range=(0,9000))"
   ]
  },
  {
   "cell_type": "code",
   "execution_count": 389,
   "metadata": {},
   "outputs": [
    {
     "data": {
      "text/html": [
       "<div style=\"display: table;\"><div style=\"display: table-row;\"><div style=\"display: table-cell;\"><b title=\"bokeh.models.renderers.GlyphRenderer\">GlyphRenderer</b>(</div><div style=\"display: table-cell;\">id&nbsp;=&nbsp;'34559', <span id=\"34562\" style=\"cursor: pointer;\">&hellip;)</span></div></div><div class=\"34561\" style=\"display: none;\"><div style=\"display: table-cell;\"></div><div style=\"display: table-cell;\">data_source&nbsp;=&nbsp;ColumnDataSource(id='34556', ...),</div></div><div class=\"34561\" style=\"display: none;\"><div style=\"display: table-cell;\"></div><div style=\"display: table-cell;\">glyph&nbsp;=&nbsp;Quad(id='34557', ...),</div></div><div class=\"34561\" style=\"display: none;\"><div style=\"display: table-cell;\"></div><div style=\"display: table-cell;\">hover_glyph&nbsp;=&nbsp;None,</div></div><div class=\"34561\" style=\"display: none;\"><div style=\"display: table-cell;\"></div><div style=\"display: table-cell;\">js_event_callbacks&nbsp;=&nbsp;{},</div></div><div class=\"34561\" style=\"display: none;\"><div style=\"display: table-cell;\"></div><div style=\"display: table-cell;\">js_property_callbacks&nbsp;=&nbsp;{},</div></div><div class=\"34561\" style=\"display: none;\"><div style=\"display: table-cell;\"></div><div style=\"display: table-cell;\">level&nbsp;=&nbsp;'glyph',</div></div><div class=\"34561\" style=\"display: none;\"><div style=\"display: table-cell;\"></div><div style=\"display: table-cell;\">muted&nbsp;=&nbsp;False,</div></div><div class=\"34561\" style=\"display: none;\"><div style=\"display: table-cell;\"></div><div style=\"display: table-cell;\">muted_glyph&nbsp;=&nbsp;None,</div></div><div class=\"34561\" style=\"display: none;\"><div style=\"display: table-cell;\"></div><div style=\"display: table-cell;\">name&nbsp;=&nbsp;None,</div></div><div class=\"34561\" style=\"display: none;\"><div style=\"display: table-cell;\"></div><div style=\"display: table-cell;\">nonselection_glyph&nbsp;=&nbsp;Quad(id='34558', ...),</div></div><div class=\"34561\" style=\"display: none;\"><div style=\"display: table-cell;\"></div><div style=\"display: table-cell;\">selection_glyph&nbsp;=&nbsp;None,</div></div><div class=\"34561\" style=\"display: none;\"><div style=\"display: table-cell;\"></div><div style=\"display: table-cell;\">subscribed_events&nbsp;=&nbsp;[],</div></div><div class=\"34561\" style=\"display: none;\"><div style=\"display: table-cell;\"></div><div style=\"display: table-cell;\">tags&nbsp;=&nbsp;[],</div></div><div class=\"34561\" style=\"display: none;\"><div style=\"display: table-cell;\"></div><div style=\"display: table-cell;\">view&nbsp;=&nbsp;CDSView(id='34560', ...),</div></div><div class=\"34561\" style=\"display: none;\"><div style=\"display: table-cell;\"></div><div style=\"display: table-cell;\">visible&nbsp;=&nbsp;True,</div></div><div class=\"34561\" style=\"display: none;\"><div style=\"display: table-cell;\"></div><div style=\"display: table-cell;\">x_range_name&nbsp;=&nbsp;'default',</div></div><div class=\"34561\" style=\"display: none;\"><div style=\"display: table-cell;\"></div><div style=\"display: table-cell;\">y_range_name&nbsp;=&nbsp;'default')</div></div></div>\n",
       "<script>\n",
       "(function() {\n",
       "  var expanded = false;\n",
       "  var ellipsis = document.getElementById(\"34562\");\n",
       "  ellipsis.addEventListener(\"click\", function() {\n",
       "    var rows = document.getElementsByClassName(\"34561\");\n",
       "    for (var i = 0; i < rows.length; i++) {\n",
       "      var el = rows[i];\n",
       "      el.style.display = expanded ? \"none\" : \"table-row\";\n",
       "    }\n",
       "    ellipsis.innerHTML = expanded ? \"&hellip;)\" : \"&lsaquo;&lsaquo;&lsaquo;\";\n",
       "    expanded = !expanded;\n",
       "  });\n",
       "})();\n",
       "</script>\n"
      ],
      "text/plain": [
       "GlyphRenderer(id='34559', ...)"
      ]
     },
     "execution_count": 389,
     "metadata": {},
     "output_type": "execute_result"
    }
   ],
   "source": [
    "s.quad(left=time_index,right=time_index+pd.Timedelta(\"1 days\")*0.9,top=casos[\"Confirmados_acumulados\"],bottom=1)\n",
    "s.quad(left=time_index,right=time_index+pd.Timedelta(\"1 days\")*0.9,top=casos[\"Graves_acumulados\"],bottom=1,color=\"green\")\n",
    "s.quad(left=time_index,right=time_index+pd.Timedelta(\"1 days\")*0.9,top=casos[\"Decesos_acumulados\"],bottom=1,color=\"red\")"
   ]
  },
  {
   "cell_type": "code",
   "execution_count": 390,
   "metadata": {},
   "outputs": [
    {
     "data": {
      "text/html": [
       "\n",
       "\n",
       "\n",
       "\n",
       "\n",
       "\n",
       "  <div class=\"bk-root\" id=\"dd8bcf78-f6f3-4c81-a62f-c655cd776bbe\" data-root-id=\"34515\"></div>\n"
      ]
     },
     "metadata": {},
     "output_type": "display_data"
    },
    {
     "data": {
      "application/javascript": [
       "(function(root) {\n",
       "  function embed_document(root) {\n",
       "    \n",
       "  var docs_json = {\"91649b8a-e311-4fbe-adef-08cd37bcdae5\":{\"roots\":{\"references\":[{\"attributes\":{\"below\":[{\"id\":\"34524\"}],\"center\":[{\"id\":\"34527\"},{\"id\":\"34531\"}],\"left\":[{\"id\":\"34528\"}],\"plot_width\":1000,\"renderers\":[{\"id\":\"34549\"},{\"id\":\"34554\"},{\"id\":\"34559\"}],\"title\":{\"id\":\"35610\"},\"toolbar\":{\"id\":\"34539\"},\"x_range\":{\"id\":\"34516\"},\"x_scale\":{\"id\":\"34520\"},\"y_range\":{\"id\":\"34518\"},\"y_scale\":{\"id\":\"34522\"}},\"id\":\"34515\",\"subtype\":\"Figure\",\"type\":\"Plot\"},{\"attributes\":{\"months\":[0,1,2,3,4,5,6,7,8,9,10,11]},\"id\":\"35629\",\"type\":\"MonthsTicker\"},{\"attributes\":{\"data_source\":{\"id\":\"34546\"},\"glyph\":{\"id\":\"34547\"},\"hover_glyph\":null,\"muted_glyph\":null,\"nonselection_glyph\":{\"id\":\"34548\"},\"selection_glyph\":null,\"view\":{\"id\":\"34550\"}},\"id\":\"34549\",\"type\":\"GlyphRenderer\"},{\"attributes\":{\"end\":9000},\"id\":\"34518\",\"type\":\"Range1d\"},{\"attributes\":{\"bottom\":{\"value\":1},\"fill_alpha\":{\"value\":0.1},\"fill_color\":{\"value\":\"red\"},\"left\":{\"field\":\"left\"},\"line_alpha\":{\"value\":0.1},\"line_color\":{\"value\":\"red\"},\"right\":{\"field\":\"right\"},\"top\":{\"field\":\"top\"}},\"id\":\"34558\",\"type\":\"Quad\"},{\"attributes\":{},\"id\":\"35616\",\"type\":\"UnionRenderers\"},{\"attributes\":{},\"id\":\"35611\",\"type\":\"DatetimeTickFormatter\"},{\"attributes\":{\"months\":[0,6]},\"id\":\"35632\",\"type\":\"MonthsTicker\"},{\"attributes\":{\"data_source\":{\"id\":\"34556\"},\"glyph\":{\"id\":\"34557\"},\"hover_glyph\":null,\"muted_glyph\":null,\"nonselection_glyph\":{\"id\":\"34558\"},\"selection_glyph\":null,\"view\":{\"id\":\"34560\"}},\"id\":\"34559\",\"type\":\"GlyphRenderer\"},{\"attributes\":{\"months\":[0,4,8]},\"id\":\"35631\",\"type\":\"MonthsTicker\"},{\"attributes\":{\"axis\":{\"id\":\"34528\"},\"dimension\":1,\"ticker\":null},\"id\":\"34531\",\"type\":\"Grid\"},{\"attributes\":{},\"id\":\"34533\",\"type\":\"WheelZoomTool\"},{\"attributes\":{},\"id\":\"34536\",\"type\":\"ResetTool\"},{\"attributes\":{},\"id\":\"34522\",\"type\":\"LinearScale\"},{\"attributes\":{\"bottom\":{\"value\":1},\"fill_color\":{\"value\":\"green\"},\"left\":{\"field\":\"left\"},\"line_color\":{\"value\":\"green\"},\"right\":{\"field\":\"right\"},\"top\":{\"field\":\"top\"}},\"id\":\"34552\",\"type\":\"Quad\"},{\"attributes\":{},\"id\":\"34529\",\"type\":\"BasicTicker\"},{\"attributes\":{},\"id\":\"35618\",\"type\":\"UnionRenderers\"},{\"attributes\":{\"active_drag\":\"auto\",\"active_inspect\":\"auto\",\"active_multi\":null,\"active_scroll\":\"auto\",\"active_tap\":\"auto\",\"tools\":[{\"id\":\"34532\"},{\"id\":\"34533\"},{\"id\":\"34534\"},{\"id\":\"34535\"},{\"id\":\"34536\"},{\"id\":\"34537\"}]},\"id\":\"34539\",\"type\":\"Toolbar\"},{\"attributes\":{},\"id\":\"35613\",\"type\":\"BasicTickFormatter\"},{\"attributes\":{\"data\":{\"left\":{\"__ndarray__\":\"AABA9Tv/dkIAAABbjv92QgAAwMDg/3ZCAACAJjMAd0IAAECMhQB3QgAAAPLXAHdCAADAVyoBd0IAAIC9fAF3QgAAQCPPAXdCAAAAiSECd0IAAMDucwJ3QgAAgFTGAndCAABAuhgDd0IAAAAgawN3QgAAwIW9A3dCAACA6w8Ed0IAAEBRYgR3QgAAALe0BHdCAADAHAcFd0IAAICCWQV3QgAAQOirBXdCAAAATv4Fd0IAAMCzUAZ3QgAAgBmjBndCAABAf/UGd0IAAADlRwd3QgAAwEqaB3dCAACAsOwHd0IAAEAWPwh3QgAAAHyRCHdCAADA4eMId0IAAIBHNgl3QgAAQK2ICXdCAAAAE9sJd0IAAMB4LQp3QgAAgN5/CndCAABARNIKd0IAAACqJAt3QgAAwA93C3dCAACAdckLd0IAAEDbGwx3QgAAAEFuDHdCAADApsAMd0IAAIAMEw13QgAAQHJlDXdCAAAA2LcNd0IAAMA9Cg53QgAAgKNcDndCAABACa8Od0IAAABvAQ93QgAAwNRTD3dCAACAOqYPd0IAAECg+A93QgAAAAZLEHdCAADAa50Qd0IAAIDR7xB3QgAAQDdCEXdCAAAAnZQRd0IAAMAC5xF3QgAAgGg5EndCAABAzosSd0IAAAA03hJ3QgAAwJkwE3dCAACA/4ITd0IAAEBl1RN3QgAAAMsnFHdCAADAMHoUd0IAAICWzBR3QgAAQPweFXdCAAAAYnEVd0IAAMDHwxV3QgAAgC0WFndCAABAk2gWd0IAAAD5uhZ3QgAAwF4NF3dCAACAxF8Xd0IAAEAqshd3QgAAAJAEGHdCAADA9VYYd0IAAIBbqRh3QgAAQMH7GHdCAAAAJ04Zd0IAAMCMoBl3QgAAgPLyGXdCAABAWEUad0IAAAC+lxp3QgAAwCPqGndCAACAiTwbd0IAAEDvjht3QgAAAFXhG3dCAADAujMcd0IAAIAghhx3QgAAQIbYHHdCAAAA7Codd0IAAMBRfR13QgAAgLfPHXdCAABAHSIed0IAAACDdB53QgAAwOjGHndCAACAThkfd0IAAEC0ax93QgAAABq+H3dCAADAfxAgd0IAAIDlYiB3QgAAQEu1IHdCAAAAsQchd0IAAMAWWiF3Qg==\",\"dtype\":\"float64\",\"shape\":[107]},\"right\":{\"__ndarray__\":\"AACgHYb/dkIAAGCD2P92QgAAIOkqAHdCAADgTn0Ad0IAAKC0zwB3QgAAYBoiAXdCAAAggHQBd0IAAODlxgF3QgAAoEsZAndCAABgsWsCd0IAACAXvgJ3QgAA4HwQA3dCAACg4mIDd0IAAGBItQN3QgAAIK4HBHdCAADgE1oEd0IAAKB5rAR3QgAAYN/+BHdCAAAgRVEFd0IAAOCqowV3QgAAoBD2BXdCAABgdkgGd0IAACDcmgZ3QgAA4EHtBndCAACgpz8Hd0IAAGANkgd3QgAAIHPkB3dCAADg2DYId0IAAKA+iQh3QgAAYKTbCHdCAAAgCi4Jd0IAAOBvgAl3QgAAoNXSCXdCAABgOyUKd0IAACChdwp3QgAA4AbKCndCAACgbBwLd0IAAGDSbgt3QgAAIDjBC3dCAADgnRMMd0IAAKADZgx3QgAAYGm4DHdCAAAgzwoNd0IAAOA0XQ13QgAAoJqvDXdCAABgAAIOd0IAACBmVA53QgAA4MumDndCAACgMfkOd0IAAGCXSw93QgAAIP2dD3dCAADgYvAPd0IAAKDIQhB3QgAAYC6VEHdCAAAglOcQd0IAAOD5ORF3QgAAoF+MEXdCAABgxd4Rd0IAACArMRJ3QgAA4JCDEndCAACg9tUSd0IAAGBcKBN3QgAAIMJ6E3dCAADgJ80Td0IAAKCNHxR3QgAAYPNxFHdCAAAgWcQUd0IAAOC+FhV3QgAAoCRpFXdCAABgirsVd0IAACDwDRZ3QgAA4FVgFndCAACgu7IWd0IAAGAhBRd3QgAAIIdXF3dCAADg7KkXd0IAAKBS/Bd3QgAAYLhOGHdCAAAgHqEYd0IAAOCD8xh3QgAAoOlFGXdCAABgT5gZd0IAACC16hl3QgAA4Bo9GndCAACggI8ad0IAAGDm4Rp3QgAAIEw0G3dCAADgsYYbd0IAAKAX2Rt3QgAAYH0rHHdCAAAg430cd0IAAOBI0Bx3QgAAoK4iHXdCAABgFHUdd0IAACB6xx13QgAA4N8ZHndCAACgRWwed0IAAGCrvh53QgAAIBERH3dCAADgdmMfd0IAAKDctR93QgAAYEIIIHdCAAAgqFogd0IAAOANrSB3QgAAoHP/IHdCAABg2VEhd0IAACA/pCF3Qg==\",\"dtype\":\"float64\",\"shape\":[107]},\"top\":{\"__ndarray__\":\"AAAAAAAAAAAAAAAAAAAAAAAAAAAAAAAAAAAAAAAAAAAAAAAAAAAAAAAAAAAAAAAAAAAAAAAAAAAAAAAAAAAAAAAAAAAAAAAAAAAAAAAAAAAAAAAAAAAAAAAAAAAAAAAAAAAAAAAAAAAAAAAAAAAAAAAAAAAAAAAAAAAAAAAAAAAAAAAAAAAAAAAAAAAAAAAAAAAAAAAAAAAAAAAAAAAAAAAAAAAAAAAAAAAAAAAAAAAAAAAAAADwPwAAAAAAAABAAAAAAAAAAEAAAAAAAAAAQAAAAAAAAABAAAAAAAAACEAAAAAAAAAQQAAAAAAAABBAAAAAAAAAEEAAAAAAAAAQQAAAAAAAABRAAAAAAAAAIkAAAAAAAAAkQAAAAAAAACRAAAAAAAAAJkAAAAAAAAAoQAAAAAAAAChAAAAAAAAANEAAAAAAAAA2QAAAAAAAADxAAAAAAAAAQEAAAAAAAABCQAAAAAAAgEdAAAAAAACATUAAAAAAAABSQAAAAAAAAFVAAAAAAACAV0AAAAAAAEBaQAAAAAAAwGBAAAAAAACAY0AAAAAAAEBmQAAAAAAAYGpAAAAAAADAbEAAAAAAAGBwQAAAAAAAwHNAAAAAAAAwdkAAAAAAAKB4QAAAAAAAgHtAAAAAAAAQgEAAAAAAAKiBQAAAAAAAiIRAAAAAAAAAh0AAAAAAAJCJQAAAAAAA8ItAAAAAAADgjUAAAAAAAMiQQAAAAAAAZJJAAAAAAAA0lEAAAAAAAMiVQAAAAAAA1JhAAAAAAADcmkAAAAAAABidQAAAAAAAvJ9AAAAAAAAGoUAAAAAAAOCiQAAAAAAAnqRAAAAAAABepkAAAAAAAGCoQAAAAAAAOqpAAAAAAADUrEAAAAAAAJauQAAAAAAAJrBAAAAAAAAZsUAAAAAAAB2yQAAAAAAAKrNAAAAAAAAltEAAAAAAADm1QAAAAAAAK7ZAAAAAAADhtkAAAAAAAO23QAAAAAAAGblAAAAAAAC1uUAAAAAAAFO6QAAAAAAAKrtAAAAAAADQu0AAAAAAAFK8QAAAAAAAzrxAAAAAAAAxvUAAAAAAAG+9QAAAAAAAqL1AAAAAAAC/vUAAAAAAAMW9QAAAAAAAx71AAAAAAADHvUAAAAAAAMe9QA==\",\"dtype\":\"float64\",\"shape\":[107]}},\"selected\":{\"id\":\"35617\"},\"selection_policy\":{\"id\":\"35618\"}},\"id\":\"34551\",\"type\":\"ColumnDataSource\"},{\"attributes\":{\"days\":[1,4,7,10,13,16,19,22,25,28]},\"id\":\"35626\",\"type\":\"DaysTicker\"},{\"attributes\":{\"data\":{\"left\":{\"__ndarray__\":\"AABA9Tv/dkIAAABbjv92QgAAwMDg/3ZCAACAJjMAd0IAAECMhQB3QgAAAPLXAHdCAADAVyoBd0IAAIC9fAF3QgAAQCPPAXdCAAAAiSECd0IAAMDucwJ3QgAAgFTGAndCAABAuhgDd0IAAAAgawN3QgAAwIW9A3dCAACA6w8Ed0IAAEBRYgR3QgAAALe0BHdCAADAHAcFd0IAAICCWQV3QgAAQOirBXdCAAAATv4Fd0IAAMCzUAZ3QgAAgBmjBndCAABAf/UGd0IAAADlRwd3QgAAwEqaB3dCAACAsOwHd0IAAEAWPwh3QgAAAHyRCHdCAADA4eMId0IAAIBHNgl3QgAAQK2ICXdCAAAAE9sJd0IAAMB4LQp3QgAAgN5/CndCAABARNIKd0IAAACqJAt3QgAAwA93C3dCAACAdckLd0IAAEDbGwx3QgAAAEFuDHdCAADApsAMd0IAAIAMEw13QgAAQHJlDXdCAAAA2LcNd0IAAMA9Cg53QgAAgKNcDndCAABACa8Od0IAAABvAQ93QgAAwNRTD3dCAACAOqYPd0IAAECg+A93QgAAAAZLEHdCAADAa50Qd0IAAIDR7xB3QgAAQDdCEXdCAAAAnZQRd0IAAMAC5xF3QgAAgGg5EndCAABAzosSd0IAAAA03hJ3QgAAwJkwE3dCAACA/4ITd0IAAEBl1RN3QgAAAMsnFHdCAADAMHoUd0IAAICWzBR3QgAAQPweFXdCAAAAYnEVd0IAAMDHwxV3QgAAgC0WFndCAABAk2gWd0IAAAD5uhZ3QgAAwF4NF3dCAACAxF8Xd0IAAEAqshd3QgAAAJAEGHdCAADA9VYYd0IAAIBbqRh3QgAAQMH7GHdCAAAAJ04Zd0IAAMCMoBl3QgAAgPLyGXdCAABAWEUad0IAAAC+lxp3QgAAwCPqGndCAACAiTwbd0IAAEDvjht3QgAAAFXhG3dCAADAujMcd0IAAIAghhx3QgAAQIbYHHdCAAAA7Codd0IAAMBRfR13QgAAgLfPHXdCAABAHSIed0IAAACDdB53QgAAwOjGHndCAACAThkfd0IAAEC0ax93QgAAABq+H3dCAADAfxAgd0IAAIDlYiB3QgAAQEu1IHdCAAAAsQchd0IAAMAWWiF3Qg==\",\"dtype\":\"float64\",\"shape\":[107]},\"right\":{\"__ndarray__\":\"AACgHYb/dkIAAGCD2P92QgAAIOkqAHdCAADgTn0Ad0IAAKC0zwB3QgAAYBoiAXdCAAAggHQBd0IAAODlxgF3QgAAoEsZAndCAABgsWsCd0IAACAXvgJ3QgAA4HwQA3dCAACg4mIDd0IAAGBItQN3QgAAIK4HBHdCAADgE1oEd0IAAKB5rAR3QgAAYN/+BHdCAAAgRVEFd0IAAOCqowV3QgAAoBD2BXdCAABgdkgGd0IAACDcmgZ3QgAA4EHtBndCAACgpz8Hd0IAAGANkgd3QgAAIHPkB3dCAADg2DYId0IAAKA+iQh3QgAAYKTbCHdCAAAgCi4Jd0IAAOBvgAl3QgAAoNXSCXdCAABgOyUKd0IAACChdwp3QgAA4AbKCndCAACgbBwLd0IAAGDSbgt3QgAAIDjBC3dCAADgnRMMd0IAAKADZgx3QgAAYGm4DHdCAAAgzwoNd0IAAOA0XQ13QgAAoJqvDXdCAABgAAIOd0IAACBmVA53QgAA4MumDndCAACgMfkOd0IAAGCXSw93QgAAIP2dD3dCAADgYvAPd0IAAKDIQhB3QgAAYC6VEHdCAAAglOcQd0IAAOD5ORF3QgAAoF+MEXdCAABgxd4Rd0IAACArMRJ3QgAA4JCDEndCAACg9tUSd0IAAGBcKBN3QgAAIMJ6E3dCAADgJ80Td0IAAKCNHxR3QgAAYPNxFHdCAAAgWcQUd0IAAOC+FhV3QgAAoCRpFXdCAABgirsVd0IAACDwDRZ3QgAA4FVgFndCAACgu7IWd0IAAGAhBRd3QgAAIIdXF3dCAADg7KkXd0IAAKBS/Bd3QgAAYLhOGHdCAAAgHqEYd0IAAOCD8xh3QgAAoOlFGXdCAABgT5gZd0IAACC16hl3QgAA4Bo9GndCAACggI8ad0IAAGDm4Rp3QgAAIEw0G3dCAADgsYYbd0IAAKAX2Rt3QgAAYH0rHHdCAAAg430cd0IAAOBI0Bx3QgAAoK4iHXdCAABgFHUdd0IAACB6xx13QgAA4N8ZHndCAACgRWwed0IAAGCrvh53QgAAIBERH3dCAADgdmMfd0IAAKDctR93QgAAYEIIIHdCAAAgqFogd0IAAOANrSB3QgAAoHP/IHdCAABg2VEhd0IAACA/pCF3Qg==\",\"dtype\":\"float64\",\"shape\":[107]},\"top\":{\"__ndarray__\":\"AAAAAAAA8D8AAAAAAADwPwAAAAAAAPA/AAAAAAAA8D8AAAAAAADwPwAAAAAAAPA/AAAAAAAA8D8AAAAAAADwPwAAAAAAAPA/AAAAAAAA8D8AAAAAAADwPwAAAAAAAPA/AAAAAAAA8D8AAAAAAADwPwAAAAAAAPA/AAAAAAAA8D8AAAAAAADwPwAAAAAAAPA/AAAAAAAAAEAAAAAAAAAIQAAAAAAAABBAAAAAAAAAEEAAAAAAAAAUQAAAAAAAABhAAAAAAAAAHEAAAAAAAAAcQAAAAAAAABxAAAAAAAAAIEAAAAAAAAAiQAAAAAAAACZAAAAAAAAAKkAAAAAAAAAuQAAAAAAAADZAAAAAAAAAO0AAAAAAAAA/QAAAAAAAAEFAAAAAAAAAREAAAAAAAIBKQAAAAAAAgE5AAAAAAADAVkAAAAAAAMBcQAAAAAAAQGFAAAAAAAAAZEAAAAAAAMBoQAAAAAAAAG5AAAAAAADgcUAAAAAAAKB1QAAAAAAAoHdAAAAAAADAeUAAAAAAAGB8QAAAAAAAYIBAAAAAAACYgUAAAAAAAAiDQAAAAAAAYIVAAAAAAACAh0AAAAAAAACKQAAAAAAAyI1AAAAAAAB4kEAAAAAAANSRQAAAAAAAKJNAAAAAAACUlUAAAAAAAFiXQAAAAAAAXJpAAAAAAADcnEAAAAAAAHifQAAAAAAANKFAAAAAAACQokAAAAAAAHakQAAAAAAADqZAAAAAAAACqEAAAAAAAB6qQAAAAAAAjq1AAAAAAAD4r0AAAAAAAEmxQAAAAAAA8bJAAAAAAAB9tEAAAAAAAIq2QAAAAAAAZrhAAAAAAACRukAAAAAAANW8QAAAAAAA875AAAAAAIAZwUAAAAAAAC/CQAAAAAAAPsNAAAAAAIBgxEAAAAAAAJzFQAAAAACA3cZAAAAAAAACyEAAAAAAAGHJQAAAAAAAj8pAAAAAAIB7y0AAAAAAgK/MQAAAAACARc5AAAAAAAAnz0AAAAAAwAbQQAAAAADAltBAAAAAAEAE0UAAAAAAAGPRQAAAAADAvdFAAAAAAAAW0kAAAAAAAFTSQAAAAACAh9JAAAAAAICp0kAAAAAAwLvSQAAAAADAxdJAAAAAAMDF0kAAAAAAwMXSQA==\",\"dtype\":\"float64\",\"shape\":[107]}},\"selected\":{\"id\":\"35615\"},\"selection_policy\":{\"id\":\"35616\"}},\"id\":\"34546\",\"type\":\"ColumnDataSource\"},{\"attributes\":{},\"id\":\"35617\",\"type\":\"Selection\"},{\"attributes\":{\"days\":[1,2,3,4,5,6,7,8,9,10,11,12,13,14,15,16,17,18,19,20,21,22,23,24,25,26,27,28,29,30,31]},\"id\":\"35625\",\"type\":\"DaysTicker\"},{\"attributes\":{\"bottom\":{\"value\":1},\"fill_color\":{\"value\":\"red\"},\"left\":{\"field\":\"left\"},\"line_color\":{\"value\":\"red\"},\"right\":{\"field\":\"right\"},\"top\":{\"field\":\"top\"}},\"id\":\"34557\",\"type\":\"Quad\"},{\"attributes\":{},\"id\":\"35619\",\"type\":\"Selection\"},{\"attributes\":{\"formatter\":{\"id\":\"35611\"},\"ticker\":{\"id\":\"34525\"}},\"id\":\"34524\",\"type\":\"DatetimeAxis\"},{\"attributes\":{\"bottom\":{\"value\":1},\"fill_color\":{\"value\":\"#1f77b4\"},\"left\":{\"field\":\"left\"},\"line_color\":{\"value\":\"#1f77b4\"},\"right\":{\"field\":\"right\"},\"top\":{\"field\":\"top\"}},\"id\":\"34547\",\"type\":\"Quad\"},{\"attributes\":{},\"id\":\"35615\",\"type\":\"Selection\"},{\"attributes\":{\"bottom_units\":\"screen\",\"fill_alpha\":0.5,\"fill_color\":\"lightgrey\",\"left_units\":\"screen\",\"level\":\"overlay\",\"line_alpha\":1.0,\"line_color\":\"black\",\"line_dash\":[4,4],\"line_width\":2,\"render_mode\":\"css\",\"right_units\":\"screen\",\"top_units\":\"screen\"},\"id\":\"34538\",\"type\":\"BoxAnnotation\"},{\"attributes\":{\"source\":{\"id\":\"34546\"}},\"id\":\"34550\",\"type\":\"CDSView\"},{\"attributes\":{},\"id\":\"34532\",\"type\":\"PanTool\"},{\"attributes\":{\"bottom\":{\"value\":1},\"fill_alpha\":{\"value\":0.1},\"fill_color\":{\"value\":\"#1f77b4\"},\"left\":{\"field\":\"left\"},\"line_alpha\":{\"value\":0.1},\"line_color\":{\"value\":\"#1f77b4\"},\"right\":{\"field\":\"right\"},\"top\":{\"field\":\"top\"}},\"id\":\"34548\",\"type\":\"Quad\"},{\"attributes\":{\"overlay\":{\"id\":\"34538\"}},\"id\":\"34534\",\"type\":\"BoxZoomTool\"},{\"attributes\":{\"num_minor_ticks\":5,\"tickers\":[{\"id\":\"35622\"},{\"id\":\"35623\"},{\"id\":\"35624\"},{\"id\":\"35625\"},{\"id\":\"35626\"},{\"id\":\"35627\"},{\"id\":\"35628\"},{\"id\":\"35629\"},{\"id\":\"35630\"},{\"id\":\"35631\"},{\"id\":\"35632\"},{\"id\":\"35633\"}]},\"id\":\"34525\",\"type\":\"DatetimeTicker\"},{\"attributes\":{\"source\":{\"id\":\"34556\"}},\"id\":\"34560\",\"type\":\"CDSView\"},{\"attributes\":{\"source\":{\"id\":\"34551\"}},\"id\":\"34555\",\"type\":\"CDSView\"},{\"attributes\":{},\"id\":\"34535\",\"type\":\"SaveTool\"},{\"attributes\":{\"formatter\":{\"id\":\"35613\"},\"ticker\":{\"id\":\"34529\"}},\"id\":\"34528\",\"type\":\"LinearAxis\"},{\"attributes\":{},\"id\":\"35620\",\"type\":\"UnionRenderers\"},{\"attributes\":{\"days\":[1,8,15,22]},\"id\":\"35627\",\"type\":\"DaysTicker\"},{\"attributes\":{\"axis\":{\"id\":\"34524\"},\"ticker\":null},\"id\":\"34527\",\"type\":\"Grid\"},{\"attributes\":{\"mantissas\":[1,2,5],\"max_interval\":500.0,\"num_minor_ticks\":0},\"id\":\"35622\",\"type\":\"AdaptiveTicker\"},{\"attributes\":{\"data_source\":{\"id\":\"34551\"},\"glyph\":{\"id\":\"34552\"},\"hover_glyph\":null,\"muted_glyph\":null,\"nonselection_glyph\":{\"id\":\"34553\"},\"selection_glyph\":null,\"view\":{\"id\":\"34555\"}},\"id\":\"34554\",\"type\":\"GlyphRenderer\"},{\"attributes\":{\"end\":1587340800000.0,\"start\":1581638400000.0},\"id\":\"34516\",\"type\":\"Range1d\"},{\"attributes\":{\"months\":[0,2,4,6,8,10]},\"id\":\"35630\",\"type\":\"MonthsTicker\"},{\"attributes\":{\"base\":24,\"mantissas\":[1,2,4,6,8,12],\"max_interval\":43200000.0,\"min_interval\":3600000.0,\"num_minor_ticks\":0},\"id\":\"35624\",\"type\":\"AdaptiveTicker\"},{\"attributes\":{},\"id\":\"35633\",\"type\":\"YearsTicker\"},{\"attributes\":{\"text\":\"\"},\"id\":\"35610\",\"type\":\"Title\"},{\"attributes\":{\"bottom\":{\"value\":1},\"fill_alpha\":{\"value\":0.1},\"fill_color\":{\"value\":\"green\"},\"left\":{\"field\":\"left\"},\"line_alpha\":{\"value\":0.1},\"line_color\":{\"value\":\"green\"},\"right\":{\"field\":\"right\"},\"top\":{\"field\":\"top\"}},\"id\":\"34553\",\"type\":\"Quad\"},{\"attributes\":{},\"id\":\"34537\",\"type\":\"HelpTool\"},{\"attributes\":{\"days\":[1,15]},\"id\":\"35628\",\"type\":\"DaysTicker\"},{\"attributes\":{\"data\":{\"left\":{\"__ndarray__\":\"AABA9Tv/dkIAAABbjv92QgAAwMDg/3ZCAACAJjMAd0IAAECMhQB3QgAAAPLXAHdCAADAVyoBd0IAAIC9fAF3QgAAQCPPAXdCAAAAiSECd0IAAMDucwJ3QgAAgFTGAndCAABAuhgDd0IAAAAgawN3QgAAwIW9A3dCAACA6w8Ed0IAAEBRYgR3QgAAALe0BHdCAADAHAcFd0IAAICCWQV3QgAAQOirBXdCAAAATv4Fd0IAAMCzUAZ3QgAAgBmjBndCAABAf/UGd0IAAADlRwd3QgAAwEqaB3dCAACAsOwHd0IAAEAWPwh3QgAAAHyRCHdCAADA4eMId0IAAIBHNgl3QgAAQK2ICXdCAAAAE9sJd0IAAMB4LQp3QgAAgN5/CndCAABARNIKd0IAAACqJAt3QgAAwA93C3dCAACAdckLd0IAAEDbGwx3QgAAAEFuDHdCAADApsAMd0IAAIAMEw13QgAAQHJlDXdCAAAA2LcNd0IAAMA9Cg53QgAAgKNcDndCAABACa8Od0IAAABvAQ93QgAAwNRTD3dCAACAOqYPd0IAAECg+A93QgAAAAZLEHdCAADAa50Qd0IAAIDR7xB3QgAAQDdCEXdCAAAAnZQRd0IAAMAC5xF3QgAAgGg5EndCAABAzosSd0IAAAA03hJ3QgAAwJkwE3dCAACA/4ITd0IAAEBl1RN3QgAAAMsnFHdCAADAMHoUd0IAAICWzBR3QgAAQPweFXdCAAAAYnEVd0IAAMDHwxV3QgAAgC0WFndCAABAk2gWd0IAAAD5uhZ3QgAAwF4NF3dCAACAxF8Xd0IAAEAqshd3QgAAAJAEGHdCAADA9VYYd0IAAIBbqRh3QgAAQMH7GHdCAAAAJ04Zd0IAAMCMoBl3QgAAgPLyGXdCAABAWEUad0IAAAC+lxp3QgAAwCPqGndCAACAiTwbd0IAAEDvjht3QgAAAFXhG3dCAADAujMcd0IAAIAghhx3QgAAQIbYHHdCAAAA7Codd0IAAMBRfR13QgAAgLfPHXdCAABAHSIed0IAAACDdB53QgAAwOjGHndCAACAThkfd0IAAEC0ax93QgAAABq+H3dCAADAfxAgd0IAAIDlYiB3QgAAQEu1IHdCAAAAsQchd0IAAMAWWiF3Qg==\",\"dtype\":\"float64\",\"shape\":[107]},\"right\":{\"__ndarray__\":\"AACgHYb/dkIAAGCD2P92QgAAIOkqAHdCAADgTn0Ad0IAAKC0zwB3QgAAYBoiAXdCAAAggHQBd0IAAODlxgF3QgAAoEsZAndCAABgsWsCd0IAACAXvgJ3QgAA4HwQA3dCAACg4mIDd0IAAGBItQN3QgAAIK4HBHdCAADgE1oEd0IAAKB5rAR3QgAAYN/+BHdCAAAgRVEFd0IAAOCqowV3QgAAoBD2BXdCAABgdkgGd0IAACDcmgZ3QgAA4EHtBndCAACgpz8Hd0IAAGANkgd3QgAAIHPkB3dCAADg2DYId0IAAKA+iQh3QgAAYKTbCHdCAAAgCi4Jd0IAAOBvgAl3QgAAoNXSCXdCAABgOyUKd0IAACChdwp3QgAA4AbKCndCAACgbBwLd0IAAGDSbgt3QgAAIDjBC3dCAADgnRMMd0IAAKADZgx3QgAAYGm4DHdCAAAgzwoNd0IAAOA0XQ13QgAAoJqvDXdCAABgAAIOd0IAACBmVA53QgAA4MumDndCAACgMfkOd0IAAGCXSw93QgAAIP2dD3dCAADgYvAPd0IAAKDIQhB3QgAAYC6VEHdCAAAglOcQd0IAAOD5ORF3QgAAoF+MEXdCAABgxd4Rd0IAACArMRJ3QgAA4JCDEndCAACg9tUSd0IAAGBcKBN3QgAAIMJ6E3dCAADgJ80Td0IAAKCNHxR3QgAAYPNxFHdCAAAgWcQUd0IAAOC+FhV3QgAAoCRpFXdCAABgirsVd0IAACDwDRZ3QgAA4FVgFndCAACgu7IWd0IAAGAhBRd3QgAAIIdXF3dCAADg7KkXd0IAAKBS/Bd3QgAAYLhOGHdCAAAgHqEYd0IAAOCD8xh3QgAAoOlFGXdCAABgT5gZd0IAACC16hl3QgAA4Bo9GndCAACggI8ad0IAAGDm4Rp3QgAAIEw0G3dCAADgsYYbd0IAAKAX2Rt3QgAAYH0rHHdCAAAg430cd0IAAOBI0Bx3QgAAoK4iHXdCAABgFHUdd0IAACB6xx13QgAA4N8ZHndCAACgRWwed0IAAGCrvh53QgAAIBERH3dCAADgdmMfd0IAAKDctR93QgAAYEIIIHdCAAAgqFogd0IAAOANrSB3QgAAoHP/IHdCAABg2VEhd0IAACA/pCF3Qg==\",\"dtype\":\"float64\",\"shape\":[107]},\"top\":{\"__ndarray__\":\"AAAAAAAAAAAAAAAAAAAAAAAAAAAAAAAAAAAAAAAAAAAAAAAAAAAAAAAAAAAAAAAAAAAAAAAAAAAAAAAAAAAAAAAAAAAAAAAAAAAAAAAAAAAAAAAAAAAAAAAAAAAAAAAAAAAAAAAAAAAAAAAAAAAAAAAAAAAAAAAAAAAAAAAAAAAAAAAAAAAAAAAAAAAAAAAAAAAAAAAAAAAAAAAAAAAAAAAAAAAAAAAAAAAAAAAAAAAAAAAAAAAAAAAAAAAAAAAAAAAAAAAAAAAAAAAAAAAAAAAAAAAAAAAAAAAAAAAAAAAAAAAAAAAAAAAAAAAAAAAAAAAAAAAAAAAAAAAAAAAAAAAAAAAAAAAAAAAAAAAAAAAAAAAAAAAAAAAAAAAAAAAAAAAAAAAAAAAAAAAAAAAAAAAAAAAAAAAAAAAAAAAAAAAAAAAAAAAAAAAAAAAAAAAAAAAAAAAAAAAAAAAAAAAAAAAAAAAAAAAAAAAAAAAAAAAAAAAAAAAAAAAAAAAAAAAAAAAAAAAA8D8AAAAAAADwPwAAAAAAAPA/AAAAAAAA8D8AAAAAAAAAQAAAAAAAAAhAAAAAAAAACEAAAAAAAAAQQAAAAAAAABxAAAAAAAAAJEAAAAAAAAAsQAAAAAAAADFAAAAAAAAANkAAAAAAAAA+QAAAAAAAAEJAAAAAAACARkAAAAAAAIBLQAAAAAAAAFBAAAAAAAAAUkAAAAAAAABXQAAAAAAAgFtAAAAAAABAXkAAAAAAAIBhQAAAAAAAoGRAAAAAAABAaEAAAAAAAIBqQAAAAAAAIG1AAAAAAABwcEAAAAAAAKByQAAAAAAAkHRAAAAAAADwdUAAAAAAACB4QAAAAAAAQHpAAAAAAABwfEAAAAAAAEB/QAAAAAAAyIBAAAAAAADggUAAAAAAAICDQAAAAAAAOIVAAAAAAAAwh0AAAAAAAJiIQAAAAAAA2IlAAAAAAADIi0AAAAAAAPCNQAAAAAAACJBAAAAAAAD4kEAAAAAAAAySQAAAAAAA4JJAAAAAAADUk0AAAAAAAJiUQAAAAAAAPJVAAAAAAADclUAAAAAAAIiWQAAAAAAAMJdAAAAAAAC0l0AAAAAAADiYQAAAAAAAmJhAAAAAAAC4mEAAAAAAALiYQA==\",\"dtype\":\"float64\",\"shape\":[107]}},\"selected\":{\"id\":\"35619\"},\"selection_policy\":{\"id\":\"35620\"}},\"id\":\"34556\",\"type\":\"ColumnDataSource\"},{\"attributes\":{},\"id\":\"34520\",\"type\":\"LinearScale\"},{\"attributes\":{\"base\":60,\"mantissas\":[1,2,5,10,15,20,30],\"max_interval\":1800000.0,\"min_interval\":1000.0,\"num_minor_ticks\":0},\"id\":\"35623\",\"type\":\"AdaptiveTicker\"}],\"root_ids\":[\"34515\"]},\"title\":\"Bokeh Application\",\"version\":\"2.0.1\"}};\n",
       "  var render_items = [{\"docid\":\"91649b8a-e311-4fbe-adef-08cd37bcdae5\",\"root_ids\":[\"34515\"],\"roots\":{\"34515\":\"dd8bcf78-f6f3-4c81-a62f-c655cd776bbe\"}}];\n",
       "  root.Bokeh.embed.embed_items_notebook(docs_json, render_items);\n",
       "\n",
       "  }\n",
       "  if (root.Bokeh !== undefined) {\n",
       "    embed_document(root);\n",
       "  } else {\n",
       "    var attempts = 0;\n",
       "    var timer = setInterval(function(root) {\n",
       "      if (root.Bokeh !== undefined) {\n",
       "        clearInterval(timer);\n",
       "        embed_document(root);\n",
       "      } else {\n",
       "        attempts++;\n",
       "        if (attempts > 100) {\n",
       "          clearInterval(timer);\n",
       "          console.log(\"Bokeh: ERROR: Unable to run BokehJS code because BokehJS library is missing\");\n",
       "        }\n",
       "      }\n",
       "    }, 10, root)\n",
       "  }\n",
       "})(window);"
      ],
      "application/vnd.bokehjs_exec.v0+json": ""
     },
     "metadata": {
      "application/vnd.bokehjs_exec.v0+json": {
       "id": "34515"
      }
     },
     "output_type": "display_data"
    }
   ],
   "source": [
    "bpl.show(s)"
   ]
  },
  {
   "cell_type": "code",
   "execution_count": 391,
   "metadata": {},
   "outputs": [],
   "source": [
    "s0 = bpl.figure(x_axis_type=\"datetime\",plot_width=1000,plot_height=600,x_range=(pd.Timestamp(\"2020-02-14\"),pd.Timestamp(\"2020-04-20\")),y_range=(0,600))"
   ]
  },
  {
   "cell_type": "code",
   "execution_count": 392,
   "metadata": {},
   "outputs": [
    {
     "data": {
      "text/html": [
       "<div style=\"display: table;\"><div style=\"display: table-row;\"><div style=\"display: table-cell;\"><b title=\"bokeh.models.renderers.GlyphRenderer\">GlyphRenderer</b>(</div><div style=\"display: table-cell;\">id&nbsp;=&nbsp;'35828', <span id=\"35831\" style=\"cursor: pointer;\">&hellip;)</span></div></div><div class=\"35830\" style=\"display: none;\"><div style=\"display: table-cell;\"></div><div style=\"display: table-cell;\">data_source&nbsp;=&nbsp;ColumnDataSource(id='35825', ...),</div></div><div class=\"35830\" style=\"display: none;\"><div style=\"display: table-cell;\"></div><div style=\"display: table-cell;\">glyph&nbsp;=&nbsp;Quad(id='35826', ...),</div></div><div class=\"35830\" style=\"display: none;\"><div style=\"display: table-cell;\"></div><div style=\"display: table-cell;\">hover_glyph&nbsp;=&nbsp;None,</div></div><div class=\"35830\" style=\"display: none;\"><div style=\"display: table-cell;\"></div><div style=\"display: table-cell;\">js_event_callbacks&nbsp;=&nbsp;{},</div></div><div class=\"35830\" style=\"display: none;\"><div style=\"display: table-cell;\"></div><div style=\"display: table-cell;\">js_property_callbacks&nbsp;=&nbsp;{},</div></div><div class=\"35830\" style=\"display: none;\"><div style=\"display: table-cell;\"></div><div style=\"display: table-cell;\">level&nbsp;=&nbsp;'glyph',</div></div><div class=\"35830\" style=\"display: none;\"><div style=\"display: table-cell;\"></div><div style=\"display: table-cell;\">muted&nbsp;=&nbsp;False,</div></div><div class=\"35830\" style=\"display: none;\"><div style=\"display: table-cell;\"></div><div style=\"display: table-cell;\">muted_glyph&nbsp;=&nbsp;None,</div></div><div class=\"35830\" style=\"display: none;\"><div style=\"display: table-cell;\"></div><div style=\"display: table-cell;\">name&nbsp;=&nbsp;None,</div></div><div class=\"35830\" style=\"display: none;\"><div style=\"display: table-cell;\"></div><div style=\"display: table-cell;\">nonselection_glyph&nbsp;=&nbsp;Quad(id='35827', ...),</div></div><div class=\"35830\" style=\"display: none;\"><div style=\"display: table-cell;\"></div><div style=\"display: table-cell;\">selection_glyph&nbsp;=&nbsp;None,</div></div><div class=\"35830\" style=\"display: none;\"><div style=\"display: table-cell;\"></div><div style=\"display: table-cell;\">subscribed_events&nbsp;=&nbsp;[],</div></div><div class=\"35830\" style=\"display: none;\"><div style=\"display: table-cell;\"></div><div style=\"display: table-cell;\">tags&nbsp;=&nbsp;[],</div></div><div class=\"35830\" style=\"display: none;\"><div style=\"display: table-cell;\"></div><div style=\"display: table-cell;\">view&nbsp;=&nbsp;CDSView(id='35829', ...),</div></div><div class=\"35830\" style=\"display: none;\"><div style=\"display: table-cell;\"></div><div style=\"display: table-cell;\">visible&nbsp;=&nbsp;True,</div></div><div class=\"35830\" style=\"display: none;\"><div style=\"display: table-cell;\"></div><div style=\"display: table-cell;\">x_range_name&nbsp;=&nbsp;'default',</div></div><div class=\"35830\" style=\"display: none;\"><div style=\"display: table-cell;\"></div><div style=\"display: table-cell;\">y_range_name&nbsp;=&nbsp;'default')</div></div></div>\n",
       "<script>\n",
       "(function() {\n",
       "  var expanded = false;\n",
       "  var ellipsis = document.getElementById(\"35831\");\n",
       "  ellipsis.addEventListener(\"click\", function() {\n",
       "    var rows = document.getElementsByClassName(\"35830\");\n",
       "    for (var i = 0; i < rows.length; i++) {\n",
       "      var el = rows[i];\n",
       "      el.style.display = expanded ? \"none\" : \"table-row\";\n",
       "    }\n",
       "    ellipsis.innerHTML = expanded ? \"&hellip;)\" : \"&lsaquo;&lsaquo;&lsaquo;\";\n",
       "    expanded = !expanded;\n",
       "  });\n",
       "})();\n",
       "</script>\n"
      ],
      "text/plain": [
       "GlyphRenderer(id='35828', ...)"
      ]
     },
     "execution_count": 392,
     "metadata": {},
     "output_type": "execute_result"
    }
   ],
   "source": [
    "s0.quad(left=time_index,right=time_index+pd.Timedelta(\"1 days\")*0.9,top=casos[\"Confirmados\"],bottom=1)\n",
    "s0.quad(left=time_index,right=time_index+pd.Timedelta(\"1 days\")*0.9,top=casos[\"Graves\"],bottom=1,color=\"green\")\n",
    "s0.quad(left=time_index,right=time_index+pd.Timedelta(\"1 days\")*0.9,top=casos[\"Decesos\"],bottom=1,color=\"red\")"
   ]
  },
  {
   "cell_type": "code",
   "execution_count": 393,
   "metadata": {},
   "outputs": [
    {
     "data": {
      "text/html": [
       "\n",
       "\n",
       "\n",
       "\n",
       "\n",
       "\n",
       "  <div class=\"bk-root\" id=\"441a2685-a25d-4a6a-bbd0-a3fba4317c68\" data-root-id=\"35784\"></div>\n"
      ]
     },
     "metadata": {},
     "output_type": "display_data"
    },
    {
     "data": {
      "application/javascript": [
       "(function(root) {\n",
       "  function embed_document(root) {\n",
       "    \n",
       "  var docs_json = {\"bdd3730b-d0b0-4392-8627-3c385aa3f577\":{\"roots\":{\"references\":[{\"attributes\":{\"below\":[{\"id\":\"35793\"}],\"center\":[{\"id\":\"35796\"},{\"id\":\"35800\"}],\"left\":[{\"id\":\"35797\"}],\"plot_width\":1000,\"renderers\":[{\"id\":\"35818\"},{\"id\":\"35823\"},{\"id\":\"35828\"}],\"title\":{\"id\":\"36904\"},\"toolbar\":{\"id\":\"35808\"},\"x_range\":{\"id\":\"35785\"},\"x_scale\":{\"id\":\"35789\"},\"y_range\":{\"id\":\"35787\"},\"y_scale\":{\"id\":\"35791\"}},\"id\":\"35784\",\"subtype\":\"Figure\",\"type\":\"Plot\"},{\"attributes\":{},\"id\":\"36912\",\"type\":\"UnionRenderers\"},{\"attributes\":{\"bottom\":{\"value\":1},\"fill_alpha\":{\"value\":0.1},\"fill_color\":{\"value\":\"green\"},\"left\":{\"field\":\"left\"},\"line_alpha\":{\"value\":0.1},\"line_color\":{\"value\":\"green\"},\"right\":{\"field\":\"right\"},\"top\":{\"field\":\"top\"}},\"id\":\"35822\",\"type\":\"Quad\"},{\"attributes\":{\"bottom\":{\"value\":1},\"fill_color\":{\"value\":\"#1f77b4\"},\"left\":{\"field\":\"left\"},\"line_color\":{\"value\":\"#1f77b4\"},\"right\":{\"field\":\"right\"},\"top\":{\"field\":\"top\"}},\"id\":\"35816\",\"type\":\"Quad\"},{\"attributes\":{},\"id\":\"35789\",\"type\":\"LinearScale\"},{\"attributes\":{},\"id\":\"35798\",\"type\":\"BasicTicker\"},{\"attributes\":{},\"id\":\"36911\",\"type\":\"Selection\"},{\"attributes\":{\"base\":24,\"mantissas\":[1,2,4,6,8,12],\"max_interval\":43200000.0,\"min_interval\":3600000.0,\"num_minor_ticks\":0},\"id\":\"36918\",\"type\":\"AdaptiveTicker\"},{\"attributes\":{\"months\":[0,1,2,3,4,5,6,7,8,9,10,11]},\"id\":\"36923\",\"type\":\"MonthsTicker\"},{\"attributes\":{\"axis\":{\"id\":\"35793\"},\"ticker\":null},\"id\":\"35796\",\"type\":\"Grid\"},{\"attributes\":{},\"id\":\"35801\",\"type\":\"PanTool\"},{\"attributes\":{},\"id\":\"35804\",\"type\":\"SaveTool\"},{\"attributes\":{},\"id\":\"36907\",\"type\":\"BasicTickFormatter\"},{\"attributes\":{},\"id\":\"36910\",\"type\":\"UnionRenderers\"},{\"attributes\":{\"data\":{\"left\":{\"__ndarray__\":\"AABA9Tv/dkIAAABbjv92QgAAwMDg/3ZCAACAJjMAd0IAAECMhQB3QgAAAPLXAHdCAADAVyoBd0IAAIC9fAF3QgAAQCPPAXdCAAAAiSECd0IAAMDucwJ3QgAAgFTGAndCAABAuhgDd0IAAAAgawN3QgAAwIW9A3dCAACA6w8Ed0IAAEBRYgR3QgAAALe0BHdCAADAHAcFd0IAAICCWQV3QgAAQOirBXdCAAAATv4Fd0IAAMCzUAZ3QgAAgBmjBndCAABAf/UGd0IAAADlRwd3QgAAwEqaB3dCAACAsOwHd0IAAEAWPwh3QgAAAHyRCHdCAADA4eMId0IAAIBHNgl3QgAAQK2ICXdCAAAAE9sJd0IAAMB4LQp3QgAAgN5/CndCAABARNIKd0IAAACqJAt3QgAAwA93C3dCAACAdckLd0IAAEDbGwx3QgAAAEFuDHdCAADApsAMd0IAAIAMEw13QgAAQHJlDXdCAAAA2LcNd0IAAMA9Cg53QgAAgKNcDndCAABACa8Od0IAAABvAQ93QgAAwNRTD3dCAACAOqYPd0IAAECg+A93QgAAAAZLEHdCAADAa50Qd0IAAIDR7xB3QgAAQDdCEXdCAAAAnZQRd0IAAMAC5xF3QgAAgGg5EndCAABAzosSd0IAAAA03hJ3QgAAwJkwE3dCAACA/4ITd0IAAEBl1RN3QgAAAMsnFHdCAADAMHoUd0IAAICWzBR3QgAAQPweFXdCAAAAYnEVd0IAAMDHwxV3QgAAgC0WFndCAABAk2gWd0IAAAD5uhZ3QgAAwF4NF3dCAACAxF8Xd0IAAEAqshd3QgAAAJAEGHdCAADA9VYYd0IAAIBbqRh3QgAAQMH7GHdCAAAAJ04Zd0IAAMCMoBl3QgAAgPLyGXdCAABAWEUad0IAAAC+lxp3QgAAwCPqGndCAACAiTwbd0IAAEDvjht3QgAAAFXhG3dCAADAujMcd0IAAIAghhx3QgAAQIbYHHdCAAAA7Codd0IAAMBRfR13QgAAgLfPHXdCAABAHSIed0IAAACDdB53QgAAwOjGHndCAACAThkfd0IAAEC0ax93QgAAABq+H3dCAADAfxAgd0IAAIDlYiB3QgAAQEu1IHdCAAAAsQchd0IAAMAWWiF3Qg==\",\"dtype\":\"float64\",\"shape\":[107]},\"right\":{\"__ndarray__\":\"AACgHYb/dkIAAGCD2P92QgAAIOkqAHdCAADgTn0Ad0IAAKC0zwB3QgAAYBoiAXdCAAAggHQBd0IAAODlxgF3QgAAoEsZAndCAABgsWsCd0IAACAXvgJ3QgAA4HwQA3dCAACg4mIDd0IAAGBItQN3QgAAIK4HBHdCAADgE1oEd0IAAKB5rAR3QgAAYN/+BHdCAAAgRVEFd0IAAOCqowV3QgAAoBD2BXdCAABgdkgGd0IAACDcmgZ3QgAA4EHtBndCAACgpz8Hd0IAAGANkgd3QgAAIHPkB3dCAADg2DYId0IAAKA+iQh3QgAAYKTbCHdCAAAgCi4Jd0IAAOBvgAl3QgAAoNXSCXdCAABgOyUKd0IAACChdwp3QgAA4AbKCndCAACgbBwLd0IAAGDSbgt3QgAAIDjBC3dCAADgnRMMd0IAAKADZgx3QgAAYGm4DHdCAAAgzwoNd0IAAOA0XQ13QgAAoJqvDXdCAABgAAIOd0IAACBmVA53QgAA4MumDndCAACgMfkOd0IAAGCXSw93QgAAIP2dD3dCAADgYvAPd0IAAKDIQhB3QgAAYC6VEHdCAAAglOcQd0IAAOD5ORF3QgAAoF+MEXdCAABgxd4Rd0IAACArMRJ3QgAA4JCDEndCAACg9tUSd0IAAGBcKBN3QgAAIMJ6E3dCAADgJ80Td0IAAKCNHxR3QgAAYPNxFHdCAAAgWcQUd0IAAOC+FhV3QgAAoCRpFXdCAABgirsVd0IAACDwDRZ3QgAA4FVgFndCAACgu7IWd0IAAGAhBRd3QgAAIIdXF3dCAADg7KkXd0IAAKBS/Bd3QgAAYLhOGHdCAAAgHqEYd0IAAOCD8xh3QgAAoOlFGXdCAABgT5gZd0IAACC16hl3QgAA4Bo9GndCAACggI8ad0IAAGDm4Rp3QgAAIEw0G3dCAADgsYYbd0IAAKAX2Rt3QgAAYH0rHHdCAAAg430cd0IAAOBI0Bx3QgAAoK4iHXdCAABgFHUdd0IAACB6xx13QgAA4N8ZHndCAACgRWwed0IAAGCrvh53QgAAIBERH3dCAADgdmMfd0IAAKDctR93QgAAYEIIIHdCAAAgqFogd0IAAOANrSB3QgAAoHP/IHdCAABg2VEhd0IAACA/pCF3Qg==\",\"dtype\":\"float64\",\"shape\":[107]},\"top\":{\"__ndarray__\":\"AAAAAAAA8D8AAAAAAAD4fwAAAAAAAPh/AAAAAAAA+H8AAAAAAAD4fwAAAAAAAPh/AAAAAAAA+H8AAAAAAAD4fwAAAAAAAPh/AAAAAAAA+H8AAAAAAAD4fwAAAAAAAPh/AAAAAAAA+H8AAAAAAAD4fwAAAAAAAPh/AAAAAAAA+H8AAAAAAAD4fwAAAAAAAPh/AAAAAAAA8D8AAAAAAADwPwAAAAAAAPA/AAAAAAAA+H8AAAAAAADwPwAAAAAAAPA/AAAAAAAA8D8AAAAAAAD4fwAAAAAAAPh/AAAAAAAA8D8AAAAAAADwPwAAAAAAAABAAAAAAAAAAEAAAAAAAAAAQAAAAAAAABxAAAAAAAAAFEAAAAAAAAAQQAAAAAAAAAhAAAAAAAAAGEAAAAAAAAAqQAAAAAAAACBAAAAAAAAAPkAAAAAAAAA4QAAAAAAAADdAAAAAAAAANkAAAAAAAABDQAAAAAAAAEVAAAAAAAAAR0AAAAAAAABOQAAAAAAAAEBAAAAAAAAAQUAAAAAAAABFQAAAAAAAgFFAAAAAAACAQ0AAAAAAAABHQAAAAAAAwFJAAAAAAAAAUUAAAAAAAABUQAAAAAAAQF5AAAAAAABAWUAAAAAAAMBVQAAAAAAAQFVAAAAAAABgY0AAAAAAAEBcQAAAAAAAIGhAAAAAAAAAZEAAAAAAAOBkQAAAAAAAgGdAAAAAAADAZUAAAAAAAGBuQAAAAAAAgGlAAAAAAABAb0AAAAAAAOBwQAAAAAAAgHtAAAAAAABQc0AAAAAAANB0QAAAAAAAgHpAAAAAAADAeEAAAAAAAGiAQAAAAAAAwH1AAAAAAABYgUAAAAAAACCCQAAAAAAA8IBAAAAAAAAAikAAAAAAAFiBQAAAAAAA8IBAAAAAAAAogkAAAAAAALiDQAAAAAAAGIRAAAAAAABIgkAAAAAAAPCFQAAAAAAA4IJAAAAAAACQfUAAAAAAAECDQAAAAAAAYIlAAAAAAAAwfEAAAAAAANB8QAAAAAAAAIJAAAAAAABge0AAAAAAALB3QAAAAAAAsHZAAAAAAAAQdkAAAAAAAABvQAAAAAAAwGlAAAAAAAAAYUAAAAAAAEBSQAAAAAAAAERAAAAAAAAA+H8AAAAAAAD4fw==\",\"dtype\":\"float64\",\"shape\":[107]}},\"selected\":{\"id\":\"36909\"},\"selection_policy\":{\"id\":\"36910\"}},\"id\":\"35815\",\"type\":\"ColumnDataSource\"},{\"attributes\":{\"days\":[1,15]},\"id\":\"36922\",\"type\":\"DaysTicker\"},{\"attributes\":{\"source\":{\"id\":\"35820\"}},\"id\":\"35824\",\"type\":\"CDSView\"},{\"attributes\":{},\"id\":\"36913\",\"type\":\"Selection\"},{\"attributes\":{\"end\":600},\"id\":\"35787\",\"type\":\"Range1d\"},{\"attributes\":{\"bottom\":{\"value\":1},\"fill_alpha\":{\"value\":0.1},\"fill_color\":{\"value\":\"red\"},\"left\":{\"field\":\"left\"},\"line_alpha\":{\"value\":0.1},\"line_color\":{\"value\":\"red\"},\"right\":{\"field\":\"right\"},\"top\":{\"field\":\"top\"}},\"id\":\"35827\",\"type\":\"Quad\"},{\"attributes\":{\"mantissas\":[1,2,5],\"max_interval\":500.0,\"num_minor_ticks\":0},\"id\":\"36916\",\"type\":\"AdaptiveTicker\"},{\"attributes\":{\"months\":[0,2,4,6,8,10]},\"id\":\"36924\",\"type\":\"MonthsTicker\"},{\"attributes\":{\"bottom\":{\"value\":1},\"fill_color\":{\"value\":\"green\"},\"left\":{\"field\":\"left\"},\"line_color\":{\"value\":\"green\"},\"right\":{\"field\":\"right\"},\"top\":{\"field\":\"top\"}},\"id\":\"35821\",\"type\":\"Quad\"},{\"attributes\":{\"end\":1587340800000.0,\"start\":1581638400000.0},\"id\":\"35785\",\"type\":\"Range1d\"},{\"attributes\":{\"data_source\":{\"id\":\"35820\"},\"glyph\":{\"id\":\"35821\"},\"hover_glyph\":null,\"muted_glyph\":null,\"nonselection_glyph\":{\"id\":\"35822\"},\"selection_glyph\":null,\"view\":{\"id\":\"35824\"}},\"id\":\"35823\",\"type\":\"GlyphRenderer\"},{\"attributes\":{\"data\":{\"left\":{\"__ndarray__\":\"AABA9Tv/dkIAAABbjv92QgAAwMDg/3ZCAACAJjMAd0IAAECMhQB3QgAAAPLXAHdCAADAVyoBd0IAAIC9fAF3QgAAQCPPAXdCAAAAiSECd0IAAMDucwJ3QgAAgFTGAndCAABAuhgDd0IAAAAgawN3QgAAwIW9A3dCAACA6w8Ed0IAAEBRYgR3QgAAALe0BHdCAADAHAcFd0IAAICCWQV3QgAAQOirBXdCAAAATv4Fd0IAAMCzUAZ3QgAAgBmjBndCAABAf/UGd0IAAADlRwd3QgAAwEqaB3dCAACAsOwHd0IAAEAWPwh3QgAAAHyRCHdCAADA4eMId0IAAIBHNgl3QgAAQK2ICXdCAAAAE9sJd0IAAMB4LQp3QgAAgN5/CndCAABARNIKd0IAAACqJAt3QgAAwA93C3dCAACAdckLd0IAAEDbGwx3QgAAAEFuDHdCAADApsAMd0IAAIAMEw13QgAAQHJlDXdCAAAA2LcNd0IAAMA9Cg53QgAAgKNcDndCAABACa8Od0IAAABvAQ93QgAAwNRTD3dCAACAOqYPd0IAAECg+A93QgAAAAZLEHdCAADAa50Qd0IAAIDR7xB3QgAAQDdCEXdCAAAAnZQRd0IAAMAC5xF3QgAAgGg5EndCAABAzosSd0IAAAA03hJ3QgAAwJkwE3dCAACA/4ITd0IAAEBl1RN3QgAAAMsnFHdCAADAMHoUd0IAAICWzBR3QgAAQPweFXdCAAAAYnEVd0IAAMDHwxV3QgAAgC0WFndCAABAk2gWd0IAAAD5uhZ3QgAAwF4NF3dCAACAxF8Xd0IAAEAqshd3QgAAAJAEGHdCAADA9VYYd0IAAIBbqRh3QgAAQMH7GHdCAAAAJ04Zd0IAAMCMoBl3QgAAgPLyGXdCAABAWEUad0IAAAC+lxp3QgAAwCPqGndCAACAiTwbd0IAAEDvjht3QgAAAFXhG3dCAADAujMcd0IAAIAghhx3QgAAQIbYHHdCAAAA7Codd0IAAMBRfR13QgAAgLfPHXdCAABAHSIed0IAAACDdB53QgAAwOjGHndCAACAThkfd0IAAEC0ax93QgAAABq+H3dCAADAfxAgd0IAAIDlYiB3QgAAQEu1IHdCAAAAsQchd0IAAMAWWiF3Qg==\",\"dtype\":\"float64\",\"shape\":[107]},\"right\":{\"__ndarray__\":\"AACgHYb/dkIAAGCD2P92QgAAIOkqAHdCAADgTn0Ad0IAAKC0zwB3QgAAYBoiAXdCAAAggHQBd0IAAODlxgF3QgAAoEsZAndCAABgsWsCd0IAACAXvgJ3QgAA4HwQA3dCAACg4mIDd0IAAGBItQN3QgAAIK4HBHdCAADgE1oEd0IAAKB5rAR3QgAAYN/+BHdCAAAgRVEFd0IAAOCqowV3QgAAoBD2BXdCAABgdkgGd0IAACDcmgZ3QgAA4EHtBndCAACgpz8Hd0IAAGANkgd3QgAAIHPkB3dCAADg2DYId0IAAKA+iQh3QgAAYKTbCHdCAAAgCi4Jd0IAAOBvgAl3QgAAoNXSCXdCAABgOyUKd0IAACChdwp3QgAA4AbKCndCAACgbBwLd0IAAGDSbgt3QgAAIDjBC3dCAADgnRMMd0IAAKADZgx3QgAAYGm4DHdCAAAgzwoNd0IAAOA0XQ13QgAAoJqvDXdCAABgAAIOd0IAACBmVA53QgAA4MumDndCAACgMfkOd0IAAGCXSw93QgAAIP2dD3dCAADgYvAPd0IAAKDIQhB3QgAAYC6VEHdCAAAglOcQd0IAAOD5ORF3QgAAoF+MEXdCAABgxd4Rd0IAACArMRJ3QgAA4JCDEndCAACg9tUSd0IAAGBcKBN3QgAAIMJ6E3dCAADgJ80Td0IAAKCNHxR3QgAAYPNxFHdCAAAgWcQUd0IAAOC+FhV3QgAAoCRpFXdCAABgirsVd0IAACDwDRZ3QgAA4FVgFndCAACgu7IWd0IAAGAhBRd3QgAAIIdXF3dCAADg7KkXd0IAAKBS/Bd3QgAAYLhOGHdCAAAgHqEYd0IAAOCD8xh3QgAAoOlFGXdCAABgT5gZd0IAACC16hl3QgAA4Bo9GndCAACggI8ad0IAAGDm4Rp3QgAAIEw0G3dCAADgsYYbd0IAAKAX2Rt3QgAAYH0rHHdCAAAg430cd0IAAOBI0Bx3QgAAoK4iHXdCAABgFHUdd0IAACB6xx13QgAA4N8ZHndCAACgRWwed0IAAGCrvh53QgAAIBERH3dCAADgdmMfd0IAAKDctR93QgAAYEIIIHdCAAAgqFogd0IAAOANrSB3QgAAoHP/IHdCAABg2VEhd0IAACA/pCF3Qg==\",\"dtype\":\"float64\",\"shape\":[107]},\"top\":{\"__ndarray__\":\"AAAAAAAA+H8AAAAAAAD4fwAAAAAAAPh/AAAAAAAA+H8AAAAAAAD4fwAAAAAAAPh/AAAAAAAA+H8AAAAAAAD4fwAAAAAAAPh/AAAAAAAA+H8AAAAAAAD4fwAAAAAAAPh/AAAAAAAA+H8AAAAAAAD4fwAAAAAAAPh/AAAAAAAA+H8AAAAAAAD4fwAAAAAAAPh/AAAAAAAA+H8AAAAAAAD4fwAAAAAAAPh/AAAAAAAA+H8AAAAAAADwPwAAAAAAAPA/AAAAAAAA+H8AAAAAAAD4fwAAAAAAAPh/AAAAAAAA8D8AAAAAAADwPwAAAAAAAPh/AAAAAAAA+H8AAAAAAAD4fwAAAAAAAPA/AAAAAAAAEEAAAAAAAADwPwAAAAAAAPh/AAAAAAAA8D8AAAAAAADwPwAAAAAAAPh/AAAAAAAAIEAAAAAAAAAAQAAAAAAAABhAAAAAAAAAEEAAAAAAAAAQQAAAAAAAACZAAAAAAAAAKEAAAAAAAAAqQAAAAAAAAChAAAAAAAAAJEAAAAAAAAAmQAAAAAAAAD1AAAAAAAAANkAAAAAAAAA2QAAAAAAAgEBAAAAAAAAAM0AAAAAAAABAQAAAAAAAAEtAAAAAAACAQ0AAAAAAAIBDQAAAAAAAAEdAAAAAAACAUkAAAAAAAIBJQAAAAAAAAFdAAAAAAADAU0AAAAAAAIBUQAAAAAAAAFNAAAAAAAAAT0AAAAAAAIBdQAAAAAAAwFlAAAAAAAAAXUAAAAAAAEBZQAAAAAAAYGhAAAAAAABAYEAAAAAAAOBhQAAAAAAAIGVAAAAAAACAYkAAAAAAAKBtQAAAAAAA4GtAAAAAAAAAbEAAAAAAABBwQAAAAAAAoG1AAAAAAADQdEAAAAAAACBsQAAAAAAAYGtAAAAAAABgbkAAAAAAAEBwQAAAAAAA0HBAAAAAAABgb0AAAAAAAEBxQAAAAAAAQG5AAAAAAADAZkAAAAAAAMBwQAAAAAAAwHJAAAAAAACAY0AAAAAAAMBjQAAAAAAA4GpAAAAAAADAZEAAAAAAAEBgQAAAAAAAAF9AAAAAAADAWEAAAAAAAABPQAAAAAAAgExAAAAAAAAAN0AAAAAAAAAYQAAAAAAAAABAAAAAAAAA+H8AAAAAAAD4fw==\",\"dtype\":\"float64\",\"shape\":[107]}},\"selected\":{\"id\":\"36911\"},\"selection_policy\":{\"id\":\"36912\"}},\"id\":\"35820\",\"type\":\"ColumnDataSource\"},{\"attributes\":{\"data_source\":{\"id\":\"35815\"},\"glyph\":{\"id\":\"35816\"},\"hover_glyph\":null,\"muted_glyph\":null,\"nonselection_glyph\":{\"id\":\"35817\"},\"selection_glyph\":null,\"view\":{\"id\":\"35819\"}},\"id\":\"35818\",\"type\":\"GlyphRenderer\"},{\"attributes\":{},\"id\":\"35791\",\"type\":\"LinearScale\"},{\"attributes\":{},\"id\":\"35802\",\"type\":\"WheelZoomTool\"},{\"attributes\":{},\"id\":\"35805\",\"type\":\"ResetTool\"},{\"attributes\":{\"base\":60,\"mantissas\":[1,2,5,10,15,20,30],\"max_interval\":1800000.0,\"min_interval\":1000.0,\"num_minor_ticks\":0},\"id\":\"36917\",\"type\":\"AdaptiveTicker\"},{\"attributes\":{},\"id\":\"36927\",\"type\":\"YearsTicker\"},{\"attributes\":{\"data\":{\"left\":{\"__ndarray__\":\"AABA9Tv/dkIAAABbjv92QgAAwMDg/3ZCAACAJjMAd0IAAECMhQB3QgAAAPLXAHdCAADAVyoBd0IAAIC9fAF3QgAAQCPPAXdCAAAAiSECd0IAAMDucwJ3QgAAgFTGAndCAABAuhgDd0IAAAAgawN3QgAAwIW9A3dCAACA6w8Ed0IAAEBRYgR3QgAAALe0BHdCAADAHAcFd0IAAICCWQV3QgAAQOirBXdCAAAATv4Fd0IAAMCzUAZ3QgAAgBmjBndCAABAf/UGd0IAAADlRwd3QgAAwEqaB3dCAACAsOwHd0IAAEAWPwh3QgAAAHyRCHdCAADA4eMId0IAAIBHNgl3QgAAQK2ICXdCAAAAE9sJd0IAAMB4LQp3QgAAgN5/CndCAABARNIKd0IAAACqJAt3QgAAwA93C3dCAACAdckLd0IAAEDbGwx3QgAAAEFuDHdCAADApsAMd0IAAIAMEw13QgAAQHJlDXdCAAAA2LcNd0IAAMA9Cg53QgAAgKNcDndCAABACa8Od0IAAABvAQ93QgAAwNRTD3dCAACAOqYPd0IAAECg+A93QgAAAAZLEHdCAADAa50Qd0IAAIDR7xB3QgAAQDdCEXdCAAAAnZQRd0IAAMAC5xF3QgAAgGg5EndCAABAzosSd0IAAAA03hJ3QgAAwJkwE3dCAACA/4ITd0IAAEBl1RN3QgAAAMsnFHdCAADAMHoUd0IAAICWzBR3QgAAQPweFXdCAAAAYnEVd0IAAMDHwxV3QgAAgC0WFndCAABAk2gWd0IAAAD5uhZ3QgAAwF4NF3dCAACAxF8Xd0IAAEAqshd3QgAAAJAEGHdCAADA9VYYd0IAAIBbqRh3QgAAQMH7GHdCAAAAJ04Zd0IAAMCMoBl3QgAAgPLyGXdCAABAWEUad0IAAAC+lxp3QgAAwCPqGndCAACAiTwbd0IAAEDvjht3QgAAAFXhG3dCAADAujMcd0IAAIAghhx3QgAAQIbYHHdCAAAA7Codd0IAAMBRfR13QgAAgLfPHXdCAABAHSIed0IAAACDdB53QgAAwOjGHndCAACAThkfd0IAAEC0ax93QgAAABq+H3dCAADAfxAgd0IAAIDlYiB3QgAAQEu1IHdCAAAAsQchd0IAAMAWWiF3Qg==\",\"dtype\":\"float64\",\"shape\":[107]},\"right\":{\"__ndarray__\":\"AACgHYb/dkIAAGCD2P92QgAAIOkqAHdCAADgTn0Ad0IAAKC0zwB3QgAAYBoiAXdCAAAggHQBd0IAAODlxgF3QgAAoEsZAndCAABgsWsCd0IAACAXvgJ3QgAA4HwQA3dCAACg4mIDd0IAAGBItQN3QgAAIK4HBHdCAADgE1oEd0IAAKB5rAR3QgAAYN/+BHdCAAAgRVEFd0IAAOCqowV3QgAAoBD2BXdCAABgdkgGd0IAACDcmgZ3QgAA4EHtBndCAACgpz8Hd0IAAGANkgd3QgAAIHPkB3dCAADg2DYId0IAAKA+iQh3QgAAYKTbCHdCAAAgCi4Jd0IAAOBvgAl3QgAAoNXSCXdCAABgOyUKd0IAACChdwp3QgAA4AbKCndCAACgbBwLd0IAAGDSbgt3QgAAIDjBC3dCAADgnRMMd0IAAKADZgx3QgAAYGm4DHdCAAAgzwoNd0IAAOA0XQ13QgAAoJqvDXdCAABgAAIOd0IAACBmVA53QgAA4MumDndCAACgMfkOd0IAAGCXSw93QgAAIP2dD3dCAADgYvAPd0IAAKDIQhB3QgAAYC6VEHdCAAAglOcQd0IAAOD5ORF3QgAAoF+MEXdCAABgxd4Rd0IAACArMRJ3QgAA4JCDEndCAACg9tUSd0IAAGBcKBN3QgAAIMJ6E3dCAADgJ80Td0IAAKCNHxR3QgAAYPNxFHdCAAAgWcQUd0IAAOC+FhV3QgAAoCRpFXdCAABgirsVd0IAACDwDRZ3QgAA4FVgFndCAACgu7IWd0IAAGAhBRd3QgAAIIdXF3dCAADg7KkXd0IAAKBS/Bd3QgAAYLhOGHdCAAAgHqEYd0IAAOCD8xh3QgAAoOlFGXdCAABgT5gZd0IAACC16hl3QgAA4Bo9GndCAACggI8ad0IAAGDm4Rp3QgAAIEw0G3dCAADgsYYbd0IAAKAX2Rt3QgAAYH0rHHdCAAAg430cd0IAAOBI0Bx3QgAAoK4iHXdCAABgFHUdd0IAACB6xx13QgAA4N8ZHndCAACgRWwed0IAAGCrvh53QgAAIBERH3dCAADgdmMfd0IAAKDctR93QgAAYEIIIHdCAAAgqFogd0IAAOANrSB3QgAAoHP/IHdCAABg2VEhd0IAACA/pCF3Qg==\",\"dtype\":\"float64\",\"shape\":[107]},\"top\":{\"__ndarray__\":\"AAAAAAAA+H8AAAAAAAD4fwAAAAAAAPh/AAAAAAAA+H8AAAAAAAD4fwAAAAAAAPh/AAAAAAAA+H8AAAAAAAD4fwAAAAAAAPh/AAAAAAAA+H8AAAAAAAD4fwAAAAAAAPh/AAAAAAAA+H8AAAAAAAD4fwAAAAAAAPh/AAAAAAAA+H8AAAAAAAD4fwAAAAAAAPh/AAAAAAAA+H8AAAAAAAD4fwAAAAAAAPh/AAAAAAAA+H8AAAAAAAD4fwAAAAAAAPh/AAAAAAAA+H8AAAAAAAD4fwAAAAAAAPh/AAAAAAAA+H8AAAAAAAD4fwAAAAAAAPh/AAAAAAAA+H8AAAAAAAD4fwAAAAAAAPh/AAAAAAAA+H8AAAAAAAD4fwAAAAAAAPh/AAAAAAAA+H8AAAAAAAD4fwAAAAAAAPh/AAAAAAAA+H8AAAAAAAD4fwAAAAAAAPh/AAAAAAAA+H8AAAAAAAD4fwAAAAAAAPh/AAAAAAAA+H8AAAAAAAD4fwAAAAAAAPh/AAAAAAAA8D8AAAAAAAD4fwAAAAAAAPh/AAAAAAAA+H8AAAAAAADwPwAAAAAAAPA/AAAAAAAA+H8AAAAAAADwPwAAAAAAAAhAAAAAAAAACEAAAAAAAAAQQAAAAAAAAAhAAAAAAAAAFEAAAAAAAAAgQAAAAAAAABhAAAAAAAAAIkAAAAAAAAAkQAAAAAAAACJAAAAAAAAAIEAAAAAAAAA0QAAAAAAAADJAAAAAAAAAJkAAAAAAAAAzQAAAAAAAADlAAAAAAAAAPUAAAAAAAAAyQAAAAAAAADVAAAAAAAAAPkAAAAAAAIBBQAAAAAAAAD9AAAAAAAAANkAAAAAAAIBBQAAAAAAAAEFAAAAAAACAQUAAAAAAAIBGQAAAAAAAgEJAAAAAAACAQUAAAAAAAABKQAAAAAAAgEtAAAAAAACAT0AAAAAAAIBGQAAAAAAAAERAAAAAAAAAT0AAAAAAAEBRQAAAAAAAAFFAAAAAAAAATkAAAAAAAEBRQAAAAAAAgEpAAAAAAACATkAAAAAAAIBIQAAAAAAAgERAAAAAAAAAREAAAAAAAIBFQAAAAAAAAEVAAAAAAACAQEAAAAAAAIBAQAAAAAAAADhAAAAAAAAAIEAAAAAAAAD4fw==\",\"dtype\":\"float64\",\"shape\":[107]}},\"selected\":{\"id\":\"36913\"},\"selection_policy\":{\"id\":\"36914\"}},\"id\":\"35825\",\"type\":\"ColumnDataSource\"},{\"attributes\":{},\"id\":\"36909\",\"type\":\"Selection\"},{\"attributes\":{\"data_source\":{\"id\":\"35825\"},\"glyph\":{\"id\":\"35826\"},\"hover_glyph\":null,\"muted_glyph\":null,\"nonselection_glyph\":{\"id\":\"35827\"},\"selection_glyph\":null,\"view\":{\"id\":\"35829\"}},\"id\":\"35828\",\"type\":\"GlyphRenderer\"},{\"attributes\":{\"bottom\":{\"value\":1},\"fill_alpha\":{\"value\":0.1},\"fill_color\":{\"value\":\"#1f77b4\"},\"left\":{\"field\":\"left\"},\"line_alpha\":{\"value\":0.1},\"line_color\":{\"value\":\"#1f77b4\"},\"right\":{\"field\":\"right\"},\"top\":{\"field\":\"top\"}},\"id\":\"35817\",\"type\":\"Quad\"},{\"attributes\":{\"months\":[0,6]},\"id\":\"36926\",\"type\":\"MonthsTicker\"},{\"attributes\":{\"text\":\"\"},\"id\":\"36904\",\"type\":\"Title\"},{\"attributes\":{},\"id\":\"35806\",\"type\":\"HelpTool\"},{\"attributes\":{\"source\":{\"id\":\"35815\"}},\"id\":\"35819\",\"type\":\"CDSView\"},{\"attributes\":{\"num_minor_ticks\":5,\"tickers\":[{\"id\":\"36916\"},{\"id\":\"36917\"},{\"id\":\"36918\"},{\"id\":\"36919\"},{\"id\":\"36920\"},{\"id\":\"36921\"},{\"id\":\"36922\"},{\"id\":\"36923\"},{\"id\":\"36924\"},{\"id\":\"36925\"},{\"id\":\"36926\"},{\"id\":\"36927\"}]},\"id\":\"35794\",\"type\":\"DatetimeTicker\"},{\"attributes\":{\"days\":[1,2,3,4,5,6,7,8,9,10,11,12,13,14,15,16,17,18,19,20,21,22,23,24,25,26,27,28,29,30,31]},\"id\":\"36919\",\"type\":\"DaysTicker\"},{\"attributes\":{\"formatter\":{\"id\":\"36905\"},\"ticker\":{\"id\":\"35794\"}},\"id\":\"35793\",\"type\":\"DatetimeAxis\"},{\"attributes\":{\"bottom_units\":\"screen\",\"fill_alpha\":0.5,\"fill_color\":\"lightgrey\",\"left_units\":\"screen\",\"level\":\"overlay\",\"line_alpha\":1.0,\"line_color\":\"black\",\"line_dash\":[4,4],\"line_width\":2,\"render_mode\":\"css\",\"right_units\":\"screen\",\"top_units\":\"screen\"},\"id\":\"35807\",\"type\":\"BoxAnnotation\"},{\"attributes\":{\"days\":[1,4,7,10,13,16,19,22,25,28]},\"id\":\"36920\",\"type\":\"DaysTicker\"},{\"attributes\":{},\"id\":\"36914\",\"type\":\"UnionRenderers\"},{\"attributes\":{},\"id\":\"36905\",\"type\":\"DatetimeTickFormatter\"},{\"attributes\":{\"days\":[1,8,15,22]},\"id\":\"36921\",\"type\":\"DaysTicker\"},{\"attributes\":{\"months\":[0,4,8]},\"id\":\"36925\",\"type\":\"MonthsTicker\"},{\"attributes\":{\"formatter\":{\"id\":\"36907\"},\"ticker\":{\"id\":\"35798\"}},\"id\":\"35797\",\"type\":\"LinearAxis\"},{\"attributes\":{\"source\":{\"id\":\"35825\"}},\"id\":\"35829\",\"type\":\"CDSView\"},{\"attributes\":{\"bottom\":{\"value\":1},\"fill_color\":{\"value\":\"red\"},\"left\":{\"field\":\"left\"},\"line_color\":{\"value\":\"red\"},\"right\":{\"field\":\"right\"},\"top\":{\"field\":\"top\"}},\"id\":\"35826\",\"type\":\"Quad\"},{\"attributes\":{\"overlay\":{\"id\":\"35807\"}},\"id\":\"35803\",\"type\":\"BoxZoomTool\"},{\"attributes\":{\"active_drag\":\"auto\",\"active_inspect\":\"auto\",\"active_multi\":null,\"active_scroll\":\"auto\",\"active_tap\":\"auto\",\"tools\":[{\"id\":\"35801\"},{\"id\":\"35802\"},{\"id\":\"35803\"},{\"id\":\"35804\"},{\"id\":\"35805\"},{\"id\":\"35806\"}]},\"id\":\"35808\",\"type\":\"Toolbar\"},{\"attributes\":{\"axis\":{\"id\":\"35797\"},\"dimension\":1,\"ticker\":null},\"id\":\"35800\",\"type\":\"Grid\"}],\"root_ids\":[\"35784\"]},\"title\":\"Bokeh Application\",\"version\":\"2.0.1\"}};\n",
       "  var render_items = [{\"docid\":\"bdd3730b-d0b0-4392-8627-3c385aa3f577\",\"root_ids\":[\"35784\"],\"roots\":{\"35784\":\"441a2685-a25d-4a6a-bbd0-a3fba4317c68\"}}];\n",
       "  root.Bokeh.embed.embed_items_notebook(docs_json, render_items);\n",
       "\n",
       "  }\n",
       "  if (root.Bokeh !== undefined) {\n",
       "    embed_document(root);\n",
       "  } else {\n",
       "    var attempts = 0;\n",
       "    var timer = setInterval(function(root) {\n",
       "      if (root.Bokeh !== undefined) {\n",
       "        clearInterval(timer);\n",
       "        embed_document(root);\n",
       "      } else {\n",
       "        attempts++;\n",
       "        if (attempts > 100) {\n",
       "          clearInterval(timer);\n",
       "          console.log(\"Bokeh: ERROR: Unable to run BokehJS code because BokehJS library is missing\");\n",
       "        }\n",
       "      }\n",
       "    }, 10, root)\n",
       "  }\n",
       "})(window);"
      ],
      "application/vnd.bokehjs_exec.v0+json": ""
     },
     "metadata": {
      "application/vnd.bokehjs_exec.v0+json": {
       "id": "35784"
      }
     },
     "output_type": "display_data"
    }
   ],
   "source": [
    "bpl.show(s0)"
   ]
  },
  {
   "cell_type": "markdown",
   "metadata": {},
   "source": [
    "Definición de función para evaluar el modelo en función de R_0 y calculando el error a los datos reales. esto es la función que usaremos para ajustar R_0 a los datos. Se puede seguir una estrategia similar si se desean ajustar más parámetros. Dos parámetros son importantes, los pesos, el primero 't_pesos' indica si el error entre los datos y el modelo es pesado dando prioridad a los datos que estén más cercanos al último día de ajuste. El segundo indica los pesos para cada una de las series a ajustar, las series a ajustar hasta el momento son Confirmados acumulados, Defunciones acumuladas, Casos graves. Se consideran varias series para tratar de quitar dependencia a la tasa de detección de casos."
   ]
  },
  {
   "cell_type": "code",
   "execution_count": 893,
   "metadata": {},
   "outputs": [],
   "source": [
    "def evaluador(R_0, casos, N, dias_prediccion=0,t_pesos=True,pesos_ajuste_CDG=[1,1,1],regresar_solucion=False):\n",
    "    inicio = casos.index[0]\n",
    "    n_infected = casos[\"Confirmados\"].fillna(0)[inicio]\n",
    "    max_days = len(casos) + dias_prediccion\n",
    "    tiempos = pd.date_range(start=inicio, periods=max_days).values\n",
    "    serie_tiempos = pd.Series(tiempos)\n",
    "    \n",
    "    initial_state = [(N - n_infected)/ N, 0, n_infected / N, 0, 0, 0, 0, 0, 0]\n",
    "\n",
    "    t_inf=2.9\n",
    "    t_inc=5.2\n",
    "    t_rh=12\n",
    "    t_rl=14\n",
    "    t_hosp=4\n",
    "    t_icu=1\n",
    "    t_ricu = 7\n",
    "    t_m=8\n",
    "    p_m=0.65\n",
    "    p_grave=0.138\n",
    "    p_icu=0.05\n",
    "    \n",
    "    args = (R_0, t_inf, t_inc, t_rh, t_rl, t_hosp, t_icu, t_ricu, t_m, p_m, p_grave, p_icu)\n",
    "    \n",
    "    sol = solve_ivp(CDMX_model, [0, max_days], initial_state, args=args, t_eval=np.arange(max_days))\n",
    "    \n",
    "    labels = [\"Susceptibles\",\"Expuestos\",\"Infectados\",\"Leves\",\"Graves\",\"Hospitalizados\",\"ICUs\",\"Recuperados\",\"Defunciones\"]\n",
    "    \n",
    "    solucion = pd.DataFrame(sol.y.T*N,columns=labels,index=tiempos)\n",
    "    solucion[\"Defunciones\"] = np.clip(solucion[\"Defunciones\"],0,np.inf)\n",
    "    solucion[\"Graves\"] = np.clip(solucion[\"Graves\"],0,np.inf)\n",
    "    solucion[\"Confirmados_acumulados\"] = np.clip(solucion[[\"Infectados\",\"Leves\",\"Graves\",\"Hospitalizados\",\"ICUs\",\"Recuperados\",\"Defunciones\"]].sum(axis=1),0,np.inf)\n",
    "    \n",
    "    if t_pesos:\n",
    "        pesos = pd.Series(1/((casos.index-casos.index[-1]).days*-1+1),index=casos.index)\n",
    "    else:\n",
    "        pesos = pd.Series(1,index=casos.index)\n",
    "    \n",
    "    error_confirmados = mean_squared_log_error(casos[\"Confirmados_acumulados\"],solucion[\"Confirmados_acumulados\"][casos.index].fillna(0),pesos)\n",
    "    error_decesos = mean_squared_log_error(casos[\"Decesos_acumulados\"],solucion[\"Defunciones\"][casos.index].fillna(0),pesos)\n",
    "    error_graves = mean_squared_log_error(casos[\"Graves\"].fillna(0),solucion[\"Graves\"][casos.index].fillna(0),pesos)\n",
    "    \n",
    "    errores = [error_confirmados,error_decesos,error_graves]\n",
    "        \n",
    "    error_final = np.dot(pesos_ajuste_CDG,errores)/len(errores)\n",
    "    \n",
    "    if regresar_solucion:\n",
    "        return error_final, solucion\n",
    "    else:\n",
    "        return error_final"
   ]
  },
  {
   "cell_type": "markdown",
   "metadata": {},
   "source": [
    "Ejecución del modelo con la R_0 que reportan en CDMX"
   ]
  },
  {
   "cell_type": "code",
   "execution_count": 894,
   "metadata": {},
   "outputs": [],
   "source": [
    "fecini = pd.Timestamp(\"2020-02-17\")\n",
    "fecfin = pd.Timestamp(\"2020-03-22\")\n",
    "dias_pred = 0\n",
    "fecpred = fecfin + pd.Timedelta(str(dias_pred) + \" days\")"
   ]
  },
  {
   "cell_type": "code",
   "execution_count": 895,
   "metadata": {},
   "outputs": [],
   "source": [
    "casos_filt = casos.loc[fecini:fecfin,:]\n",
    "casos_pred = casos.loc[fecfin:fecpred,:]"
   ]
  },
  {
   "cell_type": "code",
   "execution_count": 896,
   "metadata": {},
   "outputs": [],
   "source": [
    "error, solucion = evaluador(2.83,casos_filt,poblacion,dias_pred,True,[1,1,1],True)"
   ]
  },
  {
   "cell_type": "code",
   "execution_count": 897,
   "metadata": {},
   "outputs": [
    {
     "data": {
      "text/html": [
       "<div>\n",
       "<style scoped>\n",
       "    .dataframe tbody tr th:only-of-type {\n",
       "        vertical-align: middle;\n",
       "    }\n",
       "\n",
       "    .dataframe tbody tr th {\n",
       "        vertical-align: top;\n",
       "    }\n",
       "\n",
       "    .dataframe thead th {\n",
       "        text-align: right;\n",
       "    }\n",
       "</style>\n",
       "<table border=\"1\" class=\"dataframe\">\n",
       "  <thead>\n",
       "    <tr style=\"text-align: right;\">\n",
       "      <th></th>\n",
       "      <th>Susceptibles</th>\n",
       "      <th>Expuestos</th>\n",
       "      <th>Infectados</th>\n",
       "      <th>Leves</th>\n",
       "      <th>Graves</th>\n",
       "      <th>Hospitalizados</th>\n",
       "      <th>ICUs</th>\n",
       "      <th>Recuperados</th>\n",
       "      <th>Defunciones</th>\n",
       "      <th>Confirmados_acumulados</th>\n",
       "    </tr>\n",
       "  </thead>\n",
       "  <tbody>\n",
       "    <tr>\n",
       "      <th>2020-03-13</th>\n",
       "      <td>2.194249e+07</td>\n",
       "      <td>94.429766</td>\n",
       "      <td>22.453868</td>\n",
       "      <td>40.089829</td>\n",
       "      <td>4.155192</td>\n",
       "      <td>2.476061</td>\n",
       "      <td>0.491450</td>\n",
       "      <td>15.911853</td>\n",
       "      <td>0.200822</td>\n",
       "      <td>85.779076</td>\n",
       "    </tr>\n",
       "    <tr>\n",
       "      <th>2020-03-14</th>\n",
       "      <td>2.194245e+07</td>\n",
       "      <td>115.509113</td>\n",
       "      <td>24.829087</td>\n",
       "      <td>48.437636</td>\n",
       "      <td>5.120220</td>\n",
       "      <td>2.857577</td>\n",
       "      <td>0.590958</td>\n",
       "      <td>18.895404</td>\n",
       "      <td>0.240394</td>\n",
       "      <td>100.971276</td>\n",
       "    </tr>\n",
       "    <tr>\n",
       "      <th>2020-03-15</th>\n",
       "      <td>2.194243e+07</td>\n",
       "      <td>109.814858</td>\n",
       "      <td>43.892366</td>\n",
       "      <td>50.764954</td>\n",
       "      <td>4.579414</td>\n",
       "      <td>4.038075</td>\n",
       "      <td>0.645964</td>\n",
       "      <td>23.124735</td>\n",
       "      <td>0.294642</td>\n",
       "      <td>127.340152</td>\n",
       "    </tr>\n",
       "    <tr>\n",
       "      <th>2020-03-16</th>\n",
       "      <td>2.194240e+07</td>\n",
       "      <td>103.150645</td>\n",
       "      <td>66.472978</td>\n",
       "      <td>53.550848</td>\n",
       "      <td>3.942646</td>\n",
       "      <td>5.437200</td>\n",
       "      <td>0.711408</td>\n",
       "      <td>28.144217</td>\n",
       "      <td>0.359067</td>\n",
       "      <td>158.618364</td>\n",
       "    </tr>\n",
       "    <tr>\n",
       "      <th>2020-03-17</th>\n",
       "      <td>2.194234e+07</td>\n",
       "      <td>145.694737</td>\n",
       "      <td>66.588035</td>\n",
       "      <td>69.308553</td>\n",
       "      <td>5.956870</td>\n",
       "      <td>5.902225</td>\n",
       "      <td>0.892593</td>\n",
       "      <td>32.973024</td>\n",
       "      <td>0.423692</td>\n",
       "      <td>182.044992</td>\n",
       "    </tr>\n",
       "    <tr>\n",
       "      <th>2020-03-18</th>\n",
       "      <td>2.194225e+07</td>\n",
       "      <td>210.760782</td>\n",
       "      <td>59.015478</td>\n",
       "      <td>91.606376</td>\n",
       "      <td>9.147570</td>\n",
       "      <td>6.108695</td>\n",
       "      <td>1.137493</td>\n",
       "      <td>38.378160</td>\n",
       "      <td>0.496995</td>\n",
       "      <td>205.890768</td>\n",
       "    </tr>\n",
       "    <tr>\n",
       "      <th>2020-03-19</th>\n",
       "      <td>2.194217e+07</td>\n",
       "      <td>249.298117</td>\n",
       "      <td>70.479471</td>\n",
       "      <td>108.520032</td>\n",
       "      <td>10.810642</td>\n",
       "      <td>7.269758</td>\n",
       "      <td>1.348664</td>\n",
       "      <td>45.657233</td>\n",
       "      <td>0.593105</td>\n",
       "      <td>244.678905</td>\n",
       "    </tr>\n",
       "    <tr>\n",
       "      <th>2020-03-20</th>\n",
       "      <td>2.194211e+07</td>\n",
       "      <td>256.973438</td>\n",
       "      <td>104.220073</td>\n",
       "      <td>119.200347</td>\n",
       "      <td>10.694688</td>\n",
       "      <td>9.549849</td>\n",
       "      <td>1.521139</td>\n",
       "      <td>55.149690</td>\n",
       "      <td>0.716175</td>\n",
       "      <td>301.051961</td>\n",
       "    </tr>\n",
       "    <tr>\n",
       "      <th>2020-03-21</th>\n",
       "      <td>2.194203e+07</td>\n",
       "      <td>273.502775</td>\n",
       "      <td>140.351787</td>\n",
       "      <td>133.709692</td>\n",
       "      <td>10.964278</td>\n",
       "      <td>12.080862</td>\n",
       "      <td>1.741085</td>\n",
       "      <td>66.253119</td>\n",
       "      <td>0.860559</td>\n",
       "      <td>365.961383</td>\n",
       "    </tr>\n",
       "    <tr>\n",
       "      <th>2020-03-22</th>\n",
       "      <td>2.194189e+07</td>\n",
       "      <td>349.947034</td>\n",
       "      <td>153.172125</td>\n",
       "      <td>164.953083</td>\n",
       "      <td>14.404256</td>\n",
       "      <td>13.737811</td>\n",
       "      <td>2.118716</td>\n",
       "      <td>78.158090</td>\n",
       "      <td>1.018547</td>\n",
       "      <td>427.562628</td>\n",
       "    </tr>\n",
       "  </tbody>\n",
       "</table>\n",
       "</div>"
      ],
      "text/plain": [
       "            Susceptibles   Expuestos  Infectados       Leves     Graves  \\\n",
       "2020-03-13  2.194249e+07   94.429766   22.453868   40.089829   4.155192   \n",
       "2020-03-14  2.194245e+07  115.509113   24.829087   48.437636   5.120220   \n",
       "2020-03-15  2.194243e+07  109.814858   43.892366   50.764954   4.579414   \n",
       "2020-03-16  2.194240e+07  103.150645   66.472978   53.550848   3.942646   \n",
       "2020-03-17  2.194234e+07  145.694737   66.588035   69.308553   5.956870   \n",
       "2020-03-18  2.194225e+07  210.760782   59.015478   91.606376   9.147570   \n",
       "2020-03-19  2.194217e+07  249.298117   70.479471  108.520032  10.810642   \n",
       "2020-03-20  2.194211e+07  256.973438  104.220073  119.200347  10.694688   \n",
       "2020-03-21  2.194203e+07  273.502775  140.351787  133.709692  10.964278   \n",
       "2020-03-22  2.194189e+07  349.947034  153.172125  164.953083  14.404256   \n",
       "\n",
       "            Hospitalizados      ICUs  Recuperados  Defunciones  \\\n",
       "2020-03-13        2.476061  0.491450    15.911853     0.200822   \n",
       "2020-03-14        2.857577  0.590958    18.895404     0.240394   \n",
       "2020-03-15        4.038075  0.645964    23.124735     0.294642   \n",
       "2020-03-16        5.437200  0.711408    28.144217     0.359067   \n",
       "2020-03-17        5.902225  0.892593    32.973024     0.423692   \n",
       "2020-03-18        6.108695  1.137493    38.378160     0.496995   \n",
       "2020-03-19        7.269758  1.348664    45.657233     0.593105   \n",
       "2020-03-20        9.549849  1.521139    55.149690     0.716175   \n",
       "2020-03-21       12.080862  1.741085    66.253119     0.860559   \n",
       "2020-03-22       13.737811  2.118716    78.158090     1.018547   \n",
       "\n",
       "            Confirmados_acumulados  \n",
       "2020-03-13               85.779076  \n",
       "2020-03-14              100.971276  \n",
       "2020-03-15              127.340152  \n",
       "2020-03-16              158.618364  \n",
       "2020-03-17              182.044992  \n",
       "2020-03-18              205.890768  \n",
       "2020-03-19              244.678905  \n",
       "2020-03-20              301.051961  \n",
       "2020-03-21              365.961383  \n",
       "2020-03-22              427.562628  "
      ]
     },
     "execution_count": 897,
     "metadata": {},
     "output_type": "execute_result"
    }
   ],
   "source": [
    "solucion[-10:]"
   ]
  },
  {
   "cell_type": "markdown",
   "metadata": {},
   "source": [
    "Graficado de la solución, se puede apreciar que el valor de R_0 no refleja bien el crecimiento que tienen los datos reales"
   ]
  },
  {
   "cell_type": "code",
   "execution_count": 925,
   "metadata": {},
   "outputs": [],
   "source": [
    "p = bpl.figure(x_axis_type=\"datetime\",plot_width=800,plot_height=600,title=\"Modelo CDMX\")"
   ]
  },
  {
   "cell_type": "code",
   "execution_count": 926,
   "metadata": {},
   "outputs": [],
   "source": [
    "p.line(x=casos_filt.index,y=casos_filt[\"Confirmados_acumulados\"],color=\"#0B9A53\",line_width=3,legend_label=\"Casos a ajustar\",line_dash=\"dashed\")\n",
    "p.line(x=casos_pred.index,y=casos_pred[\"Confirmados_acumulados\"],color=\"#3999E4\",line_width=3,legend_label=\"Casos a predecir\",line_dash=\"dotted\")\n",
    "p.line(x=solucion.index,y=solucion[\"Confirmados_acumulados\"],color=\"#9B0E63\",line_width=3,legend_label=\"Casos confirmados, modelo R_0 = \" + str(R_0))\n",
    "for label in [\"Infectados\",\"Leves\",\"Graves\",\"Hospitalizados\",\"ICUs\",\"Recuperados\",\"Defunciones\"]:\n",
    "    p.line(x=solucion.index,y=solucion[label],color=colores[label],line_width=3,legend_label=label)"
   ]
  },
  {
   "cell_type": "code",
   "execution_count": 927,
   "metadata": {},
   "outputs": [],
   "source": [
    "p.xaxis.axis_label = 'Fecha'\n",
    "p.yaxis.axis_label = 'Casos'\n",
    "p.legend.location = \"top_left\""
   ]
  },
  {
   "cell_type": "code",
   "execution_count": 928,
   "metadata": {},
   "outputs": [
    {
     "data": {
      "text/html": [
       "\n",
       "\n",
       "\n",
       "\n",
       "\n",
       "\n",
       "  <div class=\"bk-root\" id=\"d56f8c39-38ac-4993-9a71-5049d5a72728\" data-root-id=\"178916\"></div>\n"
      ]
     },
     "metadata": {},
     "output_type": "display_data"
    },
    {
     "data": {
      "application/javascript": [
       "(function(root) {\n",
       "  function embed_document(root) {\n",
       "    \n",
       "  var docs_json = {\"ca24e738-f6f9-47b9-970c-8942f1e662f8\":{\"roots\":{\"references\":[{\"attributes\":{\"below\":[{\"id\":\"178927\"}],\"center\":[{\"id\":\"178930\"},{\"id\":\"178934\"},{\"id\":\"178972\"}],\"left\":[{\"id\":\"178931\"}],\"plot_width\":800,\"renderers\":[{\"id\":\"178952\"},{\"id\":\"178977\"},{\"id\":\"179003\"},{\"id\":\"179031\"},{\"id\":\"179061\"},{\"id\":\"179093\"},{\"id\":\"179127\"},{\"id\":\"179163\"},{\"id\":\"179201\"},{\"id\":\"179241\"}],\"title\":{\"id\":\"178917\"},\"toolbar\":{\"id\":\"178942\"},\"x_range\":{\"id\":\"178919\"},\"x_scale\":{\"id\":\"178923\"},\"y_range\":{\"id\":\"178921\"},\"y_scale\":{\"id\":\"178925\"}},\"id\":\"178916\",\"subtype\":\"Figure\",\"type\":\"Plot\"},{\"attributes\":{},\"id\":\"179145\",\"type\":\"UnionRenderers\"},{\"attributes\":{\"label\":{\"value\":\"Defunciones\"},\"renderers\":[{\"id\":\"179241\"}]},\"id\":\"179279\",\"type\":\"LegendItem\"},{\"attributes\":{\"line_color\":\"#CC4C02\",\"line_width\":3,\"x\":{\"field\":\"x\"},\"y\":{\"field\":\"y\"}},\"id\":\"179125\",\"type\":\"Line\"},{\"attributes\":{\"overlay\":{\"id\":\"178941\"}},\"id\":\"178937\",\"type\":\"BoxZoomTool\"},{\"attributes\":{},\"id\":\"178939\",\"type\":\"ResetTool\"},{\"attributes\":{\"days\":[1,15]},\"id\":\"178966\",\"type\":\"DaysTicker\"},{\"attributes\":{\"data_source\":{\"id\":\"179058\"},\"glyph\":{\"id\":\"179059\"},\"hover_glyph\":null,\"muted_glyph\":null,\"nonselection_glyph\":{\"id\":\"179060\"},\"selection_glyph\":null,\"view\":{\"id\":\"179062\"}},\"id\":\"179061\",\"type\":\"GlyphRenderer\"},{\"attributes\":{\"line_alpha\":0.1,\"line_color\":\"#0B9A53\",\"line_dash\":[6],\"line_width\":3,\"x\":{\"field\":\"x\"},\"y\":{\"field\":\"y\"}},\"id\":\"178951\",\"type\":\"Line\"},{\"attributes\":{\"data_source\":{\"id\":\"178974\"},\"glyph\":{\"id\":\"178975\"},\"hover_glyph\":null,\"muted_glyph\":null,\"nonselection_glyph\":{\"id\":\"178976\"},\"selection_glyph\":null,\"view\":{\"id\":\"178978\"}},\"id\":\"178977\",\"type\":\"GlyphRenderer\"},{\"attributes\":{\"line_color\":\"#0B9A53\",\"line_dash\":[6],\"line_width\":3,\"x\":{\"field\":\"x\"},\"y\":{\"field\":\"y\"}},\"id\":\"178950\",\"type\":\"Line\"},{\"attributes\":{\"source\":{\"id\":\"179160\"}},\"id\":\"179164\",\"type\":\"CDSView\"},{\"attributes\":{\"axis\":{\"id\":\"178927\"},\"ticker\":null},\"id\":\"178930\",\"type\":\"Grid\"},{\"attributes\":{\"months\":[0,4,8]},\"id\":\"178969\",\"type\":\"MonthsTicker\"},{\"attributes\":{\"line_color\":\"#525252\",\"line_width\":3,\"x\":{\"field\":\"x\"},\"y\":{\"field\":\"y\"}},\"id\":\"179239\",\"type\":\"Line\"},{\"attributes\":{\"line_alpha\":0.1,\"line_color\":\"#525252\",\"line_width\":3,\"x\":{\"field\":\"x\"},\"y\":{\"field\":\"y\"}},\"id\":\"179240\",\"type\":\"Line\"},{\"attributes\":{\"line_alpha\":0.1,\"line_color\":\"#9B0E63\",\"line_width\":3,\"x\":{\"field\":\"x\"},\"y\":{\"field\":\"y\"}},\"id\":\"179002\",\"type\":\"Line\"},{\"attributes\":{\"data\":{\"x\":{\"__ndarray__\":\"AADAHAcFd0IAAICCWQV3QgAAQOirBXdCAAAATv4Fd0IAAMCzUAZ3QgAAgBmjBndCAABAf/UGd0IAAADlRwd3QgAAwEqaB3dCAACAsOwHd0IAAEAWPwh3QgAAAHyRCHdCAADA4eMId0IAAIBHNgl3QgAAQK2ICXdCAAAAE9sJd0IAAMB4LQp3QgAAgN5/CndCAABARNIKd0IAAACqJAt3QgAAwA93C3dCAACAdckLd0IAAEDbGwx3QgAAAEFuDHdCAADApsAMd0IAAIAMEw13QgAAQHJlDXdCAAAA2LcNd0IAAMA9Cg53QgAAgKNcDndCAABACa8Od0IAAABvAQ93QgAAwNRTD3dCAACAOqYPd0IAAECg+A93Qg==\",\"dtype\":\"float64\",\"shape\":[35]},\"y\":{\"__ndarray__\":\"AAAAAAAAAAAjFgk4MRJePzEe1kOIzMu/vlylDNHP4b+Mpcp2Slnov/CCWS2o+eW/xhjGn65l07+CYNWAz8LTP3+uxGCBke4/vHlhVgdK9T/tRFA6t2/wP6BTx65Q3dg/WTQ5uUle0j9hQ7hY2qTmP6FngCFIx+k/NMvg88845D/dkoexWO/mP4zt+VQOX/A/A3frYKOO8j8jpl343+LwPyn4IIqpKfM/R3g/Do5x/D/mHpj6FwMFQKz/yNAkuAlAKmzIiRrPCUBzzUUmN4wMQEXhucPi5BJAcC08/BmzGUDXy+FS97IeQO9gHdBAoiBAupWnPZGII0CStj5KFBcpQI4X3w8wHTBAMqvdD/EeM0BdWyU3wJk2QA==\",\"dtype\":\"float64\",\"shape\":[35]}},\"selected\":{\"id\":\"179182\"},\"selection_policy\":{\"id\":\"179183\"}},\"id\":\"179124\",\"type\":\"ColumnDataSource\"},{\"attributes\":{},\"id\":\"179222\",\"type\":\"Selection\"},{\"attributes\":{},\"id\":\"179144\",\"type\":\"Selection\"},{\"attributes\":{\"source\":{\"id\":\"179124\"}},\"id\":\"179128\",\"type\":\"CDSView\"},{\"attributes\":{\"num_minor_ticks\":5,\"tickers\":[{\"id\":\"178960\"},{\"id\":\"178961\"},{\"id\":\"178962\"},{\"id\":\"178963\"},{\"id\":\"178964\"},{\"id\":\"178965\"},{\"id\":\"178966\"},{\"id\":\"178967\"},{\"id\":\"178968\"},{\"id\":\"178969\"},{\"id\":\"178970\"},{\"id\":\"178971\"}]},\"id\":\"178928\",\"type\":\"DatetimeTicker\"},{\"attributes\":{},\"id\":\"181997\",\"type\":\"Selection\"},{\"attributes\":{\"data_source\":{\"id\":\"179198\"},\"glyph\":{\"id\":\"179199\"},\"hover_glyph\":null,\"muted_glyph\":null,\"nonselection_glyph\":{\"id\":\"179200\"},\"selection_glyph\":null,\"view\":{\"id\":\"179202\"}},\"id\":\"179201\",\"type\":\"GlyphRenderer\"},{\"attributes\":{\"data\":{\"x\":{\"__ndarray__\":\"AADAHAcFd0IAAICCWQV3QgAAQOirBXdCAAAATv4Fd0IAAMCzUAZ3QgAAgBmjBndCAABAf/UGd0IAAADlRwd3QgAAwEqaB3dCAACAsOwHd0IAAEAWPwh3QgAAAHyRCHdCAADA4eMId0IAAIBHNgl3QgAAQK2ICXdCAAAAE9sJd0IAAMB4LQp3QgAAgN5/CndCAABARNIKd0IAAACqJAt3QgAAwA93C3dCAACAdckLd0IAAEDbGwx3QgAAAEFuDHdCAADApsAMd0IAAIAMEw13QgAAQHJlDXdCAAAA2LcNd0IAAMA9Cg53QgAAgKNcDndCAABACa8Od0IAAABvAQ93QgAAwNRTD3dCAACAOqYPd0IAAECg+A93Qg==\",\"dtype\":\"float64\",\"shape\":[35]},\"y\":{\"__ndarray__\":\"AAAAAAAAAAAJ6UuGMo57P4iMM2jxRMi/gQ05Cktv379pcGrWU8rkv3YKphZNy+C/w2Iw50CDtb+FhVcxsxzjP8KsFvBFX/U/nGin9utx/T/eKrOjK477Pw51TwKXHPU/owbJzhi49z8NqTMNUqYBQG6S4b2AgAVA9BmqZl7sB0A9JX6FnCMNQE9bIelDhBJA1IkcypNkFkCKDREvhAsaQMLcGqNvfx9Azcz6uIDVI0BCS3XvoA8pQC/kYoDLiS5AaRW59LDnMUDaEHEDcWg1QNey/M13WzpAlGa1OH1RQEAMwgATm7lDQPLnIIKkbEdAZLaOzyI4TEATSXeWREFRQPJsQGLiG1VA27KfPcRzWUBHEFCZEKpeQA==\",\"dtype\":\"float64\",\"shape\":[35]}},\"selected\":{\"id\":\"179264\"},\"selection_policy\":{\"id\":\"179265\"}},\"id\":\"179198\",\"type\":\"ColumnDataSource\"},{\"attributes\":{},\"id\":\"178938\",\"type\":\"SaveTool\"},{\"attributes\":{},\"id\":\"178985\",\"type\":\"UnionRenderers\"},{\"attributes\":{\"axis_label\":\"Casos\",\"formatter\":{\"id\":\"178957\"},\"ticker\":{\"id\":\"178932\"}},\"id\":\"178931\",\"type\":\"LinearAxis\"},{\"attributes\":{\"line_alpha\":0.1,\"line_color\":\"#662506\",\"line_width\":3,\"x\":{\"field\":\"x\"},\"y\":{\"field\":\"y\"}},\"id\":\"179162\",\"type\":\"Line\"},{\"attributes\":{},\"id\":\"179075\",\"type\":\"UnionRenderers\"},{\"attributes\":{\"label\":{\"value\":\"Graves\"},\"renderers\":[{\"id\":\"179093\"}]},\"id\":\"179123\",\"type\":\"LegendItem\"},{\"attributes\":{\"data_source\":{\"id\":\"179124\"},\"glyph\":{\"id\":\"179125\"},\"hover_glyph\":null,\"muted_glyph\":null,\"nonselection_glyph\":{\"id\":\"179126\"},\"selection_glyph\":null,\"view\":{\"id\":\"179128\"}},\"id\":\"179127\",\"type\":\"GlyphRenderer\"},{\"attributes\":{\"label\":{\"value\":\"Casos a ajustar\"},\"renderers\":[{\"id\":\"178952\"}]},\"id\":\"178973\",\"type\":\"LegendItem\"},{\"attributes\":{\"base\":60,\"mantissas\":[1,2,5,10,15,20,30],\"max_interval\":1800000.0,\"min_interval\":1000.0,\"num_minor_ticks\":0},\"id\":\"178961\",\"type\":\"AdaptiveTicker\"},{\"attributes\":{\"days\":[1,8,15,22]},\"id\":\"178965\",\"type\":\"DaysTicker\"},{\"attributes\":{\"data\":{\"x\":{\"__ndarray__\":\"AADAHAcFd0IAAICCWQV3QgAAQOirBXdCAAAATv4Fd0IAAMCzUAZ3QgAAgBmjBndCAABAf/UGd0IAAADlRwd3QgAAwEqaB3dCAACAsOwHd0IAAEAWPwh3QgAAAHyRCHdCAADA4eMId0IAAIBHNgl3QgAAQK2ICXdCAAAAE9sJd0IAAMB4LQp3QgAAgN5/CndCAABARNIKd0IAAACqJAt3QgAAwA93C3dCAACAdckLd0IAAEDbGwx3QgAAAEFuDHdCAADApsAMd0IAAIAMEw13QgAAQHJlDXdCAAAA2LcNd0IAAMA9Cg53QgAAgKNcDndCAABACa8Od0IAAABvAQ93QgAAwNRTD3dCAACAOqYPd0IAAECg+A93Qg==\",\"dtype\":\"float64\",\"shape\":[35]},\"y\":{\"__ndarray__\":\"AAAAAAAAAAB+qY6nuFCmP+tNNMlMxuM/280tr2TA9z9TBgsS/kMAQDvhdf3xxf4/4aR0MJVU8T8AAAAAAAAAAAAAAAAAAAAAAAAAAAAAAAAAAAAAAAAAAD+Lok7vALc/j7YLzv+34T8AAAAAAAAAAAAAAAAAAAAAxRkxo9R85j/3baS7b+7uP8ZQgMTng+k/MfaB0YBr8j+Hzp77k8gBQDtHih4EAQdAv744ahaCBUAS5dmgg+EAQE3Rio+zpwNAYLvkx+sxEkDdFht+NikZQA780ijnfRpAZ3fKJvgvGUCGPeTd71IfQJX/y5fkhSdAhEIXR3DMLUANXLxJYz0wQDnGsWxAXDFA/UNyJ5jWNUBOzQAFZp47QA==\",\"dtype\":\"float64\",\"shape\":[35]}},\"selected\":{\"id\":\"179144\"},\"selection_policy\":{\"id\":\"179145\"}},\"id\":\"179090\",\"type\":\"ColumnDataSource\"},{\"attributes\":{\"data_source\":{\"id\":\"179238\"},\"glyph\":{\"id\":\"179239\"},\"hover_glyph\":null,\"muted_glyph\":null,\"nonselection_glyph\":{\"id\":\"179240\"},\"selection_glyph\":null,\"view\":{\"id\":\"179242\"}},\"id\":\"179241\",\"type\":\"GlyphRenderer\"},{\"attributes\":{\"line_color\":\"#662506\",\"line_width\":3,\"x\":{\"field\":\"x\"},\"y\":{\"field\":\"y\"}},\"id\":\"179161\",\"type\":\"Line\"},{\"attributes\":{},\"id\":\"178932\",\"type\":\"BasicTicker\"},{\"attributes\":{\"label\":{\"value\":\"ICUs\"},\"renderers\":[{\"id\":\"179163\"}]},\"id\":\"179197\",\"type\":\"LegendItem\"},{\"attributes\":{\"line_alpha\":0.1,\"line_color\":\"Green\",\"line_width\":3,\"x\":{\"field\":\"x\"},\"y\":{\"field\":\"y\"}},\"id\":\"179200\",\"type\":\"Line\"},{\"attributes\":{},\"id\":\"179223\",\"type\":\"UnionRenderers\"},{\"attributes\":{\"mantissas\":[1,2,5],\"max_interval\":500.0,\"num_minor_ticks\":0},\"id\":\"178960\",\"type\":\"AdaptiveTicker\"},{\"attributes\":{\"data_source\":{\"id\":\"179160\"},\"glyph\":{\"id\":\"179161\"},\"hover_glyph\":null,\"muted_glyph\":null,\"nonselection_glyph\":{\"id\":\"179162\"},\"selection_glyph\":null,\"view\":{\"id\":\"179164\"}},\"id\":\"179163\",\"type\":\"GlyphRenderer\"},{\"attributes\":{},\"id\":\"178936\",\"type\":\"WheelZoomTool\"},{\"attributes\":{\"line_color\":\"#9B0E63\",\"line_width\":3,\"x\":{\"field\":\"x\"},\"y\":{\"field\":\"y\"}},\"id\":\"179001\",\"type\":\"Line\"},{\"attributes\":{},\"id\":\"179074\",\"type\":\"Selection\"},{\"attributes\":{\"data\":{\"x\":{\"__ndarray__\":\"AADAHAcFd0IAAICCWQV3QgAAQOirBXdCAAAATv4Fd0IAAMCzUAZ3QgAAgBmjBndCAABAf/UGd0IAAADlRwd3QgAAwEqaB3dCAACAsOwHd0IAAEAWPwh3QgAAAHyRCHdCAADA4eMId0IAAIBHNgl3QgAAQK2ICXdCAAAAE9sJd0IAAMB4LQp3QgAAgN5/CndCAABARNIKd0IAAACqJAt3QgAAwA93C3dCAACAdckLd0IAAEDbGwx3QgAAAEFuDHdCAADApsAMd0IAAIAMEw13QgAAQHJlDXdCAAAA2LcNd0IAAMA9Cg53QgAAgKNcDndCAABACa8Od0IAAABvAQ93QgAAwNRTD3dCAACAOqYPd0IAAECg+A93Qg==\",\"dtype\":\"float64\",\"shape\":[35]},\"y\":{\"__ndarray__\":\"AAAAAAAA8D9qQokEYM3wPwAAAAAAAAAAAAAAAAAAAAAAAAAAAAAAAAAAAAAAAAAAAAAAAAAAAADG3+/mM6MaQCLMVRbpyTBAYuGpWKb1NkDzw4A7wRQzQDHHGgbD0iRAhQS1DW+tJEBmHHNUoEcxQA/eKqdoMzRAxOrcCmMRNEBE3qpaB703QFWy59z8vj5AvomnMIwjQkCrXyYBpslDQJd0KlEieEdA5Ts188N8TkDJVUzggvNTQLM4Nv0NRFhAhr8f2XdHW0BjO/CGX/RfQAS0NED092NAvBZj4SpGaUCLhmLqNWtuQIwzeLG9onFA+AiAseIYdUAm/mUHgBZ6QDJcxFHGJIBAQyshY1tgg0DCaDXGBDmHQA==\",\"dtype\":\"float64\",\"shape\":[35]}},\"selected\":{\"id\":\"179042\"},\"selection_policy\":{\"id\":\"179043\"}},\"id\":\"179000\",\"type\":\"ColumnDataSource\"},{\"attributes\":{},\"id\":\"178935\",\"type\":\"PanTool\"},{\"attributes\":{},\"id\":\"178971\",\"type\":\"YearsTicker\"},{\"attributes\":{\"line_color\":\"#3999E4\",\"line_dash\":[2,4],\"line_width\":3,\"x\":{\"field\":\"x\"},\"y\":{\"field\":\"y\"}},\"id\":\"178975\",\"type\":\"Line\"},{\"attributes\":{\"source\":{\"id\":\"179058\"}},\"id\":\"179062\",\"type\":\"CDSView\"},{\"attributes\":{\"source\":{\"id\":\"179198\"}},\"id\":\"179202\",\"type\":\"CDSView\"},{\"attributes\":{},\"id\":\"178940\",\"type\":\"HelpTool\"},{\"attributes\":{\"line_alpha\":0.1,\"line_color\":\"#3999E4\",\"line_dash\":[2,4],\"line_width\":3,\"x\":{\"field\":\"x\"},\"y\":{\"field\":\"y\"}},\"id\":\"178976\",\"type\":\"Line\"},{\"attributes\":{\"line_color\":\"Green\",\"line_width\":3,\"x\":{\"field\":\"x\"},\"y\":{\"field\":\"y\"}},\"id\":\"179199\",\"type\":\"Line\"},{\"attributes\":{},\"id\":\"178957\",\"type\":\"BasicTickFormatter\"},{\"attributes\":{\"line_alpha\":0.1,\"line_color\":\"#807DBA\",\"line_width\":3,\"x\":{\"field\":\"x\"},\"y\":{\"field\":\"y\"}},\"id\":\"179060\",\"type\":\"Line\"},{\"attributes\":{\"line_alpha\":0.1,\"line_color\":\"#CC4C02\",\"line_width\":3,\"x\":{\"field\":\"x\"},\"y\":{\"field\":\"y\"}},\"id\":\"179126\",\"type\":\"Line\"},{\"attributes\":{\"months\":[0,1,2,3,4,5,6,7,8,9,10,11]},\"id\":\"178967\",\"type\":\"MonthsTicker\"},{\"attributes\":{},\"id\":\"179182\",\"type\":\"Selection\"},{\"attributes\":{},\"id\":\"178984\",\"type\":\"Selection\"},{\"attributes\":{\"data\":{\"x\":{\"__ndarray__\":\"AADAHAcFd0IAAICCWQV3QgAAQOirBXdCAAAATv4Fd0IAAMCzUAZ3QgAAgBmjBndCAABAf/UGd0IAAADlRwd3QgAAwEqaB3dCAACAsOwHd0IAAEAWPwh3QgAAAHyRCHdCAADA4eMId0IAAIBHNgl3QgAAQK2ICXdCAAAAE9sJd0IAAMB4LQp3QgAAgN5/CndCAABARNIKd0IAAACqJAt3QgAAwA93C3dCAACAdckLd0IAAEDbGwx3QgAAAEFuDHdCAADApsAMd0IAAIAMEw13QgAAQHJlDXdCAAAA2LcNd0IAAMA9Cg53QgAAgKNcDndCAABACa8Od0IAAABvAQ93QgAAwNRTD3dCAACAOqYPd0IAAECg+A93Qg==\",\"dtype\":\"float64\",\"shape\":[35]},\"y\":{\"__ndarray__\":\"AAAAAAAAAAAmhZo80T41P1T8FBe/aJQ/dkzmmI7MqT87Hth8mQWyP7qTSj6XbLE/9yPLjxzwpD8r2nP3bS1xv7AlT8IhDaq/I4fCljvNsr/e78uamEWjv4Xu8MWs5pw/DZjIOzVYqj+npmhwnVGhP8WlrBIXAag/56udbslKtj+v1exLnV28PwyxYq9JS78/THtnZ7vqwz9Ohd1fXvbLPwujUoEzZNE/ETMHQWtQ0z9nJEtkotfUP+TdOBZvCdk/nBtS53Du4D+x9OnRr2DlP6IBbePYweg/MlAws+MF7D/vqDqZixHxP0qSJn8S7vU/8Fvc7bHl+j8n3nEZr4X/P92QKlKdagJA0aSHIuuABkA2whHU6YsLQA==\",\"dtype\":\"float64\",\"shape\":[35]}},\"selected\":{\"id\":\"179222\"},\"selection_policy\":{\"id\":\"179223\"}},\"id\":\"179160\",\"type\":\"ColumnDataSource\"},{\"attributes\":{\"data\":{\"x\":{\"__ndarray__\":\"AADAHAcFd0IAAICCWQV3QgAAQOirBXdCAAAATv4Fd0IAAMCzUAZ3QgAAgBmjBndCAABAf/UGd0IAAADlRwd3QgAAwEqaB3dCAACAsOwHd0IAAEAWPwh3QgAAAHyRCHdCAADA4eMId0IAAIBHNgl3QgAAQK2ICXdCAAAAE9sJd0IAAMB4LQp3QgAAgN5/CndCAABARNIKd0IAAACqJAt3QgAAwA93C3dCAACAdckLd0IAAEDbGwx3QgAAAEFuDHdCAADApsAMd0IAAIAMEw13QgAAQHJlDXdCAAAA2LcNd0IAAMA9Cg53QgAAgKNcDndCAABACa8Od0IAAABvAQ93QgAAwNRTD3dCAACAOqYPd0IAAECg+A93Qg==\",\"dtype\":\"float64\",\"shape\":[35]},\"y\":{\"__ndarray__\":\"AAAAAAAAAACDDIasTAzSP+Gqjl0s4QdA+8/QfoQbHEBtSJ7D30YjQJO58LeBjCJA02wVvJh0FkCHFydVuyrcv1n8AapoChvA3PYSRlj9I8C5+dJeIr0WwPrTyLVWywNAoa6djLgrFECh0BbYcucBQPRz8uCNZApAzY0EIWX9HkALsRFDAdYjQIAG7MatpCRArelyOzSxKkAoodUMRe0zQErHlQAf9ThAVHFhl2OaOkCG/ZXF0P06QLexZUBSG0BAg5TOHQYQR0Dygmg9Sq5NQLYYW7WR01BAoMiubXdmUkAAEDEZSX5WQJI5OQmXzF1AJP5n/dtlYkDsAQhXvjtlQFZeGd22YGhAu/uIn9nzbUBp0nWqHXNyQA==\",\"dtype\":\"float64\",\"shape\":[35]}},\"selected\":{\"id\":\"179108\"},\"selection_policy\":{\"id\":\"179109\"}},\"id\":\"179058\",\"type\":\"ColumnDataSource\"},{\"attributes\":{\"axis\":{\"id\":\"178931\"},\"dimension\":1,\"ticker\":null},\"id\":\"178934\",\"type\":\"Grid\"},{\"attributes\":{\"data\":{\"x\":{\"__ndarray__\":\"AADAHAcFd0IAAICCWQV3QgAAQOirBXdCAAAATv4Fd0IAAMCzUAZ3QgAAgBmjBndCAABAf/UGd0IAAADlRwd3QgAAwEqaB3dCAACAsOwHd0IAAEAWPwh3QgAAAHyRCHdCAADA4eMId0IAAIBHNgl3QgAAQK2ICXdCAAAAE9sJd0IAAMB4LQp3QgAAgN5/CndCAABARNIKd0IAAACqJAt3QgAAwA93C3dCAACAdckLd0IAAEDbGwx3QgAAAEFuDHdCAADApsAMd0IAAIAMEw13QgAAQHJlDXdCAAAA2LcNd0IAAMA9Cg53QgAAgKNcDndCAABACa8Od0IAAABvAQ93QgAAwNRTD3dCAACAOqYPd0IAAECg+A93Qg==\",\"dtype\":\"float64\",\"shape\":[35]},\"y\":{\"__ndarray__\":\"AAAAAAAAAEAAAAAAAAAIQAAAAAAAABBAAAAAAAAAEEAAAAAAAAAUQAAAAAAAABhAAAAAAAAAHEAAAAAAAAAcQAAAAAAAABxAAAAAAAAAIEAAAAAAAAAiQAAAAAAAACZAAAAAAAAAKkAAAAAAAAAuQAAAAAAAADZAAAAAAAAAO0AAAAAAAAA/QAAAAAAAAEFAAAAAAAAAREAAAAAAAIBKQAAAAAAAgE5AAAAAAADAVkAAAAAAAMBcQAAAAAAAQGFAAAAAAAAAZEAAAAAAAMBoQAAAAAAAAG5AAAAAAADgcUAAAAAAAKB1QAAAAAAAoHdAAAAAAADAeUAAAAAAAGB8QAAAAAAAYIBAAAAAAACYgUAAAAAAAAiDQA==\",\"dtype\":\"float64\",\"shape\":[35]}},\"selected\":{\"id\":\"178984\"},\"selection_policy\":{\"id\":\"178985\"}},\"id\":\"178949\",\"type\":\"ColumnDataSource\"},{\"attributes\":{\"source\":{\"id\":\"178974\"}},\"id\":\"178978\",\"type\":\"CDSView\"},{\"attributes\":{\"label\":{\"value\":\"Recuperados\"},\"renderers\":[{\"id\":\"179201\"}]},\"id\":\"179237\",\"type\":\"LegendItem\"},{\"attributes\":{},\"id\":\"179183\",\"type\":\"UnionRenderers\"},{\"attributes\":{\"axis_label\":\"Fecha\",\"formatter\":{\"id\":\"178955\"},\"ticker\":{\"id\":\"178928\"}},\"id\":\"178927\",\"type\":\"DatetimeAxis\"},{\"attributes\":{\"label\":{\"value\":\"Casos confirmados, modelo R_0 = 3.8\"},\"renderers\":[{\"id\":\"179003\"}]},\"id\":\"179027\",\"type\":\"LegendItem\"},{\"attributes\":{\"data\":{\"x\":{\"__ndarray__\":\"AADAHAcFd0IAAICCWQV3QgAAQOirBXdCAAAATv4Fd0IAAMCzUAZ3QgAAgBmjBndCAABAf/UGd0IAAADlRwd3QgAAwEqaB3dCAACAsOwHd0IAAEAWPwh3QgAAAHyRCHdCAADA4eMId0IAAIBHNgl3QgAAQK2ICXdCAAAAE9sJd0IAAMB4LQp3QgAAgN5/CndCAABARNIKd0IAAACqJAt3QgAAwA93C3dCAACAdckLd0IAAEDbGwx3QgAAAEFuDHdCAADApsAMd0IAAIAMEw13QgAAQHJlDXdCAAAA2LcNd0IAAMA9Cg53QgAAgKNcDndCAABACa8Od0IAAABvAQ93QgAAwNRTD3dCAACAOqYPd0IAAECg+A93Qg==\",\"dtype\":\"float64\",\"shape\":[35]},\"y\":{\"__ndarray__\":\"AAAAAAAA8D9NZIbQwObmP+o1zCOHXxPAWDBJmFKPKsDtdmetZ3kywEyFpOnv/zDA++CsoEE/IMAVI9nxa8YYQB5WIwhNTDVAhZWAC3PXPUDfk+vrLAo2QO2MZrtBZxhAlJrBmLpFB0Dw3VI8+SUoQDR1OrwYrCpAdlRpAwyEH0B9eWEMm7EgQDXjdQy2mytADnvPthidLUCm9jE2WyMjQENzjDnoWCNAfsNP4RqTM0DkHaECAYpBQCPyYfjZq0VA7+16mn9JQkCWi9qvoSJCQByPB+HR00pAmS79GEB+VEDThLx6xzhYQADIEBmMh1dAm6i+N0q6WkCfColJAV5iQAExdHk7C2lA8I/nU+AzbUBqSBwpMeJwQA==\",\"dtype\":\"float64\",\"shape\":[35]}},\"selected\":{\"id\":\"179074\"},\"selection_policy\":{\"id\":\"179075\"}},\"id\":\"179028\",\"type\":\"ColumnDataSource\"},{\"attributes\":{\"line_alpha\":0.1,\"line_color\":\"#54278F\",\"line_width\":3,\"x\":{\"field\":\"x\"},\"y\":{\"field\":\"y\"}},\"id\":\"179092\",\"type\":\"Line\"},{\"attributes\":{\"line_alpha\":0.1,\"line_color\":\"Red\",\"line_width\":3,\"x\":{\"field\":\"x\"},\"y\":{\"field\":\"y\"}},\"id\":\"179030\",\"type\":\"Line\"},{\"attributes\":{\"line_color\":\"Red\",\"line_width\":3,\"x\":{\"field\":\"x\"},\"y\":{\"field\":\"y\"}},\"id\":\"179029\",\"type\":\"Line\"},{\"attributes\":{},\"id\":\"179042\",\"type\":\"Selection\"},{\"attributes\":{},\"id\":\"181998\",\"type\":\"UnionRenderers\"},{\"attributes\":{\"data\":{\"x\":{\"__ndarray__\":\"AABAoPgPd0I=\",\"dtype\":\"float64\",\"shape\":[1]},\"y\":{\"__ndarray__\":\"AAAAAAAIg0A=\",\"dtype\":\"float64\",\"shape\":[1]}},\"selected\":{\"id\":\"179012\"},\"selection_policy\":{\"id\":\"179013\"}},\"id\":\"178974\",\"type\":\"ColumnDataSource\"},{\"attributes\":{\"items\":[{\"id\":\"178973\"},{\"id\":\"178999\"},{\"id\":\"179027\"},{\"id\":\"179057\"},{\"id\":\"179089\"},{\"id\":\"179123\"},{\"id\":\"179159\"},{\"id\":\"179197\"},{\"id\":\"179237\"},{\"id\":\"179279\"}],\"location\":\"top_left\"},\"id\":\"178972\",\"type\":\"Legend\"},{\"attributes\":{},\"id\":\"178919\",\"type\":\"DataRange1d\"},{\"attributes\":{\"source\":{\"id\":\"179000\"}},\"id\":\"179004\",\"type\":\"CDSView\"},{\"attributes\":{\"days\":[1,2,3,4,5,6,7,8,9,10,11,12,13,14,15,16,17,18,19,20,21,22,23,24,25,26,27,28,29,30,31]},\"id\":\"178963\",\"type\":\"DaysTicker\"},{\"attributes\":{\"bottom_units\":\"screen\",\"fill_alpha\":0.5,\"fill_color\":\"lightgrey\",\"left_units\":\"screen\",\"level\":\"overlay\",\"line_alpha\":1.0,\"line_color\":\"black\",\"line_dash\":[4,4],\"line_width\":2,\"render_mode\":\"css\",\"right_units\":\"screen\",\"top_units\":\"screen\"},\"id\":\"178941\",\"type\":\"BoxAnnotation\"},{\"attributes\":{\"source\":{\"id\":\"179028\"}},\"id\":\"179032\",\"type\":\"CDSView\"},{\"attributes\":{},\"id\":\"179265\",\"type\":\"UnionRenderers\"},{\"attributes\":{},\"id\":\"179043\",\"type\":\"UnionRenderers\"},{\"attributes\":{},\"id\":\"179012\",\"type\":\"Selection\"},{\"attributes\":{},\"id\":\"179108\",\"type\":\"Selection\"},{\"attributes\":{\"days\":[1,4,7,10,13,16,19,22,25,28]},\"id\":\"178964\",\"type\":\"DaysTicker\"},{\"attributes\":{\"label\":{\"value\":\"Infectados\"},\"renderers\":[{\"id\":\"179031\"}]},\"id\":\"179057\",\"type\":\"LegendItem\"},{\"attributes\":{\"label\":{\"value\":\"Leves\"},\"renderers\":[{\"id\":\"179061\"}]},\"id\":\"179089\",\"type\":\"LegendItem\"},{\"attributes\":{},\"id\":\"179264\",\"type\":\"Selection\"},{\"attributes\":{},\"id\":\"178923\",\"type\":\"LinearScale\"},{\"attributes\":{},\"id\":\"178925\",\"type\":\"LinearScale\"},{\"attributes\":{\"months\":[0,2,4,6,8,10]},\"id\":\"178968\",\"type\":\"MonthsTicker\"},{\"attributes\":{\"months\":[0,6]},\"id\":\"178970\",\"type\":\"MonthsTicker\"},{\"attributes\":{\"source\":{\"id\":\"178949\"}},\"id\":\"178953\",\"type\":\"CDSView\"},{\"attributes\":{},\"id\":\"178921\",\"type\":\"DataRange1d\"},{\"attributes\":{\"data_source\":{\"id\":\"179028\"},\"glyph\":{\"id\":\"179029\"},\"hover_glyph\":null,\"muted_glyph\":null,\"nonselection_glyph\":{\"id\":\"179030\"},\"selection_glyph\":null,\"view\":{\"id\":\"179032\"}},\"id\":\"179031\",\"type\":\"GlyphRenderer\"},{\"attributes\":{},\"id\":\"179109\",\"type\":\"UnionRenderers\"},{\"attributes\":{\"data_source\":{\"id\":\"179000\"},\"glyph\":{\"id\":\"179001\"},\"hover_glyph\":null,\"muted_glyph\":null,\"nonselection_glyph\":{\"id\":\"179002\"},\"selection_glyph\":null,\"view\":{\"id\":\"179004\"}},\"id\":\"179003\",\"type\":\"GlyphRenderer\"},{\"attributes\":{\"label\":{\"value\":\"Hospitalizados\"},\"renderers\":[{\"id\":\"179127\"}]},\"id\":\"179159\",\"type\":\"LegendItem\"},{\"attributes\":{},\"id\":\"178955\",\"type\":\"DatetimeTickFormatter\"},{\"attributes\":{\"line_color\":\"#807DBA\",\"line_width\":3,\"x\":{\"field\":\"x\"},\"y\":{\"field\":\"y\"}},\"id\":\"179059\",\"type\":\"Line\"},{\"attributes\":{\"source\":{\"id\":\"179238\"}},\"id\":\"179242\",\"type\":\"CDSView\"},{\"attributes\":{\"label\":{\"value\":\"Casos a predecir\"},\"renderers\":[{\"id\":\"178977\"}]},\"id\":\"178999\",\"type\":\"LegendItem\"},{\"attributes\":{\"text\":\"Modelo CDMX\"},\"id\":\"178917\",\"type\":\"Title\"},{\"attributes\":{\"line_color\":\"#54278F\",\"line_width\":3,\"x\":{\"field\":\"x\"},\"y\":{\"field\":\"y\"}},\"id\":\"179091\",\"type\":\"Line\"},{\"attributes\":{\"active_drag\":\"auto\",\"active_inspect\":\"auto\",\"active_multi\":null,\"active_scroll\":\"auto\",\"active_tap\":\"auto\",\"tools\":[{\"id\":\"178935\"},{\"id\":\"178936\"},{\"id\":\"178937\"},{\"id\":\"178938\"},{\"id\":\"178939\"},{\"id\":\"178940\"}]},\"id\":\"178942\",\"type\":\"Toolbar\"},{\"attributes\":{\"source\":{\"id\":\"179090\"}},\"id\":\"179094\",\"type\":\"CDSView\"},{\"attributes\":{\"data_source\":{\"id\":\"178949\"},\"glyph\":{\"id\":\"178950\"},\"hover_glyph\":null,\"muted_glyph\":null,\"nonselection_glyph\":{\"id\":\"178951\"},\"selection_glyph\":null,\"view\":{\"id\":\"178953\"}},\"id\":\"178952\",\"type\":\"GlyphRenderer\"},{\"attributes\":{\"base\":24,\"mantissas\":[1,2,4,6,8,12],\"max_interval\":43200000.0,\"min_interval\":3600000.0,\"num_minor_ticks\":0},\"id\":\"178962\",\"type\":\"AdaptiveTicker\"},{\"attributes\":{\"data_source\":{\"id\":\"179090\"},\"glyph\":{\"id\":\"179091\"},\"hover_glyph\":null,\"muted_glyph\":null,\"nonselection_glyph\":{\"id\":\"179092\"},\"selection_glyph\":null,\"view\":{\"id\":\"179094\"}},\"id\":\"179093\",\"type\":\"GlyphRenderer\"},{\"attributes\":{},\"id\":\"179013\",\"type\":\"UnionRenderers\"},{\"attributes\":{\"data\":{\"x\":{\"__ndarray__\":\"AADAHAcFd0IAAICCWQV3QgAAQOirBXdCAAAATv4Fd0IAAMCzUAZ3QgAAgBmjBndCAABAf/UGd0IAAADlRwd3QgAAwEqaB3dCAACAsOwHd0IAAEAWPwh3QgAAAHyRCHdCAADA4eMId0IAAIBHNgl3QgAAQK2ICXdCAAAAE9sJd0IAAMB4LQp3QgAAgN5/CndCAABARNIKd0IAAACqJAt3QgAAwA93C3dCAACAdckLd0IAAEDbGwx3QgAAAEFuDHdCAADApsAMd0IAAIAMEw13QgAAQHJlDXdCAAAA2LcNd0IAAMA9Cg53QgAAgKNcDndCAABACa8Od0IAAABvAQ93QgAAwNRTD3dCAACAOqYPd0IAAECg+A93Qg==\",\"dtype\":\"float64\",\"shape\":[35]},\"y\":{\"__ndarray__\":\"AAAAAAAAAAAAAAAAAAAAAAAAAAAAAAAAAAAAAAAAAAAAAAAAAAAAAAAAAAAAAAAAAAAAAAAAAACKOyN2Pd1vP4BmY2T84oU/j2Ddx7drjz9T5uu4LQyNP2zAk9OAZ4U/H2Fg2R1aiT8KJ5+J4G2UP9NjJHei/pk/738IFBsMnj8s9W4Yg/OiP7AuxZYXvag/0b4xYneqrj+wPHDgEkuyP8YcjrmxibY/NmmwDLarvD9Ik4XPIDvCP6m1ZVp9bMY/6EoLY5qoyj9ZJby6zhbQP2U0s3uW39M/0Qq4KLai2D9kAszlFendP5AmScY14uE/OqhrrRmg5T+vjfDwFnXqP6N7ckSdLvA/erwVaFOO8z/WkCwaW5z3Pw==\",\"dtype\":\"float64\",\"shape\":[35]}},\"selected\":{\"id\":\"181997\"},\"selection_policy\":{\"id\":\"181998\"}},\"id\":\"179238\",\"type\":\"ColumnDataSource\"}],\"root_ids\":[\"178916\"]},\"title\":\"Bokeh Application\",\"version\":\"2.0.1\"}};\n",
       "  var render_items = [{\"docid\":\"ca24e738-f6f9-47b9-970c-8942f1e662f8\",\"root_ids\":[\"178916\"],\"roots\":{\"178916\":\"d56f8c39-38ac-4993-9a71-5049d5a72728\"}}];\n",
       "  root.Bokeh.embed.embed_items_notebook(docs_json, render_items);\n",
       "\n",
       "  }\n",
       "  if (root.Bokeh !== undefined) {\n",
       "    embed_document(root);\n",
       "  } else {\n",
       "    var attempts = 0;\n",
       "    var timer = setInterval(function(root) {\n",
       "      if (root.Bokeh !== undefined) {\n",
       "        clearInterval(timer);\n",
       "        embed_document(root);\n",
       "      } else {\n",
       "        attempts++;\n",
       "        if (attempts > 100) {\n",
       "          clearInterval(timer);\n",
       "          console.log(\"Bokeh: ERROR: Unable to run BokehJS code because BokehJS library is missing\");\n",
       "        }\n",
       "      }\n",
       "    }, 10, root)\n",
       "  }\n",
       "})(window);"
      ],
      "application/vnd.bokehjs_exec.v0+json": ""
     },
     "metadata": {
      "application/vnd.bokehjs_exec.v0+json": {
       "id": "178916"
      }
     },
     "output_type": "display_data"
    }
   ],
   "source": [
    "bpl.show(p)"
   ]
  },
  {
   "cell_type": "markdown",
   "metadata": {},
   "source": [
    "Ajuste del modelo para obtener la mejor R_0"
   ]
  },
  {
   "cell_type": "code",
   "execution_count": 912,
   "metadata": {},
   "outputs": [
    {
     "data": {
      "text/plain": [
       "      fun: 0.07088829544128324\n",
       " hess_inv: <1x1 LbfgsInvHessProduct with dtype=float64>\n",
       "      jac: array([8.75549633e-06])\n",
       "  message: b'CONVERGENCE: NORM_OF_PROJECTED_GRADIENT_<=_PGTOL'\n",
       "     nfev: 8\n",
       "      nit: 2\n",
       "   status: 0\n",
       "  success: True\n",
       "        x: array([3.07746849])"
      ]
     },
     "execution_count": 912,
     "metadata": {},
     "output_type": "execute_result"
    }
   ],
   "source": [
    "ajuste = minimize(evaluador,[2.8],args=(casos_filt,poblacion,0,True,[0,1,1],False),method='L-BFGS-B')\n",
    "ajuste"
   ]
  },
  {
   "cell_type": "code",
   "execution_count": 913,
   "metadata": {},
   "outputs": [
    {
     "data": {
      "text/plain": [
       "3.077468494666358"
      ]
     },
     "execution_count": 913,
     "metadata": {},
     "output_type": "execute_result"
    }
   ],
   "source": [
    "R_f = ajuste.x[0]\n",
    "R_f"
   ]
  },
  {
   "cell_type": "code",
   "execution_count": 914,
   "metadata": {},
   "outputs": [],
   "source": [
    "error, solucion = evaluador(R_f,casos_filt,poblacion,0,True,[0,1,1],True)"
   ]
  },
  {
   "cell_type": "code",
   "execution_count": 915,
   "metadata": {},
   "outputs": [
    {
     "data": {
      "text/plain": [
       "0.07088829544128324"
      ]
     },
     "execution_count": 915,
     "metadata": {},
     "output_type": "execute_result"
    }
   ],
   "source": [
    "error"
   ]
  },
  {
   "cell_type": "code",
   "execution_count": 916,
   "metadata": {},
   "outputs": [
    {
     "data": {
      "text/html": [
       "<div>\n",
       "<style scoped>\n",
       "    .dataframe tbody tr th:only-of-type {\n",
       "        vertical-align: middle;\n",
       "    }\n",
       "\n",
       "    .dataframe tbody tr th {\n",
       "        vertical-align: top;\n",
       "    }\n",
       "\n",
       "    .dataframe thead th {\n",
       "        text-align: right;\n",
       "    }\n",
       "</style>\n",
       "<table border=\"1\" class=\"dataframe\">\n",
       "  <thead>\n",
       "    <tr style=\"text-align: right;\">\n",
       "      <th></th>\n",
       "      <th>Susceptibles</th>\n",
       "      <th>Expuestos</th>\n",
       "      <th>Infectados</th>\n",
       "      <th>Leves</th>\n",
       "      <th>Graves</th>\n",
       "      <th>Hospitalizados</th>\n",
       "      <th>ICUs</th>\n",
       "      <th>Recuperados</th>\n",
       "      <th>Defunciones</th>\n",
       "      <th>Confirmados_acumulados</th>\n",
       "    </tr>\n",
       "  </thead>\n",
       "  <tbody>\n",
       "    <tr>\n",
       "      <th>2020-03-20</th>\n",
       "      <td>2.194169e+07</td>\n",
       "      <td>457.616210</td>\n",
       "      <td>200.351010</td>\n",
       "      <td>195.022322</td>\n",
       "      <td>17.360358</td>\n",
       "      <td>16.114015</td>\n",
       "      <td>2.302058</td>\n",
       "      <td>84.435692</td>\n",
       "      <td>1.011380</td>\n",
       "      <td>516.596836</td>\n",
       "    </tr>\n",
       "    <tr>\n",
       "      <th>2020-03-21</th>\n",
       "      <td>2.194148e+07</td>\n",
       "      <td>570.127263</td>\n",
       "      <td>233.621134</td>\n",
       "      <td>239.620315</td>\n",
       "      <td>21.838259</td>\n",
       "      <td>19.120866</td>\n",
       "      <td>2.812948</td>\n",
       "      <td>101.808853</td>\n",
       "      <td>1.222248</td>\n",
       "      <td>620.044623</td>\n",
       "    </tr>\n",
       "    <tr>\n",
       "      <th>2020-03-22</th>\n",
       "      <td>2.194121e+07</td>\n",
       "      <td>713.435206</td>\n",
       "      <td>270.137002</td>\n",
       "      <td>295.194743</td>\n",
       "      <td>27.618744</td>\n",
       "      <td>22.600589</td>\n",
       "      <td>3.443317</td>\n",
       "      <td>122.657263</td>\n",
       "      <td>1.475673</td>\n",
       "      <td>743.127331</td>\n",
       "    </tr>\n",
       "  </tbody>\n",
       "</table>\n",
       "</div>"
      ],
      "text/plain": [
       "            Susceptibles   Expuestos  Infectados       Leves     Graves  \\\n",
       "2020-03-20  2.194169e+07  457.616210  200.351010  195.022322  17.360358   \n",
       "2020-03-21  2.194148e+07  570.127263  233.621134  239.620315  21.838259   \n",
       "2020-03-22  2.194121e+07  713.435206  270.137002  295.194743  27.618744   \n",
       "\n",
       "            Hospitalizados      ICUs  Recuperados  Defunciones  \\\n",
       "2020-03-20       16.114015  2.302058    84.435692     1.011380   \n",
       "2020-03-21       19.120866  2.812948   101.808853     1.222248   \n",
       "2020-03-22       22.600589  3.443317   122.657263     1.475673   \n",
       "\n",
       "            Confirmados_acumulados  \n",
       "2020-03-20              516.596836  \n",
       "2020-03-21              620.044623  \n",
       "2020-03-22              743.127331  "
      ]
     },
     "execution_count": 916,
     "metadata": {},
     "output_type": "execute_result"
    }
   ],
   "source": [
    "solucion[-3:]"
   ]
  },
  {
   "cell_type": "markdown",
   "metadata": {},
   "source": [
    "Graficación del modelo ajustado"
   ]
  },
  {
   "cell_type": "code",
   "execution_count": 917,
   "metadata": {},
   "outputs": [],
   "source": [
    "p = bpl.figure(x_axis_type=\"datetime\",plot_width=800,plot_height=600,title=\"Modelo CDMX\")"
   ]
  },
  {
   "cell_type": "code",
   "execution_count": 918,
   "metadata": {},
   "outputs": [],
   "source": [
    "p.line(x=casos_filt.index,y=casos_filt[\"Confirmados_acumulados\"],color=\"#0B9A53\",line_width=3,legend_label=\"Casos a ajustar\",line_dash=\"dashed\")\n",
    "#p.line(x=casos_pred.index,y=casos_pred[\"Confirmados_acumulados\"],color=\"#3999E4\",line_width=3,legend_label=\"Casos a predecir\",line_dash=\"dotted\")\n",
    "for label in [\"Confirmados_acumulados\"]:\n",
    "    p.line(x=solucion.index,y=solucion[label],color=\"#9B0E63\",line_width=3,legend_label=\"Casos confirmados, modelo R_0 = \" + str(R_f))"
   ]
  },
  {
   "cell_type": "code",
   "execution_count": 921,
   "metadata": {},
   "outputs": [],
   "source": [
    "p.xaxis.axis_label = 'Fecha'\n",
    "p.yaxis.axis_label = 'Casos'\n",
    "p.legend.location = \"top_left\""
   ]
  },
  {
   "cell_type": "code",
   "execution_count": 922,
   "metadata": {},
   "outputs": [
    {
     "data": {
      "text/html": [
       "\n",
       "\n",
       "\n",
       "\n",
       "\n",
       "\n",
       "  <div class=\"bk-root\" id=\"e555ceae-81e1-45d2-8921-4de44443e0ab\" data-root-id=\"175742\"></div>\n"
      ]
     },
     "metadata": {},
     "output_type": "display_data"
    },
    {
     "data": {
      "application/javascript": [
       "(function(root) {\n",
       "  function embed_document(root) {\n",
       "    \n",
       "  var docs_json = {\"830dc1a4-f16c-4946-bd8f-0843907c043c\":{\"roots\":{\"references\":[{\"attributes\":{\"below\":[{\"id\":\"175753\"}],\"center\":[{\"id\":\"175756\"},{\"id\":\"175760\"},{\"id\":\"175798\"}],\"left\":[{\"id\":\"175757\"}],\"plot_width\":800,\"renderers\":[{\"id\":\"175778\"},{\"id\":\"175803\"}],\"title\":{\"id\":\"175743\"},\"toolbar\":{\"id\":\"175768\"},\"x_range\":{\"id\":\"175745\"},\"x_scale\":{\"id\":\"175749\"},\"y_range\":{\"id\":\"175747\"},\"y_scale\":{\"id\":\"175751\"}},\"id\":\"175742\",\"subtype\":\"Figure\",\"type\":\"Plot\"},{\"attributes\":{\"num_minor_ticks\":5,\"tickers\":[{\"id\":\"175786\"},{\"id\":\"175787\"},{\"id\":\"175788\"},{\"id\":\"175789\"},{\"id\":\"175790\"},{\"id\":\"175791\"},{\"id\":\"175792\"},{\"id\":\"175793\"},{\"id\":\"175794\"},{\"id\":\"175795\"},{\"id\":\"175796\"},{\"id\":\"175797\"}]},\"id\":\"175754\",\"type\":\"DatetimeTicker\"},{\"attributes\":{\"days\":[1,15]},\"id\":\"175792\",\"type\":\"DaysTicker\"},{\"attributes\":{\"label\":{\"value\":\"Casos confirmados, modelo R_0 = 3.077468494666358\"},\"renderers\":[{\"id\":\"175803\"}]},\"id\":\"175825\",\"type\":\"LegendItem\"},{\"attributes\":{},\"id\":\"175810\",\"type\":\"Selection\"},{\"attributes\":{\"bottom_units\":\"screen\",\"fill_alpha\":0.5,\"fill_color\":\"lightgrey\",\"left_units\":\"screen\",\"level\":\"overlay\",\"line_alpha\":1.0,\"line_color\":\"black\",\"line_dash\":[4,4],\"line_width\":2,\"render_mode\":\"css\",\"right_units\":\"screen\",\"top_units\":\"screen\"},\"id\":\"175767\",\"type\":\"BoxAnnotation\"},{\"attributes\":{\"axis\":{\"id\":\"175757\"},\"dimension\":1,\"ticker\":null},\"id\":\"175760\",\"type\":\"Grid\"},{\"attributes\":{\"active_drag\":\"auto\",\"active_inspect\":\"auto\",\"active_multi\":null,\"active_scroll\":\"auto\",\"active_tap\":\"auto\",\"tools\":[{\"id\":\"175761\"},{\"id\":\"175762\"},{\"id\":\"175763\"},{\"id\":\"175764\"},{\"id\":\"175765\"},{\"id\":\"175766\"}]},\"id\":\"175768\",\"type\":\"Toolbar\"},{\"attributes\":{},\"id\":\"175762\",\"type\":\"WheelZoomTool\"},{\"attributes\":{},\"id\":\"178505\",\"type\":\"Selection\"},{\"attributes\":{\"data_source\":{\"id\":\"175800\"},\"glyph\":{\"id\":\"175801\"},\"hover_glyph\":null,\"muted_glyph\":null,\"nonselection_glyph\":{\"id\":\"175802\"},\"selection_glyph\":null,\"view\":{\"id\":\"175804\"}},\"id\":\"175803\",\"type\":\"GlyphRenderer\"},{\"attributes\":{\"line_color\":\"#0B9A53\",\"line_dash\":[6],\"line_width\":3,\"x\":{\"field\":\"x\"},\"y\":{\"field\":\"y\"}},\"id\":\"175776\",\"type\":\"Line\"},{\"attributes\":{},\"id\":\"175766\",\"type\":\"HelpTool\"},{\"attributes\":{\"months\":[0,6]},\"id\":\"175796\",\"type\":\"MonthsTicker\"},{\"attributes\":{},\"id\":\"175764\",\"type\":\"SaveTool\"},{\"attributes\":{},\"id\":\"175781\",\"type\":\"DatetimeTickFormatter\"},{\"attributes\":{\"months\":[0,1,2,3,4,5,6,7,8,9,10,11]},\"id\":\"175793\",\"type\":\"MonthsTicker\"},{\"attributes\":{\"base\":60,\"mantissas\":[1,2,5,10,15,20,30],\"max_interval\":1800000.0,\"min_interval\":1000.0,\"num_minor_ticks\":0},\"id\":\"175787\",\"type\":\"AdaptiveTicker\"},{\"attributes\":{\"days\":[1,4,7,10,13,16,19,22,25,28]},\"id\":\"175790\",\"type\":\"DaysTicker\"},{\"attributes\":{\"days\":[1,2,3,4,5,6,7,8,9,10,11,12,13,14,15,16,17,18,19,20,21,22,23,24,25,26,27,28,29,30,31]},\"id\":\"175789\",\"type\":\"DaysTicker\"},{\"attributes\":{\"data\":{\"x\":{\"__ndarray__\":\"AADAHAcFd0IAAICCWQV3QgAAQOirBXdCAAAATv4Fd0IAAMCzUAZ3QgAAgBmjBndCAABAf/UGd0IAAADlRwd3QgAAwEqaB3dCAACAsOwHd0IAAEAWPwh3QgAAAHyRCHdCAADA4eMId0IAAIBHNgl3QgAAQK2ICXdCAAAAE9sJd0IAAMB4LQp3QgAAgN5/CndCAABARNIKd0IAAACqJAt3QgAAwA93C3dCAACAdckLd0IAAEDbGwx3QgAAAEFuDHdCAADApsAMd0IAAIAMEw13QgAAQHJlDXdCAAAA2LcNd0IAAMA9Cg53QgAAgKNcDndCAABACa8Od0IAAABvAQ93QgAAwNRTD3dCAACAOqYPd0IAAECg+A93Qg==\",\"dtype\":\"float64\",\"shape\":[35]},\"y\":{\"__ndarray__\":\"AAAAAAAA8D9qQokEYM3wPwAAAAAAAAAAAAAAAAAAAAAAAAAAAAAAAAAAAAAAAAAAAAAAAAAAAADG3+/mM6MaQCLMVRbpyTBAYuGpWKb1NkDzw4A7wRQzQDHHGgbD0iRAhQS1DW+tJEBmHHNUoEcxQA/eKqdoMzRAxOrcCmMRNEBE3qpaB703QFWy59z8vj5AvomnMIwjQkCrXyYBpslDQJd0KlEieEdA5Ts188N8TkDJVUzggvNTQLM4Nv0NRFhAhr8f2XdHW0BjO/CGX/RfQAS0NED092NAvBZj4SpGaUCLhmLqNWtuQIwzeLG9onFA+AiAseIYdUAm/mUHgBZ6QDJcxFHGJIBAQyshY1tgg0DCaDXGBDmHQA==\",\"dtype\":\"float64\",\"shape\":[35]}},\"selected\":{\"id\":\"178505\"},\"selection_policy\":{\"id\":\"178506\"}},\"id\":\"175800\",\"type\":\"ColumnDataSource\"},{\"attributes\":{\"axis_label\":\"Casos\",\"formatter\":{\"id\":\"175783\"},\"ticker\":{\"id\":\"175758\"}},\"id\":\"175757\",\"type\":\"LinearAxis\"},{\"attributes\":{\"months\":[0,4,8]},\"id\":\"175795\",\"type\":\"MonthsTicker\"},{\"attributes\":{\"label\":{\"value\":\"Casos a ajustar\"},\"renderers\":[{\"id\":\"175778\"}]},\"id\":\"175799\",\"type\":\"LegendItem\"},{\"attributes\":{},\"id\":\"175745\",\"type\":\"DataRange1d\"},{\"attributes\":{},\"id\":\"175758\",\"type\":\"BasicTicker\"},{\"attributes\":{},\"id\":\"175751\",\"type\":\"LinearScale\"},{\"attributes\":{\"text\":\"Modelo CDMX\"},\"id\":\"175743\",\"type\":\"Title\"},{\"attributes\":{},\"id\":\"175747\",\"type\":\"DataRange1d\"},{\"attributes\":{\"mantissas\":[1,2,5],\"max_interval\":500.0,\"num_minor_ticks\":0},\"id\":\"175786\",\"type\":\"AdaptiveTicker\"},{\"attributes\":{\"days\":[1,8,15,22]},\"id\":\"175791\",\"type\":\"DaysTicker\"},{\"attributes\":{\"source\":{\"id\":\"175800\"}},\"id\":\"175804\",\"type\":\"CDSView\"},{\"attributes\":{},\"id\":\"175749\",\"type\":\"LinearScale\"},{\"attributes\":{},\"id\":\"175761\",\"type\":\"PanTool\"},{\"attributes\":{\"data_source\":{\"id\":\"175775\"},\"glyph\":{\"id\":\"175776\"},\"hover_glyph\":null,\"muted_glyph\":null,\"nonselection_glyph\":{\"id\":\"175777\"},\"selection_glyph\":null,\"view\":{\"id\":\"175779\"}},\"id\":\"175778\",\"type\":\"GlyphRenderer\"},{\"attributes\":{\"axis_label\":\"Fecha\",\"formatter\":{\"id\":\"175781\"},\"ticker\":{\"id\":\"175754\"}},\"id\":\"175753\",\"type\":\"DatetimeAxis\"},{\"attributes\":{},\"id\":\"175797\",\"type\":\"YearsTicker\"},{\"attributes\":{\"items\":[{\"id\":\"175799\"},{\"id\":\"175825\"}],\"location\":\"top_left\"},\"id\":\"175798\",\"type\":\"Legend\"},{\"attributes\":{\"line_alpha\":0.1,\"line_color\":\"#9B0E63\",\"line_width\":3,\"x\":{\"field\":\"x\"},\"y\":{\"field\":\"y\"}},\"id\":\"175802\",\"type\":\"Line\"},{\"attributes\":{},\"id\":\"175765\",\"type\":\"ResetTool\"},{\"attributes\":{\"months\":[0,2,4,6,8,10]},\"id\":\"175794\",\"type\":\"MonthsTicker\"},{\"attributes\":{\"source\":{\"id\":\"175775\"}},\"id\":\"175779\",\"type\":\"CDSView\"},{\"attributes\":{\"line_alpha\":0.1,\"line_color\":\"#0B9A53\",\"line_dash\":[6],\"line_width\":3,\"x\":{\"field\":\"x\"},\"y\":{\"field\":\"y\"}},\"id\":\"175777\",\"type\":\"Line\"},{\"attributes\":{},\"id\":\"175811\",\"type\":\"UnionRenderers\"},{\"attributes\":{\"data\":{\"x\":{\"__ndarray__\":\"AADAHAcFd0IAAICCWQV3QgAAQOirBXdCAAAATv4Fd0IAAMCzUAZ3QgAAgBmjBndCAABAf/UGd0IAAADlRwd3QgAAwEqaB3dCAACAsOwHd0IAAEAWPwh3QgAAAHyRCHdCAADA4eMId0IAAIBHNgl3QgAAQK2ICXdCAAAAE9sJd0IAAMB4LQp3QgAAgN5/CndCAABARNIKd0IAAACqJAt3QgAAwA93C3dCAACAdckLd0IAAEDbGwx3QgAAAEFuDHdCAADApsAMd0IAAIAMEw13QgAAQHJlDXdCAAAA2LcNd0IAAMA9Cg53QgAAgKNcDndCAABACa8Od0IAAABvAQ93QgAAwNRTD3dCAACAOqYPd0IAAECg+A93Qg==\",\"dtype\":\"float64\",\"shape\":[35]},\"y\":{\"__ndarray__\":\"AAAAAAAAAEAAAAAAAAAIQAAAAAAAABBAAAAAAAAAEEAAAAAAAAAUQAAAAAAAABhAAAAAAAAAHEAAAAAAAAAcQAAAAAAAABxAAAAAAAAAIEAAAAAAAAAiQAAAAAAAACZAAAAAAAAAKkAAAAAAAAAuQAAAAAAAADZAAAAAAAAAO0AAAAAAAAA/QAAAAAAAAEFAAAAAAAAAREAAAAAAAIBKQAAAAAAAgE5AAAAAAADAVkAAAAAAAMBcQAAAAAAAQGFAAAAAAAAAZEAAAAAAAMBoQAAAAAAAAG5AAAAAAADgcUAAAAAAAKB1QAAAAAAAoHdAAAAAAADAeUAAAAAAAGB8QAAAAAAAYIBAAAAAAACYgUAAAAAAAAiDQA==\",\"dtype\":\"float64\",\"shape\":[35]}},\"selected\":{\"id\":\"175810\"},\"selection_policy\":{\"id\":\"175811\"}},\"id\":\"175775\",\"type\":\"ColumnDataSource\"},{\"attributes\":{\"overlay\":{\"id\":\"175767\"}},\"id\":\"175763\",\"type\":\"BoxZoomTool\"},{\"attributes\":{\"base\":24,\"mantissas\":[1,2,4,6,8,12],\"max_interval\":43200000.0,\"min_interval\":3600000.0,\"num_minor_ticks\":0},\"id\":\"175788\",\"type\":\"AdaptiveTicker\"},{\"attributes\":{\"axis\":{\"id\":\"175753\"},\"ticker\":null},\"id\":\"175756\",\"type\":\"Grid\"},{\"attributes\":{\"line_color\":\"#9B0E63\",\"line_width\":3,\"x\":{\"field\":\"x\"},\"y\":{\"field\":\"y\"}},\"id\":\"175801\",\"type\":\"Line\"},{\"attributes\":{},\"id\":\"178506\",\"type\":\"UnionRenderers\"},{\"attributes\":{},\"id\":\"175783\",\"type\":\"BasicTickFormatter\"}],\"root_ids\":[\"175742\"]},\"title\":\"Bokeh Application\",\"version\":\"2.0.1\"}};\n",
       "  var render_items = [{\"docid\":\"830dc1a4-f16c-4946-bd8f-0843907c043c\",\"root_ids\":[\"175742\"],\"roots\":{\"175742\":\"e555ceae-81e1-45d2-8921-4de44443e0ab\"}}];\n",
       "  root.Bokeh.embed.embed_items_notebook(docs_json, render_items);\n",
       "\n",
       "  }\n",
       "  if (root.Bokeh !== undefined) {\n",
       "    embed_document(root);\n",
       "  } else {\n",
       "    var attempts = 0;\n",
       "    var timer = setInterval(function(root) {\n",
       "      if (root.Bokeh !== undefined) {\n",
       "        clearInterval(timer);\n",
       "        embed_document(root);\n",
       "      } else {\n",
       "        attempts++;\n",
       "        if (attempts > 100) {\n",
       "          clearInterval(timer);\n",
       "          console.log(\"Bokeh: ERROR: Unable to run BokehJS code because BokehJS library is missing\");\n",
       "        }\n",
       "      }\n",
       "    }, 10, root)\n",
       "  }\n",
       "})(window);"
      ],
      "application/vnd.bokehjs_exec.v0+json": ""
     },
     "metadata": {
      "application/vnd.bokehjs_exec.v0+json": {
       "id": "175742"
      }
     },
     "output_type": "display_data"
    }
   ],
   "source": [
    "bpl.show(p)"
   ]
  },
  {
   "cell_type": "markdown",
   "metadata": {},
   "source": [
    "El ajuste ya se parece bastante al de CDMX"
   ]
  },
  {
   "cell_type": "code",
   "execution_count": null,
   "metadata": {},
   "outputs": [],
   "source": []
  }
 ],
 "metadata": {
  "kernelspec": {
   "display_name": "Python 3",
   "language": "python",
   "name": "python3"
  },
  "language_info": {
   "codemirror_mode": {
    "name": "ipython",
    "version": 3
   },
   "file_extension": ".py",
   "mimetype": "text/x-python",
   "name": "python",
   "nbconvert_exporter": "python",
   "pygments_lexer": "ipython3",
   "version": "3.7.7"
  }
 },
 "nbformat": 4,
 "nbformat_minor": 4
}
