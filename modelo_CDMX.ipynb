{
 "cells": [
  {
   "cell_type": "code",
   "execution_count": 1,
   "metadata": {},
   "outputs": [],
   "source": [
    "import requests, zipfile, io\n",
    "import pandas as pd\n",
    "import numpy as np\n",
    "import bokeh.plotting as bpl\n",
    "import bokeh.palettes as bpt\n",
    "import colorcet as cc\n",
    "from scipy.integrate import odeint\n",
    "from scipy.integrate import solve_ivp\n",
    "from scipy.optimize import minimize\n",
    "from sklearn.metrics import mean_squared_log_error, mean_squared_error"
   ]
  },
  {
   "cell_type": "code",
   "execution_count": 2,
   "metadata": {},
   "outputs": [
    {
     "data": {
      "text/html": [
       "\n",
       "    <div class=\"bk-root\">\n",
       "        <a href=\"https://bokeh.org\" target=\"_blank\" class=\"bk-logo bk-logo-small bk-logo-notebook\"></a>\n",
       "        <span id=\"1001\">Loading BokehJS ...</span>\n",
       "    </div>"
      ]
     },
     "metadata": {},
     "output_type": "display_data"
    },
    {
     "data": {
      "application/javascript": [
       "\n",
       "(function(root) {\n",
       "  function now() {\n",
       "    return new Date();\n",
       "  }\n",
       "\n",
       "  var force = true;\n",
       "\n",
       "  if (typeof root._bokeh_onload_callbacks === \"undefined\" || force === true) {\n",
       "    root._bokeh_onload_callbacks = [];\n",
       "    root._bokeh_is_loading = undefined;\n",
       "  }\n",
       "\n",
       "  var JS_MIME_TYPE = 'application/javascript';\n",
       "  var HTML_MIME_TYPE = 'text/html';\n",
       "  var EXEC_MIME_TYPE = 'application/vnd.bokehjs_exec.v0+json';\n",
       "  var CLASS_NAME = 'output_bokeh rendered_html';\n",
       "\n",
       "  /**\n",
       "   * Render data to the DOM node\n",
       "   */\n",
       "  function render(props, node) {\n",
       "    var script = document.createElement(\"script\");\n",
       "    node.appendChild(script);\n",
       "  }\n",
       "\n",
       "  /**\n",
       "   * Handle when an output is cleared or removed\n",
       "   */\n",
       "  function handleClearOutput(event, handle) {\n",
       "    var cell = handle.cell;\n",
       "\n",
       "    var id = cell.output_area._bokeh_element_id;\n",
       "    var server_id = cell.output_area._bokeh_server_id;\n",
       "    // Clean up Bokeh references\n",
       "    if (id != null && id in Bokeh.index) {\n",
       "      Bokeh.index[id].model.document.clear();\n",
       "      delete Bokeh.index[id];\n",
       "    }\n",
       "\n",
       "    if (server_id !== undefined) {\n",
       "      // Clean up Bokeh references\n",
       "      var cmd = \"from bokeh.io.state import curstate; print(curstate().uuid_to_server['\" + server_id + \"'].get_sessions()[0].document.roots[0]._id)\";\n",
       "      cell.notebook.kernel.execute(cmd, {\n",
       "        iopub: {\n",
       "          output: function(msg) {\n",
       "            var id = msg.content.text.trim();\n",
       "            if (id in Bokeh.index) {\n",
       "              Bokeh.index[id].model.document.clear();\n",
       "              delete Bokeh.index[id];\n",
       "            }\n",
       "          }\n",
       "        }\n",
       "      });\n",
       "      // Destroy server and session\n",
       "      var cmd = \"import bokeh.io.notebook as ion; ion.destroy_server('\" + server_id + \"')\";\n",
       "      cell.notebook.kernel.execute(cmd);\n",
       "    }\n",
       "  }\n",
       "\n",
       "  /**\n",
       "   * Handle when a new output is added\n",
       "   */\n",
       "  function handleAddOutput(event, handle) {\n",
       "    var output_area = handle.output_area;\n",
       "    var output = handle.output;\n",
       "\n",
       "    // limit handleAddOutput to display_data with EXEC_MIME_TYPE content only\n",
       "    if ((output.output_type != \"display_data\") || (!output.data.hasOwnProperty(EXEC_MIME_TYPE))) {\n",
       "      return\n",
       "    }\n",
       "\n",
       "    var toinsert = output_area.element.find(\".\" + CLASS_NAME.split(' ')[0]);\n",
       "\n",
       "    if (output.metadata[EXEC_MIME_TYPE][\"id\"] !== undefined) {\n",
       "      toinsert[toinsert.length - 1].firstChild.textContent = output.data[JS_MIME_TYPE];\n",
       "      // store reference to embed id on output_area\n",
       "      output_area._bokeh_element_id = output.metadata[EXEC_MIME_TYPE][\"id\"];\n",
       "    }\n",
       "    if (output.metadata[EXEC_MIME_TYPE][\"server_id\"] !== undefined) {\n",
       "      var bk_div = document.createElement(\"div\");\n",
       "      bk_div.innerHTML = output.data[HTML_MIME_TYPE];\n",
       "      var script_attrs = bk_div.children[0].attributes;\n",
       "      for (var i = 0; i < script_attrs.length; i++) {\n",
       "        toinsert[toinsert.length - 1].firstChild.setAttribute(script_attrs[i].name, script_attrs[i].value);\n",
       "        toinsert[toinsert.length - 1].firstChild.textContent = bk_div.children[0].textContent\n",
       "      }\n",
       "      // store reference to server id on output_area\n",
       "      output_area._bokeh_server_id = output.metadata[EXEC_MIME_TYPE][\"server_id\"];\n",
       "    }\n",
       "  }\n",
       "\n",
       "  function register_renderer(events, OutputArea) {\n",
       "\n",
       "    function append_mime(data, metadata, element) {\n",
       "      // create a DOM node to render to\n",
       "      var toinsert = this.create_output_subarea(\n",
       "        metadata,\n",
       "        CLASS_NAME,\n",
       "        EXEC_MIME_TYPE\n",
       "      );\n",
       "      this.keyboard_manager.register_events(toinsert);\n",
       "      // Render to node\n",
       "      var props = {data: data, metadata: metadata[EXEC_MIME_TYPE]};\n",
       "      render(props, toinsert[toinsert.length - 1]);\n",
       "      element.append(toinsert);\n",
       "      return toinsert\n",
       "    }\n",
       "\n",
       "    /* Handle when an output is cleared or removed */\n",
       "    events.on('clear_output.CodeCell', handleClearOutput);\n",
       "    events.on('delete.Cell', handleClearOutput);\n",
       "\n",
       "    /* Handle when a new output is added */\n",
       "    events.on('output_added.OutputArea', handleAddOutput);\n",
       "\n",
       "    /**\n",
       "     * Register the mime type and append_mime function with output_area\n",
       "     */\n",
       "    OutputArea.prototype.register_mime_type(EXEC_MIME_TYPE, append_mime, {\n",
       "      /* Is output safe? */\n",
       "      safe: true,\n",
       "      /* Index of renderer in `output_area.display_order` */\n",
       "      index: 0\n",
       "    });\n",
       "  }\n",
       "\n",
       "  // register the mime type if in Jupyter Notebook environment and previously unregistered\n",
       "  if (root.Jupyter !== undefined) {\n",
       "    var events = require('base/js/events');\n",
       "    var OutputArea = require('notebook/js/outputarea').OutputArea;\n",
       "\n",
       "    if (OutputArea.prototype.mime_types().indexOf(EXEC_MIME_TYPE) == -1) {\n",
       "      register_renderer(events, OutputArea);\n",
       "    }\n",
       "  }\n",
       "\n",
       "  \n",
       "  if (typeof (root._bokeh_timeout) === \"undefined\" || force === true) {\n",
       "    root._bokeh_timeout = Date.now() + 5000;\n",
       "    root._bokeh_failed_load = false;\n",
       "  }\n",
       "\n",
       "  var NB_LOAD_WARNING = {'data': {'text/html':\n",
       "     \"<div style='background-color: #fdd'>\\n\"+\n",
       "     \"<p>\\n\"+\n",
       "     \"BokehJS does not appear to have successfully loaded. If loading BokehJS from CDN, this \\n\"+\n",
       "     \"may be due to a slow or bad network connection. Possible fixes:\\n\"+\n",
       "     \"</p>\\n\"+\n",
       "     \"<ul>\\n\"+\n",
       "     \"<li>re-rerun `output_notebook()` to attempt to load from CDN again, or</li>\\n\"+\n",
       "     \"<li>use INLINE resources instead, as so:</li>\\n\"+\n",
       "     \"</ul>\\n\"+\n",
       "     \"<code>\\n\"+\n",
       "     \"from bokeh.resources import INLINE\\n\"+\n",
       "     \"output_notebook(resources=INLINE)\\n\"+\n",
       "     \"</code>\\n\"+\n",
       "     \"</div>\"}};\n",
       "\n",
       "  function display_loaded() {\n",
       "    var el = document.getElementById(\"1001\");\n",
       "    if (el != null) {\n",
       "      el.textContent = \"BokehJS is loading...\";\n",
       "    }\n",
       "    if (root.Bokeh !== undefined) {\n",
       "      if (el != null) {\n",
       "        el.textContent = \"BokehJS \" + root.Bokeh.version + \" successfully loaded.\";\n",
       "      }\n",
       "    } else if (Date.now() < root._bokeh_timeout) {\n",
       "      setTimeout(display_loaded, 100)\n",
       "    }\n",
       "  }\n",
       "\n",
       "\n",
       "  function run_callbacks() {\n",
       "    try {\n",
       "      root._bokeh_onload_callbacks.forEach(function(callback) {\n",
       "        if (callback != null)\n",
       "          callback();\n",
       "      });\n",
       "    } finally {\n",
       "      delete root._bokeh_onload_callbacks\n",
       "    }\n",
       "    console.debug(\"Bokeh: all callbacks have finished\");\n",
       "  }\n",
       "\n",
       "  function load_libs(css_urls, js_urls, callback) {\n",
       "    if (css_urls == null) css_urls = [];\n",
       "    if (js_urls == null) js_urls = [];\n",
       "\n",
       "    root._bokeh_onload_callbacks.push(callback);\n",
       "    if (root._bokeh_is_loading > 0) {\n",
       "      console.debug(\"Bokeh: BokehJS is being loaded, scheduling callback at\", now());\n",
       "      return null;\n",
       "    }\n",
       "    if (js_urls == null || js_urls.length === 0) {\n",
       "      run_callbacks();\n",
       "      return null;\n",
       "    }\n",
       "    console.debug(\"Bokeh: BokehJS not loaded, scheduling load and callback at\", now());\n",
       "    root._bokeh_is_loading = css_urls.length + js_urls.length;\n",
       "\n",
       "    function on_load() {\n",
       "      root._bokeh_is_loading--;\n",
       "      if (root._bokeh_is_loading === 0) {\n",
       "        console.debug(\"Bokeh: all BokehJS libraries/stylesheets loaded\");\n",
       "        run_callbacks()\n",
       "      }\n",
       "    }\n",
       "\n",
       "    function on_error() {\n",
       "      console.error(\"failed to load \" + url);\n",
       "    }\n",
       "\n",
       "    for (var i = 0; i < css_urls.length; i++) {\n",
       "      var url = css_urls[i];\n",
       "      const element = document.createElement(\"link\");\n",
       "      element.onload = on_load;\n",
       "      element.onerror = on_error;\n",
       "      element.rel = \"stylesheet\";\n",
       "      element.type = \"text/css\";\n",
       "      element.href = url;\n",
       "      console.debug(\"Bokeh: injecting link tag for BokehJS stylesheet: \", url);\n",
       "      document.body.appendChild(element);\n",
       "    }\n",
       "\n",
       "    const hashes = {\"https://cdn.bokeh.org/bokeh/release/bokeh-2.0.1.min.js\": \"JpP8FXbgAZLkfur7LiK3j9AGBhHNIvF742meBJrjO2ShJDhCG2I1uVvW+0DUtrmc\", \"https://cdn.bokeh.org/bokeh/release/bokeh-widgets-2.0.1.min.js\": \"xZlADit0Q04ISQEdKg2k3L4W9AwQBAuDs9nJL9fM/WwzL1tEU9VPNezOFX0nLEAz\", \"https://cdn.bokeh.org/bokeh/release/bokeh-tables-2.0.1.min.js\": \"4BuPRZkdMKSnj3zoxiNrQ86XgNw0rYmBOxe7nshquXwwcauupgBF2DHLVG1WuZlV\", \"https://cdn.bokeh.org/bokeh/release/bokeh-gl-2.0.1.min.js\": \"Dv1SQ87hmDqK6S5OhBf0bCuwAEvL5QYL0PuR/F1SPVhCS/r/abjkbpKDYL2zeM19\"};\n",
       "\n",
       "    for (var i = 0; i < js_urls.length; i++) {\n",
       "      var url = js_urls[i];\n",
       "      var element = document.createElement('script');\n",
       "      element.onload = on_load;\n",
       "      element.onerror = on_error;\n",
       "      element.async = false;\n",
       "      element.src = url;\n",
       "      if (url in hashes) {\n",
       "        element.crossOrigin = \"anonymous\";\n",
       "        element.integrity = \"sha384-\" + hashes[url];\n",
       "      }\n",
       "      console.debug(\"Bokeh: injecting script tag for BokehJS library: \", url);\n",
       "      document.head.appendChild(element);\n",
       "    }\n",
       "  };var element = document.getElementById(\"1001\");\n",
       "  if (element == null) {\n",
       "    console.error(\"Bokeh: ERROR: autoload.js configured with elementid '1001' but no matching script tag was found. \")\n",
       "    return false;\n",
       "  }\n",
       "\n",
       "  function inject_raw_css(css) {\n",
       "    const element = document.createElement(\"style\");\n",
       "    element.appendChild(document.createTextNode(css));\n",
       "    document.body.appendChild(element);\n",
       "  }\n",
       "\n",
       "  \n",
       "  var js_urls = [\"https://cdn.bokeh.org/bokeh/release/bokeh-2.0.1.min.js\", \"https://cdn.bokeh.org/bokeh/release/bokeh-widgets-2.0.1.min.js\", \"https://cdn.bokeh.org/bokeh/release/bokeh-tables-2.0.1.min.js\", \"https://cdn.bokeh.org/bokeh/release/bokeh-gl-2.0.1.min.js\"];\n",
       "  var css_urls = [];\n",
       "  \n",
       "\n",
       "  var inline_js = [\n",
       "    function(Bokeh) {\n",
       "      Bokeh.set_log_level(\"info\");\n",
       "    },\n",
       "    function(Bokeh) {\n",
       "    \n",
       "    \n",
       "    }\n",
       "  ];\n",
       "\n",
       "  function run_inline_js() {\n",
       "    \n",
       "    if (root.Bokeh !== undefined || force === true) {\n",
       "      \n",
       "    for (var i = 0; i < inline_js.length; i++) {\n",
       "      inline_js[i].call(root, root.Bokeh);\n",
       "    }\n",
       "    if (force === true) {\n",
       "        display_loaded();\n",
       "      }} else if (Date.now() < root._bokeh_timeout) {\n",
       "      setTimeout(run_inline_js, 100);\n",
       "    } else if (!root._bokeh_failed_load) {\n",
       "      console.log(\"Bokeh: BokehJS failed to load within specified timeout.\");\n",
       "      root._bokeh_failed_load = true;\n",
       "    } else if (force !== true) {\n",
       "      var cell = $(document.getElementById(\"1001\")).parents('.cell').data().cell;\n",
       "      cell.output_area.append_execute_result(NB_LOAD_WARNING)\n",
       "    }\n",
       "\n",
       "  }\n",
       "\n",
       "  if (root._bokeh_is_loading === 0) {\n",
       "    console.debug(\"Bokeh: BokehJS loaded, going straight to plotting\");\n",
       "    run_inline_js();\n",
       "  } else {\n",
       "    load_libs(css_urls, js_urls, function() {\n",
       "      console.debug(\"Bokeh: BokehJS plotting callback run at\", now());\n",
       "      run_inline_js();\n",
       "    });\n",
       "  }\n",
       "}(window));"
      ],
      "application/vnd.bokehjs_load.v0+json": "\n(function(root) {\n  function now() {\n    return new Date();\n  }\n\n  var force = true;\n\n  if (typeof root._bokeh_onload_callbacks === \"undefined\" || force === true) {\n    root._bokeh_onload_callbacks = [];\n    root._bokeh_is_loading = undefined;\n  }\n\n  \n\n  \n  if (typeof (root._bokeh_timeout) === \"undefined\" || force === true) {\n    root._bokeh_timeout = Date.now() + 5000;\n    root._bokeh_failed_load = false;\n  }\n\n  var NB_LOAD_WARNING = {'data': {'text/html':\n     \"<div style='background-color: #fdd'>\\n\"+\n     \"<p>\\n\"+\n     \"BokehJS does not appear to have successfully loaded. If loading BokehJS from CDN, this \\n\"+\n     \"may be due to a slow or bad network connection. Possible fixes:\\n\"+\n     \"</p>\\n\"+\n     \"<ul>\\n\"+\n     \"<li>re-rerun `output_notebook()` to attempt to load from CDN again, or</li>\\n\"+\n     \"<li>use INLINE resources instead, as so:</li>\\n\"+\n     \"</ul>\\n\"+\n     \"<code>\\n\"+\n     \"from bokeh.resources import INLINE\\n\"+\n     \"output_notebook(resources=INLINE)\\n\"+\n     \"</code>\\n\"+\n     \"</div>\"}};\n\n  function display_loaded() {\n    var el = document.getElementById(\"1001\");\n    if (el != null) {\n      el.textContent = \"BokehJS is loading...\";\n    }\n    if (root.Bokeh !== undefined) {\n      if (el != null) {\n        el.textContent = \"BokehJS \" + root.Bokeh.version + \" successfully loaded.\";\n      }\n    } else if (Date.now() < root._bokeh_timeout) {\n      setTimeout(display_loaded, 100)\n    }\n  }\n\n\n  function run_callbacks() {\n    try {\n      root._bokeh_onload_callbacks.forEach(function(callback) {\n        if (callback != null)\n          callback();\n      });\n    } finally {\n      delete root._bokeh_onload_callbacks\n    }\n    console.debug(\"Bokeh: all callbacks have finished\");\n  }\n\n  function load_libs(css_urls, js_urls, callback) {\n    if (css_urls == null) css_urls = [];\n    if (js_urls == null) js_urls = [];\n\n    root._bokeh_onload_callbacks.push(callback);\n    if (root._bokeh_is_loading > 0) {\n      console.debug(\"Bokeh: BokehJS is being loaded, scheduling callback at\", now());\n      return null;\n    }\n    if (js_urls == null || js_urls.length === 0) {\n      run_callbacks();\n      return null;\n    }\n    console.debug(\"Bokeh: BokehJS not loaded, scheduling load and callback at\", now());\n    root._bokeh_is_loading = css_urls.length + js_urls.length;\n\n    function on_load() {\n      root._bokeh_is_loading--;\n      if (root._bokeh_is_loading === 0) {\n        console.debug(\"Bokeh: all BokehJS libraries/stylesheets loaded\");\n        run_callbacks()\n      }\n    }\n\n    function on_error() {\n      console.error(\"failed to load \" + url);\n    }\n\n    for (var i = 0; i < css_urls.length; i++) {\n      var url = css_urls[i];\n      const element = document.createElement(\"link\");\n      element.onload = on_load;\n      element.onerror = on_error;\n      element.rel = \"stylesheet\";\n      element.type = \"text/css\";\n      element.href = url;\n      console.debug(\"Bokeh: injecting link tag for BokehJS stylesheet: \", url);\n      document.body.appendChild(element);\n    }\n\n    const hashes = {\"https://cdn.bokeh.org/bokeh/release/bokeh-2.0.1.min.js\": \"JpP8FXbgAZLkfur7LiK3j9AGBhHNIvF742meBJrjO2ShJDhCG2I1uVvW+0DUtrmc\", \"https://cdn.bokeh.org/bokeh/release/bokeh-widgets-2.0.1.min.js\": \"xZlADit0Q04ISQEdKg2k3L4W9AwQBAuDs9nJL9fM/WwzL1tEU9VPNezOFX0nLEAz\", \"https://cdn.bokeh.org/bokeh/release/bokeh-tables-2.0.1.min.js\": \"4BuPRZkdMKSnj3zoxiNrQ86XgNw0rYmBOxe7nshquXwwcauupgBF2DHLVG1WuZlV\", \"https://cdn.bokeh.org/bokeh/release/bokeh-gl-2.0.1.min.js\": \"Dv1SQ87hmDqK6S5OhBf0bCuwAEvL5QYL0PuR/F1SPVhCS/r/abjkbpKDYL2zeM19\"};\n\n    for (var i = 0; i < js_urls.length; i++) {\n      var url = js_urls[i];\n      var element = document.createElement('script');\n      element.onload = on_load;\n      element.onerror = on_error;\n      element.async = false;\n      element.src = url;\n      if (url in hashes) {\n        element.crossOrigin = \"anonymous\";\n        element.integrity = \"sha384-\" + hashes[url];\n      }\n      console.debug(\"Bokeh: injecting script tag for BokehJS library: \", url);\n      document.head.appendChild(element);\n    }\n  };var element = document.getElementById(\"1001\");\n  if (element == null) {\n    console.error(\"Bokeh: ERROR: autoload.js configured with elementid '1001' but no matching script tag was found. \")\n    return false;\n  }\n\n  function inject_raw_css(css) {\n    const element = document.createElement(\"style\");\n    element.appendChild(document.createTextNode(css));\n    document.body.appendChild(element);\n  }\n\n  \n  var js_urls = [\"https://cdn.bokeh.org/bokeh/release/bokeh-2.0.1.min.js\", \"https://cdn.bokeh.org/bokeh/release/bokeh-widgets-2.0.1.min.js\", \"https://cdn.bokeh.org/bokeh/release/bokeh-tables-2.0.1.min.js\", \"https://cdn.bokeh.org/bokeh/release/bokeh-gl-2.0.1.min.js\"];\n  var css_urls = [];\n  \n\n  var inline_js = [\n    function(Bokeh) {\n      Bokeh.set_log_level(\"info\");\n    },\n    function(Bokeh) {\n    \n    \n    }\n  ];\n\n  function run_inline_js() {\n    \n    if (root.Bokeh !== undefined || force === true) {\n      \n    for (var i = 0; i < inline_js.length; i++) {\n      inline_js[i].call(root, root.Bokeh);\n    }\n    if (force === true) {\n        display_loaded();\n      }} else if (Date.now() < root._bokeh_timeout) {\n      setTimeout(run_inline_js, 100);\n    } else if (!root._bokeh_failed_load) {\n      console.log(\"Bokeh: BokehJS failed to load within specified timeout.\");\n      root._bokeh_failed_load = true;\n    } else if (force !== true) {\n      var cell = $(document.getElementById(\"1001\")).parents('.cell').data().cell;\n      cell.output_area.append_execute_result(NB_LOAD_WARNING)\n    }\n\n  }\n\n  if (root._bokeh_is_loading === 0) {\n    console.debug(\"Bokeh: BokehJS loaded, going straight to plotting\");\n    run_inline_js();\n  } else {\n    load_libs(css_urls, js_urls, function() {\n      console.debug(\"Bokeh: BokehJS plotting callback run at\", now());\n      run_inline_js();\n    });\n  }\n}(window));"
     },
     "metadata": {},
     "output_type": "display_data"
    }
   ],
   "source": [
    "bpl.output_notebook()"
   ]
  },
  {
   "cell_type": "markdown",
   "metadata": {},
   "source": [
    "Definición del modelo de CDMX, los detalles del modelo se encuentran en [https://modelo.covid19.cdmx.gob.mx/modelo-epidemico](https://modelo.covid19.cdmx.gob.mx/modelo-epidemico)"
   ]
  },
  {
   "cell_type": "code",
   "execution_count": 3,
   "metadata": {},
   "outputs": [],
   "source": [
    "# Susceptibles equation\n",
    "def dS_dt(S, I, R_t, t_inf):\n",
    "    return -(R_t / t_inf) * I * S\n",
    "\n",
    "# Expuestos equation\n",
    "def dE_dt(S, E, I, R_t, t_inf, t_inc):\n",
    "    return (R_t / t_inf) * I * S - (E / t_inc)\n",
    "\n",
    "# Infectados equation\n",
    "def dI_dt(I, E, t_inc, t_inf):\n",
    "    return (E / t_inc) - (I / t_inf)\n",
    "\n",
    "#Leves equation\n",
    "def dL_dt(I, L, p_grave, t_inf, t_rl):\n",
    "    return (1-p_grave)*(I /t_inf) - (L / t_rl)\n",
    "\n",
    "#Graves equation\n",
    "def dG_dt(I, G, p_grave, t_inf, t_hosp):\n",
    "    return p_grave*(I / t_inf) - (G / t_hosp)\n",
    "\n",
    "# Hospializados equation\n",
    "def dH_dt(G, H, t_hosp, p_icu, t_rh, t_icu):\n",
    "    return (G / t_hosp) - (1-p_icu)*(H / t_rh) - (p_icu)*(H / t_icu)\n",
    "\n",
    "# ICU equation\n",
    "def dICU_dt(H, ICU, p_icu, t_icu, p_m, t_ricu, t_m):\n",
    "    return p_icu*(H / t_icu) - (1-p_m)*(ICU / t_ricu) - p_m*(ICU / t_m)\n",
    "\n",
    "# Recovered equation\n",
    "def dR_dt(L, H, ICU, t_rl, p_icu, t_rh, p_m, t_ricu):\n",
    "    return (L / t_rl) + (1-p_icu)*(H / t_rh) + (1-p_m)*(ICU / t_ricu)\n",
    "\n",
    "# Deaths equation\n",
    "def dD_dt(ICU, t_m, p_m):\n",
    "    return p_m*(ICU / t_m)\n",
    "\n",
    "\n",
    "def CDMX_model(t, y, R_t, t_inf=2.9, t_inc=5.2, t_rh=12, t_rl=14, t_hosp=4, t_icu=1, t_ricu=7, t_m=8, p_m=.03, p_grave=.138, p_icu=0.05):\n",
    "\n",
    "    if callable(R_t):\n",
    "        reprod = R_t(t)\n",
    "    else:\n",
    "        reprod = R_t\n",
    "        \n",
    "    S, E, I, L, G, H, ICU, R, D = y\n",
    "    \n",
    "    S_out = dS_dt(S, I, reprod, t_inf)\n",
    "    E_out = dE_dt(S, E, I, reprod, t_inf, t_inc)\n",
    "    I_out = dI_dt(I, E, t_inc, t_inf)\n",
    "    L_out = dL_dt(I, L, p_grave, t_inf, t_rl)\n",
    "    G_out = dG_dt(I, G, p_grave, t_inf, t_hosp)\n",
    "    H_out = dH_dt(G, H, t_hosp, p_icu, t_rh, t_icu)\n",
    "    ICU_out = dICU_dt(H, ICU, p_icu, t_icu, p_m, t_ricu, t_m)\n",
    "    R_out = dR_dt(L, H, ICU, t_rl, p_icu, t_rh, p_m, t_ricu)\n",
    "    D_out = dD_dt(ICU, t_m, p_m)\n",
    "    return [S_out, E_out, I_out, L_out, G_out, H_out, ICU_out, R_out, D_out]"
   ]
  },
  {
   "cell_type": "markdown",
   "metadata": {},
   "source": [
    "Ejecución del modelo de CDMX con los parámetros que reportan, hay dos instancias, una sin intervenciones y la otra con 3 intervenciones"
   ]
  },
  {
   "cell_type": "code",
   "execution_count": 659,
   "metadata": {},
   "outputs": [],
   "source": [
    "N = 22000000\n",
    "n_infected = 556*2\n",
    "max_days = 200\n",
    "inicio = '2020-03-19'\n",
    "tiempos = pd.date_range(start=inicio, periods=max_days).values\n",
    "serie_tiempos = pd.Series(tiempos)\n",
    "\n",
    "initial_state = [(N - n_infected)/ N, 0, n_infected / N, 0, 0, 0, 0, 0, 0]\n",
    "\n",
    "R_0 = 3.8\n",
    "t_inf=2.9\n",
    "t_inc=5.2\n",
    "t_rh=12\n",
    "t_rl=14\n",
    "t_hosp=4\n",
    "t_icu=1\n",
    "t_ricu = 7\n",
    "t_m=8\n",
    "p_m=0.65\n",
    "p_grave=0.138\n",
    "p_icu=0.05\n",
    "\n",
    "intervenciones = [{\"R\":2.83,\"fecha\":inicio},\n",
    "                  {\"R\":2.2,\"fecha\":\"2020-03-22\"},\n",
    "                  {\"R\":0.95,\"fecha\":\"2020-04-01\"},\n",
    "                  {\"R\":1.6,\"fecha\":\"2020-04-13\"},\n",
    "                  {\"R\":0.95,\"fecha\":\"2020-04-20\"}]\n",
    "\n",
    "def rep(t):\n",
    "    rfinal = R_0\n",
    "    for intervencion in intervenciones:\n",
    "        tint = serie_tiempos[(serie_tiempos-pd.Timestamp(intervencion[\"fecha\"])).dt.days==0].index[0]\n",
    "        if (t > tint):\n",
    "            rfinal = intervencion[\"R\"]\n",
    "    return rfinal\n",
    "\n",
    "args_sin_interv = (R_0, t_inf, t_inc, t_rh, t_rl, t_hosp, t_icu, t_ricu, t_m, p_m, p_grave, p_icu)\n",
    "args_con_interv = (rep, t_inf, t_inc, t_rh, t_rl, t_hosp, t_icu, t_ricu, t_m, p_m, p_grave, p_icu)\n",
    "\n",
    "sol_sin_interv = solve_ivp(CDMX_model, [0, max_days], initial_state, args=args_sin_interv, t_eval=np.arange(max_days))\n",
    "sol_con_interv = solve_ivp(CDMX_model, [0, max_days], initial_state, args=args_con_interv, t_eval=np.arange(max_days))"
   ]
  },
  {
   "cell_type": "code",
   "execution_count": 660,
   "metadata": {},
   "outputs": [],
   "source": [
    "labels = [\"Susceptibles\",\"Expuestos\",\"Infectados\",\"Leves\",\"Graves\",\"Hospitalizados\",\"ICUs\",\"Recuperados\",\"Defunciones\"]\n",
    "colores = {\"Susceptibles\":\"#969696\",\n",
    "           \"Recuperados\":\"Green\",\n",
    "           \"Expuestos\":\"Pink\",\n",
    "           \"Infectados\":\"Red\",\n",
    "           \"Leves\":\"#807DBA\",\n",
    "           \"Graves\":\"#54278F\",\n",
    "           \"Hospitalizados\":\"#CC4C02\",\n",
    "           \"ICUs\":\"#662506\",\n",
    "           \"Defunciones\":\"#525252\"}"
   ]
  },
  {
   "cell_type": "code",
   "execution_count": 661,
   "metadata": {},
   "outputs": [],
   "source": [
    "solucion_sin = pd.DataFrame(sol_sin_interv.y.T*N,columns=labels,index=sol_sin_interv.t)\n",
    "solucion_con = pd.DataFrame(sol_con_interv.y.T*N,columns=labels,index=sol_con_interv.t)"
   ]
  },
  {
   "cell_type": "code",
   "execution_count": 662,
   "metadata": {},
   "outputs": [],
   "source": [
    "solucion_sin[\"Fecha\"] = tiempos\n",
    "solucion_con[\"Fecha\"] = tiempos"
   ]
  },
  {
   "cell_type": "code",
   "execution_count": 663,
   "metadata": {},
   "outputs": [],
   "source": [
    "solucion_con[\"R_t\"] = pd.Series([rep(ti) for ti in sol_con_interv.t],index=sol_con_interv.t)"
   ]
  },
  {
   "cell_type": "code",
   "execution_count": 664,
   "metadata": {},
   "outputs": [
    {
     "data": {
      "text/html": [
       "<div>\n",
       "<style scoped>\n",
       "    .dataframe tbody tr th:only-of-type {\n",
       "        vertical-align: middle;\n",
       "    }\n",
       "\n",
       "    .dataframe tbody tr th {\n",
       "        vertical-align: top;\n",
       "    }\n",
       "\n",
       "    .dataframe thead th {\n",
       "        text-align: right;\n",
       "    }\n",
       "</style>\n",
       "<table border=\"1\" class=\"dataframe\">\n",
       "  <thead>\n",
       "    <tr style=\"text-align: right;\">\n",
       "      <th></th>\n",
       "      <th>Susceptibles</th>\n",
       "      <th>Expuestos</th>\n",
       "      <th>Infectados</th>\n",
       "      <th>Leves</th>\n",
       "      <th>Graves</th>\n",
       "      <th>Hospitalizados</th>\n",
       "      <th>ICUs</th>\n",
       "      <th>Recuperados</th>\n",
       "      <th>Defunciones</th>\n",
       "      <th>Fecha</th>\n",
       "    </tr>\n",
       "  </thead>\n",
       "  <tbody>\n",
       "    <tr>\n",
       "      <th>14</th>\n",
       "      <td>2.192687e+07</td>\n",
       "      <td>40777.038529</td>\n",
       "      <td>13371.245243</td>\n",
       "      <td>12802.045827</td>\n",
       "      <td>1310.043894</td>\n",
       "      <td>880.233552</td>\n",
       "      <td>114.879001</td>\n",
       "      <td>3.847460e+03</td>\n",
       "      <td>31.894097</td>\n",
       "      <td>2020-04-02</td>\n",
       "    </tr>\n",
       "    <tr>\n",
       "      <th>15</th>\n",
       "      <td>2.190711e+07</td>\n",
       "      <td>51727.032899</td>\n",
       "      <td>16961.131891</td>\n",
       "      <td>16271.449378</td>\n",
       "      <td>1662.582166</td>\n",
       "      <td>1119.383271</td>\n",
       "      <td>147.561806</td>\n",
       "      <td>4.962367e+03</td>\n",
       "      <td>42.471225</td>\n",
       "      <td>2020-04-03</td>\n",
       "    </tr>\n",
       "    <tr>\n",
       "      <th>16</th>\n",
       "      <td>2.188214e+07</td>\n",
       "      <td>65493.066317</td>\n",
       "      <td>21564.312070</td>\n",
       "      <td>20651.496378</td>\n",
       "      <td>2105.453167</td>\n",
       "      <td>1424.285630</td>\n",
       "      <td>188.825600</td>\n",
       "      <td>6.381451e+03</td>\n",
       "      <td>56.051051</td>\n",
       "      <td>2020-04-04</td>\n",
       "    </tr>\n",
       "    <tr>\n",
       "      <th>17</th>\n",
       "      <td>2.185047e+07</td>\n",
       "      <td>82907.954216</td>\n",
       "      <td>27430.238970</td>\n",
       "      <td>26208.090063</td>\n",
       "      <td>2666.358529</td>\n",
       "      <td>1812.358088</td>\n",
       "      <td>241.146334</td>\n",
       "      <td>8.188692e+03</td>\n",
       "      <td>73.460560</td>\n",
       "      <td>2020-04-05</td>\n",
       "    </tr>\n",
       "    <tr>\n",
       "      <th>18</th>\n",
       "      <td>2.181026e+07</td>\n",
       "      <td>105058.351372</td>\n",
       "      <td>34826.005867</td>\n",
       "      <td>33279.820324</td>\n",
       "      <td>3382.153135</td>\n",
       "      <td>2303.657282</td>\n",
       "      <td>307.628523</td>\n",
       "      <td>1.048528e+04</td>\n",
       "      <td>95.700885</td>\n",
       "      <td>2020-04-06</td>\n",
       "    </tr>\n",
       "    <tr>\n",
       "      <th>...</th>\n",
       "      <td>...</td>\n",
       "      <td>...</td>\n",
       "      <td>...</td>\n",
       "      <td>...</td>\n",
       "      <td>...</td>\n",
       "      <td>...</td>\n",
       "      <td>...</td>\n",
       "      <td>...</td>\n",
       "      <td>...</td>\n",
       "      <td>...</td>\n",
       "    </tr>\n",
       "    <tr>\n",
       "      <th>195</th>\n",
       "      <td>5.395168e+05</td>\n",
       "      <td>2.782056</td>\n",
       "      <td>-16.080566</td>\n",
       "      <td>587.097457</td>\n",
       "      <td>5.974264</td>\n",
       "      <td>-5.901763</td>\n",
       "      <td>1.680581</td>\n",
       "      <td>2.075023e+07</td>\n",
       "      <td>709678.770529</td>\n",
       "      <td>2020-09-30</td>\n",
       "    </tr>\n",
       "    <tr>\n",
       "      <th>196</th>\n",
       "      <td>5.395175e+05</td>\n",
       "      <td>1.440237</td>\n",
       "      <td>-8.323521</td>\n",
       "      <td>540.177793</td>\n",
       "      <td>3.092472</td>\n",
       "      <td>-3.019413</td>\n",
       "      <td>1.041372</td>\n",
       "      <td>2.075027e+07</td>\n",
       "      <td>709678.932148</td>\n",
       "      <td>2020-10-01</td>\n",
       "    </tr>\n",
       "    <tr>\n",
       "      <th>197</th>\n",
       "      <td>5.395178e+05</td>\n",
       "      <td>0.874827</td>\n",
       "      <td>-5.055191</td>\n",
       "      <td>500.327946</td>\n",
       "      <td>1.878250</td>\n",
       "      <td>-1.810388</td>\n",
       "      <td>0.747436</td>\n",
       "      <td>2.075031e+07</td>\n",
       "      <td>709679.016785</td>\n",
       "      <td>2020-10-02</td>\n",
       "    </tr>\n",
       "    <tr>\n",
       "      <th>198</th>\n",
       "      <td>5.395177e+05</td>\n",
       "      <td>0.968861</td>\n",
       "      <td>-5.599332</td>\n",
       "      <td>466.704675</td>\n",
       "      <td>2.080372</td>\n",
       "      <td>-2.022551</td>\n",
       "      <td>0.746986</td>\n",
       "      <td>2.075034e+07</td>\n",
       "      <td>709679.035883</td>\n",
       "      <td>2020-10-03</td>\n",
       "    </tr>\n",
       "    <tr>\n",
       "      <th>199</th>\n",
       "      <td>5.395175e+05</td>\n",
       "      <td>1.335211</td>\n",
       "      <td>-7.717771</td>\n",
       "      <td>436.962288</td>\n",
       "      <td>2.867351</td>\n",
       "      <td>-2.820984</td>\n",
       "      <td>0.870243</td>\n",
       "      <td>2.075037e+07</td>\n",
       "      <td>709679.026219</td>\n",
       "      <td>2020-10-04</td>\n",
       "    </tr>\n",
       "  </tbody>\n",
       "</table>\n",
       "<p>186 rows × 10 columns</p>\n",
       "</div>"
      ],
      "text/plain": [
       "     Susceptibles      Expuestos    Infectados         Leves       Graves  \\\n",
       "14   2.192687e+07   40777.038529  13371.245243  12802.045827  1310.043894   \n",
       "15   2.190711e+07   51727.032899  16961.131891  16271.449378  1662.582166   \n",
       "16   2.188214e+07   65493.066317  21564.312070  20651.496378  2105.453167   \n",
       "17   2.185047e+07   82907.954216  27430.238970  26208.090063  2666.358529   \n",
       "18   2.181026e+07  105058.351372  34826.005867  33279.820324  3382.153135   \n",
       "..            ...            ...           ...           ...          ...   \n",
       "195  5.395168e+05       2.782056    -16.080566    587.097457     5.974264   \n",
       "196  5.395175e+05       1.440237     -8.323521    540.177793     3.092472   \n",
       "197  5.395178e+05       0.874827     -5.055191    500.327946     1.878250   \n",
       "198  5.395177e+05       0.968861     -5.599332    466.704675     2.080372   \n",
       "199  5.395175e+05       1.335211     -7.717771    436.962288     2.867351   \n",
       "\n",
       "     Hospitalizados        ICUs   Recuperados    Defunciones      Fecha  \n",
       "14       880.233552  114.879001  3.847460e+03      31.894097 2020-04-02  \n",
       "15      1119.383271  147.561806  4.962367e+03      42.471225 2020-04-03  \n",
       "16      1424.285630  188.825600  6.381451e+03      56.051051 2020-04-04  \n",
       "17      1812.358088  241.146334  8.188692e+03      73.460560 2020-04-05  \n",
       "18      2303.657282  307.628523  1.048528e+04      95.700885 2020-04-06  \n",
       "..              ...         ...           ...            ...        ...  \n",
       "195       -5.901763    1.680581  2.075023e+07  709678.770529 2020-09-30  \n",
       "196       -3.019413    1.041372  2.075027e+07  709678.932148 2020-10-01  \n",
       "197       -1.810388    0.747436  2.075031e+07  709679.016785 2020-10-02  \n",
       "198       -2.022551    0.746986  2.075034e+07  709679.035883 2020-10-03  \n",
       "199       -2.820984    0.870243  2.075037e+07  709679.026219 2020-10-04  \n",
       "\n",
       "[186 rows x 10 columns]"
      ]
     },
     "execution_count": 664,
     "metadata": {},
     "output_type": "execute_result"
    }
   ],
   "source": [
    "solucion_sin[solucion_sin[\"Fecha\"]>\"2020-04-01\"]"
   ]
  },
  {
   "cell_type": "code",
   "execution_count": 665,
   "metadata": {},
   "outputs": [],
   "source": [
    "p_sin = bpl.figure(x_axis_type=\"datetime\",plot_width=800,plot_height=600,title=\"Modelo CDMX\")"
   ]
  },
  {
   "cell_type": "code",
   "execution_count": 666,
   "metadata": {},
   "outputs": [],
   "source": [
    "for label in [\"ICUs\"]:\n",
    "    p_sin.line(x=solucion_sin[\"Fecha\"],y=solucion_sin[label]/1000,color=colores[label],line_width=3,legend_label=label,line_alpha=0.5)"
   ]
  },
  {
   "cell_type": "code",
   "execution_count": 667,
   "metadata": {},
   "outputs": [],
   "source": [
    "p_sin.xaxis.axis_label = 'Fecha'\n",
    "p_sin.yaxis.axis_label = 'Miles de personas'\n",
    "p_sin.legend.location = \"center_right\""
   ]
  },
  {
   "cell_type": "code",
   "execution_count": 668,
   "metadata": {},
   "outputs": [
    {
     "data": {
      "text/html": [
       "\n",
       "\n",
       "\n",
       "\n",
       "\n",
       "\n",
       "  <div class=\"bk-root\" id=\"b1dfee3f-5a08-4d1e-8038-a6f5f84d83d3\" data-root-id=\"101654\"></div>\n"
      ]
     },
     "metadata": {},
     "output_type": "display_data"
    },
    {
     "data": {
      "application/javascript": [
       "(function(root) {\n",
       "  function embed_document(root) {\n",
       "    \n",
       "  var docs_json = {\"41d688b9-7e38-45e7-8e23-2146787f4dac\":{\"roots\":{\"references\":[{\"attributes\":{\"below\":[{\"id\":\"101665\"}],\"center\":[{\"id\":\"101668\"},{\"id\":\"101672\"},{\"id\":\"101710\"}],\"left\":[{\"id\":\"101669\"}],\"plot_width\":800,\"renderers\":[{\"id\":\"101690\"}],\"title\":{\"id\":\"101655\"},\"toolbar\":{\"id\":\"101680\"},\"x_range\":{\"id\":\"101657\"},\"x_scale\":{\"id\":\"101661\"},\"y_range\":{\"id\":\"101659\"},\"y_scale\":{\"id\":\"101663\"}},\"id\":\"101654\",\"subtype\":\"Figure\",\"type\":\"Plot\"},{\"attributes\":{\"overlay\":{\"id\":\"101679\"}},\"id\":\"101675\",\"type\":\"BoxZoomTool\"},{\"attributes\":{\"data_source\":{\"id\":\"101687\"},\"glyph\":{\"id\":\"101688\"},\"hover_glyph\":null,\"muted_glyph\":null,\"nonselection_glyph\":{\"id\":\"101689\"},\"selection_glyph\":null,\"view\":{\"id\":\"101691\"}},\"id\":\"101690\",\"type\":\"GlyphRenderer\"},{\"attributes\":{\"axis\":{\"id\":\"101665\"},\"ticker\":null},\"id\":\"101668\",\"type\":\"Grid\"},{\"attributes\":{\"days\":[1,8,15,22]},\"id\":\"101703\",\"type\":\"DaysTicker\"},{\"attributes\":{\"days\":[1,15]},\"id\":\"101704\",\"type\":\"DaysTicker\"},{\"attributes\":{\"months\":[0,1,2,3,4,5,6,7,8,9,10,11]},\"id\":\"101705\",\"type\":\"MonthsTicker\"},{\"attributes\":{},\"id\":\"101709\",\"type\":\"YearsTicker\"},{\"attributes\":{},\"id\":\"101661\",\"type\":\"LinearScale\"},{\"attributes\":{},\"id\":\"101676\",\"type\":\"SaveTool\"},{\"attributes\":{},\"id\":\"103619\",\"type\":\"Selection\"},{\"attributes\":{},\"id\":\"103620\",\"type\":\"UnionRenderers\"},{\"attributes\":{\"months\":[0,2,4,6,8,10]},\"id\":\"101706\",\"type\":\"MonthsTicker\"},{\"attributes\":{},\"id\":\"101674\",\"type\":\"WheelZoomTool\"},{\"attributes\":{},\"id\":\"101657\",\"type\":\"DataRange1d\"},{\"attributes\":{\"axis_label\":\"Fecha\",\"formatter\":{\"id\":\"101693\"},\"ticker\":{\"id\":\"101666\"}},\"id\":\"101665\",\"type\":\"DatetimeAxis\"},{\"attributes\":{},\"id\":\"101663\",\"type\":\"LinearScale\"},{\"attributes\":{},\"id\":\"101677\",\"type\":\"ResetTool\"},{\"attributes\":{\"months\":[0,4,8]},\"id\":\"101707\",\"type\":\"MonthsTicker\"},{\"attributes\":{\"num_minor_ticks\":5,\"tickers\":[{\"id\":\"101698\"},{\"id\":\"101699\"},{\"id\":\"101700\"},{\"id\":\"101701\"},{\"id\":\"101702\"},{\"id\":\"101703\"},{\"id\":\"101704\"},{\"id\":\"101705\"},{\"id\":\"101706\"},{\"id\":\"101707\"},{\"id\":\"101708\"},{\"id\":\"101709\"}]},\"id\":\"101666\",\"type\":\"DatetimeTicker\"},{\"attributes\":{\"data\":{\"x\":{\"__ndarray__\":\"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\",\"dtype\":\"float64\",\"shape\":[200]},\"y\":{\"__ndarray__\":\"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\",\"dtype\":\"float64\",\"shape\":[200]}},\"selected\":{\"id\":\"103619\"},\"selection_policy\":{\"id\":\"103620\"}},\"id\":\"101687\",\"type\":\"ColumnDataSource\"},{\"attributes\":{\"text\":\"Modelo CDMX\"},\"id\":\"101655\",\"type\":\"Title\"},{\"attributes\":{\"source\":{\"id\":\"101687\"}},\"id\":\"101691\",\"type\":\"CDSView\"},{\"attributes\":{},\"id\":\"101670\",\"type\":\"BasicTicker\"},{\"attributes\":{\"mantissas\":[1,2,5],\"max_interval\":500.0,\"num_minor_ticks\":0},\"id\":\"101698\",\"type\":\"AdaptiveTicker\"},{\"attributes\":{},\"id\":\"101673\",\"type\":\"PanTool\"},{\"attributes\":{\"label\":{\"value\":\"ICUs\"},\"renderers\":[{\"id\":\"101690\"}]},\"id\":\"101711\",\"type\":\"LegendItem\"},{\"attributes\":{\"base\":60,\"mantissas\":[1,2,5,10,15,20,30],\"max_interval\":1800000.0,\"min_interval\":1000.0,\"num_minor_ticks\":0},\"id\":\"101699\",\"type\":\"AdaptiveTicker\"},{\"attributes\":{\"months\":[0,6]},\"id\":\"101708\",\"type\":\"MonthsTicker\"},{\"attributes\":{\"axis_label\":\"Miles de personas\",\"formatter\":{\"id\":\"101695\"},\"ticker\":{\"id\":\"101670\"}},\"id\":\"101669\",\"type\":\"LinearAxis\"},{\"attributes\":{},\"id\":\"101695\",\"type\":\"BasicTickFormatter\"},{\"attributes\":{},\"id\":\"101693\",\"type\":\"DatetimeTickFormatter\"},{\"attributes\":{},\"id\":\"101659\",\"type\":\"DataRange1d\"},{\"attributes\":{\"line_alpha\":0.5,\"line_color\":\"#662506\",\"line_width\":3,\"x\":{\"field\":\"x\"},\"y\":{\"field\":\"y\"}},\"id\":\"101688\",\"type\":\"Line\"},{\"attributes\":{\"line_alpha\":0.1,\"line_color\":\"#662506\",\"line_width\":3,\"x\":{\"field\":\"x\"},\"y\":{\"field\":\"y\"}},\"id\":\"101689\",\"type\":\"Line\"},{\"attributes\":{\"items\":[{\"id\":\"101711\"}],\"location\":\"center_right\"},\"id\":\"101710\",\"type\":\"Legend\"},{\"attributes\":{\"active_drag\":\"auto\",\"active_inspect\":\"auto\",\"active_multi\":null,\"active_scroll\":\"auto\",\"active_tap\":\"auto\",\"tools\":[{\"id\":\"101673\"},{\"id\":\"101674\"},{\"id\":\"101675\"},{\"id\":\"101676\"},{\"id\":\"101677\"},{\"id\":\"101678\"}]},\"id\":\"101680\",\"type\":\"Toolbar\"},{\"attributes\":{\"days\":[1,2,3,4,5,6,7,8,9,10,11,12,13,14,15,16,17,18,19,20,21,22,23,24,25,26,27,28,29,30,31]},\"id\":\"101701\",\"type\":\"DaysTicker\"},{\"attributes\":{\"bottom_units\":\"screen\",\"fill_alpha\":0.5,\"fill_color\":\"lightgrey\",\"left_units\":\"screen\",\"level\":\"overlay\",\"line_alpha\":1.0,\"line_color\":\"black\",\"line_dash\":[4,4],\"line_width\":2,\"render_mode\":\"css\",\"right_units\":\"screen\",\"top_units\":\"screen\"},\"id\":\"101679\",\"type\":\"BoxAnnotation\"},{\"attributes\":{\"base\":24,\"mantissas\":[1,2,4,6,8,12],\"max_interval\":43200000.0,\"min_interval\":3600000.0,\"num_minor_ticks\":0},\"id\":\"101700\",\"type\":\"AdaptiveTicker\"},{\"attributes\":{\"days\":[1,4,7,10,13,16,19,22,25,28]},\"id\":\"101702\",\"type\":\"DaysTicker\"},{\"attributes\":{},\"id\":\"101678\",\"type\":\"HelpTool\"},{\"attributes\":{\"axis\":{\"id\":\"101669\"},\"dimension\":1,\"ticker\":null},\"id\":\"101672\",\"type\":\"Grid\"}],\"root_ids\":[\"101654\"]},\"title\":\"Bokeh Application\",\"version\":\"2.0.1\"}};\n",
       "  var render_items = [{\"docid\":\"41d688b9-7e38-45e7-8e23-2146787f4dac\",\"root_ids\":[\"101654\"],\"roots\":{\"101654\":\"b1dfee3f-5a08-4d1e-8038-a6f5f84d83d3\"}}];\n",
       "  root.Bokeh.embed.embed_items_notebook(docs_json, render_items);\n",
       "\n",
       "  }\n",
       "  if (root.Bokeh !== undefined) {\n",
       "    embed_document(root);\n",
       "  } else {\n",
       "    var attempts = 0;\n",
       "    var timer = setInterval(function(root) {\n",
       "      if (root.Bokeh !== undefined) {\n",
       "        clearInterval(timer);\n",
       "        embed_document(root);\n",
       "      } else {\n",
       "        attempts++;\n",
       "        if (attempts > 100) {\n",
       "          clearInterval(timer);\n",
       "          console.log(\"Bokeh: ERROR: Unable to run BokehJS code because BokehJS library is missing\");\n",
       "        }\n",
       "      }\n",
       "    }, 10, root)\n",
       "  }\n",
       "})(window);"
      ],
      "application/vnd.bokehjs_exec.v0+json": ""
     },
     "metadata": {
      "application/vnd.bokehjs_exec.v0+json": {
       "id": "101654"
      }
     },
     "output_type": "display_data"
    }
   ],
   "source": [
    "bpl.show(p_sin)"
   ]
  },
  {
   "cell_type": "code",
   "execution_count": 669,
   "metadata": {},
   "outputs": [],
   "source": [
    "rp = bpl.figure(x_axis_type=\"datetime\",plot_width=800,plot_height=600,title=\"Modelo CDMX\",y_range=(0,4))"
   ]
  },
  {
   "cell_type": "code",
   "execution_count": 670,
   "metadata": {},
   "outputs": [],
   "source": [
    "for label in [\"Infectados\"]:\n",
    "    #p.line(x=solucion_sin[\"Fecha\"],y=solucion_sin[label]/1000,color=colores[label],line_width=3,legend_label=label,line_alpha=0.5)\n",
    "    rp.line(x=solucion_con[\"Fecha\"],y=solucion_con[\"R_t\"],color=colores[label],line_width=3,legend_label=label,line_alpha=0.5)"
   ]
  },
  {
   "cell_type": "code",
   "execution_count": 671,
   "metadata": {},
   "outputs": [],
   "source": [
    "rp.xaxis.axis_label = 'Fecha'\n",
    "rp.yaxis.axis_label = 'R_t'\n",
    "rp.legend.location = \"center_right\""
   ]
  },
  {
   "cell_type": "code",
   "execution_count": 672,
   "metadata": {},
   "outputs": [
    {
     "data": {
      "text/html": [
       "\n",
       "\n",
       "\n",
       "\n",
       "\n",
       "\n",
       "  <div class=\"bk-root\" id=\"c0861ad5-8fc2-4d8b-ac84-1961672ea851\" data-root-id=\"103754\"></div>\n"
      ]
     },
     "metadata": {},
     "output_type": "display_data"
    },
    {
     "data": {
      "application/javascript": [
       "(function(root) {\n",
       "  function embed_document(root) {\n",
       "    \n",
       "  var docs_json = {\"f9e368b5-8def-440e-8aed-4f8d5baea662\":{\"roots\":{\"references\":[{\"attributes\":{\"below\":[{\"id\":\"103765\"}],\"center\":[{\"id\":\"103768\"},{\"id\":\"103772\"},{\"id\":\"103810\"}],\"left\":[{\"id\":\"103769\"}],\"plot_width\":800,\"renderers\":[{\"id\":\"103790\"}],\"title\":{\"id\":\"103755\"},\"toolbar\":{\"id\":\"103780\"},\"x_range\":{\"id\":\"103757\"},\"x_scale\":{\"id\":\"103761\"},\"y_range\":{\"id\":\"103759\"},\"y_scale\":{\"id\":\"103763\"}},\"id\":\"103754\",\"subtype\":\"Figure\",\"type\":\"Plot\"},{\"attributes\":{\"data\":{\"x\":{\"__ndarray__\":\"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\",\"dtype\":\"float64\",\"shape\":[200]},\"y\":{\"__ndarray__\":\"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\",\"dtype\":\"float64\",\"shape\":[200]}},\"selected\":{\"id\":\"105739\"},\"selection_policy\":{\"id\":\"105740\"}},\"id\":\"103787\",\"type\":\"ColumnDataSource\"},{\"attributes\":{\"data_source\":{\"id\":\"103787\"},\"glyph\":{\"id\":\"103788\"},\"hover_glyph\":null,\"muted_glyph\":null,\"nonselection_glyph\":{\"id\":\"103789\"},\"selection_glyph\":null,\"view\":{\"id\":\"103791\"}},\"id\":\"103790\",\"type\":\"GlyphRenderer\"},{\"attributes\":{\"axis_label\":\"Fecha\",\"formatter\":{\"id\":\"103793\"},\"ticker\":{\"id\":\"103766\"}},\"id\":\"103765\",\"type\":\"DatetimeAxis\"},{\"attributes\":{},\"id\":\"103773\",\"type\":\"PanTool\"},{\"attributes\":{},\"id\":\"105740\",\"type\":\"UnionRenderers\"},{\"attributes\":{\"base\":60,\"mantissas\":[1,2,5,10,15,20,30],\"max_interval\":1800000.0,\"min_interval\":1000.0,\"num_minor_ticks\":0},\"id\":\"103799\",\"type\":\"AdaptiveTicker\"},{\"attributes\":{\"base\":24,\"mantissas\":[1,2,4,6,8,12],\"max_interval\":43200000.0,\"min_interval\":3600000.0,\"num_minor_ticks\":0},\"id\":\"103800\",\"type\":\"AdaptiveTicker\"},{\"attributes\":{\"axis_label\":\"R_t\",\"formatter\":{\"id\":\"103795\"},\"ticker\":{\"id\":\"103770\"}},\"id\":\"103769\",\"type\":\"LinearAxis\"},{\"attributes\":{\"months\":[0,6]},\"id\":\"103808\",\"type\":\"MonthsTicker\"},{\"attributes\":{\"axis\":{\"id\":\"103769\"},\"dimension\":1,\"ticker\":null},\"id\":\"103772\",\"type\":\"Grid\"},{\"attributes\":{},\"id\":\"103770\",\"type\":\"BasicTicker\"},{\"attributes\":{\"bottom_units\":\"screen\",\"fill_alpha\":0.5,\"fill_color\":\"lightgrey\",\"left_units\":\"screen\",\"level\":\"overlay\",\"line_alpha\":1.0,\"line_color\":\"black\",\"line_dash\":[4,4],\"line_width\":2,\"render_mode\":\"css\",\"right_units\":\"screen\",\"top_units\":\"screen\"},\"id\":\"103779\",\"type\":\"BoxAnnotation\"},{\"attributes\":{\"months\":[0,1,2,3,4,5,6,7,8,9,10,11]},\"id\":\"103805\",\"type\":\"MonthsTicker\"},{\"attributes\":{\"days\":[1,2,3,4,5,6,7,8,9,10,11,12,13,14,15,16,17,18,19,20,21,22,23,24,25,26,27,28,29,30,31]},\"id\":\"103801\",\"type\":\"DaysTicker\"},{\"attributes\":{\"days\":[1,8,15,22]},\"id\":\"103803\",\"type\":\"DaysTicker\"},{\"attributes\":{\"axis\":{\"id\":\"103765\"},\"ticker\":null},\"id\":\"103768\",\"type\":\"Grid\"},{\"attributes\":{\"overlay\":{\"id\":\"103779\"}},\"id\":\"103775\",\"type\":\"BoxZoomTool\"},{\"attributes\":{},\"id\":\"105739\",\"type\":\"Selection\"},{\"attributes\":{\"months\":[0,4,8]},\"id\":\"103807\",\"type\":\"MonthsTicker\"},{\"attributes\":{\"days\":[1,15]},\"id\":\"103804\",\"type\":\"DaysTicker\"},{\"attributes\":{},\"id\":\"103793\",\"type\":\"DatetimeTickFormatter\"},{\"attributes\":{},\"id\":\"103774\",\"type\":\"WheelZoomTool\"},{\"attributes\":{},\"id\":\"103795\",\"type\":\"BasicTickFormatter\"},{\"attributes\":{\"active_drag\":\"auto\",\"active_inspect\":\"auto\",\"active_multi\":null,\"active_scroll\":\"auto\",\"active_tap\":\"auto\",\"tools\":[{\"id\":\"103773\"},{\"id\":\"103774\"},{\"id\":\"103775\"},{\"id\":\"103776\"},{\"id\":\"103777\"},{\"id\":\"103778\"}]},\"id\":\"103780\",\"type\":\"Toolbar\"},{\"attributes\":{\"num_minor_ticks\":5,\"tickers\":[{\"id\":\"103798\"},{\"id\":\"103799\"},{\"id\":\"103800\"},{\"id\":\"103801\"},{\"id\":\"103802\"},{\"id\":\"103803\"},{\"id\":\"103804\"},{\"id\":\"103805\"},{\"id\":\"103806\"},{\"id\":\"103807\"},{\"id\":\"103808\"},{\"id\":\"103809\"}]},\"id\":\"103766\",\"type\":\"DatetimeTicker\"},{\"attributes\":{\"source\":{\"id\":\"103787\"}},\"id\":\"103791\",\"type\":\"CDSView\"},{\"attributes\":{\"items\":[{\"id\":\"103811\"}],\"location\":\"center_right\"},\"id\":\"103810\",\"type\":\"Legend\"},{\"attributes\":{},\"id\":\"103757\",\"type\":\"DataRange1d\"},{\"attributes\":{},\"id\":\"103761\",\"type\":\"LinearScale\"},{\"attributes\":{\"line_alpha\":0.5,\"line_color\":\"Red\",\"line_width\":3,\"x\":{\"field\":\"x\"},\"y\":{\"field\":\"y\"}},\"id\":\"103788\",\"type\":\"Line\"},{\"attributes\":{\"label\":{\"value\":\"Infectados\"},\"renderers\":[{\"id\":\"103790\"}]},\"id\":\"103811\",\"type\":\"LegendItem\"},{\"attributes\":{},\"id\":\"103778\",\"type\":\"HelpTool\"},{\"attributes\":{\"mantissas\":[1,2,5],\"max_interval\":500.0,\"num_minor_ticks\":0},\"id\":\"103798\",\"type\":\"AdaptiveTicker\"},{\"attributes\":{\"line_alpha\":0.1,\"line_color\":\"Red\",\"line_width\":3,\"x\":{\"field\":\"x\"},\"y\":{\"field\":\"y\"}},\"id\":\"103789\",\"type\":\"Line\"},{\"attributes\":{},\"id\":\"103763\",\"type\":\"LinearScale\"},{\"attributes\":{},\"id\":\"103776\",\"type\":\"SaveTool\"},{\"attributes\":{\"months\":[0,2,4,6,8,10]},\"id\":\"103806\",\"type\":\"MonthsTicker\"},{\"attributes\":{},\"id\":\"103777\",\"type\":\"ResetTool\"},{\"attributes\":{\"days\":[1,4,7,10,13,16,19,22,25,28]},\"id\":\"103802\",\"type\":\"DaysTicker\"},{\"attributes\":{},\"id\":\"103809\",\"type\":\"YearsTicker\"},{\"attributes\":{\"end\":4},\"id\":\"103759\",\"type\":\"Range1d\"},{\"attributes\":{\"text\":\"Modelo CDMX\"},\"id\":\"103755\",\"type\":\"Title\"}],\"root_ids\":[\"103754\"]},\"title\":\"Bokeh Application\",\"version\":\"2.0.1\"}};\n",
       "  var render_items = [{\"docid\":\"f9e368b5-8def-440e-8aed-4f8d5baea662\",\"root_ids\":[\"103754\"],\"roots\":{\"103754\":\"c0861ad5-8fc2-4d8b-ac84-1961672ea851\"}}];\n",
       "  root.Bokeh.embed.embed_items_notebook(docs_json, render_items);\n",
       "\n",
       "  }\n",
       "  if (root.Bokeh !== undefined) {\n",
       "    embed_document(root);\n",
       "  } else {\n",
       "    var attempts = 0;\n",
       "    var timer = setInterval(function(root) {\n",
       "      if (root.Bokeh !== undefined) {\n",
       "        clearInterval(timer);\n",
       "        embed_document(root);\n",
       "      } else {\n",
       "        attempts++;\n",
       "        if (attempts > 100) {\n",
       "          clearInterval(timer);\n",
       "          console.log(\"Bokeh: ERROR: Unable to run BokehJS code because BokehJS library is missing\");\n",
       "        }\n",
       "      }\n",
       "    }, 10, root)\n",
       "  }\n",
       "})(window);"
      ],
      "application/vnd.bokehjs_exec.v0+json": ""
     },
     "metadata": {
      "application/vnd.bokehjs_exec.v0+json": {
       "id": "103754"
      }
     },
     "output_type": "display_data"
    }
   ],
   "source": [
    "bpl.show(rp)"
   ]
  },
  {
   "cell_type": "code",
   "execution_count": 673,
   "metadata": {},
   "outputs": [],
   "source": [
    "p_con = bpl.figure(x_axis_type=\"datetime\",plot_width=800,plot_height=600,title=\"Modelo CDMX\")"
   ]
  },
  {
   "cell_type": "code",
   "execution_count": 674,
   "metadata": {},
   "outputs": [],
   "source": [
    "for label in [\"ICUs\"]:\n",
    "    p_con.line(x=solucion_con[\"Fecha\"],y=solucion_con[label]/1000,color=colores[label],line_width=3,legend_label=label,line_alpha=0.5,line_dash=\"dotted\")"
   ]
  },
  {
   "cell_type": "code",
   "execution_count": 675,
   "metadata": {},
   "outputs": [],
   "source": [
    "p_con.xaxis.axis_label = 'Fecha'\n",
    "p_con.yaxis.axis_label = 'Miles de personas'\n",
    "p_con.legend.location = \"center_right\""
   ]
  },
  {
   "cell_type": "code",
   "execution_count": 676,
   "metadata": {},
   "outputs": [
    {
     "data": {
      "text/html": [
       "\n",
       "\n",
       "\n",
       "\n",
       "\n",
       "\n",
       "  <div class=\"bk-root\" id=\"8432d75d-e104-491d-8703-8af1907d5532\" data-root-id=\"105874\"></div>\n"
      ]
     },
     "metadata": {},
     "output_type": "display_data"
    },
    {
     "data": {
      "application/javascript": [
       "(function(root) {\n",
       "  function embed_document(root) {\n",
       "    \n",
       "  var docs_json = {\"856ea471-3f31-46ff-9b7a-064f13fb5d09\":{\"roots\":{\"references\":[{\"attributes\":{\"below\":[{\"id\":\"105885\"}],\"center\":[{\"id\":\"105888\"},{\"id\":\"105892\"},{\"id\":\"105930\"}],\"left\":[{\"id\":\"105889\"}],\"plot_width\":800,\"renderers\":[{\"id\":\"105910\"}],\"title\":{\"id\":\"105875\"},\"toolbar\":{\"id\":\"105900\"},\"x_range\":{\"id\":\"105877\"},\"x_scale\":{\"id\":\"105881\"},\"y_range\":{\"id\":\"105879\"},\"y_scale\":{\"id\":\"105883\"}},\"id\":\"105874\",\"subtype\":\"Figure\",\"type\":\"Plot\"},{\"attributes\":{},\"id\":\"105879\",\"type\":\"DataRange1d\"},{\"attributes\":{\"axis_label\":\"Fecha\",\"formatter\":{\"id\":\"105913\"},\"ticker\":{\"id\":\"105886\"}},\"id\":\"105885\",\"type\":\"DatetimeAxis\"},{\"attributes\":{},\"id\":\"105894\",\"type\":\"WheelZoomTool\"},{\"attributes\":{},\"id\":\"105897\",\"type\":\"ResetTool\"},{\"attributes\":{},\"id\":\"105913\",\"type\":\"DatetimeTickFormatter\"},{\"attributes\":{\"days\":[1,4,7,10,13,16,19,22,25,28]},\"id\":\"105922\",\"type\":\"DaysTicker\"},{\"attributes\":{},\"id\":\"105883\",\"type\":\"LinearScale\"},{\"attributes\":{\"months\":[0,2,4,6,8,10]},\"id\":\"105926\",\"type\":\"MonthsTicker\"},{\"attributes\":{\"bottom_units\":\"screen\",\"fill_alpha\":0.5,\"fill_color\":\"lightgrey\",\"left_units\":\"screen\",\"level\":\"overlay\",\"line_alpha\":1.0,\"line_color\":\"black\",\"line_dash\":[4,4],\"line_width\":2,\"render_mode\":\"css\",\"right_units\":\"screen\",\"top_units\":\"screen\"},\"id\":\"105899\",\"type\":\"BoxAnnotation\"},{\"attributes\":{\"base\":24,\"mantissas\":[1,2,4,6,8,12],\"max_interval\":43200000.0,\"min_interval\":3600000.0,\"num_minor_ticks\":0},\"id\":\"105920\",\"type\":\"AdaptiveTicker\"},{\"attributes\":{},\"id\":\"105877\",\"type\":\"DataRange1d\"},{\"attributes\":{\"text\":\"Modelo CDMX\"},\"id\":\"105875\",\"type\":\"Title\"},{\"attributes\":{\"source\":{\"id\":\"105907\"}},\"id\":\"105911\",\"type\":\"CDSView\"},{\"attributes\":{\"active_drag\":\"auto\",\"active_inspect\":\"auto\",\"active_multi\":null,\"active_scroll\":\"auto\",\"active_tap\":\"auto\",\"tools\":[{\"id\":\"105893\"},{\"id\":\"105894\"},{\"id\":\"105895\"},{\"id\":\"105896\"},{\"id\":\"105897\"},{\"id\":\"105898\"}]},\"id\":\"105900\",\"type\":\"Toolbar\"},{\"attributes\":{\"items\":[{\"id\":\"105931\"}],\"location\":\"center_right\"},\"id\":\"105930\",\"type\":\"Legend\"},{\"attributes\":{\"months\":[0,6]},\"id\":\"105928\",\"type\":\"MonthsTicker\"},{\"attributes\":{\"months\":[0,4,8]},\"id\":\"105927\",\"type\":\"MonthsTicker\"},{\"attributes\":{},\"id\":\"105929\",\"type\":\"YearsTicker\"},{\"attributes\":{},\"id\":\"105881\",\"type\":\"LinearScale\"},{\"attributes\":{},\"id\":\"105915\",\"type\":\"BasicTickFormatter\"},{\"attributes\":{\"mantissas\":[1,2,5],\"max_interval\":500.0,\"num_minor_ticks\":0},\"id\":\"105918\",\"type\":\"AdaptiveTicker\"},{\"attributes\":{},\"id\":\"105898\",\"type\":\"HelpTool\"},{\"attributes\":{\"months\":[0,1,2,3,4,5,6,7,8,9,10,11]},\"id\":\"105925\",\"type\":\"MonthsTicker\"},{\"attributes\":{\"data_source\":{\"id\":\"105907\"},\"glyph\":{\"id\":\"105908\"},\"hover_glyph\":null,\"muted_glyph\":null,\"nonselection_glyph\":{\"id\":\"105909\"},\"selection_glyph\":null,\"view\":{\"id\":\"105911\"}},\"id\":\"105910\",\"type\":\"GlyphRenderer\"},{\"attributes\":{\"axis_label\":\"Miles de personas\",\"formatter\":{\"id\":\"105915\"},\"ticker\":{\"id\":\"105890\"}},\"id\":\"105889\",\"type\":\"LinearAxis\"},{\"attributes\":{\"line_alpha\":0.5,\"line_color\":\"#662506\",\"line_dash\":[2,4],\"line_width\":3,\"x\":{\"field\":\"x\"},\"y\":{\"field\":\"y\"}},\"id\":\"105908\",\"type\":\"Line\"},{\"attributes\":{},\"id\":\"105893\",\"type\":\"PanTool\"},{\"attributes\":{\"num_minor_ticks\":5,\"tickers\":[{\"id\":\"105918\"},{\"id\":\"105919\"},{\"id\":\"105920\"},{\"id\":\"105921\"},{\"id\":\"105922\"},{\"id\":\"105923\"},{\"id\":\"105924\"},{\"id\":\"105925\"},{\"id\":\"105926\"},{\"id\":\"105927\"},{\"id\":\"105928\"},{\"id\":\"105929\"}]},\"id\":\"105886\",\"type\":\"DatetimeTicker\"},{\"attributes\":{\"line_alpha\":0.1,\"line_color\":\"#662506\",\"line_dash\":[2,4],\"line_width\":3,\"x\":{\"field\":\"x\"},\"y\":{\"field\":\"y\"}},\"id\":\"105909\",\"type\":\"Line\"},{\"attributes\":{\"days\":[1,2,3,4,5,6,7,8,9,10,11,12,13,14,15,16,17,18,19,20,21,22,23,24,25,26,27,28,29,30,31]},\"id\":\"105921\",\"type\":\"DaysTicker\"},{\"attributes\":{\"data\":{\"x\":{\"__ndarray__\":\"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\",\"dtype\":\"float64\",\"shape\":[200]},\"y\":{\"__ndarray__\":\"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\",\"dtype\":\"float64\",\"shape\":[200]}},\"selected\":{\"id\":\"107879\"},\"selection_policy\":{\"id\":\"107880\"}},\"id\":\"105907\",\"type\":\"ColumnDataSource\"},{\"attributes\":{},\"id\":\"107879\",\"type\":\"Selection\"},{\"attributes\":{\"days\":[1,15]},\"id\":\"105924\",\"type\":\"DaysTicker\"},{\"attributes\":{},\"id\":\"105890\",\"type\":\"BasicTicker\"},{\"attributes\":{\"base\":60,\"mantissas\":[1,2,5,10,15,20,30],\"max_interval\":1800000.0,\"min_interval\":1000.0,\"num_minor_ticks\":0},\"id\":\"105919\",\"type\":\"AdaptiveTicker\"},{\"attributes\":{\"days\":[1,8,15,22]},\"id\":\"105923\",\"type\":\"DaysTicker\"},{\"attributes\":{\"overlay\":{\"id\":\"105899\"}},\"id\":\"105895\",\"type\":\"BoxZoomTool\"},{\"attributes\":{\"label\":{\"value\":\"ICUs\"},\"renderers\":[{\"id\":\"105910\"}]},\"id\":\"105931\",\"type\":\"LegendItem\"},{\"attributes\":{},\"id\":\"107880\",\"type\":\"UnionRenderers\"},{\"attributes\":{\"axis\":{\"id\":\"105885\"},\"ticker\":null},\"id\":\"105888\",\"type\":\"Grid\"},{\"attributes\":{\"axis\":{\"id\":\"105889\"},\"dimension\":1,\"ticker\":null},\"id\":\"105892\",\"type\":\"Grid\"},{\"attributes\":{},\"id\":\"105896\",\"type\":\"SaveTool\"}],\"root_ids\":[\"105874\"]},\"title\":\"Bokeh Application\",\"version\":\"2.0.1\"}};\n",
       "  var render_items = [{\"docid\":\"856ea471-3f31-46ff-9b7a-064f13fb5d09\",\"root_ids\":[\"105874\"],\"roots\":{\"105874\":\"8432d75d-e104-491d-8703-8af1907d5532\"}}];\n",
       "  root.Bokeh.embed.embed_items_notebook(docs_json, render_items);\n",
       "\n",
       "  }\n",
       "  if (root.Bokeh !== undefined) {\n",
       "    embed_document(root);\n",
       "  } else {\n",
       "    var attempts = 0;\n",
       "    var timer = setInterval(function(root) {\n",
       "      if (root.Bokeh !== undefined) {\n",
       "        clearInterval(timer);\n",
       "        embed_document(root);\n",
       "      } else {\n",
       "        attempts++;\n",
       "        if (attempts > 100) {\n",
       "          clearInterval(timer);\n",
       "          console.log(\"Bokeh: ERROR: Unable to run BokehJS code because BokehJS library is missing\");\n",
       "        }\n",
       "      }\n",
       "    }, 10, root)\n",
       "  }\n",
       "})(window);"
      ],
      "application/vnd.bokehjs_exec.v0+json": ""
     },
     "metadata": {
      "application/vnd.bokehjs_exec.v0+json": {
       "id": "105874"
      }
     },
     "output_type": "display_data"
    }
   ],
   "source": [
    "bpl.show(p_con)"
   ]
  },
  {
   "cell_type": "markdown",
   "metadata": {},
   "source": [
    "Obtención de los últimos datos para México"
   ]
  },
  {
   "cell_type": "code",
   "execution_count": 482,
   "metadata": {},
   "outputs": [],
   "source": [
    "urlnew = \"http://187.191.75.115/gobmx/salud/datos_abiertos/datos_abiertos_covid19.zip\"\n",
    "fecha_archivo = pd.Timestamp(\"2020-05-15\")"
   ]
  },
  {
   "cell_type": "code",
   "execution_count": 13,
   "metadata": {},
   "outputs": [],
   "source": [
    "archivo = fecha_archivo.strftime(\"%y%m%d\")+\"COVID19MEXICO.csv\""
   ]
  },
  {
   "cell_type": "code",
   "execution_count": 14,
   "metadata": {},
   "outputs": [],
   "source": [
    "r = requests.get(urlnew)\n",
    "z = zipfile.ZipFile(io.BytesIO(r.content))\n",
    "z.extractall(path=\"./datos_federales/\")"
   ]
  },
  {
   "cell_type": "code",
   "execution_count": 15,
   "metadata": {},
   "outputs": [],
   "source": [
    "data = pd.read_csv('./datos_federales/' + archivo,encoding=\"latin1\", low_memory=False)"
   ]
  },
  {
   "cell_type": "code",
   "execution_count": 16,
   "metadata": {},
   "outputs": [],
   "source": [
    "data[\"FECHA_ACTUALIZACION\"] = pd.to_datetime(data[\"FECHA_ACTUALIZACION\"],format=\"%Y-%m-%d\")\n",
    "data[\"FECHA_INGRESO\"] = pd.to_datetime(data[\"FECHA_INGRESO\"],format=\"%Y-%m-%d\")\n",
    "data[\"FECHA_DEF\"] = pd.to_datetime(data[\"FECHA_DEF\"].replace({\"9999-99-99\":None}),format=\"%Y-%m-%d\")\n",
    "data[\"FECHA_SINTOMAS\"] = pd.to_datetime(data[\"FECHA_SINTOMAS\"],format=\"%Y-%m-%d\")"
   ]
  },
  {
   "cell_type": "code",
   "execution_count": 44,
   "metadata": {},
   "outputs": [
    {
     "data": {
      "text/html": [
       "<div>\n",
       "<style scoped>\n",
       "    .dataframe tbody tr th:only-of-type {\n",
       "        vertical-align: middle;\n",
       "    }\n",
       "\n",
       "    .dataframe tbody tr th {\n",
       "        vertical-align: top;\n",
       "    }\n",
       "\n",
       "    .dataframe thead th {\n",
       "        text-align: right;\n",
       "    }\n",
       "</style>\n",
       "<table border=\"1\" class=\"dataframe\">\n",
       "  <thead>\n",
       "    <tr style=\"text-align: right;\">\n",
       "      <th></th>\n",
       "      <th>FECHA_ACTUALIZACION</th>\n",
       "      <th>ID_REGISTRO</th>\n",
       "      <th>ORIGEN</th>\n",
       "      <th>SECTOR</th>\n",
       "      <th>ENTIDAD_UM</th>\n",
       "      <th>SEXO</th>\n",
       "      <th>ENTIDAD_NAC</th>\n",
       "      <th>ENTIDAD_RES</th>\n",
       "      <th>MUNICIPIO_RES</th>\n",
       "      <th>TIPO_PACIENTE</th>\n",
       "      <th>...</th>\n",
       "      <th>CARDIOVASCULAR</th>\n",
       "      <th>OBESIDAD</th>\n",
       "      <th>RENAL_CRONICA</th>\n",
       "      <th>TABAQUISMO</th>\n",
       "      <th>OTRO_CASO</th>\n",
       "      <th>RESULTADO</th>\n",
       "      <th>MIGRANTE</th>\n",
       "      <th>PAIS_NACIONALIDAD</th>\n",
       "      <th>PAIS_ORIGEN</th>\n",
       "      <th>UCI</th>\n",
       "    </tr>\n",
       "  </thead>\n",
       "  <tbody>\n",
       "    <tr>\n",
       "      <th>0</th>\n",
       "      <td>2020-05-15</td>\n",
       "      <td>04ba92</td>\n",
       "      <td>2</td>\n",
       "      <td>3</td>\n",
       "      <td>15</td>\n",
       "      <td>2</td>\n",
       "      <td>15</td>\n",
       "      <td>15</td>\n",
       "      <td>29</td>\n",
       "      <td>1</td>\n",
       "      <td>...</td>\n",
       "      <td>2</td>\n",
       "      <td>2</td>\n",
       "      <td>2</td>\n",
       "      <td>1</td>\n",
       "      <td>2</td>\n",
       "      <td>1</td>\n",
       "      <td>99</td>\n",
       "      <td>MÃ©xico</td>\n",
       "      <td>99</td>\n",
       "      <td>97</td>\n",
       "    </tr>\n",
       "    <tr>\n",
       "      <th>1</th>\n",
       "      <td>2020-05-15</td>\n",
       "      <td>12fb08</td>\n",
       "      <td>2</td>\n",
       "      <td>3</td>\n",
       "      <td>27</td>\n",
       "      <td>1</td>\n",
       "      <td>27</td>\n",
       "      <td>27</td>\n",
       "      <td>4</td>\n",
       "      <td>1</td>\n",
       "      <td>...</td>\n",
       "      <td>2</td>\n",
       "      <td>2</td>\n",
       "      <td>2</td>\n",
       "      <td>2</td>\n",
       "      <td>1</td>\n",
       "      <td>1</td>\n",
       "      <td>99</td>\n",
       "      <td>MÃ©xico</td>\n",
       "      <td>99</td>\n",
       "      <td>97</td>\n",
       "    </tr>\n",
       "    <tr>\n",
       "      <th>2</th>\n",
       "      <td>2020-05-15</td>\n",
       "      <td>13889a</td>\n",
       "      <td>2</td>\n",
       "      <td>3</td>\n",
       "      <td>27</td>\n",
       "      <td>1</td>\n",
       "      <td>27</td>\n",
       "      <td>27</td>\n",
       "      <td>12</td>\n",
       "      <td>1</td>\n",
       "      <td>...</td>\n",
       "      <td>2</td>\n",
       "      <td>1</td>\n",
       "      <td>2</td>\n",
       "      <td>2</td>\n",
       "      <td>1</td>\n",
       "      <td>1</td>\n",
       "      <td>99</td>\n",
       "      <td>MÃ©xico</td>\n",
       "      <td>99</td>\n",
       "      <td>97</td>\n",
       "    </tr>\n",
       "  </tbody>\n",
       "</table>\n",
       "<p>3 rows × 35 columns</p>\n",
       "</div>"
      ],
      "text/plain": [
       "  FECHA_ACTUALIZACION ID_REGISTRO  ORIGEN  SECTOR  ENTIDAD_UM  SEXO  \\\n",
       "0          2020-05-15      04ba92       2       3          15     2   \n",
       "1          2020-05-15      12fb08       2       3          27     1   \n",
       "2          2020-05-15      13889a       2       3          27     1   \n",
       "\n",
       "   ENTIDAD_NAC  ENTIDAD_RES  MUNICIPIO_RES  TIPO_PACIENTE  ... CARDIOVASCULAR  \\\n",
       "0           15           15             29              1  ...              2   \n",
       "1           27           27              4              1  ...              2   \n",
       "2           27           27             12              1  ...              2   \n",
       "\n",
       "  OBESIDAD RENAL_CRONICA  TABAQUISMO  OTRO_CASO  RESULTADO  MIGRANTE  \\\n",
       "0        2             2           1          2          1        99   \n",
       "1        2             2           2          1          1        99   \n",
       "2        1             2           2          1          1        99   \n",
       "\n",
       "   PAIS_NACIONALIDAD  PAIS_ORIGEN  UCI  \n",
       "0            MÃ©xico           99   97  \n",
       "1            MÃ©xico           99   97  \n",
       "2            MÃ©xico           99   97  \n",
       "\n",
       "[3 rows x 35 columns]"
      ]
     },
     "execution_count": 44,
     "metadata": {},
     "output_type": "execute_result"
    }
   ],
   "source": [
    "data[:3]"
   ]
  },
  {
   "cell_type": "markdown",
   "metadata": {},
   "source": [
    "Filtrado de datos"
   ]
  },
  {
   "cell_type": "code",
   "execution_count": 116,
   "metadata": {},
   "outputs": [],
   "source": [
    "sun_data_mun = pd.read_csv(\"./datos_SUNs/Proy_ZM_2015_mun.csv\",encoding=\"latin1\")\n",
    "sun_data = pd.read_csv(\"./datos_SUNs/Proy_ZM_2015.csv\",encoding=\"latin1\")"
   ]
  },
  {
   "cell_type": "code",
   "execution_count": 119,
   "metadata": {},
   "outputs": [],
   "source": [
    "sun_data_mun[\"CVE_MUN\"] = sun_data_mun[\"CVE_MUN\"].astype(str).str.zfill(5)"
   ]
  },
  {
   "cell_type": "code",
   "execution_count": 143,
   "metadata": {},
   "outputs": [],
   "source": [
    "suns = pd.merge(sun_data[[\"CVE_SUN\",\"NOM_SUN\",\"P_2020\"]],sun_data_mun.groupby(\"CVE_SUN\")[\"CVE_MUN\"].unique().to_frame(\"claves\").reset_index(),how=\"outer\",on=\"CVE_SUN\")"
   ]
  },
  {
   "cell_type": "code",
   "execution_count": 145,
   "metadata": {},
   "outputs": [
    {
     "data": {
      "text/plain": [
       "array(['Aguascalientes', 'Ensenada', 'Mexicali', 'Tijuana', 'La Paz',\n",
       "       'Campeche', 'La Laguna', 'Monclova-Frontera', 'Piedras Negras',\n",
       "       'Saltillo', 'Colima-Villa de Álvarez', 'Tecomán', 'Tapachula',\n",
       "       'Tuxtla Gutiérrez', 'Chihuahua', 'Delicias', 'Hidalgo del Parral',\n",
       "       'Juárez', 'Valle de México', 'Durango', 'Celaya', 'Guanajuato',\n",
       "       'León', 'Moroleón-Uriangato', 'San Francisco del Rincón',\n",
       "       'Acapulco', 'Chilpancingo', 'Pachuca', 'Tula', 'Tulancingo',\n",
       "       'Guadalajara', 'Ocotlán', 'Puerto Vallarta', 'Tianguistenco',\n",
       "       'Toluca', 'La Piedad-Pénjamo', 'Morelia', 'Zamora', 'Cuautla',\n",
       "       'Cuernavaca', 'Tepic', 'Monterrey', 'Oaxaca', 'Tehuantepec',\n",
       "       'Puebla-Tlaxcala', 'Tehuacán', 'Teziutlán', 'Querétaro', 'Cancún',\n",
       "       'Chetumal', 'Rioverde', 'San Luis Potosí', 'Culiacán', 'Mazatlán',\n",
       "       'Guaymas', 'Hermosillo', 'Nogales', 'Villahermosa',\n",
       "       'Ciudad Victoria', 'Matamoros', 'Nuevo Laredo', 'Reynosa',\n",
       "       'Tampico', 'Tlaxcala-Apizaco', 'Acayucan', 'Coatzacoalcos',\n",
       "       'Córdoba', 'Minatitlán', 'Orizaba', 'Poza Rica', 'Veracruz',\n",
       "       'Xalapa', 'Mérida', 'Zacatecas-Guadalupe'], dtype=object)"
      ]
     },
     "execution_count": 145,
     "metadata": {},
     "output_type": "execute_result"
    }
   ],
   "source": [
    "suns[\"NOM_SUN\"].unique()"
   ]
  },
  {
   "cell_type": "code",
   "execution_count": 189,
   "metadata": {},
   "outputs": [
    {
     "data": {
      "text/html": [
       "<div>\n",
       "<style scoped>\n",
       "    .dataframe tbody tr th:only-of-type {\n",
       "        vertical-align: middle;\n",
       "    }\n",
       "\n",
       "    .dataframe tbody tr th {\n",
       "        vertical-align: top;\n",
       "    }\n",
       "\n",
       "    .dataframe thead th {\n",
       "        text-align: right;\n",
       "    }\n",
       "</style>\n",
       "<table border=\"1\" class=\"dataframe\">\n",
       "  <thead>\n",
       "    <tr style=\"text-align: right;\">\n",
       "      <th></th>\n",
       "      <th>CVE_SUN</th>\n",
       "      <th>NOM_SUN</th>\n",
       "      <th>P_2020</th>\n",
       "      <th>claves</th>\n",
       "    </tr>\n",
       "  </thead>\n",
       "  <tbody>\n",
       "    <tr>\n",
       "      <th>18</th>\n",
       "      <td>M09.01</td>\n",
       "      <td>Valle de México</td>\n",
       "      <td>21942666</td>\n",
       "      <td>[09002, 09003, 09004, 09005, 09006, 09007, 090...</td>\n",
       "    </tr>\n",
       "  </tbody>\n",
       "</table>\n",
       "</div>"
      ],
      "text/plain": [
       "   CVE_SUN          NOM_SUN    P_2020  \\\n",
       "18  M09.01  Valle de México  21942666   \n",
       "\n",
       "                                               claves  \n",
       "18  [09002, 09003, 09004, 09005, 09006, 09007, 090...  "
      ]
     },
     "execution_count": 189,
     "metadata": {},
     "output_type": "execute_result"
    }
   ],
   "source": [
    "z_urbana =suns[suns[\"NOM_SUN\"]=='Valle de México']\n",
    "poblacion = z_urbana[\"P_2020\"].values[0]\n",
    "z_urbana"
   ]
  },
  {
   "cell_type": "code",
   "execution_count": 151,
   "metadata": {},
   "outputs": [],
   "source": [
    "data[\"CVE_MUN_RES\"] = data[\"ENTIDAD_RES\"].astype(str).str.zfill(2) + data[\"MUNICIPIO_RES\"].astype(str).str.zfill(3)"
   ]
  },
  {
   "cell_type": "code",
   "execution_count": 160,
   "metadata": {},
   "outputs": [],
   "source": [
    "data_zurb = data[(data[\"RESULTADO\"]==1)&(data[\"CVE_MUN_RES\"].isin(z_urbana[\"claves\"].values[0]))]"
   ]
  },
  {
   "cell_type": "code",
   "execution_count": 161,
   "metadata": {},
   "outputs": [
    {
     "data": {
      "text/html": [
       "<div>\n",
       "<style scoped>\n",
       "    .dataframe tbody tr th:only-of-type {\n",
       "        vertical-align: middle;\n",
       "    }\n",
       "\n",
       "    .dataframe tbody tr th {\n",
       "        vertical-align: top;\n",
       "    }\n",
       "\n",
       "    .dataframe thead th {\n",
       "        text-align: right;\n",
       "    }\n",
       "</style>\n",
       "<table border=\"1\" class=\"dataframe\">\n",
       "  <thead>\n",
       "    <tr style=\"text-align: right;\">\n",
       "      <th></th>\n",
       "      <th>FECHA_ACTUALIZACION</th>\n",
       "      <th>ID_REGISTRO</th>\n",
       "      <th>ORIGEN</th>\n",
       "      <th>SECTOR</th>\n",
       "      <th>ENTIDAD_UM</th>\n",
       "      <th>SEXO</th>\n",
       "      <th>ENTIDAD_NAC</th>\n",
       "      <th>ENTIDAD_RES</th>\n",
       "      <th>MUNICIPIO_RES</th>\n",
       "      <th>TIPO_PACIENTE</th>\n",
       "      <th>...</th>\n",
       "      <th>OBESIDAD</th>\n",
       "      <th>RENAL_CRONICA</th>\n",
       "      <th>TABAQUISMO</th>\n",
       "      <th>OTRO_CASO</th>\n",
       "      <th>RESULTADO</th>\n",
       "      <th>MIGRANTE</th>\n",
       "      <th>PAIS_NACIONALIDAD</th>\n",
       "      <th>PAIS_ORIGEN</th>\n",
       "      <th>UCI</th>\n",
       "      <th>CVE_MUN_RES</th>\n",
       "    </tr>\n",
       "  </thead>\n",
       "  <tbody>\n",
       "    <tr>\n",
       "      <th>0</th>\n",
       "      <td>2020-05-15</td>\n",
       "      <td>04ba92</td>\n",
       "      <td>2</td>\n",
       "      <td>3</td>\n",
       "      <td>15</td>\n",
       "      <td>2</td>\n",
       "      <td>15</td>\n",
       "      <td>15</td>\n",
       "      <td>29</td>\n",
       "      <td>1</td>\n",
       "      <td>...</td>\n",
       "      <td>2</td>\n",
       "      <td>2</td>\n",
       "      <td>1</td>\n",
       "      <td>2</td>\n",
       "      <td>1</td>\n",
       "      <td>99</td>\n",
       "      <td>MÃ©xico</td>\n",
       "      <td>99</td>\n",
       "      <td>97</td>\n",
       "      <td>15029</td>\n",
       "    </tr>\n",
       "    <tr>\n",
       "      <th>3</th>\n",
       "      <td>2020-05-15</td>\n",
       "      <td>088d98</td>\n",
       "      <td>2</td>\n",
       "      <td>4</td>\n",
       "      <td>15</td>\n",
       "      <td>1</td>\n",
       "      <td>30</td>\n",
       "      <td>15</td>\n",
       "      <td>20</td>\n",
       "      <td>2</td>\n",
       "      <td>...</td>\n",
       "      <td>2</td>\n",
       "      <td>2</td>\n",
       "      <td>2</td>\n",
       "      <td>99</td>\n",
       "      <td>1</td>\n",
       "      <td>99</td>\n",
       "      <td>MÃ©xico</td>\n",
       "      <td>99</td>\n",
       "      <td>2</td>\n",
       "      <td>15020</td>\n",
       "    </tr>\n",
       "    <tr>\n",
       "      <th>5</th>\n",
       "      <td>2020-05-15</td>\n",
       "      <td>09faca</td>\n",
       "      <td>2</td>\n",
       "      <td>4</td>\n",
       "      <td>15</td>\n",
       "      <td>2</td>\n",
       "      <td>15</td>\n",
       "      <td>15</td>\n",
       "      <td>70</td>\n",
       "      <td>1</td>\n",
       "      <td>...</td>\n",
       "      <td>2</td>\n",
       "      <td>2</td>\n",
       "      <td>2</td>\n",
       "      <td>99</td>\n",
       "      <td>1</td>\n",
       "      <td>99</td>\n",
       "      <td>MÃ©xico</td>\n",
       "      <td>99</td>\n",
       "      <td>97</td>\n",
       "      <td>15070</td>\n",
       "    </tr>\n",
       "  </tbody>\n",
       "</table>\n",
       "<p>3 rows × 36 columns</p>\n",
       "</div>"
      ],
      "text/plain": [
       "  FECHA_ACTUALIZACION ID_REGISTRO  ORIGEN  SECTOR  ENTIDAD_UM  SEXO  \\\n",
       "0          2020-05-15      04ba92       2       3          15     2   \n",
       "3          2020-05-15      088d98       2       4          15     1   \n",
       "5          2020-05-15      09faca       2       4          15     2   \n",
       "\n",
       "   ENTIDAD_NAC  ENTIDAD_RES  MUNICIPIO_RES  TIPO_PACIENTE  ... OBESIDAD  \\\n",
       "0           15           15             29              1  ...        2   \n",
       "3           30           15             20              2  ...        2   \n",
       "5           15           15             70              1  ...        2   \n",
       "\n",
       "  RENAL_CRONICA TABAQUISMO  OTRO_CASO  RESULTADO  MIGRANTE  PAIS_NACIONALIDAD  \\\n",
       "0             2          1          2          1        99            MÃ©xico   \n",
       "3             2          2         99          1        99            MÃ©xico   \n",
       "5             2          2         99          1        99            MÃ©xico   \n",
       "\n",
       "   PAIS_ORIGEN  UCI  CVE_MUN_RES  \n",
       "0           99   97        15029  \n",
       "3           99    2        15020  \n",
       "5           99   97        15070  \n",
       "\n",
       "[3 rows x 36 columns]"
      ]
     },
     "execution_count": 161,
     "metadata": {},
     "output_type": "execute_result"
    }
   ],
   "source": [
    "data_zurb[:3]"
   ]
  },
  {
   "cell_type": "code",
   "execution_count": 164,
   "metadata": {},
   "outputs": [],
   "source": [
    "time_index = pd.date_range(data_zurb[\"FECHA_SINTOMAS\"].min(), fecha_archivo, freq='1D')"
   ]
  },
  {
   "cell_type": "code",
   "execution_count": 284,
   "metadata": {},
   "outputs": [],
   "source": [
    "casos = data_zurb.groupby(\"FECHA_SINTOMAS\").size().to_frame(\"Confirmados\").reindex(time_index)"
   ]
  },
  {
   "cell_type": "code",
   "execution_count": 285,
   "metadata": {},
   "outputs": [],
   "source": [
    "casos[\"Graves\"] = data_zurb[data_zurb[\"TIPO_PACIENTE\"]==2].groupby([\"FECHA_SINTOMAS\"]).size()"
   ]
  },
  {
   "cell_type": "code",
   "execution_count": 286,
   "metadata": {},
   "outputs": [],
   "source": [
    "casos[\"Decesos\"] = data_zurb.groupby(\"FECHA_DEF\").size()"
   ]
  },
  {
   "cell_type": "code",
   "execution_count": 287,
   "metadata": {},
   "outputs": [],
   "source": [
    "casos[\"Confirmados_acumulados\"] = casos[\"Confirmados\"].fillna(0).cumsum()\n",
    "casos[\"Decesos_acumulados\"] = casos[\"Decesos\"].fillna(0).cumsum()\n",
    "casos[\"Graves_acumulados\"] = casos[\"Graves\"].fillna(0).cumsum()"
   ]
  },
  {
   "cell_type": "code",
   "execution_count": 288,
   "metadata": {},
   "outputs": [
    {
     "data": {
      "text/html": [
       "<div>\n",
       "<style scoped>\n",
       "    .dataframe tbody tr th:only-of-type {\n",
       "        vertical-align: middle;\n",
       "    }\n",
       "\n",
       "    .dataframe tbody tr th {\n",
       "        vertical-align: top;\n",
       "    }\n",
       "\n",
       "    .dataframe thead th {\n",
       "        text-align: right;\n",
       "    }\n",
       "</style>\n",
       "<table border=\"1\" class=\"dataframe\">\n",
       "  <thead>\n",
       "    <tr style=\"text-align: right;\">\n",
       "      <th></th>\n",
       "      <th>Confirmados</th>\n",
       "      <th>Graves</th>\n",
       "      <th>Decesos</th>\n",
       "      <th>Confirmados_acumulados</th>\n",
       "      <th>Decesos_acumulados</th>\n",
       "      <th>Graves_acumulados</th>\n",
       "    </tr>\n",
       "  </thead>\n",
       "  <tbody>\n",
       "    <tr>\n",
       "      <th>2020-02-17</th>\n",
       "      <td>1.0</td>\n",
       "      <td>NaN</td>\n",
       "      <td>NaN</td>\n",
       "      <td>2.0</td>\n",
       "      <td>0.0</td>\n",
       "      <td>0.0</td>\n",
       "    </tr>\n",
       "    <tr>\n",
       "      <th>2020-02-18</th>\n",
       "      <td>1.0</td>\n",
       "      <td>NaN</td>\n",
       "      <td>NaN</td>\n",
       "      <td>3.0</td>\n",
       "      <td>0.0</td>\n",
       "      <td>0.0</td>\n",
       "    </tr>\n",
       "    <tr>\n",
       "      <th>2020-02-19</th>\n",
       "      <td>1.0</td>\n",
       "      <td>NaN</td>\n",
       "      <td>NaN</td>\n",
       "      <td>4.0</td>\n",
       "      <td>0.0</td>\n",
       "      <td>0.0</td>\n",
       "    </tr>\n",
       "    <tr>\n",
       "      <th>2020-02-20</th>\n",
       "      <td>NaN</td>\n",
       "      <td>NaN</td>\n",
       "      <td>NaN</td>\n",
       "      <td>4.0</td>\n",
       "      <td>0.0</td>\n",
       "      <td>0.0</td>\n",
       "    </tr>\n",
       "    <tr>\n",
       "      <th>2020-02-21</th>\n",
       "      <td>1.0</td>\n",
       "      <td>1.0</td>\n",
       "      <td>NaN</td>\n",
       "      <td>5.0</td>\n",
       "      <td>0.0</td>\n",
       "      <td>1.0</td>\n",
       "    </tr>\n",
       "    <tr>\n",
       "      <th>2020-02-22</th>\n",
       "      <td>1.0</td>\n",
       "      <td>1.0</td>\n",
       "      <td>NaN</td>\n",
       "      <td>6.0</td>\n",
       "      <td>0.0</td>\n",
       "      <td>2.0</td>\n",
       "    </tr>\n",
       "    <tr>\n",
       "      <th>2020-02-23</th>\n",
       "      <td>1.0</td>\n",
       "      <td>NaN</td>\n",
       "      <td>NaN</td>\n",
       "      <td>7.0</td>\n",
       "      <td>0.0</td>\n",
       "      <td>2.0</td>\n",
       "    </tr>\n",
       "    <tr>\n",
       "      <th>2020-02-24</th>\n",
       "      <td>NaN</td>\n",
       "      <td>NaN</td>\n",
       "      <td>NaN</td>\n",
       "      <td>7.0</td>\n",
       "      <td>0.0</td>\n",
       "      <td>2.0</td>\n",
       "    </tr>\n",
       "    <tr>\n",
       "      <th>2020-02-25</th>\n",
       "      <td>NaN</td>\n",
       "      <td>NaN</td>\n",
       "      <td>NaN</td>\n",
       "      <td>7.0</td>\n",
       "      <td>0.0</td>\n",
       "      <td>2.0</td>\n",
       "    </tr>\n",
       "    <tr>\n",
       "      <th>2020-02-26</th>\n",
       "      <td>1.0</td>\n",
       "      <td>1.0</td>\n",
       "      <td>NaN</td>\n",
       "      <td>8.0</td>\n",
       "      <td>0.0</td>\n",
       "      <td>3.0</td>\n",
       "    </tr>\n",
       "    <tr>\n",
       "      <th>2020-02-27</th>\n",
       "      <td>1.0</td>\n",
       "      <td>1.0</td>\n",
       "      <td>NaN</td>\n",
       "      <td>9.0</td>\n",
       "      <td>0.0</td>\n",
       "      <td>4.0</td>\n",
       "    </tr>\n",
       "    <tr>\n",
       "      <th>2020-02-28</th>\n",
       "      <td>2.0</td>\n",
       "      <td>NaN</td>\n",
       "      <td>NaN</td>\n",
       "      <td>11.0</td>\n",
       "      <td>0.0</td>\n",
       "      <td>4.0</td>\n",
       "    </tr>\n",
       "  </tbody>\n",
       "</table>\n",
       "</div>"
      ],
      "text/plain": [
       "            Confirmados  Graves  Decesos  Confirmados_acumulados  \\\n",
       "2020-02-17          1.0     NaN      NaN                     2.0   \n",
       "2020-02-18          1.0     NaN      NaN                     3.0   \n",
       "2020-02-19          1.0     NaN      NaN                     4.0   \n",
       "2020-02-20          NaN     NaN      NaN                     4.0   \n",
       "2020-02-21          1.0     1.0      NaN                     5.0   \n",
       "2020-02-22          1.0     1.0      NaN                     6.0   \n",
       "2020-02-23          1.0     NaN      NaN                     7.0   \n",
       "2020-02-24          NaN     NaN      NaN                     7.0   \n",
       "2020-02-25          NaN     NaN      NaN                     7.0   \n",
       "2020-02-26          1.0     1.0      NaN                     8.0   \n",
       "2020-02-27          1.0     1.0      NaN                     9.0   \n",
       "2020-02-28          2.0     NaN      NaN                    11.0   \n",
       "\n",
       "            Decesos_acumulados  Graves_acumulados  \n",
       "2020-02-17                 0.0                0.0  \n",
       "2020-02-18                 0.0                0.0  \n",
       "2020-02-19                 0.0                0.0  \n",
       "2020-02-20                 0.0                0.0  \n",
       "2020-02-21                 0.0                1.0  \n",
       "2020-02-22                 0.0                2.0  \n",
       "2020-02-23                 0.0                2.0  \n",
       "2020-02-24                 0.0                2.0  \n",
       "2020-02-25                 0.0                2.0  \n",
       "2020-02-26                 0.0                3.0  \n",
       "2020-02-27                 0.0                4.0  \n",
       "2020-02-28                 0.0                4.0  "
      ]
     },
     "execution_count": 288,
     "metadata": {},
     "output_type": "execute_result"
    }
   ],
   "source": [
    "casos[18:30]"
   ]
  },
  {
   "cell_type": "markdown",
   "metadata": {},
   "source": [
    "Graficado de datos para Zona Urbana"
   ]
  },
  {
   "cell_type": "code",
   "execution_count": 388,
   "metadata": {},
   "outputs": [],
   "source": [
    "s = bpl.figure(x_axis_type=\"datetime\",plot_width=1000,plot_height=600,x_range=(pd.Timestamp(\"2020-02-14\"),pd.Timestamp(\"2020-04-20\")),y_range=(0,9000))"
   ]
  },
  {
   "cell_type": "code",
   "execution_count": 389,
   "metadata": {},
   "outputs": [
    {
     "data": {
      "text/html": [
       "<div style=\"display: table;\"><div style=\"display: table-row;\"><div style=\"display: table-cell;\"><b title=\"bokeh.models.renderers.GlyphRenderer\">GlyphRenderer</b>(</div><div style=\"display: table-cell;\">id&nbsp;=&nbsp;'34559', <span id=\"34562\" style=\"cursor: pointer;\">&hellip;)</span></div></div><div class=\"34561\" style=\"display: none;\"><div style=\"display: table-cell;\"></div><div style=\"display: table-cell;\">data_source&nbsp;=&nbsp;ColumnDataSource(id='34556', ...),</div></div><div class=\"34561\" style=\"display: none;\"><div style=\"display: table-cell;\"></div><div style=\"display: table-cell;\">glyph&nbsp;=&nbsp;Quad(id='34557', ...),</div></div><div class=\"34561\" style=\"display: none;\"><div style=\"display: table-cell;\"></div><div style=\"display: table-cell;\">hover_glyph&nbsp;=&nbsp;None,</div></div><div class=\"34561\" style=\"display: none;\"><div style=\"display: table-cell;\"></div><div style=\"display: table-cell;\">js_event_callbacks&nbsp;=&nbsp;{},</div></div><div class=\"34561\" style=\"display: none;\"><div style=\"display: table-cell;\"></div><div style=\"display: table-cell;\">js_property_callbacks&nbsp;=&nbsp;{},</div></div><div class=\"34561\" style=\"display: none;\"><div style=\"display: table-cell;\"></div><div style=\"display: table-cell;\">level&nbsp;=&nbsp;'glyph',</div></div><div class=\"34561\" style=\"display: none;\"><div style=\"display: table-cell;\"></div><div style=\"display: table-cell;\">muted&nbsp;=&nbsp;False,</div></div><div class=\"34561\" style=\"display: none;\"><div style=\"display: table-cell;\"></div><div style=\"display: table-cell;\">muted_glyph&nbsp;=&nbsp;None,</div></div><div class=\"34561\" style=\"display: none;\"><div style=\"display: table-cell;\"></div><div style=\"display: table-cell;\">name&nbsp;=&nbsp;None,</div></div><div class=\"34561\" style=\"display: none;\"><div style=\"display: table-cell;\"></div><div style=\"display: table-cell;\">nonselection_glyph&nbsp;=&nbsp;Quad(id='34558', ...),</div></div><div class=\"34561\" style=\"display: none;\"><div style=\"display: table-cell;\"></div><div style=\"display: table-cell;\">selection_glyph&nbsp;=&nbsp;None,</div></div><div class=\"34561\" style=\"display: none;\"><div style=\"display: table-cell;\"></div><div style=\"display: table-cell;\">subscribed_events&nbsp;=&nbsp;[],</div></div><div class=\"34561\" style=\"display: none;\"><div style=\"display: table-cell;\"></div><div style=\"display: table-cell;\">tags&nbsp;=&nbsp;[],</div></div><div class=\"34561\" style=\"display: none;\"><div style=\"display: table-cell;\"></div><div style=\"display: table-cell;\">view&nbsp;=&nbsp;CDSView(id='34560', ...),</div></div><div class=\"34561\" style=\"display: none;\"><div style=\"display: table-cell;\"></div><div style=\"display: table-cell;\">visible&nbsp;=&nbsp;True,</div></div><div class=\"34561\" style=\"display: none;\"><div style=\"display: table-cell;\"></div><div style=\"display: table-cell;\">x_range_name&nbsp;=&nbsp;'default',</div></div><div class=\"34561\" style=\"display: none;\"><div style=\"display: table-cell;\"></div><div style=\"display: table-cell;\">y_range_name&nbsp;=&nbsp;'default')</div></div></div>\n",
       "<script>\n",
       "(function() {\n",
       "  var expanded = false;\n",
       "  var ellipsis = document.getElementById(\"34562\");\n",
       "  ellipsis.addEventListener(\"click\", function() {\n",
       "    var rows = document.getElementsByClassName(\"34561\");\n",
       "    for (var i = 0; i < rows.length; i++) {\n",
       "      var el = rows[i];\n",
       "      el.style.display = expanded ? \"none\" : \"table-row\";\n",
       "    }\n",
       "    ellipsis.innerHTML = expanded ? \"&hellip;)\" : \"&lsaquo;&lsaquo;&lsaquo;\";\n",
       "    expanded = !expanded;\n",
       "  });\n",
       "})();\n",
       "</script>\n"
      ],
      "text/plain": [
       "GlyphRenderer(id='34559', ...)"
      ]
     },
     "execution_count": 389,
     "metadata": {},
     "output_type": "execute_result"
    }
   ],
   "source": [
    "s.quad(left=time_index,right=time_index+pd.Timedelta(\"1 days\")*0.9,top=casos[\"Confirmados_acumulados\"],bottom=1)\n",
    "s.quad(left=time_index,right=time_index+pd.Timedelta(\"1 days\")*0.9,top=casos[\"Graves_acumulados\"],bottom=1,color=\"green\")\n",
    "s.quad(left=time_index,right=time_index+pd.Timedelta(\"1 days\")*0.9,top=casos[\"Decesos_acumulados\"],bottom=1,color=\"red\")"
   ]
  },
  {
   "cell_type": "code",
   "execution_count": 390,
   "metadata": {},
   "outputs": [
    {
     "data": {
      "text/html": [
       "\n",
       "\n",
       "\n",
       "\n",
       "\n",
       "\n",
       "  <div class=\"bk-root\" id=\"dd8bcf78-f6f3-4c81-a62f-c655cd776bbe\" data-root-id=\"34515\"></div>\n"
      ]
     },
     "metadata": {},
     "output_type": "display_data"
    },
    {
     "data": {
      "application/javascript": [
       "(function(root) {\n",
       "  function embed_document(root) {\n",
       "    \n",
       "  var docs_json = {\"91649b8a-e311-4fbe-adef-08cd37bcdae5\":{\"roots\":{\"references\":[{\"attributes\":{\"below\":[{\"id\":\"34524\"}],\"center\":[{\"id\":\"34527\"},{\"id\":\"34531\"}],\"left\":[{\"id\":\"34528\"}],\"plot_width\":1000,\"renderers\":[{\"id\":\"34549\"},{\"id\":\"34554\"},{\"id\":\"34559\"}],\"title\":{\"id\":\"35610\"},\"toolbar\":{\"id\":\"34539\"},\"x_range\":{\"id\":\"34516\"},\"x_scale\":{\"id\":\"34520\"},\"y_range\":{\"id\":\"34518\"},\"y_scale\":{\"id\":\"34522\"}},\"id\":\"34515\",\"subtype\":\"Figure\",\"type\":\"Plot\"},{\"attributes\":{\"months\":[0,1,2,3,4,5,6,7,8,9,10,11]},\"id\":\"35629\",\"type\":\"MonthsTicker\"},{\"attributes\":{\"data_source\":{\"id\":\"34546\"},\"glyph\":{\"id\":\"34547\"},\"hover_glyph\":null,\"muted_glyph\":null,\"nonselection_glyph\":{\"id\":\"34548\"},\"selection_glyph\":null,\"view\":{\"id\":\"34550\"}},\"id\":\"34549\",\"type\":\"GlyphRenderer\"},{\"attributes\":{\"end\":9000},\"id\":\"34518\",\"type\":\"Range1d\"},{\"attributes\":{\"bottom\":{\"value\":1},\"fill_alpha\":{\"value\":0.1},\"fill_color\":{\"value\":\"red\"},\"left\":{\"field\":\"left\"},\"line_alpha\":{\"value\":0.1},\"line_color\":{\"value\":\"red\"},\"right\":{\"field\":\"right\"},\"top\":{\"field\":\"top\"}},\"id\":\"34558\",\"type\":\"Quad\"},{\"attributes\":{},\"id\":\"35616\",\"type\":\"UnionRenderers\"},{\"attributes\":{},\"id\":\"35611\",\"type\":\"DatetimeTickFormatter\"},{\"attributes\":{\"months\":[0,6]},\"id\":\"35632\",\"type\":\"MonthsTicker\"},{\"attributes\":{\"data_source\":{\"id\":\"34556\"},\"glyph\":{\"id\":\"34557\"},\"hover_glyph\":null,\"muted_glyph\":null,\"nonselection_glyph\":{\"id\":\"34558\"},\"selection_glyph\":null,\"view\":{\"id\":\"34560\"}},\"id\":\"34559\",\"type\":\"GlyphRenderer\"},{\"attributes\":{\"months\":[0,4,8]},\"id\":\"35631\",\"type\":\"MonthsTicker\"},{\"attributes\":{\"axis\":{\"id\":\"34528\"},\"dimension\":1,\"ticker\":null},\"id\":\"34531\",\"type\":\"Grid\"},{\"attributes\":{},\"id\":\"34533\",\"type\":\"WheelZoomTool\"},{\"attributes\":{},\"id\":\"34536\",\"type\":\"ResetTool\"},{\"attributes\":{},\"id\":\"34522\",\"type\":\"LinearScale\"},{\"attributes\":{\"bottom\":{\"value\":1},\"fill_color\":{\"value\":\"green\"},\"left\":{\"field\":\"left\"},\"line_color\":{\"value\":\"green\"},\"right\":{\"field\":\"right\"},\"top\":{\"field\":\"top\"}},\"id\":\"34552\",\"type\":\"Quad\"},{\"attributes\":{},\"id\":\"34529\",\"type\":\"BasicTicker\"},{\"attributes\":{},\"id\":\"35618\",\"type\":\"UnionRenderers\"},{\"attributes\":{\"active_drag\":\"auto\",\"active_inspect\":\"auto\",\"active_multi\":null,\"active_scroll\":\"auto\",\"active_tap\":\"auto\",\"tools\":[{\"id\":\"34532\"},{\"id\":\"34533\"},{\"id\":\"34534\"},{\"id\":\"34535\"},{\"id\":\"34536\"},{\"id\":\"34537\"}]},\"id\":\"34539\",\"type\":\"Toolbar\"},{\"attributes\":{},\"id\":\"35613\",\"type\":\"BasicTickFormatter\"},{\"attributes\":{\"data\":{\"left\":{\"__ndarray__\":\"AABA9Tv/dkIAAABbjv92QgAAwMDg/3ZCAACAJjMAd0IAAECMhQB3QgAAAPLXAHdCAADAVyoBd0IAAIC9fAF3QgAAQCPPAXdCAAAAiSECd0IAAMDucwJ3QgAAgFTGAndCAABAuhgDd0IAAAAgawN3QgAAwIW9A3dCAACA6w8Ed0IAAEBRYgR3QgAAALe0BHdCAADAHAcFd0IAAICCWQV3QgAAQOirBXdCAAAATv4Fd0IAAMCzUAZ3QgAAgBmjBndCAABAf/UGd0IAAADlRwd3QgAAwEqaB3dCAACAsOwHd0IAAEAWPwh3QgAAAHyRCHdCAADA4eMId0IAAIBHNgl3QgAAQK2ICXdCAAAAE9sJd0IAAMB4LQp3QgAAgN5/CndCAABARNIKd0IAAACqJAt3QgAAwA93C3dCAACAdckLd0IAAEDbGwx3QgAAAEFuDHdCAADApsAMd0IAAIAMEw13QgAAQHJlDXdCAAAA2LcNd0IAAMA9Cg53QgAAgKNcDndCAABACa8Od0IAAABvAQ93QgAAwNRTD3dCAACAOqYPd0IAAECg+A93QgAAAAZLEHdCAADAa50Qd0IAAIDR7xB3QgAAQDdCEXdCAAAAnZQRd0IAAMAC5xF3QgAAgGg5EndCAABAzosSd0IAAAA03hJ3QgAAwJkwE3dCAACA/4ITd0IAAEBl1RN3QgAAAMsnFHdCAADAMHoUd0IAAICWzBR3QgAAQPweFXdCAAAAYnEVd0IAAMDHwxV3QgAAgC0WFndCAABAk2gWd0IAAAD5uhZ3QgAAwF4NF3dCAACAxF8Xd0IAAEAqshd3QgAAAJAEGHdCAADA9VYYd0IAAIBbqRh3QgAAQMH7GHdCAAAAJ04Zd0IAAMCMoBl3QgAAgPLyGXdCAABAWEUad0IAAAC+lxp3QgAAwCPqGndCAACAiTwbd0IAAEDvjht3QgAAAFXhG3dCAADAujMcd0IAAIAghhx3QgAAQIbYHHdCAAAA7Codd0IAAMBRfR13QgAAgLfPHXdCAABAHSIed0IAAACDdB53QgAAwOjGHndCAACAThkfd0IAAEC0ax93QgAAABq+H3dCAADAfxAgd0IAAIDlYiB3QgAAQEu1IHdCAAAAsQchd0IAAMAWWiF3Qg==\",\"dtype\":\"float64\",\"shape\":[107]},\"right\":{\"__ndarray__\":\"AACgHYb/dkIAAGCD2P92QgAAIOkqAHdCAADgTn0Ad0IAAKC0zwB3QgAAYBoiAXdCAAAggHQBd0IAAODlxgF3QgAAoEsZAndCAABgsWsCd0IAACAXvgJ3QgAA4HwQA3dCAACg4mIDd0IAAGBItQN3QgAAIK4HBHdCAADgE1oEd0IAAKB5rAR3QgAAYN/+BHdCAAAgRVEFd0IAAOCqowV3QgAAoBD2BXdCAABgdkgGd0IAACDcmgZ3QgAA4EHtBndCAACgpz8Hd0IAAGANkgd3QgAAIHPkB3dCAADg2DYId0IAAKA+iQh3QgAAYKTbCHdCAAAgCi4Jd0IAAOBvgAl3QgAAoNXSCXdCAABgOyUKd0IAACChdwp3QgAA4AbKCndCAACgbBwLd0IAAGDSbgt3QgAAIDjBC3dCAADgnRMMd0IAAKADZgx3QgAAYGm4DHdCAAAgzwoNd0IAAOA0XQ13QgAAoJqvDXdCAABgAAIOd0IAACBmVA53QgAA4MumDndCAACgMfkOd0IAAGCXSw93QgAAIP2dD3dCAADgYvAPd0IAAKDIQhB3QgAAYC6VEHdCAAAglOcQd0IAAOD5ORF3QgAAoF+MEXdCAABgxd4Rd0IAACArMRJ3QgAA4JCDEndCAACg9tUSd0IAAGBcKBN3QgAAIMJ6E3dCAADgJ80Td0IAAKCNHxR3QgAAYPNxFHdCAAAgWcQUd0IAAOC+FhV3QgAAoCRpFXdCAABgirsVd0IAACDwDRZ3QgAA4FVgFndCAACgu7IWd0IAAGAhBRd3QgAAIIdXF3dCAADg7KkXd0IAAKBS/Bd3QgAAYLhOGHdCAAAgHqEYd0IAAOCD8xh3QgAAoOlFGXdCAABgT5gZd0IAACC16hl3QgAA4Bo9GndCAACggI8ad0IAAGDm4Rp3QgAAIEw0G3dCAADgsYYbd0IAAKAX2Rt3QgAAYH0rHHdCAAAg430cd0IAAOBI0Bx3QgAAoK4iHXdCAABgFHUdd0IAACB6xx13QgAA4N8ZHndCAACgRWwed0IAAGCrvh53QgAAIBERH3dCAADgdmMfd0IAAKDctR93QgAAYEIIIHdCAAAgqFogd0IAAOANrSB3QgAAoHP/IHdCAABg2VEhd0IAACA/pCF3Qg==\",\"dtype\":\"float64\",\"shape\":[107]},\"top\":{\"__ndarray__\":\"AAAAAAAAAAAAAAAAAAAAAAAAAAAAAAAAAAAAAAAAAAAAAAAAAAAAAAAAAAAAAAAAAAAAAAAAAAAAAAAAAAAAAAAAAAAAAAAAAAAAAAAAAAAAAAAAAAAAAAAAAAAAAAAAAAAAAAAAAAAAAAAAAAAAAAAAAAAAAAAAAAAAAAAAAAAAAAAAAAAAAAAAAAAAAAAAAAAAAAAAAAAAAAAAAAAAAAAAAAAAAAAAAAAAAAAAAAAAAAAAAADwPwAAAAAAAABAAAAAAAAAAEAAAAAAAAAAQAAAAAAAAABAAAAAAAAACEAAAAAAAAAQQAAAAAAAABBAAAAAAAAAEEAAAAAAAAAQQAAAAAAAABRAAAAAAAAAIkAAAAAAAAAkQAAAAAAAACRAAAAAAAAAJkAAAAAAAAAoQAAAAAAAAChAAAAAAAAANEAAAAAAAAA2QAAAAAAAADxAAAAAAAAAQEAAAAAAAABCQAAAAAAAgEdAAAAAAACATUAAAAAAAABSQAAAAAAAAFVAAAAAAACAV0AAAAAAAEBaQAAAAAAAwGBAAAAAAACAY0AAAAAAAEBmQAAAAAAAYGpAAAAAAADAbEAAAAAAAGBwQAAAAAAAwHNAAAAAAAAwdkAAAAAAAKB4QAAAAAAAgHtAAAAAAAAQgEAAAAAAAKiBQAAAAAAAiIRAAAAAAAAAh0AAAAAAAJCJQAAAAAAA8ItAAAAAAADgjUAAAAAAAMiQQAAAAAAAZJJAAAAAAAA0lEAAAAAAAMiVQAAAAAAA1JhAAAAAAADcmkAAAAAAABidQAAAAAAAvJ9AAAAAAAAGoUAAAAAAAOCiQAAAAAAAnqRAAAAAAABepkAAAAAAAGCoQAAAAAAAOqpAAAAAAADUrEAAAAAAAJauQAAAAAAAJrBAAAAAAAAZsUAAAAAAAB2yQAAAAAAAKrNAAAAAAAAltEAAAAAAADm1QAAAAAAAK7ZAAAAAAADhtkAAAAAAAO23QAAAAAAAGblAAAAAAAC1uUAAAAAAAFO6QAAAAAAAKrtAAAAAAADQu0AAAAAAAFK8QAAAAAAAzrxAAAAAAAAxvUAAAAAAAG+9QAAAAAAAqL1AAAAAAAC/vUAAAAAAAMW9QAAAAAAAx71AAAAAAADHvUAAAAAAAMe9QA==\",\"dtype\":\"float64\",\"shape\":[107]}},\"selected\":{\"id\":\"35617\"},\"selection_policy\":{\"id\":\"35618\"}},\"id\":\"34551\",\"type\":\"ColumnDataSource\"},{\"attributes\":{\"days\":[1,4,7,10,13,16,19,22,25,28]},\"id\":\"35626\",\"type\":\"DaysTicker\"},{\"attributes\":{\"data\":{\"left\":{\"__ndarray__\":\"AABA9Tv/dkIAAABbjv92QgAAwMDg/3ZCAACAJjMAd0IAAECMhQB3QgAAAPLXAHdCAADAVyoBd0IAAIC9fAF3QgAAQCPPAXdCAAAAiSECd0IAAMDucwJ3QgAAgFTGAndCAABAuhgDd0IAAAAgawN3QgAAwIW9A3dCAACA6w8Ed0IAAEBRYgR3QgAAALe0BHdCAADAHAcFd0IAAICCWQV3QgAAQOirBXdCAAAATv4Fd0IAAMCzUAZ3QgAAgBmjBndCAABAf/UGd0IAAADlRwd3QgAAwEqaB3dCAACAsOwHd0IAAEAWPwh3QgAAAHyRCHdCAADA4eMId0IAAIBHNgl3QgAAQK2ICXdCAAAAE9sJd0IAAMB4LQp3QgAAgN5/CndCAABARNIKd0IAAACqJAt3QgAAwA93C3dCAACAdckLd0IAAEDbGwx3QgAAAEFuDHdCAADApsAMd0IAAIAMEw13QgAAQHJlDXdCAAAA2LcNd0IAAMA9Cg53QgAAgKNcDndCAABACa8Od0IAAABvAQ93QgAAwNRTD3dCAACAOqYPd0IAAECg+A93QgAAAAZLEHdCAADAa50Qd0IAAIDR7xB3QgAAQDdCEXdCAAAAnZQRd0IAAMAC5xF3QgAAgGg5EndCAABAzosSd0IAAAA03hJ3QgAAwJkwE3dCAACA/4ITd0IAAEBl1RN3QgAAAMsnFHdCAADAMHoUd0IAAICWzBR3QgAAQPweFXdCAAAAYnEVd0IAAMDHwxV3QgAAgC0WFndCAABAk2gWd0IAAAD5uhZ3QgAAwF4NF3dCAACAxF8Xd0IAAEAqshd3QgAAAJAEGHdCAADA9VYYd0IAAIBbqRh3QgAAQMH7GHdCAAAAJ04Zd0IAAMCMoBl3QgAAgPLyGXdCAABAWEUad0IAAAC+lxp3QgAAwCPqGndCAACAiTwbd0IAAEDvjht3QgAAAFXhG3dCAADAujMcd0IAAIAghhx3QgAAQIbYHHdCAAAA7Codd0IAAMBRfR13QgAAgLfPHXdCAABAHSIed0IAAACDdB53QgAAwOjGHndCAACAThkfd0IAAEC0ax93QgAAABq+H3dCAADAfxAgd0IAAIDlYiB3QgAAQEu1IHdCAAAAsQchd0IAAMAWWiF3Qg==\",\"dtype\":\"float64\",\"shape\":[107]},\"right\":{\"__ndarray__\":\"AACgHYb/dkIAAGCD2P92QgAAIOkqAHdCAADgTn0Ad0IAAKC0zwB3QgAAYBoiAXdCAAAggHQBd0IAAODlxgF3QgAAoEsZAndCAABgsWsCd0IAACAXvgJ3QgAA4HwQA3dCAACg4mIDd0IAAGBItQN3QgAAIK4HBHdCAADgE1oEd0IAAKB5rAR3QgAAYN/+BHdCAAAgRVEFd0IAAOCqowV3QgAAoBD2BXdCAABgdkgGd0IAACDcmgZ3QgAA4EHtBndCAACgpz8Hd0IAAGANkgd3QgAAIHPkB3dCAADg2DYId0IAAKA+iQh3QgAAYKTbCHdCAAAgCi4Jd0IAAOBvgAl3QgAAoNXSCXdCAABgOyUKd0IAACChdwp3QgAA4AbKCndCAACgbBwLd0IAAGDSbgt3QgAAIDjBC3dCAADgnRMMd0IAAKADZgx3QgAAYGm4DHdCAAAgzwoNd0IAAOA0XQ13QgAAoJqvDXdCAABgAAIOd0IAACBmVA53QgAA4MumDndCAACgMfkOd0IAAGCXSw93QgAAIP2dD3dCAADgYvAPd0IAAKDIQhB3QgAAYC6VEHdCAAAglOcQd0IAAOD5ORF3QgAAoF+MEXdCAABgxd4Rd0IAACArMRJ3QgAA4JCDEndCAACg9tUSd0IAAGBcKBN3QgAAIMJ6E3dCAADgJ80Td0IAAKCNHxR3QgAAYPNxFHdCAAAgWcQUd0IAAOC+FhV3QgAAoCRpFXdCAABgirsVd0IAACDwDRZ3QgAA4FVgFndCAACgu7IWd0IAAGAhBRd3QgAAIIdXF3dCAADg7KkXd0IAAKBS/Bd3QgAAYLhOGHdCAAAgHqEYd0IAAOCD8xh3QgAAoOlFGXdCAABgT5gZd0IAACC16hl3QgAA4Bo9GndCAACggI8ad0IAAGDm4Rp3QgAAIEw0G3dCAADgsYYbd0IAAKAX2Rt3QgAAYH0rHHdCAAAg430cd0IAAOBI0Bx3QgAAoK4iHXdCAABgFHUdd0IAACB6xx13QgAA4N8ZHndCAACgRWwed0IAAGCrvh53QgAAIBERH3dCAADgdmMfd0IAAKDctR93QgAAYEIIIHdCAAAgqFogd0IAAOANrSB3QgAAoHP/IHdCAABg2VEhd0IAACA/pCF3Qg==\",\"dtype\":\"float64\",\"shape\":[107]},\"top\":{\"__ndarray__\":\"AAAAAAAA8D8AAAAAAADwPwAAAAAAAPA/AAAAAAAA8D8AAAAAAADwPwAAAAAAAPA/AAAAAAAA8D8AAAAAAADwPwAAAAAAAPA/AAAAAAAA8D8AAAAAAADwPwAAAAAAAPA/AAAAAAAA8D8AAAAAAADwPwAAAAAAAPA/AAAAAAAA8D8AAAAAAADwPwAAAAAAAPA/AAAAAAAAAEAAAAAAAAAIQAAAAAAAABBAAAAAAAAAEEAAAAAAAAAUQAAAAAAAABhAAAAAAAAAHEAAAAAAAAAcQAAAAAAAABxAAAAAAAAAIEAAAAAAAAAiQAAAAAAAACZAAAAAAAAAKkAAAAAAAAAuQAAAAAAAADZAAAAAAAAAO0AAAAAAAAA/QAAAAAAAAEFAAAAAAAAAREAAAAAAAIBKQAAAAAAAgE5AAAAAAADAVkAAAAAAAMBcQAAAAAAAQGFAAAAAAAAAZEAAAAAAAMBoQAAAAAAAAG5AAAAAAADgcUAAAAAAAKB1QAAAAAAAoHdAAAAAAADAeUAAAAAAAGB8QAAAAAAAYIBAAAAAAACYgUAAAAAAAAiDQAAAAAAAYIVAAAAAAACAh0AAAAAAAACKQAAAAAAAyI1AAAAAAAB4kEAAAAAAANSRQAAAAAAAKJNAAAAAAACUlUAAAAAAAFiXQAAAAAAAXJpAAAAAAADcnEAAAAAAAHifQAAAAAAANKFAAAAAAACQokAAAAAAAHakQAAAAAAADqZAAAAAAAACqEAAAAAAAB6qQAAAAAAAjq1AAAAAAAD4r0AAAAAAAEmxQAAAAAAA8bJAAAAAAAB9tEAAAAAAAIq2QAAAAAAAZrhAAAAAAACRukAAAAAAANW8QAAAAAAA875AAAAAAIAZwUAAAAAAAC/CQAAAAAAAPsNAAAAAAIBgxEAAAAAAAJzFQAAAAACA3cZAAAAAAAACyEAAAAAAAGHJQAAAAAAAj8pAAAAAAIB7y0AAAAAAgK/MQAAAAACARc5AAAAAAAAnz0AAAAAAwAbQQAAAAADAltBAAAAAAEAE0UAAAAAAAGPRQAAAAADAvdFAAAAAAAAW0kAAAAAAAFTSQAAAAACAh9JAAAAAAICp0kAAAAAAwLvSQAAAAADAxdJAAAAAAMDF0kAAAAAAwMXSQA==\",\"dtype\":\"float64\",\"shape\":[107]}},\"selected\":{\"id\":\"35615\"},\"selection_policy\":{\"id\":\"35616\"}},\"id\":\"34546\",\"type\":\"ColumnDataSource\"},{\"attributes\":{},\"id\":\"35617\",\"type\":\"Selection\"},{\"attributes\":{\"days\":[1,2,3,4,5,6,7,8,9,10,11,12,13,14,15,16,17,18,19,20,21,22,23,24,25,26,27,28,29,30,31]},\"id\":\"35625\",\"type\":\"DaysTicker\"},{\"attributes\":{\"bottom\":{\"value\":1},\"fill_color\":{\"value\":\"red\"},\"left\":{\"field\":\"left\"},\"line_color\":{\"value\":\"red\"},\"right\":{\"field\":\"right\"},\"top\":{\"field\":\"top\"}},\"id\":\"34557\",\"type\":\"Quad\"},{\"attributes\":{},\"id\":\"35619\",\"type\":\"Selection\"},{\"attributes\":{\"formatter\":{\"id\":\"35611\"},\"ticker\":{\"id\":\"34525\"}},\"id\":\"34524\",\"type\":\"DatetimeAxis\"},{\"attributes\":{\"bottom\":{\"value\":1},\"fill_color\":{\"value\":\"#1f77b4\"},\"left\":{\"field\":\"left\"},\"line_color\":{\"value\":\"#1f77b4\"},\"right\":{\"field\":\"right\"},\"top\":{\"field\":\"top\"}},\"id\":\"34547\",\"type\":\"Quad\"},{\"attributes\":{},\"id\":\"35615\",\"type\":\"Selection\"},{\"attributes\":{\"bottom_units\":\"screen\",\"fill_alpha\":0.5,\"fill_color\":\"lightgrey\",\"left_units\":\"screen\",\"level\":\"overlay\",\"line_alpha\":1.0,\"line_color\":\"black\",\"line_dash\":[4,4],\"line_width\":2,\"render_mode\":\"css\",\"right_units\":\"screen\",\"top_units\":\"screen\"},\"id\":\"34538\",\"type\":\"BoxAnnotation\"},{\"attributes\":{\"source\":{\"id\":\"34546\"}},\"id\":\"34550\",\"type\":\"CDSView\"},{\"attributes\":{},\"id\":\"34532\",\"type\":\"PanTool\"},{\"attributes\":{\"bottom\":{\"value\":1},\"fill_alpha\":{\"value\":0.1},\"fill_color\":{\"value\":\"#1f77b4\"},\"left\":{\"field\":\"left\"},\"line_alpha\":{\"value\":0.1},\"line_color\":{\"value\":\"#1f77b4\"},\"right\":{\"field\":\"right\"},\"top\":{\"field\":\"top\"}},\"id\":\"34548\",\"type\":\"Quad\"},{\"attributes\":{\"overlay\":{\"id\":\"34538\"}},\"id\":\"34534\",\"type\":\"BoxZoomTool\"},{\"attributes\":{\"num_minor_ticks\":5,\"tickers\":[{\"id\":\"35622\"},{\"id\":\"35623\"},{\"id\":\"35624\"},{\"id\":\"35625\"},{\"id\":\"35626\"},{\"id\":\"35627\"},{\"id\":\"35628\"},{\"id\":\"35629\"},{\"id\":\"35630\"},{\"id\":\"35631\"},{\"id\":\"35632\"},{\"id\":\"35633\"}]},\"id\":\"34525\",\"type\":\"DatetimeTicker\"},{\"attributes\":{\"source\":{\"id\":\"34556\"}},\"id\":\"34560\",\"type\":\"CDSView\"},{\"attributes\":{\"source\":{\"id\":\"34551\"}},\"id\":\"34555\",\"type\":\"CDSView\"},{\"attributes\":{},\"id\":\"34535\",\"type\":\"SaveTool\"},{\"attributes\":{\"formatter\":{\"id\":\"35613\"},\"ticker\":{\"id\":\"34529\"}},\"id\":\"34528\",\"type\":\"LinearAxis\"},{\"attributes\":{},\"id\":\"35620\",\"type\":\"UnionRenderers\"},{\"attributes\":{\"days\":[1,8,15,22]},\"id\":\"35627\",\"type\":\"DaysTicker\"},{\"attributes\":{\"axis\":{\"id\":\"34524\"},\"ticker\":null},\"id\":\"34527\",\"type\":\"Grid\"},{\"attributes\":{\"mantissas\":[1,2,5],\"max_interval\":500.0,\"num_minor_ticks\":0},\"id\":\"35622\",\"type\":\"AdaptiveTicker\"},{\"attributes\":{\"data_source\":{\"id\":\"34551\"},\"glyph\":{\"id\":\"34552\"},\"hover_glyph\":null,\"muted_glyph\":null,\"nonselection_glyph\":{\"id\":\"34553\"},\"selection_glyph\":null,\"view\":{\"id\":\"34555\"}},\"id\":\"34554\",\"type\":\"GlyphRenderer\"},{\"attributes\":{\"end\":1587340800000.0,\"start\":1581638400000.0},\"id\":\"34516\",\"type\":\"Range1d\"},{\"attributes\":{\"months\":[0,2,4,6,8,10]},\"id\":\"35630\",\"type\":\"MonthsTicker\"},{\"attributes\":{\"base\":24,\"mantissas\":[1,2,4,6,8,12],\"max_interval\":43200000.0,\"min_interval\":3600000.0,\"num_minor_ticks\":0},\"id\":\"35624\",\"type\":\"AdaptiveTicker\"},{\"attributes\":{},\"id\":\"35633\",\"type\":\"YearsTicker\"},{\"attributes\":{\"text\":\"\"},\"id\":\"35610\",\"type\":\"Title\"},{\"attributes\":{\"bottom\":{\"value\":1},\"fill_alpha\":{\"value\":0.1},\"fill_color\":{\"value\":\"green\"},\"left\":{\"field\":\"left\"},\"line_alpha\":{\"value\":0.1},\"line_color\":{\"value\":\"green\"},\"right\":{\"field\":\"right\"},\"top\":{\"field\":\"top\"}},\"id\":\"34553\",\"type\":\"Quad\"},{\"attributes\":{},\"id\":\"34537\",\"type\":\"HelpTool\"},{\"attributes\":{\"days\":[1,15]},\"id\":\"35628\",\"type\":\"DaysTicker\"},{\"attributes\":{\"data\":{\"left\":{\"__ndarray__\":\"AABA9Tv/dkIAAABbjv92QgAAwMDg/3ZCAACAJjMAd0IAAECMhQB3QgAAAPLXAHdCAADAVyoBd0IAAIC9fAF3QgAAQCPPAXdCAAAAiSECd0IAAMDucwJ3QgAAgFTGAndCAABAuhgDd0IAAAAgawN3QgAAwIW9A3dCAACA6w8Ed0IAAEBRYgR3QgAAALe0BHdCAADAHAcFd0IAAICCWQV3QgAAQOirBXdCAAAATv4Fd0IAAMCzUAZ3QgAAgBmjBndCAABAf/UGd0IAAADlRwd3QgAAwEqaB3dCAACAsOwHd0IAAEAWPwh3QgAAAHyRCHdCAADA4eMId0IAAIBHNgl3QgAAQK2ICXdCAAAAE9sJd0IAAMB4LQp3QgAAgN5/CndCAABARNIKd0IAAACqJAt3QgAAwA93C3dCAACAdckLd0IAAEDbGwx3QgAAAEFuDHdCAADApsAMd0IAAIAMEw13QgAAQHJlDXdCAAAA2LcNd0IAAMA9Cg53QgAAgKNcDndCAABACa8Od0IAAABvAQ93QgAAwNRTD3dCAACAOqYPd0IAAECg+A93QgAAAAZLEHdCAADAa50Qd0IAAIDR7xB3QgAAQDdCEXdCAAAAnZQRd0IAAMAC5xF3QgAAgGg5EndCAABAzosSd0IAAAA03hJ3QgAAwJkwE3dCAACA/4ITd0IAAEBl1RN3QgAAAMsnFHdCAADAMHoUd0IAAICWzBR3QgAAQPweFXdCAAAAYnEVd0IAAMDHwxV3QgAAgC0WFndCAABAk2gWd0IAAAD5uhZ3QgAAwF4NF3dCAACAxF8Xd0IAAEAqshd3QgAAAJAEGHdCAADA9VYYd0IAAIBbqRh3QgAAQMH7GHdCAAAAJ04Zd0IAAMCMoBl3QgAAgPLyGXdCAABAWEUad0IAAAC+lxp3QgAAwCPqGndCAACAiTwbd0IAAEDvjht3QgAAAFXhG3dCAADAujMcd0IAAIAghhx3QgAAQIbYHHdCAAAA7Codd0IAAMBRfR13QgAAgLfPHXdCAABAHSIed0IAAACDdB53QgAAwOjGHndCAACAThkfd0IAAEC0ax93QgAAABq+H3dCAADAfxAgd0IAAIDlYiB3QgAAQEu1IHdCAAAAsQchd0IAAMAWWiF3Qg==\",\"dtype\":\"float64\",\"shape\":[107]},\"right\":{\"__ndarray__\":\"AACgHYb/dkIAAGCD2P92QgAAIOkqAHdCAADgTn0Ad0IAAKC0zwB3QgAAYBoiAXdCAAAggHQBd0IAAODlxgF3QgAAoEsZAndCAABgsWsCd0IAACAXvgJ3QgAA4HwQA3dCAACg4mIDd0IAAGBItQN3QgAAIK4HBHdCAADgE1oEd0IAAKB5rAR3QgAAYN/+BHdCAAAgRVEFd0IAAOCqowV3QgAAoBD2BXdCAABgdkgGd0IAACDcmgZ3QgAA4EHtBndCAACgpz8Hd0IAAGANkgd3QgAAIHPkB3dCAADg2DYId0IAAKA+iQh3QgAAYKTbCHdCAAAgCi4Jd0IAAOBvgAl3QgAAoNXSCXdCAABgOyUKd0IAACChdwp3QgAA4AbKCndCAACgbBwLd0IAAGDSbgt3QgAAIDjBC3dCAADgnRMMd0IAAKADZgx3QgAAYGm4DHdCAAAgzwoNd0IAAOA0XQ13QgAAoJqvDXdCAABgAAIOd0IAACBmVA53QgAA4MumDndCAACgMfkOd0IAAGCXSw93QgAAIP2dD3dCAADgYvAPd0IAAKDIQhB3QgAAYC6VEHdCAAAglOcQd0IAAOD5ORF3QgAAoF+MEXdCAABgxd4Rd0IAACArMRJ3QgAA4JCDEndCAACg9tUSd0IAAGBcKBN3QgAAIMJ6E3dCAADgJ80Td0IAAKCNHxR3QgAAYPNxFHdCAAAgWcQUd0IAAOC+FhV3QgAAoCRpFXdCAABgirsVd0IAACDwDRZ3QgAA4FVgFndCAACgu7IWd0IAAGAhBRd3QgAAIIdXF3dCAADg7KkXd0IAAKBS/Bd3QgAAYLhOGHdCAAAgHqEYd0IAAOCD8xh3QgAAoOlFGXdCAABgT5gZd0IAACC16hl3QgAA4Bo9GndCAACggI8ad0IAAGDm4Rp3QgAAIEw0G3dCAADgsYYbd0IAAKAX2Rt3QgAAYH0rHHdCAAAg430cd0IAAOBI0Bx3QgAAoK4iHXdCAABgFHUdd0IAACB6xx13QgAA4N8ZHndCAACgRWwed0IAAGCrvh53QgAAIBERH3dCAADgdmMfd0IAAKDctR93QgAAYEIIIHdCAAAgqFogd0IAAOANrSB3QgAAoHP/IHdCAABg2VEhd0IAACA/pCF3Qg==\",\"dtype\":\"float64\",\"shape\":[107]},\"top\":{\"__ndarray__\":\"AAAAAAAAAAAAAAAAAAAAAAAAAAAAAAAAAAAAAAAAAAAAAAAAAAAAAAAAAAAAAAAAAAAAAAAAAAAAAAAAAAAAAAAAAAAAAAAAAAAAAAAAAAAAAAAAAAAAAAAAAAAAAAAAAAAAAAAAAAAAAAAAAAAAAAAAAAAAAAAAAAAAAAAAAAAAAAAAAAAAAAAAAAAAAAAAAAAAAAAAAAAAAAAAAAAAAAAAAAAAAAAAAAAAAAAAAAAAAAAAAAAAAAAAAAAAAAAAAAAAAAAAAAAAAAAAAAAAAAAAAAAAAAAAAAAAAAAAAAAAAAAAAAAAAAAAAAAAAAAAAAAAAAAAAAAAAAAAAAAAAAAAAAAAAAAAAAAAAAAAAAAAAAAAAAAAAAAAAAAAAAAAAAAAAAAAAAAAAAAAAAAAAAAAAAAAAAAAAAAAAAAAAAAAAAAAAAAAAAAAAAAAAAAAAAAAAAAAAAAAAAAAAAAAAAAAAAAAAAAAAAAAAAAAAAAAAAAAAAAAAAAAAAAAAAAAAAAAAAAA8D8AAAAAAADwPwAAAAAAAPA/AAAAAAAA8D8AAAAAAAAAQAAAAAAAAAhAAAAAAAAACEAAAAAAAAAQQAAAAAAAABxAAAAAAAAAJEAAAAAAAAAsQAAAAAAAADFAAAAAAAAANkAAAAAAAAA+QAAAAAAAAEJAAAAAAACARkAAAAAAAIBLQAAAAAAAAFBAAAAAAAAAUkAAAAAAAABXQAAAAAAAgFtAAAAAAABAXkAAAAAAAIBhQAAAAAAAoGRAAAAAAABAaEAAAAAAAIBqQAAAAAAAIG1AAAAAAABwcEAAAAAAAKByQAAAAAAAkHRAAAAAAADwdUAAAAAAACB4QAAAAAAAQHpAAAAAAABwfEAAAAAAAEB/QAAAAAAAyIBAAAAAAADggUAAAAAAAICDQAAAAAAAOIVAAAAAAAAwh0AAAAAAAJiIQAAAAAAA2IlAAAAAAADIi0AAAAAAAPCNQAAAAAAACJBAAAAAAAD4kEAAAAAAAAySQAAAAAAA4JJAAAAAAADUk0AAAAAAAJiUQAAAAAAAPJVAAAAAAADclUAAAAAAAIiWQAAAAAAAMJdAAAAAAAC0l0AAAAAAADiYQAAAAAAAmJhAAAAAAAC4mEAAAAAAALiYQA==\",\"dtype\":\"float64\",\"shape\":[107]}},\"selected\":{\"id\":\"35619\"},\"selection_policy\":{\"id\":\"35620\"}},\"id\":\"34556\",\"type\":\"ColumnDataSource\"},{\"attributes\":{},\"id\":\"34520\",\"type\":\"LinearScale\"},{\"attributes\":{\"base\":60,\"mantissas\":[1,2,5,10,15,20,30],\"max_interval\":1800000.0,\"min_interval\":1000.0,\"num_minor_ticks\":0},\"id\":\"35623\",\"type\":\"AdaptiveTicker\"}],\"root_ids\":[\"34515\"]},\"title\":\"Bokeh Application\",\"version\":\"2.0.1\"}};\n",
       "  var render_items = [{\"docid\":\"91649b8a-e311-4fbe-adef-08cd37bcdae5\",\"root_ids\":[\"34515\"],\"roots\":{\"34515\":\"dd8bcf78-f6f3-4c81-a62f-c655cd776bbe\"}}];\n",
       "  root.Bokeh.embed.embed_items_notebook(docs_json, render_items);\n",
       "\n",
       "  }\n",
       "  if (root.Bokeh !== undefined) {\n",
       "    embed_document(root);\n",
       "  } else {\n",
       "    var attempts = 0;\n",
       "    var timer = setInterval(function(root) {\n",
       "      if (root.Bokeh !== undefined) {\n",
       "        clearInterval(timer);\n",
       "        embed_document(root);\n",
       "      } else {\n",
       "        attempts++;\n",
       "        if (attempts > 100) {\n",
       "          clearInterval(timer);\n",
       "          console.log(\"Bokeh: ERROR: Unable to run BokehJS code because BokehJS library is missing\");\n",
       "        }\n",
       "      }\n",
       "    }, 10, root)\n",
       "  }\n",
       "})(window);"
      ],
      "application/vnd.bokehjs_exec.v0+json": ""
     },
     "metadata": {
      "application/vnd.bokehjs_exec.v0+json": {
       "id": "34515"
      }
     },
     "output_type": "display_data"
    }
   ],
   "source": [
    "bpl.show(s)"
   ]
  },
  {
   "cell_type": "code",
   "execution_count": 391,
   "metadata": {},
   "outputs": [],
   "source": [
    "s0 = bpl.figure(x_axis_type=\"datetime\",plot_width=1000,plot_height=600,x_range=(pd.Timestamp(\"2020-02-14\"),pd.Timestamp(\"2020-04-20\")),y_range=(0,600))"
   ]
  },
  {
   "cell_type": "code",
   "execution_count": 392,
   "metadata": {},
   "outputs": [
    {
     "data": {
      "text/html": [
       "<div style=\"display: table;\"><div style=\"display: table-row;\"><div style=\"display: table-cell;\"><b title=\"bokeh.models.renderers.GlyphRenderer\">GlyphRenderer</b>(</div><div style=\"display: table-cell;\">id&nbsp;=&nbsp;'35828', <span id=\"35831\" style=\"cursor: pointer;\">&hellip;)</span></div></div><div class=\"35830\" style=\"display: none;\"><div style=\"display: table-cell;\"></div><div style=\"display: table-cell;\">data_source&nbsp;=&nbsp;ColumnDataSource(id='35825', ...),</div></div><div class=\"35830\" style=\"display: none;\"><div style=\"display: table-cell;\"></div><div style=\"display: table-cell;\">glyph&nbsp;=&nbsp;Quad(id='35826', ...),</div></div><div class=\"35830\" style=\"display: none;\"><div style=\"display: table-cell;\"></div><div style=\"display: table-cell;\">hover_glyph&nbsp;=&nbsp;None,</div></div><div class=\"35830\" style=\"display: none;\"><div style=\"display: table-cell;\"></div><div style=\"display: table-cell;\">js_event_callbacks&nbsp;=&nbsp;{},</div></div><div class=\"35830\" style=\"display: none;\"><div style=\"display: table-cell;\"></div><div style=\"display: table-cell;\">js_property_callbacks&nbsp;=&nbsp;{},</div></div><div class=\"35830\" style=\"display: none;\"><div style=\"display: table-cell;\"></div><div style=\"display: table-cell;\">level&nbsp;=&nbsp;'glyph',</div></div><div class=\"35830\" style=\"display: none;\"><div style=\"display: table-cell;\"></div><div style=\"display: table-cell;\">muted&nbsp;=&nbsp;False,</div></div><div class=\"35830\" style=\"display: none;\"><div style=\"display: table-cell;\"></div><div style=\"display: table-cell;\">muted_glyph&nbsp;=&nbsp;None,</div></div><div class=\"35830\" style=\"display: none;\"><div style=\"display: table-cell;\"></div><div style=\"display: table-cell;\">name&nbsp;=&nbsp;None,</div></div><div class=\"35830\" style=\"display: none;\"><div style=\"display: table-cell;\"></div><div style=\"display: table-cell;\">nonselection_glyph&nbsp;=&nbsp;Quad(id='35827', ...),</div></div><div class=\"35830\" style=\"display: none;\"><div style=\"display: table-cell;\"></div><div style=\"display: table-cell;\">selection_glyph&nbsp;=&nbsp;None,</div></div><div class=\"35830\" style=\"display: none;\"><div style=\"display: table-cell;\"></div><div style=\"display: table-cell;\">subscribed_events&nbsp;=&nbsp;[],</div></div><div class=\"35830\" style=\"display: none;\"><div style=\"display: table-cell;\"></div><div style=\"display: table-cell;\">tags&nbsp;=&nbsp;[],</div></div><div class=\"35830\" style=\"display: none;\"><div style=\"display: table-cell;\"></div><div style=\"display: table-cell;\">view&nbsp;=&nbsp;CDSView(id='35829', ...),</div></div><div class=\"35830\" style=\"display: none;\"><div style=\"display: table-cell;\"></div><div style=\"display: table-cell;\">visible&nbsp;=&nbsp;True,</div></div><div class=\"35830\" style=\"display: none;\"><div style=\"display: table-cell;\"></div><div style=\"display: table-cell;\">x_range_name&nbsp;=&nbsp;'default',</div></div><div class=\"35830\" style=\"display: none;\"><div style=\"display: table-cell;\"></div><div style=\"display: table-cell;\">y_range_name&nbsp;=&nbsp;'default')</div></div></div>\n",
       "<script>\n",
       "(function() {\n",
       "  var expanded = false;\n",
       "  var ellipsis = document.getElementById(\"35831\");\n",
       "  ellipsis.addEventListener(\"click\", function() {\n",
       "    var rows = document.getElementsByClassName(\"35830\");\n",
       "    for (var i = 0; i < rows.length; i++) {\n",
       "      var el = rows[i];\n",
       "      el.style.display = expanded ? \"none\" : \"table-row\";\n",
       "    }\n",
       "    ellipsis.innerHTML = expanded ? \"&hellip;)\" : \"&lsaquo;&lsaquo;&lsaquo;\";\n",
       "    expanded = !expanded;\n",
       "  });\n",
       "})();\n",
       "</script>\n"
      ],
      "text/plain": [
       "GlyphRenderer(id='35828', ...)"
      ]
     },
     "execution_count": 392,
     "metadata": {},
     "output_type": "execute_result"
    }
   ],
   "source": [
    "s0.quad(left=time_index,right=time_index+pd.Timedelta(\"1 days\")*0.9,top=casos[\"Confirmados\"],bottom=1)\n",
    "s0.quad(left=time_index,right=time_index+pd.Timedelta(\"1 days\")*0.9,top=casos[\"Graves\"],bottom=1,color=\"green\")\n",
    "s0.quad(left=time_index,right=time_index+pd.Timedelta(\"1 days\")*0.9,top=casos[\"Decesos\"],bottom=1,color=\"red\")"
   ]
  },
  {
   "cell_type": "code",
   "execution_count": 393,
   "metadata": {},
   "outputs": [
    {
     "data": {
      "text/html": [
       "\n",
       "\n",
       "\n",
       "\n",
       "\n",
       "\n",
       "  <div class=\"bk-root\" id=\"441a2685-a25d-4a6a-bbd0-a3fba4317c68\" data-root-id=\"35784\"></div>\n"
      ]
     },
     "metadata": {},
     "output_type": "display_data"
    },
    {
     "data": {
      "application/javascript": [
       "(function(root) {\n",
       "  function embed_document(root) {\n",
       "    \n",
       "  var docs_json = {\"bdd3730b-d0b0-4392-8627-3c385aa3f577\":{\"roots\":{\"references\":[{\"attributes\":{\"below\":[{\"id\":\"35793\"}],\"center\":[{\"id\":\"35796\"},{\"id\":\"35800\"}],\"left\":[{\"id\":\"35797\"}],\"plot_width\":1000,\"renderers\":[{\"id\":\"35818\"},{\"id\":\"35823\"},{\"id\":\"35828\"}],\"title\":{\"id\":\"36904\"},\"toolbar\":{\"id\":\"35808\"},\"x_range\":{\"id\":\"35785\"},\"x_scale\":{\"id\":\"35789\"},\"y_range\":{\"id\":\"35787\"},\"y_scale\":{\"id\":\"35791\"}},\"id\":\"35784\",\"subtype\":\"Figure\",\"type\":\"Plot\"},{\"attributes\":{},\"id\":\"36912\",\"type\":\"UnionRenderers\"},{\"attributes\":{\"bottom\":{\"value\":1},\"fill_alpha\":{\"value\":0.1},\"fill_color\":{\"value\":\"green\"},\"left\":{\"field\":\"left\"},\"line_alpha\":{\"value\":0.1},\"line_color\":{\"value\":\"green\"},\"right\":{\"field\":\"right\"},\"top\":{\"field\":\"top\"}},\"id\":\"35822\",\"type\":\"Quad\"},{\"attributes\":{\"bottom\":{\"value\":1},\"fill_color\":{\"value\":\"#1f77b4\"},\"left\":{\"field\":\"left\"},\"line_color\":{\"value\":\"#1f77b4\"},\"right\":{\"field\":\"right\"},\"top\":{\"field\":\"top\"}},\"id\":\"35816\",\"type\":\"Quad\"},{\"attributes\":{},\"id\":\"35789\",\"type\":\"LinearScale\"},{\"attributes\":{},\"id\":\"35798\",\"type\":\"BasicTicker\"},{\"attributes\":{},\"id\":\"36911\",\"type\":\"Selection\"},{\"attributes\":{\"base\":24,\"mantissas\":[1,2,4,6,8,12],\"max_interval\":43200000.0,\"min_interval\":3600000.0,\"num_minor_ticks\":0},\"id\":\"36918\",\"type\":\"AdaptiveTicker\"},{\"attributes\":{\"months\":[0,1,2,3,4,5,6,7,8,9,10,11]},\"id\":\"36923\",\"type\":\"MonthsTicker\"},{\"attributes\":{\"axis\":{\"id\":\"35793\"},\"ticker\":null},\"id\":\"35796\",\"type\":\"Grid\"},{\"attributes\":{},\"id\":\"35801\",\"type\":\"PanTool\"},{\"attributes\":{},\"id\":\"35804\",\"type\":\"SaveTool\"},{\"attributes\":{},\"id\":\"36907\",\"type\":\"BasicTickFormatter\"},{\"attributes\":{},\"id\":\"36910\",\"type\":\"UnionRenderers\"},{\"attributes\":{\"data\":{\"left\":{\"__ndarray__\":\"AABA9Tv/dkIAAABbjv92QgAAwMDg/3ZCAACAJjMAd0IAAECMhQB3QgAAAPLXAHdCAADAVyoBd0IAAIC9fAF3QgAAQCPPAXdCAAAAiSECd0IAAMDucwJ3QgAAgFTGAndCAABAuhgDd0IAAAAgawN3QgAAwIW9A3dCAACA6w8Ed0IAAEBRYgR3QgAAALe0BHdCAADAHAcFd0IAAICCWQV3QgAAQOirBXdCAAAATv4Fd0IAAMCzUAZ3QgAAgBmjBndCAABAf/UGd0IAAADlRwd3QgAAwEqaB3dCAACAsOwHd0IAAEAWPwh3QgAAAHyRCHdCAADA4eMId0IAAIBHNgl3QgAAQK2ICXdCAAAAE9sJd0IAAMB4LQp3QgAAgN5/CndCAABARNIKd0IAAACqJAt3QgAAwA93C3dCAACAdckLd0IAAEDbGwx3QgAAAEFuDHdCAADApsAMd0IAAIAMEw13QgAAQHJlDXdCAAAA2LcNd0IAAMA9Cg53QgAAgKNcDndCAABACa8Od0IAAABvAQ93QgAAwNRTD3dCAACAOqYPd0IAAECg+A93QgAAAAZLEHdCAADAa50Qd0IAAIDR7xB3QgAAQDdCEXdCAAAAnZQRd0IAAMAC5xF3QgAAgGg5EndCAABAzosSd0IAAAA03hJ3QgAAwJkwE3dCAACA/4ITd0IAAEBl1RN3QgAAAMsnFHdCAADAMHoUd0IAAICWzBR3QgAAQPweFXdCAAAAYnEVd0IAAMDHwxV3QgAAgC0WFndCAABAk2gWd0IAAAD5uhZ3QgAAwF4NF3dCAACAxF8Xd0IAAEAqshd3QgAAAJAEGHdCAADA9VYYd0IAAIBbqRh3QgAAQMH7GHdCAAAAJ04Zd0IAAMCMoBl3QgAAgPLyGXdCAABAWEUad0IAAAC+lxp3QgAAwCPqGndCAACAiTwbd0IAAEDvjht3QgAAAFXhG3dCAADAujMcd0IAAIAghhx3QgAAQIbYHHdCAAAA7Codd0IAAMBRfR13QgAAgLfPHXdCAABAHSIed0IAAACDdB53QgAAwOjGHndCAACAThkfd0IAAEC0ax93QgAAABq+H3dCAADAfxAgd0IAAIDlYiB3QgAAQEu1IHdCAAAAsQchd0IAAMAWWiF3Qg==\",\"dtype\":\"float64\",\"shape\":[107]},\"right\":{\"__ndarray__\":\"AACgHYb/dkIAAGCD2P92QgAAIOkqAHdCAADgTn0Ad0IAAKC0zwB3QgAAYBoiAXdCAAAggHQBd0IAAODlxgF3QgAAoEsZAndCAABgsWsCd0IAACAXvgJ3QgAA4HwQA3dCAACg4mIDd0IAAGBItQN3QgAAIK4HBHdCAADgE1oEd0IAAKB5rAR3QgAAYN/+BHdCAAAgRVEFd0IAAOCqowV3QgAAoBD2BXdCAABgdkgGd0IAACDcmgZ3QgAA4EHtBndCAACgpz8Hd0IAAGANkgd3QgAAIHPkB3dCAADg2DYId0IAAKA+iQh3QgAAYKTbCHdCAAAgCi4Jd0IAAOBvgAl3QgAAoNXSCXdCAABgOyUKd0IAACChdwp3QgAA4AbKCndCAACgbBwLd0IAAGDSbgt3QgAAIDjBC3dCAADgnRMMd0IAAKADZgx3QgAAYGm4DHdCAAAgzwoNd0IAAOA0XQ13QgAAoJqvDXdCAABgAAIOd0IAACBmVA53QgAA4MumDndCAACgMfkOd0IAAGCXSw93QgAAIP2dD3dCAADgYvAPd0IAAKDIQhB3QgAAYC6VEHdCAAAglOcQd0IAAOD5ORF3QgAAoF+MEXdCAABgxd4Rd0IAACArMRJ3QgAA4JCDEndCAACg9tUSd0IAAGBcKBN3QgAAIMJ6E3dCAADgJ80Td0IAAKCNHxR3QgAAYPNxFHdCAAAgWcQUd0IAAOC+FhV3QgAAoCRpFXdCAABgirsVd0IAACDwDRZ3QgAA4FVgFndCAACgu7IWd0IAAGAhBRd3QgAAIIdXF3dCAADg7KkXd0IAAKBS/Bd3QgAAYLhOGHdCAAAgHqEYd0IAAOCD8xh3QgAAoOlFGXdCAABgT5gZd0IAACC16hl3QgAA4Bo9GndCAACggI8ad0IAAGDm4Rp3QgAAIEw0G3dCAADgsYYbd0IAAKAX2Rt3QgAAYH0rHHdCAAAg430cd0IAAOBI0Bx3QgAAoK4iHXdCAABgFHUdd0IAACB6xx13QgAA4N8ZHndCAACgRWwed0IAAGCrvh53QgAAIBERH3dCAADgdmMfd0IAAKDctR93QgAAYEIIIHdCAAAgqFogd0IAAOANrSB3QgAAoHP/IHdCAABg2VEhd0IAACA/pCF3Qg==\",\"dtype\":\"float64\",\"shape\":[107]},\"top\":{\"__ndarray__\":\"AAAAAAAA8D8AAAAAAAD4fwAAAAAAAPh/AAAAAAAA+H8AAAAAAAD4fwAAAAAAAPh/AAAAAAAA+H8AAAAAAAD4fwAAAAAAAPh/AAAAAAAA+H8AAAAAAAD4fwAAAAAAAPh/AAAAAAAA+H8AAAAAAAD4fwAAAAAAAPh/AAAAAAAA+H8AAAAAAAD4fwAAAAAAAPh/AAAAAAAA8D8AAAAAAADwPwAAAAAAAPA/AAAAAAAA+H8AAAAAAADwPwAAAAAAAPA/AAAAAAAA8D8AAAAAAAD4fwAAAAAAAPh/AAAAAAAA8D8AAAAAAADwPwAAAAAAAABAAAAAAAAAAEAAAAAAAAAAQAAAAAAAABxAAAAAAAAAFEAAAAAAAAAQQAAAAAAAAAhAAAAAAAAAGEAAAAAAAAAqQAAAAAAAACBAAAAAAAAAPkAAAAAAAAA4QAAAAAAAADdAAAAAAAAANkAAAAAAAABDQAAAAAAAAEVAAAAAAAAAR0AAAAAAAABOQAAAAAAAAEBAAAAAAAAAQUAAAAAAAABFQAAAAAAAgFFAAAAAAACAQ0AAAAAAAABHQAAAAAAAwFJAAAAAAAAAUUAAAAAAAABUQAAAAAAAQF5AAAAAAABAWUAAAAAAAMBVQAAAAAAAQFVAAAAAAABgY0AAAAAAAEBcQAAAAAAAIGhAAAAAAAAAZEAAAAAAAOBkQAAAAAAAgGdAAAAAAADAZUAAAAAAAGBuQAAAAAAAgGlAAAAAAABAb0AAAAAAAOBwQAAAAAAAgHtAAAAAAABQc0AAAAAAANB0QAAAAAAAgHpAAAAAAADAeEAAAAAAAGiAQAAAAAAAwH1AAAAAAABYgUAAAAAAACCCQAAAAAAA8IBAAAAAAAAAikAAAAAAAFiBQAAAAAAA8IBAAAAAAAAogkAAAAAAALiDQAAAAAAAGIRAAAAAAABIgkAAAAAAAPCFQAAAAAAA4IJAAAAAAACQfUAAAAAAAECDQAAAAAAAYIlAAAAAAAAwfEAAAAAAANB8QAAAAAAAAIJAAAAAAABge0AAAAAAALB3QAAAAAAAsHZAAAAAAAAQdkAAAAAAAABvQAAAAAAAwGlAAAAAAAAAYUAAAAAAAEBSQAAAAAAAAERAAAAAAAAA+H8AAAAAAAD4fw==\",\"dtype\":\"float64\",\"shape\":[107]}},\"selected\":{\"id\":\"36909\"},\"selection_policy\":{\"id\":\"36910\"}},\"id\":\"35815\",\"type\":\"ColumnDataSource\"},{\"attributes\":{\"days\":[1,15]},\"id\":\"36922\",\"type\":\"DaysTicker\"},{\"attributes\":{\"source\":{\"id\":\"35820\"}},\"id\":\"35824\",\"type\":\"CDSView\"},{\"attributes\":{},\"id\":\"36913\",\"type\":\"Selection\"},{\"attributes\":{\"end\":600},\"id\":\"35787\",\"type\":\"Range1d\"},{\"attributes\":{\"bottom\":{\"value\":1},\"fill_alpha\":{\"value\":0.1},\"fill_color\":{\"value\":\"red\"},\"left\":{\"field\":\"left\"},\"line_alpha\":{\"value\":0.1},\"line_color\":{\"value\":\"red\"},\"right\":{\"field\":\"right\"},\"top\":{\"field\":\"top\"}},\"id\":\"35827\",\"type\":\"Quad\"},{\"attributes\":{\"mantissas\":[1,2,5],\"max_interval\":500.0,\"num_minor_ticks\":0},\"id\":\"36916\",\"type\":\"AdaptiveTicker\"},{\"attributes\":{\"months\":[0,2,4,6,8,10]},\"id\":\"36924\",\"type\":\"MonthsTicker\"},{\"attributes\":{\"bottom\":{\"value\":1},\"fill_color\":{\"value\":\"green\"},\"left\":{\"field\":\"left\"},\"line_color\":{\"value\":\"green\"},\"right\":{\"field\":\"right\"},\"top\":{\"field\":\"top\"}},\"id\":\"35821\",\"type\":\"Quad\"},{\"attributes\":{\"end\":1587340800000.0,\"start\":1581638400000.0},\"id\":\"35785\",\"type\":\"Range1d\"},{\"attributes\":{\"data_source\":{\"id\":\"35820\"},\"glyph\":{\"id\":\"35821\"},\"hover_glyph\":null,\"muted_glyph\":null,\"nonselection_glyph\":{\"id\":\"35822\"},\"selection_glyph\":null,\"view\":{\"id\":\"35824\"}},\"id\":\"35823\",\"type\":\"GlyphRenderer\"},{\"attributes\":{\"data\":{\"left\":{\"__ndarray__\":\"AABA9Tv/dkIAAABbjv92QgAAwMDg/3ZCAACAJjMAd0IAAECMhQB3QgAAAPLXAHdCAADAVyoBd0IAAIC9fAF3QgAAQCPPAXdCAAAAiSECd0IAAMDucwJ3QgAAgFTGAndCAABAuhgDd0IAAAAgawN3QgAAwIW9A3dCAACA6w8Ed0IAAEBRYgR3QgAAALe0BHdCAADAHAcFd0IAAICCWQV3QgAAQOirBXdCAAAATv4Fd0IAAMCzUAZ3QgAAgBmjBndCAABAf/UGd0IAAADlRwd3QgAAwEqaB3dCAACAsOwHd0IAAEAWPwh3QgAAAHyRCHdCAADA4eMId0IAAIBHNgl3QgAAQK2ICXdCAAAAE9sJd0IAAMB4LQp3QgAAgN5/CndCAABARNIKd0IAAACqJAt3QgAAwA93C3dCAACAdckLd0IAAEDbGwx3QgAAAEFuDHdCAADApsAMd0IAAIAMEw13QgAAQHJlDXdCAAAA2LcNd0IAAMA9Cg53QgAAgKNcDndCAABACa8Od0IAAABvAQ93QgAAwNRTD3dCAACAOqYPd0IAAECg+A93QgAAAAZLEHdCAADAa50Qd0IAAIDR7xB3QgAAQDdCEXdCAAAAnZQRd0IAAMAC5xF3QgAAgGg5EndCAABAzosSd0IAAAA03hJ3QgAAwJkwE3dCAACA/4ITd0IAAEBl1RN3QgAAAMsnFHdCAADAMHoUd0IAAICWzBR3QgAAQPweFXdCAAAAYnEVd0IAAMDHwxV3QgAAgC0WFndCAABAk2gWd0IAAAD5uhZ3QgAAwF4NF3dCAACAxF8Xd0IAAEAqshd3QgAAAJAEGHdCAADA9VYYd0IAAIBbqRh3QgAAQMH7GHdCAAAAJ04Zd0IAAMCMoBl3QgAAgPLyGXdCAABAWEUad0IAAAC+lxp3QgAAwCPqGndCAACAiTwbd0IAAEDvjht3QgAAAFXhG3dCAADAujMcd0IAAIAghhx3QgAAQIbYHHdCAAAA7Codd0IAAMBRfR13QgAAgLfPHXdCAABAHSIed0IAAACDdB53QgAAwOjGHndCAACAThkfd0IAAEC0ax93QgAAABq+H3dCAADAfxAgd0IAAIDlYiB3QgAAQEu1IHdCAAAAsQchd0IAAMAWWiF3Qg==\",\"dtype\":\"float64\",\"shape\":[107]},\"right\":{\"__ndarray__\":\"AACgHYb/dkIAAGCD2P92QgAAIOkqAHdCAADgTn0Ad0IAAKC0zwB3QgAAYBoiAXdCAAAggHQBd0IAAODlxgF3QgAAoEsZAndCAABgsWsCd0IAACAXvgJ3QgAA4HwQA3dCAACg4mIDd0IAAGBItQN3QgAAIK4HBHdCAADgE1oEd0IAAKB5rAR3QgAAYN/+BHdCAAAgRVEFd0IAAOCqowV3QgAAoBD2BXdCAABgdkgGd0IAACDcmgZ3QgAA4EHtBndCAACgpz8Hd0IAAGANkgd3QgAAIHPkB3dCAADg2DYId0IAAKA+iQh3QgAAYKTbCHdCAAAgCi4Jd0IAAOBvgAl3QgAAoNXSCXdCAABgOyUKd0IAACChdwp3QgAA4AbKCndCAACgbBwLd0IAAGDSbgt3QgAAIDjBC3dCAADgnRMMd0IAAKADZgx3QgAAYGm4DHdCAAAgzwoNd0IAAOA0XQ13QgAAoJqvDXdCAABgAAIOd0IAACBmVA53QgAA4MumDndCAACgMfkOd0IAAGCXSw93QgAAIP2dD3dCAADgYvAPd0IAAKDIQhB3QgAAYC6VEHdCAAAglOcQd0IAAOD5ORF3QgAAoF+MEXdCAABgxd4Rd0IAACArMRJ3QgAA4JCDEndCAACg9tUSd0IAAGBcKBN3QgAAIMJ6E3dCAADgJ80Td0IAAKCNHxR3QgAAYPNxFHdCAAAgWcQUd0IAAOC+FhV3QgAAoCRpFXdCAABgirsVd0IAACDwDRZ3QgAA4FVgFndCAACgu7IWd0IAAGAhBRd3QgAAIIdXF3dCAADg7KkXd0IAAKBS/Bd3QgAAYLhOGHdCAAAgHqEYd0IAAOCD8xh3QgAAoOlFGXdCAABgT5gZd0IAACC16hl3QgAA4Bo9GndCAACggI8ad0IAAGDm4Rp3QgAAIEw0G3dCAADgsYYbd0IAAKAX2Rt3QgAAYH0rHHdCAAAg430cd0IAAOBI0Bx3QgAAoK4iHXdCAABgFHUdd0IAACB6xx13QgAA4N8ZHndCAACgRWwed0IAAGCrvh53QgAAIBERH3dCAADgdmMfd0IAAKDctR93QgAAYEIIIHdCAAAgqFogd0IAAOANrSB3QgAAoHP/IHdCAABg2VEhd0IAACA/pCF3Qg==\",\"dtype\":\"float64\",\"shape\":[107]},\"top\":{\"__ndarray__\":\"AAAAAAAA+H8AAAAAAAD4fwAAAAAAAPh/AAAAAAAA+H8AAAAAAAD4fwAAAAAAAPh/AAAAAAAA+H8AAAAAAAD4fwAAAAAAAPh/AAAAAAAA+H8AAAAAAAD4fwAAAAAAAPh/AAAAAAAA+H8AAAAAAAD4fwAAAAAAAPh/AAAAAAAA+H8AAAAAAAD4fwAAAAAAAPh/AAAAAAAA+H8AAAAAAAD4fwAAAAAAAPh/AAAAAAAA+H8AAAAAAADwPwAAAAAAAPA/AAAAAAAA+H8AAAAAAAD4fwAAAAAAAPh/AAAAAAAA8D8AAAAAAADwPwAAAAAAAPh/AAAAAAAA+H8AAAAAAAD4fwAAAAAAAPA/AAAAAAAAEEAAAAAAAADwPwAAAAAAAPh/AAAAAAAA8D8AAAAAAADwPwAAAAAAAPh/AAAAAAAAIEAAAAAAAAAAQAAAAAAAABhAAAAAAAAAEEAAAAAAAAAQQAAAAAAAACZAAAAAAAAAKEAAAAAAAAAqQAAAAAAAAChAAAAAAAAAJEAAAAAAAAAmQAAAAAAAAD1AAAAAAAAANkAAAAAAAAA2QAAAAAAAgEBAAAAAAAAAM0AAAAAAAABAQAAAAAAAAEtAAAAAAACAQ0AAAAAAAIBDQAAAAAAAAEdAAAAAAACAUkAAAAAAAIBJQAAAAAAAAFdAAAAAAADAU0AAAAAAAIBUQAAAAAAAAFNAAAAAAAAAT0AAAAAAAIBdQAAAAAAAwFlAAAAAAAAAXUAAAAAAAEBZQAAAAAAAYGhAAAAAAABAYEAAAAAAAOBhQAAAAAAAIGVAAAAAAACAYkAAAAAAAKBtQAAAAAAA4GtAAAAAAAAAbEAAAAAAABBwQAAAAAAAoG1AAAAAAADQdEAAAAAAACBsQAAAAAAAYGtAAAAAAABgbkAAAAAAAEBwQAAAAAAA0HBAAAAAAABgb0AAAAAAAEBxQAAAAAAAQG5AAAAAAADAZkAAAAAAAMBwQAAAAAAAwHJAAAAAAACAY0AAAAAAAMBjQAAAAAAA4GpAAAAAAADAZEAAAAAAAEBgQAAAAAAAAF9AAAAAAADAWEAAAAAAAABPQAAAAAAAgExAAAAAAAAAN0AAAAAAAAAYQAAAAAAAAABAAAAAAAAA+H8AAAAAAAD4fw==\",\"dtype\":\"float64\",\"shape\":[107]}},\"selected\":{\"id\":\"36911\"},\"selection_policy\":{\"id\":\"36912\"}},\"id\":\"35820\",\"type\":\"ColumnDataSource\"},{\"attributes\":{\"data_source\":{\"id\":\"35815\"},\"glyph\":{\"id\":\"35816\"},\"hover_glyph\":null,\"muted_glyph\":null,\"nonselection_glyph\":{\"id\":\"35817\"},\"selection_glyph\":null,\"view\":{\"id\":\"35819\"}},\"id\":\"35818\",\"type\":\"GlyphRenderer\"},{\"attributes\":{},\"id\":\"35791\",\"type\":\"LinearScale\"},{\"attributes\":{},\"id\":\"35802\",\"type\":\"WheelZoomTool\"},{\"attributes\":{},\"id\":\"35805\",\"type\":\"ResetTool\"},{\"attributes\":{\"base\":60,\"mantissas\":[1,2,5,10,15,20,30],\"max_interval\":1800000.0,\"min_interval\":1000.0,\"num_minor_ticks\":0},\"id\":\"36917\",\"type\":\"AdaptiveTicker\"},{\"attributes\":{},\"id\":\"36927\",\"type\":\"YearsTicker\"},{\"attributes\":{\"data\":{\"left\":{\"__ndarray__\":\"AABA9Tv/dkIAAABbjv92QgAAwMDg/3ZCAACAJjMAd0IAAECMhQB3QgAAAPLXAHdCAADAVyoBd0IAAIC9fAF3QgAAQCPPAXdCAAAAiSECd0IAAMDucwJ3QgAAgFTGAndCAABAuhgDd0IAAAAgawN3QgAAwIW9A3dCAACA6w8Ed0IAAEBRYgR3QgAAALe0BHdCAADAHAcFd0IAAICCWQV3QgAAQOirBXdCAAAATv4Fd0IAAMCzUAZ3QgAAgBmjBndCAABAf/UGd0IAAADlRwd3QgAAwEqaB3dCAACAsOwHd0IAAEAWPwh3QgAAAHyRCHdCAADA4eMId0IAAIBHNgl3QgAAQK2ICXdCAAAAE9sJd0IAAMB4LQp3QgAAgN5/CndCAABARNIKd0IAAACqJAt3QgAAwA93C3dCAACAdckLd0IAAEDbGwx3QgAAAEFuDHdCAADApsAMd0IAAIAMEw13QgAAQHJlDXdCAAAA2LcNd0IAAMA9Cg53QgAAgKNcDndCAABACa8Od0IAAABvAQ93QgAAwNRTD3dCAACAOqYPd0IAAECg+A93QgAAAAZLEHdCAADAa50Qd0IAAIDR7xB3QgAAQDdCEXdCAAAAnZQRd0IAAMAC5xF3QgAAgGg5EndCAABAzosSd0IAAAA03hJ3QgAAwJkwE3dCAACA/4ITd0IAAEBl1RN3QgAAAMsnFHdCAADAMHoUd0IAAICWzBR3QgAAQPweFXdCAAAAYnEVd0IAAMDHwxV3QgAAgC0WFndCAABAk2gWd0IAAAD5uhZ3QgAAwF4NF3dCAACAxF8Xd0IAAEAqshd3QgAAAJAEGHdCAADA9VYYd0IAAIBbqRh3QgAAQMH7GHdCAAAAJ04Zd0IAAMCMoBl3QgAAgPLyGXdCAABAWEUad0IAAAC+lxp3QgAAwCPqGndCAACAiTwbd0IAAEDvjht3QgAAAFXhG3dCAADAujMcd0IAAIAghhx3QgAAQIbYHHdCAAAA7Codd0IAAMBRfR13QgAAgLfPHXdCAABAHSIed0IAAACDdB53QgAAwOjGHndCAACAThkfd0IAAEC0ax93QgAAABq+H3dCAADAfxAgd0IAAIDlYiB3QgAAQEu1IHdCAAAAsQchd0IAAMAWWiF3Qg==\",\"dtype\":\"float64\",\"shape\":[107]},\"right\":{\"__ndarray__\":\"AACgHYb/dkIAAGCD2P92QgAAIOkqAHdCAADgTn0Ad0IAAKC0zwB3QgAAYBoiAXdCAAAggHQBd0IAAODlxgF3QgAAoEsZAndCAABgsWsCd0IAACAXvgJ3QgAA4HwQA3dCAACg4mIDd0IAAGBItQN3QgAAIK4HBHdCAADgE1oEd0IAAKB5rAR3QgAAYN/+BHdCAAAgRVEFd0IAAOCqowV3QgAAoBD2BXdCAABgdkgGd0IAACDcmgZ3QgAA4EHtBndCAACgpz8Hd0IAAGANkgd3QgAAIHPkB3dCAADg2DYId0IAAKA+iQh3QgAAYKTbCHdCAAAgCi4Jd0IAAOBvgAl3QgAAoNXSCXdCAABgOyUKd0IAACChdwp3QgAA4AbKCndCAACgbBwLd0IAAGDSbgt3QgAAIDjBC3dCAADgnRMMd0IAAKADZgx3QgAAYGm4DHdCAAAgzwoNd0IAAOA0XQ13QgAAoJqvDXdCAABgAAIOd0IAACBmVA53QgAA4MumDndCAACgMfkOd0IAAGCXSw93QgAAIP2dD3dCAADgYvAPd0IAAKDIQhB3QgAAYC6VEHdCAAAglOcQd0IAAOD5ORF3QgAAoF+MEXdCAABgxd4Rd0IAACArMRJ3QgAA4JCDEndCAACg9tUSd0IAAGBcKBN3QgAAIMJ6E3dCAADgJ80Td0IAAKCNHxR3QgAAYPNxFHdCAAAgWcQUd0IAAOC+FhV3QgAAoCRpFXdCAABgirsVd0IAACDwDRZ3QgAA4FVgFndCAACgu7IWd0IAAGAhBRd3QgAAIIdXF3dCAADg7KkXd0IAAKBS/Bd3QgAAYLhOGHdCAAAgHqEYd0IAAOCD8xh3QgAAoOlFGXdCAABgT5gZd0IAACC16hl3QgAA4Bo9GndCAACggI8ad0IAAGDm4Rp3QgAAIEw0G3dCAADgsYYbd0IAAKAX2Rt3QgAAYH0rHHdCAAAg430cd0IAAOBI0Bx3QgAAoK4iHXdCAABgFHUdd0IAACB6xx13QgAA4N8ZHndCAACgRWwed0IAAGCrvh53QgAAIBERH3dCAADgdmMfd0IAAKDctR93QgAAYEIIIHdCAAAgqFogd0IAAOANrSB3QgAAoHP/IHdCAABg2VEhd0IAACA/pCF3Qg==\",\"dtype\":\"float64\",\"shape\":[107]},\"top\":{\"__ndarray__\":\"AAAAAAAA+H8AAAAAAAD4fwAAAAAAAPh/AAAAAAAA+H8AAAAAAAD4fwAAAAAAAPh/AAAAAAAA+H8AAAAAAAD4fwAAAAAAAPh/AAAAAAAA+H8AAAAAAAD4fwAAAAAAAPh/AAAAAAAA+H8AAAAAAAD4fwAAAAAAAPh/AAAAAAAA+H8AAAAAAAD4fwAAAAAAAPh/AAAAAAAA+H8AAAAAAAD4fwAAAAAAAPh/AAAAAAAA+H8AAAAAAAD4fwAAAAAAAPh/AAAAAAAA+H8AAAAAAAD4fwAAAAAAAPh/AAAAAAAA+H8AAAAAAAD4fwAAAAAAAPh/AAAAAAAA+H8AAAAAAAD4fwAAAAAAAPh/AAAAAAAA+H8AAAAAAAD4fwAAAAAAAPh/AAAAAAAA+H8AAAAAAAD4fwAAAAAAAPh/AAAAAAAA+H8AAAAAAAD4fwAAAAAAAPh/AAAAAAAA+H8AAAAAAAD4fwAAAAAAAPh/AAAAAAAA+H8AAAAAAAD4fwAAAAAAAPh/AAAAAAAA8D8AAAAAAAD4fwAAAAAAAPh/AAAAAAAA+H8AAAAAAADwPwAAAAAAAPA/AAAAAAAA+H8AAAAAAADwPwAAAAAAAAhAAAAAAAAACEAAAAAAAAAQQAAAAAAAAAhAAAAAAAAAFEAAAAAAAAAgQAAAAAAAABhAAAAAAAAAIkAAAAAAAAAkQAAAAAAAACJAAAAAAAAAIEAAAAAAAAA0QAAAAAAAADJAAAAAAAAAJkAAAAAAAAAzQAAAAAAAADlAAAAAAAAAPUAAAAAAAAAyQAAAAAAAADVAAAAAAAAAPkAAAAAAAIBBQAAAAAAAAD9AAAAAAAAANkAAAAAAAIBBQAAAAAAAAEFAAAAAAACAQUAAAAAAAIBGQAAAAAAAgEJAAAAAAACAQUAAAAAAAABKQAAAAAAAgEtAAAAAAACAT0AAAAAAAIBGQAAAAAAAAERAAAAAAAAAT0AAAAAAAEBRQAAAAAAAAFFAAAAAAAAATkAAAAAAAEBRQAAAAAAAgEpAAAAAAACATkAAAAAAAIBIQAAAAAAAgERAAAAAAAAAREAAAAAAAIBFQAAAAAAAAEVAAAAAAACAQEAAAAAAAIBAQAAAAAAAADhAAAAAAAAAIEAAAAAAAAD4fw==\",\"dtype\":\"float64\",\"shape\":[107]}},\"selected\":{\"id\":\"36913\"},\"selection_policy\":{\"id\":\"36914\"}},\"id\":\"35825\",\"type\":\"ColumnDataSource\"},{\"attributes\":{},\"id\":\"36909\",\"type\":\"Selection\"},{\"attributes\":{\"data_source\":{\"id\":\"35825\"},\"glyph\":{\"id\":\"35826\"},\"hover_glyph\":null,\"muted_glyph\":null,\"nonselection_glyph\":{\"id\":\"35827\"},\"selection_glyph\":null,\"view\":{\"id\":\"35829\"}},\"id\":\"35828\",\"type\":\"GlyphRenderer\"},{\"attributes\":{\"bottom\":{\"value\":1},\"fill_alpha\":{\"value\":0.1},\"fill_color\":{\"value\":\"#1f77b4\"},\"left\":{\"field\":\"left\"},\"line_alpha\":{\"value\":0.1},\"line_color\":{\"value\":\"#1f77b4\"},\"right\":{\"field\":\"right\"},\"top\":{\"field\":\"top\"}},\"id\":\"35817\",\"type\":\"Quad\"},{\"attributes\":{\"months\":[0,6]},\"id\":\"36926\",\"type\":\"MonthsTicker\"},{\"attributes\":{\"text\":\"\"},\"id\":\"36904\",\"type\":\"Title\"},{\"attributes\":{},\"id\":\"35806\",\"type\":\"HelpTool\"},{\"attributes\":{\"source\":{\"id\":\"35815\"}},\"id\":\"35819\",\"type\":\"CDSView\"},{\"attributes\":{\"num_minor_ticks\":5,\"tickers\":[{\"id\":\"36916\"},{\"id\":\"36917\"},{\"id\":\"36918\"},{\"id\":\"36919\"},{\"id\":\"36920\"},{\"id\":\"36921\"},{\"id\":\"36922\"},{\"id\":\"36923\"},{\"id\":\"36924\"},{\"id\":\"36925\"},{\"id\":\"36926\"},{\"id\":\"36927\"}]},\"id\":\"35794\",\"type\":\"DatetimeTicker\"},{\"attributes\":{\"days\":[1,2,3,4,5,6,7,8,9,10,11,12,13,14,15,16,17,18,19,20,21,22,23,24,25,26,27,28,29,30,31]},\"id\":\"36919\",\"type\":\"DaysTicker\"},{\"attributes\":{\"formatter\":{\"id\":\"36905\"},\"ticker\":{\"id\":\"35794\"}},\"id\":\"35793\",\"type\":\"DatetimeAxis\"},{\"attributes\":{\"bottom_units\":\"screen\",\"fill_alpha\":0.5,\"fill_color\":\"lightgrey\",\"left_units\":\"screen\",\"level\":\"overlay\",\"line_alpha\":1.0,\"line_color\":\"black\",\"line_dash\":[4,4],\"line_width\":2,\"render_mode\":\"css\",\"right_units\":\"screen\",\"top_units\":\"screen\"},\"id\":\"35807\",\"type\":\"BoxAnnotation\"},{\"attributes\":{\"days\":[1,4,7,10,13,16,19,22,25,28]},\"id\":\"36920\",\"type\":\"DaysTicker\"},{\"attributes\":{},\"id\":\"36914\",\"type\":\"UnionRenderers\"},{\"attributes\":{},\"id\":\"36905\",\"type\":\"DatetimeTickFormatter\"},{\"attributes\":{\"days\":[1,8,15,22]},\"id\":\"36921\",\"type\":\"DaysTicker\"},{\"attributes\":{\"months\":[0,4,8]},\"id\":\"36925\",\"type\":\"MonthsTicker\"},{\"attributes\":{\"formatter\":{\"id\":\"36907\"},\"ticker\":{\"id\":\"35798\"}},\"id\":\"35797\",\"type\":\"LinearAxis\"},{\"attributes\":{\"source\":{\"id\":\"35825\"}},\"id\":\"35829\",\"type\":\"CDSView\"},{\"attributes\":{\"bottom\":{\"value\":1},\"fill_color\":{\"value\":\"red\"},\"left\":{\"field\":\"left\"},\"line_color\":{\"value\":\"red\"},\"right\":{\"field\":\"right\"},\"top\":{\"field\":\"top\"}},\"id\":\"35826\",\"type\":\"Quad\"},{\"attributes\":{\"overlay\":{\"id\":\"35807\"}},\"id\":\"35803\",\"type\":\"BoxZoomTool\"},{\"attributes\":{\"active_drag\":\"auto\",\"active_inspect\":\"auto\",\"active_multi\":null,\"active_scroll\":\"auto\",\"active_tap\":\"auto\",\"tools\":[{\"id\":\"35801\"},{\"id\":\"35802\"},{\"id\":\"35803\"},{\"id\":\"35804\"},{\"id\":\"35805\"},{\"id\":\"35806\"}]},\"id\":\"35808\",\"type\":\"Toolbar\"},{\"attributes\":{\"axis\":{\"id\":\"35797\"},\"dimension\":1,\"ticker\":null},\"id\":\"35800\",\"type\":\"Grid\"}],\"root_ids\":[\"35784\"]},\"title\":\"Bokeh Application\",\"version\":\"2.0.1\"}};\n",
       "  var render_items = [{\"docid\":\"bdd3730b-d0b0-4392-8627-3c385aa3f577\",\"root_ids\":[\"35784\"],\"roots\":{\"35784\":\"441a2685-a25d-4a6a-bbd0-a3fba4317c68\"}}];\n",
       "  root.Bokeh.embed.embed_items_notebook(docs_json, render_items);\n",
       "\n",
       "  }\n",
       "  if (root.Bokeh !== undefined) {\n",
       "    embed_document(root);\n",
       "  } else {\n",
       "    var attempts = 0;\n",
       "    var timer = setInterval(function(root) {\n",
       "      if (root.Bokeh !== undefined) {\n",
       "        clearInterval(timer);\n",
       "        embed_document(root);\n",
       "      } else {\n",
       "        attempts++;\n",
       "        if (attempts > 100) {\n",
       "          clearInterval(timer);\n",
       "          console.log(\"Bokeh: ERROR: Unable to run BokehJS code because BokehJS library is missing\");\n",
       "        }\n",
       "      }\n",
       "    }, 10, root)\n",
       "  }\n",
       "})(window);"
      ],
      "application/vnd.bokehjs_exec.v0+json": ""
     },
     "metadata": {
      "application/vnd.bokehjs_exec.v0+json": {
       "id": "35784"
      }
     },
     "output_type": "display_data"
    }
   ],
   "source": [
    "bpl.show(s0)"
   ]
  },
  {
   "cell_type": "markdown",
   "metadata": {},
   "source": [
    "Definición de función para evaluar el modelo en función de R_0 y calculando el error a los datos reales. esto es la función que usaremos para ajustar R_0 a los datos. Se puede seguir una estrategia similar si se desean ajustar más parámetros. Dos parámetros son importantes, los pesos, el primero 't_pesos' indica si el error entre los datos y el modelo es pesado dando prioridad a los datos que estén más cercanos al último día de ajuste. El segundo indica los pesos para cada una de las series a ajustar, las series a ajustar hasta el momento son Confirmados acumulados, Defunciones acumuladas, Casos graves. Se consideran varias series para tratar de quitar dependencia a la tasa de detección de casos."
   ]
  },
  {
   "cell_type": "code",
   "execution_count": 893,
   "metadata": {},
   "outputs": [],
   "source": [
    "def evaluador(R_0, casos, N, dias_prediccion=0,t_pesos=True,pesos_ajuste_CDG=[1,1,1],regresar_solucion=False):\n",
    "    inicio = casos.index[0]\n",
    "    n_infected = casos[\"Confirmados\"].fillna(0)[inicio]\n",
    "    max_days = len(casos) + dias_prediccion\n",
    "    tiempos = pd.date_range(start=inicio, periods=max_days).values\n",
    "    serie_tiempos = pd.Series(tiempos)\n",
    "    \n",
    "    initial_state = [(N - n_infected)/ N, 0, n_infected / N, 0, 0, 0, 0, 0, 0]\n",
    "\n",
    "    t_inf=2.9\n",
    "    t_inc=5.2\n",
    "    t_rh=12\n",
    "    t_rl=14\n",
    "    t_hosp=4\n",
    "    t_icu=1\n",
    "    t_ricu = 7\n",
    "    t_m=8\n",
    "    p_m=0.65\n",
    "    p_grave=0.138\n",
    "    p_icu=0.05\n",
    "    \n",
    "    args = (R_0, t_inf, t_inc, t_rh, t_rl, t_hosp, t_icu, t_ricu, t_m, p_m, p_grave, p_icu)\n",
    "    \n",
    "    sol = solve_ivp(CDMX_model, [0, max_days], initial_state, args=args, t_eval=np.arange(max_days))\n",
    "    \n",
    "    labels = [\"Susceptibles\",\"Expuestos\",\"Infectados\",\"Leves\",\"Graves\",\"Hospitalizados\",\"ICUs\",\"Recuperados\",\"Defunciones\"]\n",
    "    \n",
    "    solucion = pd.DataFrame(sol.y.T*N,columns=labels,index=tiempos)\n",
    "    solucion[\"Defunciones\"] = np.clip(solucion[\"Defunciones\"],0,np.inf)\n",
    "    solucion[\"Graves\"] = np.clip(solucion[\"Graves\"],0,np.inf)\n",
    "    solucion[\"Confirmados_acumulados\"] = np.clip(solucion[[\"Infectados\",\"Leves\",\"Graves\",\"Hospitalizados\",\"ICUs\",\"Recuperados\",\"Defunciones\"]].sum(axis=1),0,np.inf)\n",
    "    \n",
    "    if t_pesos:\n",
    "        pesos = pd.Series(1/((casos.index-casos.index[-1]).days*-1+1),index=casos.index)\n",
    "    else:\n",
    "        pesos = pd.Series(1,index=casos.index)\n",
    "    \n",
    "    error_confirmados = mean_squared_log_error(casos[\"Confirmados_acumulados\"],solucion[\"Confirmados_acumulados\"][casos.index].fillna(0),pesos)\n",
    "    error_decesos = mean_squared_log_error(casos[\"Decesos_acumulados\"],solucion[\"Defunciones\"][casos.index].fillna(0),pesos)\n",
    "    error_graves = mean_squared_log_error(casos[\"Graves\"].fillna(0),solucion[\"Graves\"][casos.index].fillna(0),pesos)\n",
    "    \n",
    "    errores = [error_confirmados,error_decesos,error_graves]\n",
    "        \n",
    "    error_final = np.dot(pesos_ajuste_CDG,errores)/len(errores)\n",
    "    \n",
    "    if regresar_solucion:\n",
    "        return error_final, solucion\n",
    "    else:\n",
    "        return error_final"
   ]
  },
  {
   "cell_type": "markdown",
   "metadata": {},
   "source": [
    "Ejecución del modelo con la R_0 que reportan en CDMX"
   ]
  },
  {
   "cell_type": "code",
   "execution_count": 894,
   "metadata": {},
   "outputs": [],
   "source": [
    "fecini = pd.Timestamp(\"2020-02-17\")\n",
    "fecfin = pd.Timestamp(\"2020-03-22\")\n",
    "dias_pred = 0\n",
    "fecpred = fecfin + pd.Timedelta(str(dias_pred) + \" days\")"
   ]
  },
  {
   "cell_type": "code",
   "execution_count": 895,
   "metadata": {},
   "outputs": [],
   "source": [
    "casos_filt = casos.loc[fecini:fecfin,:]\n",
    "casos_pred = casos.loc[fecfin:fecpred,:]"
   ]
  },
  {
   "cell_type": "code",
   "execution_count": 896,
   "metadata": {},
   "outputs": [],
   "source": [
    "error, solucion = evaluador(2.83,casos_filt,poblacion,dias_pred,True,[1,1,1],True)"
   ]
  },
  {
   "cell_type": "code",
   "execution_count": 897,
   "metadata": {},
   "outputs": [
    {
     "data": {
      "text/html": [
       "<div>\n",
       "<style scoped>\n",
       "    .dataframe tbody tr th:only-of-type {\n",
       "        vertical-align: middle;\n",
       "    }\n",
       "\n",
       "    .dataframe tbody tr th {\n",
       "        vertical-align: top;\n",
       "    }\n",
       "\n",
       "    .dataframe thead th {\n",
       "        text-align: right;\n",
       "    }\n",
       "</style>\n",
       "<table border=\"1\" class=\"dataframe\">\n",
       "  <thead>\n",
       "    <tr style=\"text-align: right;\">\n",
       "      <th></th>\n",
       "      <th>Susceptibles</th>\n",
       "      <th>Expuestos</th>\n",
       "      <th>Infectados</th>\n",
       "      <th>Leves</th>\n",
       "      <th>Graves</th>\n",
       "      <th>Hospitalizados</th>\n",
       "      <th>ICUs</th>\n",
       "      <th>Recuperados</th>\n",
       "      <th>Defunciones</th>\n",
       "      <th>Confirmados_acumulados</th>\n",
       "    </tr>\n",
       "  </thead>\n",
       "  <tbody>\n",
       "    <tr>\n",
       "      <th>2020-03-13</th>\n",
       "      <td>2.194249e+07</td>\n",
       "      <td>94.429766</td>\n",
       "      <td>22.453868</td>\n",
       "      <td>40.089829</td>\n",
       "      <td>4.155192</td>\n",
       "      <td>2.476061</td>\n",
       "      <td>0.491450</td>\n",
       "      <td>15.911853</td>\n",
       "      <td>0.200822</td>\n",
       "      <td>85.779076</td>\n",
       "    </tr>\n",
       "    <tr>\n",
       "      <th>2020-03-14</th>\n",
       "      <td>2.194245e+07</td>\n",
       "      <td>115.509113</td>\n",
       "      <td>24.829087</td>\n",
       "      <td>48.437636</td>\n",
       "      <td>5.120220</td>\n",
       "      <td>2.857577</td>\n",
       "      <td>0.590958</td>\n",
       "      <td>18.895404</td>\n",
       "      <td>0.240394</td>\n",
       "      <td>100.971276</td>\n",
       "    </tr>\n",
       "    <tr>\n",
       "      <th>2020-03-15</th>\n",
       "      <td>2.194243e+07</td>\n",
       "      <td>109.814858</td>\n",
       "      <td>43.892366</td>\n",
       "      <td>50.764954</td>\n",
       "      <td>4.579414</td>\n",
       "      <td>4.038075</td>\n",
       "      <td>0.645964</td>\n",
       "      <td>23.124735</td>\n",
       "      <td>0.294642</td>\n",
       "      <td>127.340152</td>\n",
       "    </tr>\n",
       "    <tr>\n",
       "      <th>2020-03-16</th>\n",
       "      <td>2.194240e+07</td>\n",
       "      <td>103.150645</td>\n",
       "      <td>66.472978</td>\n",
       "      <td>53.550848</td>\n",
       "      <td>3.942646</td>\n",
       "      <td>5.437200</td>\n",
       "      <td>0.711408</td>\n",
       "      <td>28.144217</td>\n",
       "      <td>0.359067</td>\n",
       "      <td>158.618364</td>\n",
       "    </tr>\n",
       "    <tr>\n",
       "      <th>2020-03-17</th>\n",
       "      <td>2.194234e+07</td>\n",
       "      <td>145.694737</td>\n",
       "      <td>66.588035</td>\n",
       "      <td>69.308553</td>\n",
       "      <td>5.956870</td>\n",
       "      <td>5.902225</td>\n",
       "      <td>0.892593</td>\n",
       "      <td>32.973024</td>\n",
       "      <td>0.423692</td>\n",
       "      <td>182.044992</td>\n",
       "    </tr>\n",
       "    <tr>\n",
       "      <th>2020-03-18</th>\n",
       "      <td>2.194225e+07</td>\n",
       "      <td>210.760782</td>\n",
       "      <td>59.015478</td>\n",
       "      <td>91.606376</td>\n",
       "      <td>9.147570</td>\n",
       "      <td>6.108695</td>\n",
       "      <td>1.137493</td>\n",
       "      <td>38.378160</td>\n",
       "      <td>0.496995</td>\n",
       "      <td>205.890768</td>\n",
       "    </tr>\n",
       "    <tr>\n",
       "      <th>2020-03-19</th>\n",
       "      <td>2.194217e+07</td>\n",
       "      <td>249.298117</td>\n",
       "      <td>70.479471</td>\n",
       "      <td>108.520032</td>\n",
       "      <td>10.810642</td>\n",
       "      <td>7.269758</td>\n",
       "      <td>1.348664</td>\n",
       "      <td>45.657233</td>\n",
       "      <td>0.593105</td>\n",
       "      <td>244.678905</td>\n",
       "    </tr>\n",
       "    <tr>\n",
       "      <th>2020-03-20</th>\n",
       "      <td>2.194211e+07</td>\n",
       "      <td>256.973438</td>\n",
       "      <td>104.220073</td>\n",
       "      <td>119.200347</td>\n",
       "      <td>10.694688</td>\n",
       "      <td>9.549849</td>\n",
       "      <td>1.521139</td>\n",
       "      <td>55.149690</td>\n",
       "      <td>0.716175</td>\n",
       "      <td>301.051961</td>\n",
       "    </tr>\n",
       "    <tr>\n",
       "      <th>2020-03-21</th>\n",
       "      <td>2.194203e+07</td>\n",
       "      <td>273.502775</td>\n",
       "      <td>140.351787</td>\n",
       "      <td>133.709692</td>\n",
       "      <td>10.964278</td>\n",
       "      <td>12.080862</td>\n",
       "      <td>1.741085</td>\n",
       "      <td>66.253119</td>\n",
       "      <td>0.860559</td>\n",
       "      <td>365.961383</td>\n",
       "    </tr>\n",
       "    <tr>\n",
       "      <th>2020-03-22</th>\n",
       "      <td>2.194189e+07</td>\n",
       "      <td>349.947034</td>\n",
       "      <td>153.172125</td>\n",
       "      <td>164.953083</td>\n",
       "      <td>14.404256</td>\n",
       "      <td>13.737811</td>\n",
       "      <td>2.118716</td>\n",
       "      <td>78.158090</td>\n",
       "      <td>1.018547</td>\n",
       "      <td>427.562628</td>\n",
       "    </tr>\n",
       "  </tbody>\n",
       "</table>\n",
       "</div>"
      ],
      "text/plain": [
       "            Susceptibles   Expuestos  Infectados       Leves     Graves  \\\n",
       "2020-03-13  2.194249e+07   94.429766   22.453868   40.089829   4.155192   \n",
       "2020-03-14  2.194245e+07  115.509113   24.829087   48.437636   5.120220   \n",
       "2020-03-15  2.194243e+07  109.814858   43.892366   50.764954   4.579414   \n",
       "2020-03-16  2.194240e+07  103.150645   66.472978   53.550848   3.942646   \n",
       "2020-03-17  2.194234e+07  145.694737   66.588035   69.308553   5.956870   \n",
       "2020-03-18  2.194225e+07  210.760782   59.015478   91.606376   9.147570   \n",
       "2020-03-19  2.194217e+07  249.298117   70.479471  108.520032  10.810642   \n",
       "2020-03-20  2.194211e+07  256.973438  104.220073  119.200347  10.694688   \n",
       "2020-03-21  2.194203e+07  273.502775  140.351787  133.709692  10.964278   \n",
       "2020-03-22  2.194189e+07  349.947034  153.172125  164.953083  14.404256   \n",
       "\n",
       "            Hospitalizados      ICUs  Recuperados  Defunciones  \\\n",
       "2020-03-13        2.476061  0.491450    15.911853     0.200822   \n",
       "2020-03-14        2.857577  0.590958    18.895404     0.240394   \n",
       "2020-03-15        4.038075  0.645964    23.124735     0.294642   \n",
       "2020-03-16        5.437200  0.711408    28.144217     0.359067   \n",
       "2020-03-17        5.902225  0.892593    32.973024     0.423692   \n",
       "2020-03-18        6.108695  1.137493    38.378160     0.496995   \n",
       "2020-03-19        7.269758  1.348664    45.657233     0.593105   \n",
       "2020-03-20        9.549849  1.521139    55.149690     0.716175   \n",
       "2020-03-21       12.080862  1.741085    66.253119     0.860559   \n",
       "2020-03-22       13.737811  2.118716    78.158090     1.018547   \n",
       "\n",
       "            Confirmados_acumulados  \n",
       "2020-03-13               85.779076  \n",
       "2020-03-14              100.971276  \n",
       "2020-03-15              127.340152  \n",
       "2020-03-16              158.618364  \n",
       "2020-03-17              182.044992  \n",
       "2020-03-18              205.890768  \n",
       "2020-03-19              244.678905  \n",
       "2020-03-20              301.051961  \n",
       "2020-03-21              365.961383  \n",
       "2020-03-22              427.562628  "
      ]
     },
     "execution_count": 897,
     "metadata": {},
     "output_type": "execute_result"
    }
   ],
   "source": [
    "solucion[-10:]"
   ]
  },
  {
   "cell_type": "markdown",
   "metadata": {},
   "source": [
    "Graficado de la solución, se puede apreciar que el valor de R_0 no refleja bien el crecimiento que tienen los datos reales"
   ]
  },
  {
   "cell_type": "code",
   "execution_count": 898,
   "metadata": {},
   "outputs": [],
   "source": [
    "p = bpl.figure(x_axis_type=\"datetime\",plot_width=800,plot_height=600,title=\"Modelo CDMX\")"
   ]
  },
  {
   "cell_type": "code",
   "execution_count": 899,
   "metadata": {},
   "outputs": [],
   "source": [
    "p.line(x=casos_filt.index,y=casos_filt[\"Confirmados_acumulados\"],color=\"#0B9A53\",line_width=3,legend_label=\"Casos a ajustar\",line_dash=\"dashed\")\n",
    "p.line(x=casos_pred.index,y=casos_pred[\"Confirmados_acumulados\"],color=\"#3999E4\",line_width=3,legend_label=\"Casos a predecir\",line_dash=\"dotted\")\n",
    "p.line(x=solucion.index,y=solucion[\"Confirmados_acumulados\"],color=\"#9B0E63\",line_width=3,legend_label=\"Casos confirmados, modelo R_0 = \" + str(R_0))\n",
    "for label in [\"Infectados\",\"Leves\",\"Graves\",\"Hospitalizados\",\"ICUs\",\"Recuperados\",\"Defunciones\"]:\n",
    "    p.line(x=solucion.index,y=solucion[label],color=colores[label],line_width=3,legend_label=label)"
   ]
  },
  {
   "cell_type": "code",
   "execution_count": 900,
   "metadata": {},
   "outputs": [],
   "source": [
    "p.xaxis.axis_label = 'Fecha'\n",
    "p.yaxis.axis_label = 'Miles de personas'\n",
    "p.legend.location = \"top_left\""
   ]
  },
  {
   "cell_type": "code",
   "execution_count": 901,
   "metadata": {},
   "outputs": [
    {
     "data": {
      "text/html": [
       "\n",
       "\n",
       "\n",
       "\n",
       "\n",
       "\n",
       "  <div class=\"bk-root\" id=\"419bd616-6b95-4d99-9e03-bfd951b6bc1f\" data-root-id=\"169612\"></div>\n"
      ]
     },
     "metadata": {},
     "output_type": "display_data"
    },
    {
     "data": {
      "application/javascript": [
       "(function(root) {\n",
       "  function embed_document(root) {\n",
       "    \n",
       "  var docs_json = {\"115960ea-180a-4412-94b4-59cb7d7683c9\":{\"roots\":{\"references\":[{\"attributes\":{\"below\":[{\"id\":\"169623\"}],\"center\":[{\"id\":\"169626\"},{\"id\":\"169630\"},{\"id\":\"169668\"}],\"left\":[{\"id\":\"169627\"}],\"plot_width\":800,\"renderers\":[{\"id\":\"169648\"},{\"id\":\"169673\"},{\"id\":\"169699\"},{\"id\":\"169727\"},{\"id\":\"169757\"},{\"id\":\"169789\"},{\"id\":\"169823\"},{\"id\":\"169859\"},{\"id\":\"169897\"},{\"id\":\"169937\"}],\"title\":{\"id\":\"169613\"},\"toolbar\":{\"id\":\"169638\"},\"x_range\":{\"id\":\"169615\"},\"x_scale\":{\"id\":\"169619\"},\"y_range\":{\"id\":\"169617\"},\"y_scale\":{\"id\":\"169621\"}},\"id\":\"169612\",\"subtype\":\"Figure\",\"type\":\"Plot\"},{\"attributes\":{\"line_alpha\":0.1,\"line_color\":\"#807DBA\",\"line_width\":3,\"x\":{\"field\":\"x\"},\"y\":{\"field\":\"y\"}},\"id\":\"169756\",\"type\":\"Line\"},{\"attributes\":{\"line_alpha\":0.1,\"line_color\":\"#54278F\",\"line_width\":3,\"x\":{\"field\":\"x\"},\"y\":{\"field\":\"y\"}},\"id\":\"169788\",\"type\":\"Line\"},{\"attributes\":{},\"id\":\"169619\",\"type\":\"LinearScale\"},{\"attributes\":{\"data\":{\"x\":{\"__ndarray__\":\"AADAHAcFd0IAAICCWQV3QgAAQOirBXdCAAAATv4Fd0IAAMCzUAZ3QgAAgBmjBndCAABAf/UGd0IAAADlRwd3QgAAwEqaB3dCAACAsOwHd0IAAEAWPwh3QgAAAHyRCHdCAADA4eMId0IAAIBHNgl3QgAAQK2ICXdCAAAAE9sJd0IAAMB4LQp3QgAAgN5/CndCAABARNIKd0IAAACqJAt3QgAAwA93C3dCAACAdckLd0IAAEDbGwx3QgAAAEFuDHdCAADApsAMd0IAAIAMEw13QgAAQHJlDXdCAAAA2LcNd0IAAMA9Cg53QgAAgKNcDndCAABACa8Od0IAAABvAQ93QgAAwNRTD3dCAACAOqYPd0IAAECg+A93Qg==\",\"dtype\":\"float64\",\"shape\":[35]},\"y\":{\"__ndarray__\":\"AAAAAAAAAAC1at3Q8ZpkPzq89tW/zcq/dQX7g0OI4b+YcWst1GbovyvOR3n3tua/vQl7BciW1r8Ox0UdOnnOP0GOTmKnXew/I133W6bv9D+VXFKOxtPxP13VRtmOdts/5AHc3wv6xz8HIqqIosbhP9WivngveOs/P/llujRp4z+IVpyZpIHhP3tQWT1rNOk/JDiDcbXO8D8X0y2rtyjtP9hU0YY48Og/yCA8Nwv98D+quCiGGW38P+ZL4D5vbARA+41HrOmFBUC0zXfd+M4DQNY5kpVR3AZAUEuqQv0mEEBIjdFcsb8VQK7ubb/gmxdA2pTZuU1vGECfdQpQOxQdQHPQ3MWFGSNAPzP2tWYpKECm2ApWwnkrQA==\",\"dtype\":\"float64\",\"shape\":[35]}},\"selected\":{\"id\":\"169878\"},\"selection_policy\":{\"id\":\"169879\"}},\"id\":\"169820\",\"type\":\"ColumnDataSource\"},{\"attributes\":{\"line_alpha\":0.1,\"line_color\":\"Green\",\"line_width\":3,\"x\":{\"field\":\"x\"},\"y\":{\"field\":\"y\"}},\"id\":\"169896\",\"type\":\"Line\"},{\"attributes\":{\"label\":{\"value\":\"Casos a predecir\"},\"renderers\":[{\"id\":\"169673\"}]},\"id\":\"169695\",\"type\":\"LegendItem\"},{\"attributes\":{\"days\":[1,15]},\"id\":\"169662\",\"type\":\"DaysTicker\"},{\"attributes\":{\"data_source\":{\"id\":\"169754\"},\"glyph\":{\"id\":\"169755\"},\"hover_glyph\":null,\"muted_glyph\":null,\"nonselection_glyph\":{\"id\":\"169756\"},\"selection_glyph\":null,\"view\":{\"id\":\"169758\"}},\"id\":\"169757\",\"type\":\"GlyphRenderer\"},{\"attributes\":{\"source\":{\"id\":\"169754\"}},\"id\":\"169758\",\"type\":\"CDSView\"},{\"attributes\":{\"line_color\":\"#807DBA\",\"line_width\":3,\"x\":{\"field\":\"x\"},\"y\":{\"field\":\"y\"}},\"id\":\"169755\",\"type\":\"Line\"},{\"attributes\":{\"text\":\"Modelo CDMX\"},\"id\":\"169613\",\"type\":\"Title\"},{\"attributes\":{\"line_alpha\":0.1,\"line_color\":\"#662506\",\"line_width\":3,\"x\":{\"field\":\"x\"},\"y\":{\"field\":\"y\"}},\"id\":\"169858\",\"type\":\"Line\"},{\"attributes\":{},\"id\":\"169918\",\"type\":\"Selection\"},{\"attributes\":{},\"id\":\"169667\",\"type\":\"YearsTicker\"},{\"attributes\":{\"months\":[0,6]},\"id\":\"169666\",\"type\":\"MonthsTicker\"},{\"attributes\":{\"source\":{\"id\":\"169820\"}},\"id\":\"169824\",\"type\":\"CDSView\"},{\"attributes\":{\"axis_label\":\"Fecha\",\"formatter\":{\"id\":\"169651\"},\"ticker\":{\"id\":\"169624\"}},\"id\":\"169623\",\"type\":\"DatetimeAxis\"},{\"attributes\":{\"label\":{\"value\":\"Casos confirmados, modelo R_0 = 3.8\"},\"renderers\":[{\"id\":\"169699\"}]},\"id\":\"169723\",\"type\":\"LegendItem\"},{\"attributes\":{\"line_color\":\"#54278F\",\"line_width\":3,\"x\":{\"field\":\"x\"},\"y\":{\"field\":\"y\"}},\"id\":\"169787\",\"type\":\"Line\"},{\"attributes\":{\"data\":{\"x\":{\"__ndarray__\":\"AADAHAcFd0IAAICCWQV3QgAAQOirBXdCAAAATv4Fd0IAAMCzUAZ3QgAAgBmjBndCAABAf/UGd0IAAADlRwd3QgAAwEqaB3dCAACAsOwHd0IAAEAWPwh3QgAAAHyRCHdCAADA4eMId0IAAIBHNgl3QgAAQK2ICXdCAAAAE9sJd0IAAMB4LQp3QgAAgN5/CndCAABARNIKd0IAAACqJAt3QgAAwA93C3dCAACAdckLd0IAAEDbGwx3QgAAAEFuDHdCAADApsAMd0IAAIAMEw13QgAAQHJlDXdCAAAA2LcNd0IAAMA9Cg53QgAAgKNcDndCAABACa8Od0IAAABvAQ93QgAAwNRTD3dCAACAOqYPd0IAAECg+A93Qg==\",\"dtype\":\"float64\",\"shape\":[35]},\"y\":{\"__ndarray__\":\"AAAAAAAAAADqX/fN4lalP+ci3zfOoOI/E3c/bwO09j+Pt7NBoo//P/kKJ45glf4/vJX6GGJv8j8AAAAAAAAAAAAAAAAAAAAAAAAAAAAAAAAAAAAAAAAAAAAAAAAAAAAA4eR/LiOM4z8AAAAAAAAAAAAAAAAAAAAAcF205R9X1z9l/dNiedDqPzQosvUkseU/AjSUGbtH4T/SrdLiBr72P4or0oLaHQNAPejyQL0qBEBXiRE/ZMD8P3A70jV9rvE/WH3lw+LMAEBokP6+6p4QQB19WvgaexRA7WYl/VFREkABEtM1iooPQNp7Cs/V0xdAmQC7V45LIkAB+VGGDJ8lQDf00xiuYyVAdP0z6LXtJUBRprGy+s4sQA==\",\"dtype\":\"float64\",\"shape\":[35]}},\"selected\":{\"id\":\"169840\"},\"selection_policy\":{\"id\":\"169841\"}},\"id\":\"169786\",\"type\":\"ColumnDataSource\"},{\"attributes\":{\"source\":{\"id\":\"169934\"}},\"id\":\"169938\",\"type\":\"CDSView\"},{\"attributes\":{},\"id\":\"169841\",\"type\":\"UnionRenderers\"},{\"attributes\":{\"line_color\":\"#9B0E63\",\"line_width\":3,\"x\":{\"field\":\"x\"},\"y\":{\"field\":\"y\"}},\"id\":\"169697\",\"type\":\"Line\"},{\"attributes\":{\"data_source\":{\"id\":\"169724\"},\"glyph\":{\"id\":\"169725\"},\"hover_glyph\":null,\"muted_glyph\":null,\"nonselection_glyph\":{\"id\":\"169726\"},\"selection_glyph\":null,\"view\":{\"id\":\"169728\"}},\"id\":\"169727\",\"type\":\"GlyphRenderer\"},{\"attributes\":{},\"id\":\"169771\",\"type\":\"UnionRenderers\"},{\"attributes\":{},\"id\":\"169617\",\"type\":\"DataRange1d\"},{\"attributes\":{},\"id\":\"169840\",\"type\":\"Selection\"},{\"attributes\":{},\"id\":\"169961\",\"type\":\"UnionRenderers\"},{\"attributes\":{\"data\":{\"x\":{\"__ndarray__\":\"AADAHAcFd0IAAICCWQV3QgAAQOirBXdCAAAATv4Fd0IAAMCzUAZ3QgAAgBmjBndCAABAf/UGd0IAAADlRwd3QgAAwEqaB3dCAACAsOwHd0IAAEAWPwh3QgAAAHyRCHdCAADA4eMId0IAAIBHNgl3QgAAQK2ICXdCAAAAE9sJd0IAAMB4LQp3QgAAgN5/CndCAABARNIKd0IAAACqJAt3QgAAwA93C3dCAACAdckLd0IAAEDbGwx3QgAAAEFuDHdCAADApsAMd0IAAIAMEw13QgAAQHJlDXdCAAAA2LcNd0IAAMA9Cg53QgAAgKNcDndCAABACa8Od0IAAABvAQ93QgAAwNRTD3dCAACAOqYPd0IAAECg+A93Qg==\",\"dtype\":\"float64\",\"shape\":[35]},\"y\":{\"__ndarray__\":\"AAAAAAAAAACRNTmj7HbRP+/kPICcXAZA3sg0BxajGkAFAQrEwYUiQEtPorwYOiJAGDQ635dgF0C5qm2KgWHJP9T1JV8/2xfAUZB+Oh1VI8C28XTRR0YbwBxjDuRHqPQ/i1MQGi7SE0Cdqyns1cUDQH0gliAOOO0/t0kZ1EezFUA8XZuvAZAgQMpIniOP2SBAdnG2RBqoIUAWOQJZ3AEsQDUBFghPyzNArZ6tzPAWNkCRcVER0ts0QHY6KdxUJjRAjSKLdpx4O0Acq/6GfwtEQGGRqXMEOEhAevbDBephSUCCFlYwgsZKQPPFJ1e/U1FAPW5p3M7mVkDGiuU0SCFbQKwbcXvSzF1ACCoYy7W2YEB2XFWof55kQA==\",\"dtype\":\"float64\",\"shape\":[35]}},\"selected\":{\"id\":\"169804\"},\"selection_policy\":{\"id\":\"169805\"}},\"id\":\"169754\",\"type\":\"ColumnDataSource\"},{\"attributes\":{},\"id\":\"169615\",\"type\":\"DataRange1d\"},{\"attributes\":{\"data_source\":{\"id\":\"169820\"},\"glyph\":{\"id\":\"169821\"},\"hover_glyph\":null,\"muted_glyph\":null,\"nonselection_glyph\":{\"id\":\"169822\"},\"selection_glyph\":null,\"view\":{\"id\":\"169824\"}},\"id\":\"169823\",\"type\":\"GlyphRenderer\"},{\"attributes\":{\"data\":{\"x\":{\"__ndarray__\":\"AADAHAcFd0IAAICCWQV3QgAAQOirBXdCAAAATv4Fd0IAAMCzUAZ3QgAAgBmjBndCAABAf/UGd0IAAADlRwd3QgAAwEqaB3dCAACAsOwHd0IAAEAWPwh3QgAAAHyRCHdCAADA4eMId0IAAIBHNgl3QgAAQK2ICXdCAAAAE9sJd0IAAMB4LQp3QgAAgN5/CndCAABARNIKd0IAAACqJAt3QgAAwA93C3dCAACAdckLd0IAAEDbGwx3QgAAAEFuDHdCAADApsAMd0IAAIAMEw13QgAAQHJlDXdCAAAA2LcNd0IAAMA9Cg53QgAAgKNcDndCAABACa8Od0IAAABvAQ93QgAAwNRTD3dCAACAOqYPd0IAAECg+A93Qg==\",\"dtype\":\"float64\",\"shape\":[35]},\"y\":{\"__ndarray__\":\"AAAAAAAA8D9cgN1celfnP8iKgGLTPhHA0tvHTgxWKMDFZ++q8D8xwDC+dt+mWjDAibWuV6pVIcAZdKB5ePEQQCTIF8NSZDJAjolem+5yO0BntRoOZKw2QHOiIndEcxtAh63u43TA6z9xnqbho8cgQDXopeHVrCxAB6QI+/sJH0C/6eeQmTcVQPpBkQP+ryJAIFnCi/VFK0DpKeOvm1QhQF9srvimHQxALmtTwMnRHEAiaAK/pA80QO7HM4j82kBAMVaALx01QEAoMIyvMHQ2QPVmwQg/1DhAEufkDjnyRUCEmNZFRZ5QQIuwMVyipVBAu7tnMvuBTUBveQGmr55RQCWWSKwVDlpAcXds10GLYUBOJccMgiVjQA==\",\"dtype\":\"float64\",\"shape\":[35]}},\"selected\":{\"id\":\"169770\"},\"selection_policy\":{\"id\":\"169771\"}},\"id\":\"169724\",\"type\":\"ColumnDataSource\"},{\"attributes\":{},\"id\":\"169770\",\"type\":\"Selection\"},{\"attributes\":{\"source\":{\"id\":\"169696\"}},\"id\":\"169700\",\"type\":\"CDSView\"},{\"attributes\":{\"base\":24,\"mantissas\":[1,2,4,6,8,12],\"max_interval\":43200000.0,\"min_interval\":3600000.0,\"num_minor_ticks\":0},\"id\":\"169658\",\"type\":\"AdaptiveTicker\"},{\"attributes\":{\"days\":[1,8,15,22]},\"id\":\"169661\",\"type\":\"DaysTicker\"},{\"attributes\":{\"source\":{\"id\":\"169724\"}},\"id\":\"169728\",\"type\":\"CDSView\"},{\"attributes\":{},\"id\":\"169960\",\"type\":\"Selection\"},{\"attributes\":{\"data_source\":{\"id\":\"169856\"},\"glyph\":{\"id\":\"169857\"},\"hover_glyph\":null,\"muted_glyph\":null,\"nonselection_glyph\":{\"id\":\"169858\"},\"selection_glyph\":null,\"view\":{\"id\":\"169860\"}},\"id\":\"169859\",\"type\":\"GlyphRenderer\"},{\"attributes\":{\"label\":{\"value\":\"Leves\"},\"renderers\":[{\"id\":\"169757\"}]},\"id\":\"169785\",\"type\":\"LegendItem\"},{\"attributes\":{\"axis\":{\"id\":\"169623\"},\"ticker\":null},\"id\":\"169626\",\"type\":\"Grid\"},{\"attributes\":{\"mantissas\":[1,2,5],\"max_interval\":500.0,\"num_minor_ticks\":0},\"id\":\"169656\",\"type\":\"AdaptiveTicker\"},{\"attributes\":{\"label\":{\"value\":\"ICUs\"},\"renderers\":[{\"id\":\"169859\"}]},\"id\":\"169893\",\"type\":\"LegendItem\"},{\"attributes\":{},\"id\":\"169739\",\"type\":\"UnionRenderers\"},{\"attributes\":{},\"id\":\"169709\",\"type\":\"UnionRenderers\"},{\"attributes\":{\"source\":{\"id\":\"169856\"}},\"id\":\"169860\",\"type\":\"CDSView\"},{\"attributes\":{},\"id\":\"169621\",\"type\":\"LinearScale\"},{\"attributes\":{},\"id\":\"169708\",\"type\":\"Selection\"},{\"attributes\":{\"num_minor_ticks\":5,\"tickers\":[{\"id\":\"169656\"},{\"id\":\"169657\"},{\"id\":\"169658\"},{\"id\":\"169659\"},{\"id\":\"169660\"},{\"id\":\"169661\"},{\"id\":\"169662\"},{\"id\":\"169663\"},{\"id\":\"169664\"},{\"id\":\"169665\"},{\"id\":\"169666\"},{\"id\":\"169667\"}]},\"id\":\"169624\",\"type\":\"DatetimeTicker\"},{\"attributes\":{\"label\":{\"value\":\"Graves\"},\"renderers\":[{\"id\":\"169789\"}]},\"id\":\"169819\",\"type\":\"LegendItem\"},{\"attributes\":{\"data\":{\"x\":{\"__ndarray__\":\"AADAHAcFd0IAAICCWQV3QgAAQOirBXdCAAAATv4Fd0IAAMCzUAZ3QgAAgBmjBndCAABAf/UGd0IAAADlRwd3QgAAwEqaB3dCAACAsOwHd0IAAEAWPwh3QgAAAHyRCHdCAADA4eMId0IAAIBHNgl3QgAAQK2ICXdCAAAAE9sJd0IAAMB4LQp3QgAAgN5/CndCAABARNIKd0IAAACqJAt3QgAAwA93C3dCAACAdckLd0IAAEDbGwx3QgAAAEFuDHdCAADApsAMd0IAAIAMEw13QgAAQHJlDXdCAAAA2LcNd0IAAMA9Cg53QgAAgKNcDndCAABACa8Od0IAAABvAQ93QgAAwNRTD3dCAACAOqYPd0IAAECg+A93Qg==\",\"dtype\":\"float64\",\"shape\":[35]},\"y\":{\"__ndarray__\":\"AAAAAAAAAAAwvizg0N0xPzAApBZKUpQ/hVH1xiooqj8la2ZkpI2yPwHQSztCWrI/bkmxp2xdpz9CQPuI0ow7P+6rsdbS5ai/szO0z5a0s79yaF5WuQ6qv30SrbBFh5M/Nae97/Dnqj8oqqnbRSaiP/uzIMrjTZs/zLd3SeGvsT8OwYqFUz25P2oAgmPcRbs/GxknyZEpvj+vfDd3G8nFP59MdJubW80/Ng1e4yy70D+1DgLBoA7RP9NwOFQh19E/b0fL8kcc1z/VvFSq6XPfPzZgulAg6eI/AIl2Dryr5D9OE2uQ2sPmP1ufxy0ekOw/CUcpRywz8j8at2z1IJT1P7mkmTaWVvg/6DOvHHzb+z/P5qwgIfMAQA==\",\"dtype\":\"float64\",\"shape\":[35]}},\"selected\":{\"id\":\"169918\"},\"selection_policy\":{\"id\":\"169919\"}},\"id\":\"169856\",\"type\":\"ColumnDataSource\"},{\"attributes\":{\"data\":{\"x\":{\"__ndarray__\":\"AADAHAcFd0IAAICCWQV3QgAAQOirBXdCAAAATv4Fd0IAAMCzUAZ3QgAAgBmjBndCAABAf/UGd0IAAADlRwd3QgAAwEqaB3dCAACAsOwHd0IAAEAWPwh3QgAAAHyRCHdCAADA4eMId0IAAIBHNgl3QgAAQK2ICXdCAAAAE9sJd0IAAMB4LQp3QgAAgN5/CndCAABARNIKd0IAAACqJAt3QgAAwA93C3dCAACAdckLd0IAAEDbGwx3QgAAAEFuDHdCAADApsAMd0IAAIAMEw13QgAAQHJlDXdCAAAA2LcNd0IAAMA9Cg53QgAAgKNcDndCAABACa8Od0IAAABvAQ93QgAAwNRTD3dCAACAOqYPd0IAAECg+A93Qg==\",\"dtype\":\"float64\",\"shape\":[35]},\"y\":{\"__ndarray__\":\"AAAAAAAAAAAAAAAAAAAAAAAAAAAAAAAAAAAAAAAAAAAAAAAAAAAAAAAAAAAAAAAAAAAAAAAAAAA8D5MBzFtrP3qH4d59aYU/I4rwTdQTkD9FcaYlYHKPPwXF82pj5oU/ScC5Mad8hj+SAAIFsmaSP96D2VdPrJk/ZR/sHfw3nD80lJ3FhOagP/rcrF4L26U/gbTN13Gtqz/Gu+36LSywP0i1D67rDLM/0y1EvHaatz++7EEPaf69P3DtAK01tcI/ua3xKqYfxj9UjC4YjLTJPwBuLPg8xc4/cHutbmvb0j9C+snw8vrWP2fNAv7GHds/Kjra2cXO3z/LHl5Ot/riP+DKEEHo6uY/P49n5rOJ6z+HZBWe90vwPw==\",\"dtype\":\"float64\",\"shape\":[35]}},\"selected\":{\"id\":\"172611\"},\"selection_policy\":{\"id\":\"172612\"}},\"id\":\"169934\",\"type\":\"ColumnDataSource\"},{\"attributes\":{\"line_color\":\"Red\",\"line_width\":3,\"x\":{\"field\":\"x\"},\"y\":{\"field\":\"y\"}},\"id\":\"169725\",\"type\":\"Line\"},{\"attributes\":{\"source\":{\"id\":\"169894\"}},\"id\":\"169898\",\"type\":\"CDSView\"},{\"attributes\":{\"label\":{\"value\":\"Casos a ajustar\"},\"renderers\":[{\"id\":\"169648\"}]},\"id\":\"169669\",\"type\":\"LegendItem\"},{\"attributes\":{},\"id\":\"169804\",\"type\":\"Selection\"},{\"attributes\":{\"line_color\":\"#525252\",\"line_width\":3,\"x\":{\"field\":\"x\"},\"y\":{\"field\":\"y\"}},\"id\":\"169935\",\"type\":\"Line\"},{\"attributes\":{},\"id\":\"169628\",\"type\":\"BasicTicker\"},{\"attributes\":{\"line_color\":\"#CC4C02\",\"line_width\":3,\"x\":{\"field\":\"x\"},\"y\":{\"field\":\"y\"}},\"id\":\"169821\",\"type\":\"Line\"},{\"attributes\":{\"base\":60,\"mantissas\":[1,2,5,10,15,20,30],\"max_interval\":1800000.0,\"min_interval\":1000.0,\"num_minor_ticks\":0},\"id\":\"169657\",\"type\":\"AdaptiveTicker\"},{\"attributes\":{\"data_source\":{\"id\":\"169670\"},\"glyph\":{\"id\":\"169671\"},\"hover_glyph\":null,\"muted_glyph\":null,\"nonselection_glyph\":{\"id\":\"169672\"},\"selection_glyph\":null,\"view\":{\"id\":\"169674\"}},\"id\":\"169673\",\"type\":\"GlyphRenderer\"},{\"attributes\":{\"line_color\":\"#3999E4\",\"line_dash\":[2,4],\"line_width\":3,\"x\":{\"field\":\"x\"},\"y\":{\"field\":\"y\"}},\"id\":\"169671\",\"type\":\"Line\"},{\"attributes\":{\"items\":[{\"id\":\"169669\"},{\"id\":\"169695\"},{\"id\":\"169723\"},{\"id\":\"169753\"},{\"id\":\"169785\"},{\"id\":\"169819\"},{\"id\":\"169855\"},{\"id\":\"169893\"},{\"id\":\"169933\"},{\"id\":\"169975\"}],\"location\":\"top_left\"},\"id\":\"169668\",\"type\":\"Legend\"},{\"attributes\":{\"data_source\":{\"id\":\"169645\"},\"glyph\":{\"id\":\"169646\"},\"hover_glyph\":null,\"muted_glyph\":null,\"nonselection_glyph\":{\"id\":\"169647\"},\"selection_glyph\":null,\"view\":{\"id\":\"169649\"}},\"id\":\"169648\",\"type\":\"GlyphRenderer\"},{\"attributes\":{\"label\":{\"value\":\"Hospitalizados\"},\"renderers\":[{\"id\":\"169823\"}]},\"id\":\"169855\",\"type\":\"LegendItem\"},{\"attributes\":{\"line_alpha\":0.1,\"line_color\":\"#0B9A53\",\"line_dash\":[6],\"line_width\":3,\"x\":{\"field\":\"x\"},\"y\":{\"field\":\"y\"}},\"id\":\"169647\",\"type\":\"Line\"},{\"attributes\":{\"data_source\":{\"id\":\"169786\"},\"glyph\":{\"id\":\"169787\"},\"hover_glyph\":null,\"muted_glyph\":null,\"nonselection_glyph\":{\"id\":\"169788\"},\"selection_glyph\":null,\"view\":{\"id\":\"169790\"}},\"id\":\"169789\",\"type\":\"GlyphRenderer\"},{\"attributes\":{\"axis\":{\"id\":\"169627\"},\"dimension\":1,\"ticker\":null},\"id\":\"169630\",\"type\":\"Grid\"},{\"attributes\":{\"days\":[1,4,7,10,13,16,19,22,25,28]},\"id\":\"169660\",\"type\":\"DaysTicker\"},{\"attributes\":{\"data\":{\"x\":{\"__ndarray__\":\"AABAoPgPd0I=\",\"dtype\":\"float64\",\"shape\":[1]},\"y\":{\"__ndarray__\":\"AAAAAAAIg0A=\",\"dtype\":\"float64\",\"shape\":[1]}},\"selected\":{\"id\":\"169708\"},\"selection_policy\":{\"id\":\"169709\"}},\"id\":\"169670\",\"type\":\"ColumnDataSource\"},{\"attributes\":{\"label\":{\"value\":\"Recuperados\"},\"renderers\":[{\"id\":\"169897\"}]},\"id\":\"169933\",\"type\":\"LegendItem\"},{\"attributes\":{\"data_source\":{\"id\":\"169934\"},\"glyph\":{\"id\":\"169935\"},\"hover_glyph\":null,\"muted_glyph\":null,\"nonselection_glyph\":{\"id\":\"169936\"},\"selection_glyph\":null,\"view\":{\"id\":\"169938\"}},\"id\":\"169937\",\"type\":\"GlyphRenderer\"},{\"attributes\":{},\"id\":\"169653\",\"type\":\"BasicTickFormatter\"},{\"attributes\":{\"data_source\":{\"id\":\"169894\"},\"glyph\":{\"id\":\"169895\"},\"hover_glyph\":null,\"muted_glyph\":null,\"nonselection_glyph\":{\"id\":\"169896\"},\"selection_glyph\":null,\"view\":{\"id\":\"169898\"}},\"id\":\"169897\",\"type\":\"GlyphRenderer\"},{\"attributes\":{},\"id\":\"169738\",\"type\":\"Selection\"},{\"attributes\":{},\"id\":\"169636\",\"type\":\"HelpTool\"},{\"attributes\":{},\"id\":\"169681\",\"type\":\"UnionRenderers\"},{\"attributes\":{\"months\":[0,1,2,3,4,5,6,7,8,9,10,11]},\"id\":\"169663\",\"type\":\"MonthsTicker\"},{\"attributes\":{\"line_color\":\"#662506\",\"line_width\":3,\"x\":{\"field\":\"x\"},\"y\":{\"field\":\"y\"}},\"id\":\"169857\",\"type\":\"Line\"},{\"attributes\":{\"line_color\":\"Green\",\"line_width\":3,\"x\":{\"field\":\"x\"},\"y\":{\"field\":\"y\"}},\"id\":\"169895\",\"type\":\"Line\"},{\"attributes\":{\"data_source\":{\"id\":\"169696\"},\"glyph\":{\"id\":\"169697\"},\"hover_glyph\":null,\"muted_glyph\":null,\"nonselection_glyph\":{\"id\":\"169698\"},\"selection_glyph\":null,\"view\":{\"id\":\"169700\"}},\"id\":\"169699\",\"type\":\"GlyphRenderer\"},{\"attributes\":{\"axis_label\":\"Miles de personas\",\"formatter\":{\"id\":\"169653\"},\"ticker\":{\"id\":\"169628\"}},\"id\":\"169627\",\"type\":\"LinearAxis\"},{\"attributes\":{\"data\":{\"x\":{\"__ndarray__\":\"AADAHAcFd0IAAICCWQV3QgAAQOirBXdCAAAATv4Fd0IAAMCzUAZ3QgAAgBmjBndCAABAf/UGd0IAAADlRwd3QgAAwEqaB3dCAACAsOwHd0IAAEAWPwh3QgAAAHyRCHdCAADA4eMId0IAAIBHNgl3QgAAQK2ICXdCAAAAE9sJd0IAAMB4LQp3QgAAgN5/CndCAABARNIKd0IAAACqJAt3QgAAwA93C3dCAACAdckLd0IAAEDbGwx3QgAAAEFuDHdCAADApsAMd0IAAIAMEw13QgAAQHJlDXdCAAAA2LcNd0IAAMA9Cg53QgAAgKNcDndCAABACa8Od0IAAABvAQ93QgAAwNRTD3dCAACAOqYPd0IAAECg+A93Qg==\",\"dtype\":\"float64\",\"shape\":[35]},\"y\":{\"__ndarray__\":\"AAAAAAAAAAC+ntMC2mV+P3UY5hHOwsa/tONMpucz3r+RXyTqg2Dkv9kIYG5yHuG/c3Q+3jeZwL9JPs3v2nzgPwW3NuW8w/M/aTAfFMA+/D9SiiNEZNb7P9/94ZCHhfQ/Lhn0w+OF9D9PohvavHj+P/N7nTS/JQRAMnqt/y1gBUBJlSL3lKgIQIOzZxL06w5APBPlxV0ZE0AQzQZkKrgVQAlCu5DQ9RhAfpIwnBJ4HkCuX28YSDkjQCmjDAVe0ydAd//zuOvOK0CUGwdy3tIvQAwyfzE55TJAseYZqO4fN0B84Cdm6yQ8QDpmwwqMfEBACFf1i2cwQ0A+Ndo3INRGQLBRLw0pk0tAdSqkGjOQUEBAH6slHopTQA==\",\"dtype\":\"float64\",\"shape\":[35]}},\"selected\":{\"id\":\"169960\"},\"selection_policy\":{\"id\":\"169961\"}},\"id\":\"169894\",\"type\":\"ColumnDataSource\"},{\"attributes\":{},\"id\":\"172611\",\"type\":\"Selection\"},{\"attributes\":{\"days\":[1,2,3,4,5,6,7,8,9,10,11,12,13,14,15,16,17,18,19,20,21,22,23,24,25,26,27,28,29,30,31]},\"id\":\"169659\",\"type\":\"DaysTicker\"},{\"attributes\":{\"data\":{\"x\":{\"__ndarray__\":\"AADAHAcFd0IAAICCWQV3QgAAQOirBXdCAAAATv4Fd0IAAMCzUAZ3QgAAgBmjBndCAABAf/UGd0IAAADlRwd3QgAAwEqaB3dCAACAsOwHd0IAAEAWPwh3QgAAAHyRCHdCAADA4eMId0IAAIBHNgl3QgAAQK2ICXdCAAAAE9sJd0IAAMB4LQp3QgAAgN5/CndCAABARNIKd0IAAACqJAt3QgAAwA93C3dCAACAdckLd0IAAEDbGwx3QgAAAEFuDHdCAADApsAMd0IAAIAMEw13QgAAQHJlDXdCAAAA2LcNd0IAAMA9Cg53QgAAgKNcDndCAABACa8Od0IAAABvAQ93QgAAwNRTD3dCAACAOqYPd0IAAECg+A93Qg==\",\"dtype\":\"float64\",\"shape\":[35]},\"y\":{\"__ndarray__\":\"AAAAAAAA8D+xDaadAN7wPwAAAAAAAAAAAAAAAAAAAAAAAAAAAAAAAAAAAAAAAAAAAAAAAAAAAAC/DaJhw8MUQNlbCXbMBS1ALnJkw5bLNEACXT62W6wyQH6nrNxNyiNAYGTSoRjeH0BsSl2/9L8qQEHI+VDjrTJAtR55ubrsMEDh17dgOy8yQAbwj/mkPzdAL41P1IgAPUDvWuQtK6o+QNUzaKG8gkBAxzzVtItsREDoO3nSlT5LQC7LvmbOdlFAJCALq1XHU0CCWDVg3HFVQImztGMpPllAI37jC8XVX0C1doyjydNjQCchfpJwwWZAK7iRLIG8aUAzuoiXuZVuQNn+4NTU0HJA24/s0mHfdkDdWx6GALl6QA==\",\"dtype\":\"float64\",\"shape\":[35]}},\"selected\":{\"id\":\"169738\"},\"selection_policy\":{\"id\":\"169739\"}},\"id\":\"169696\",\"type\":\"ColumnDataSource\"},{\"attributes\":{},\"id\":\"169635\",\"type\":\"ResetTool\"},{\"attributes\":{},\"id\":\"169878\",\"type\":\"Selection\"},{\"attributes\":{},\"id\":\"169631\",\"type\":\"PanTool\"},{\"attributes\":{\"months\":[0,2,4,6,8,10]},\"id\":\"169664\",\"type\":\"MonthsTicker\"},{\"attributes\":{},\"id\":\"169805\",\"type\":\"UnionRenderers\"},{\"attributes\":{},\"id\":\"172612\",\"type\":\"UnionRenderers\"},{\"attributes\":{\"line_alpha\":0.1,\"line_color\":\"#3999E4\",\"line_dash\":[2,4],\"line_width\":3,\"x\":{\"field\":\"x\"},\"y\":{\"field\":\"y\"}},\"id\":\"169672\",\"type\":\"Line\"},{\"attributes\":{},\"id\":\"169919\",\"type\":\"UnionRenderers\"},{\"attributes\":{\"line_color\":\"#0B9A53\",\"line_dash\":[6],\"line_width\":3,\"x\":{\"field\":\"x\"},\"y\":{\"field\":\"y\"}},\"id\":\"169646\",\"type\":\"Line\"},{\"attributes\":{},\"id\":\"169634\",\"type\":\"SaveTool\"},{\"attributes\":{\"line_alpha\":0.1,\"line_color\":\"#9B0E63\",\"line_width\":3,\"x\":{\"field\":\"x\"},\"y\":{\"field\":\"y\"}},\"id\":\"169698\",\"type\":\"Line\"},{\"attributes\":{\"source\":{\"id\":\"169645\"}},\"id\":\"169649\",\"type\":\"CDSView\"},{\"attributes\":{\"data\":{\"x\":{\"__ndarray__\":\"AADAHAcFd0IAAICCWQV3QgAAQOirBXdCAAAATv4Fd0IAAMCzUAZ3QgAAgBmjBndCAABAf/UGd0IAAADlRwd3QgAAwEqaB3dCAACAsOwHd0IAAEAWPwh3QgAAAHyRCHdCAADA4eMId0IAAIBHNgl3QgAAQK2ICXdCAAAAE9sJd0IAAMB4LQp3QgAAgN5/CndCAABARNIKd0IAAACqJAt3QgAAwA93C3dCAACAdckLd0IAAEDbGwx3QgAAAEFuDHdCAADApsAMd0IAAIAMEw13QgAAQHJlDXdCAAAA2LcNd0IAAMA9Cg53QgAAgKNcDndCAABACa8Od0IAAABvAQ93QgAAwNRTD3dCAACAOqYPd0IAAECg+A93Qg==\",\"dtype\":\"float64\",\"shape\":[35]},\"y\":{\"__ndarray__\":\"AAAAAAAAAEAAAAAAAAAIQAAAAAAAABBAAAAAAAAAEEAAAAAAAAAUQAAAAAAAABhAAAAAAAAAHEAAAAAAAAAcQAAAAAAAABxAAAAAAAAAIEAAAAAAAAAiQAAAAAAAACZAAAAAAAAAKkAAAAAAAAAuQAAAAAAAADZAAAAAAAAAO0AAAAAAAAA/QAAAAAAAAEFAAAAAAAAAREAAAAAAAIBKQAAAAAAAgE5AAAAAAADAVkAAAAAAAMBcQAAAAAAAQGFAAAAAAAAAZEAAAAAAAMBoQAAAAAAAAG5AAAAAAADgcUAAAAAAAKB1QAAAAAAAoHdAAAAAAADAeUAAAAAAAGB8QAAAAAAAYIBAAAAAAACYgUAAAAAAAAiDQA==\",\"dtype\":\"float64\",\"shape\":[35]}},\"selected\":{\"id\":\"169680\"},\"selection_policy\":{\"id\":\"169681\"}},\"id\":\"169645\",\"type\":\"ColumnDataSource\"},{\"attributes\":{\"line_alpha\":0.1,\"line_color\":\"Red\",\"line_width\":3,\"x\":{\"field\":\"x\"},\"y\":{\"field\":\"y\"}},\"id\":\"169726\",\"type\":\"Line\"},{\"attributes\":{\"line_alpha\":0.1,\"line_color\":\"#CC4C02\",\"line_width\":3,\"x\":{\"field\":\"x\"},\"y\":{\"field\":\"y\"}},\"id\":\"169822\",\"type\":\"Line\"},{\"attributes\":{\"source\":{\"id\":\"169786\"}},\"id\":\"169790\",\"type\":\"CDSView\"},{\"attributes\":{\"overlay\":{\"id\":\"169637\"}},\"id\":\"169633\",\"type\":\"BoxZoomTool\"},{\"attributes\":{},\"id\":\"169632\",\"type\":\"WheelZoomTool\"},{\"attributes\":{},\"id\":\"169879\",\"type\":\"UnionRenderers\"},{\"attributes\":{\"label\":{\"value\":\"Defunciones\"},\"renderers\":[{\"id\":\"169937\"}]},\"id\":\"169975\",\"type\":\"LegendItem\"},{\"attributes\":{},\"id\":\"169651\",\"type\":\"DatetimeTickFormatter\"},{\"attributes\":{\"active_drag\":\"auto\",\"active_inspect\":\"auto\",\"active_multi\":null,\"active_scroll\":\"auto\",\"active_tap\":\"auto\",\"tools\":[{\"id\":\"169631\"},{\"id\":\"169632\"},{\"id\":\"169633\"},{\"id\":\"169634\"},{\"id\":\"169635\"},{\"id\":\"169636\"}]},\"id\":\"169638\",\"type\":\"Toolbar\"},{\"attributes\":{\"bottom_units\":\"screen\",\"fill_alpha\":0.5,\"fill_color\":\"lightgrey\",\"left_units\":\"screen\",\"level\":\"overlay\",\"line_alpha\":1.0,\"line_color\":\"black\",\"line_dash\":[4,4],\"line_width\":2,\"render_mode\":\"css\",\"right_units\":\"screen\",\"top_units\":\"screen\"},\"id\":\"169637\",\"type\":\"BoxAnnotation\"},{\"attributes\":{},\"id\":\"169680\",\"type\":\"Selection\"},{\"attributes\":{\"months\":[0,4,8]},\"id\":\"169665\",\"type\":\"MonthsTicker\"},{\"attributes\":{\"label\":{\"value\":\"Infectados\"},\"renderers\":[{\"id\":\"169727\"}]},\"id\":\"169753\",\"type\":\"LegendItem\"},{\"attributes\":{\"source\":{\"id\":\"169670\"}},\"id\":\"169674\",\"type\":\"CDSView\"},{\"attributes\":{\"line_alpha\":0.1,\"line_color\":\"#525252\",\"line_width\":3,\"x\":{\"field\":\"x\"},\"y\":{\"field\":\"y\"}},\"id\":\"169936\",\"type\":\"Line\"}],\"root_ids\":[\"169612\"]},\"title\":\"Bokeh Application\",\"version\":\"2.0.1\"}};\n",
       "  var render_items = [{\"docid\":\"115960ea-180a-4412-94b4-59cb7d7683c9\",\"root_ids\":[\"169612\"],\"roots\":{\"169612\":\"419bd616-6b95-4d99-9e03-bfd951b6bc1f\"}}];\n",
       "  root.Bokeh.embed.embed_items_notebook(docs_json, render_items);\n",
       "\n",
       "  }\n",
       "  if (root.Bokeh !== undefined) {\n",
       "    embed_document(root);\n",
       "  } else {\n",
       "    var attempts = 0;\n",
       "    var timer = setInterval(function(root) {\n",
       "      if (root.Bokeh !== undefined) {\n",
       "        clearInterval(timer);\n",
       "        embed_document(root);\n",
       "      } else {\n",
       "        attempts++;\n",
       "        if (attempts > 100) {\n",
       "          clearInterval(timer);\n",
       "          console.log(\"Bokeh: ERROR: Unable to run BokehJS code because BokehJS library is missing\");\n",
       "        }\n",
       "      }\n",
       "    }, 10, root)\n",
       "  }\n",
       "})(window);"
      ],
      "application/vnd.bokehjs_exec.v0+json": ""
     },
     "metadata": {
      "application/vnd.bokehjs_exec.v0+json": {
       "id": "169612"
      }
     },
     "output_type": "display_data"
    }
   ],
   "source": [
    "bpl.show(p)"
   ]
  },
  {
   "cell_type": "markdown",
   "metadata": {},
   "source": [
    "Ajuste del modelo para obtener la mejor R_0"
   ]
  },
  {
   "cell_type": "code",
   "execution_count": 912,
   "metadata": {},
   "outputs": [
    {
     "data": {
      "text/plain": [
       "      fun: 0.07088829544128324\n",
       " hess_inv: <1x1 LbfgsInvHessProduct with dtype=float64>\n",
       "      jac: array([8.75549633e-06])\n",
       "  message: b'CONVERGENCE: NORM_OF_PROJECTED_GRADIENT_<=_PGTOL'\n",
       "     nfev: 8\n",
       "      nit: 2\n",
       "   status: 0\n",
       "  success: True\n",
       "        x: array([3.07746849])"
      ]
     },
     "execution_count": 912,
     "metadata": {},
     "output_type": "execute_result"
    }
   ],
   "source": [
    "ajuste = minimize(evaluador,[2.8],args=(casos_filt,poblacion,0,True,[0,1,1],False),method='L-BFGS-B')\n",
    "ajuste"
   ]
  },
  {
   "cell_type": "code",
   "execution_count": 913,
   "metadata": {},
   "outputs": [
    {
     "data": {
      "text/plain": [
       "3.077468494666358"
      ]
     },
     "execution_count": 913,
     "metadata": {},
     "output_type": "execute_result"
    }
   ],
   "source": [
    "R_f = ajuste.x[0]\n",
    "R_f"
   ]
  },
  {
   "cell_type": "code",
   "execution_count": 914,
   "metadata": {},
   "outputs": [],
   "source": [
    "error, solucion = evaluador(R_f,casos_filt,poblacion,0,True,[0,1,1],True)"
   ]
  },
  {
   "cell_type": "code",
   "execution_count": 915,
   "metadata": {},
   "outputs": [
    {
     "data": {
      "text/plain": [
       "0.07088829544128324"
      ]
     },
     "execution_count": 915,
     "metadata": {},
     "output_type": "execute_result"
    }
   ],
   "source": [
    "error"
   ]
  },
  {
   "cell_type": "code",
   "execution_count": 916,
   "metadata": {},
   "outputs": [
    {
     "data": {
      "text/html": [
       "<div>\n",
       "<style scoped>\n",
       "    .dataframe tbody tr th:only-of-type {\n",
       "        vertical-align: middle;\n",
       "    }\n",
       "\n",
       "    .dataframe tbody tr th {\n",
       "        vertical-align: top;\n",
       "    }\n",
       "\n",
       "    .dataframe thead th {\n",
       "        text-align: right;\n",
       "    }\n",
       "</style>\n",
       "<table border=\"1\" class=\"dataframe\">\n",
       "  <thead>\n",
       "    <tr style=\"text-align: right;\">\n",
       "      <th></th>\n",
       "      <th>Susceptibles</th>\n",
       "      <th>Expuestos</th>\n",
       "      <th>Infectados</th>\n",
       "      <th>Leves</th>\n",
       "      <th>Graves</th>\n",
       "      <th>Hospitalizados</th>\n",
       "      <th>ICUs</th>\n",
       "      <th>Recuperados</th>\n",
       "      <th>Defunciones</th>\n",
       "      <th>Confirmados_acumulados</th>\n",
       "    </tr>\n",
       "  </thead>\n",
       "  <tbody>\n",
       "    <tr>\n",
       "      <th>2020-03-20</th>\n",
       "      <td>2.194169e+07</td>\n",
       "      <td>457.616210</td>\n",
       "      <td>200.351010</td>\n",
       "      <td>195.022322</td>\n",
       "      <td>17.360358</td>\n",
       "      <td>16.114015</td>\n",
       "      <td>2.302058</td>\n",
       "      <td>84.435692</td>\n",
       "      <td>1.011380</td>\n",
       "      <td>516.596836</td>\n",
       "    </tr>\n",
       "    <tr>\n",
       "      <th>2020-03-21</th>\n",
       "      <td>2.194148e+07</td>\n",
       "      <td>570.127263</td>\n",
       "      <td>233.621134</td>\n",
       "      <td>239.620315</td>\n",
       "      <td>21.838259</td>\n",
       "      <td>19.120866</td>\n",
       "      <td>2.812948</td>\n",
       "      <td>101.808853</td>\n",
       "      <td>1.222248</td>\n",
       "      <td>620.044623</td>\n",
       "    </tr>\n",
       "    <tr>\n",
       "      <th>2020-03-22</th>\n",
       "      <td>2.194121e+07</td>\n",
       "      <td>713.435206</td>\n",
       "      <td>270.137002</td>\n",
       "      <td>295.194743</td>\n",
       "      <td>27.618744</td>\n",
       "      <td>22.600589</td>\n",
       "      <td>3.443317</td>\n",
       "      <td>122.657263</td>\n",
       "      <td>1.475673</td>\n",
       "      <td>743.127331</td>\n",
       "    </tr>\n",
       "  </tbody>\n",
       "</table>\n",
       "</div>"
      ],
      "text/plain": [
       "            Susceptibles   Expuestos  Infectados       Leves     Graves  \\\n",
       "2020-03-20  2.194169e+07  457.616210  200.351010  195.022322  17.360358   \n",
       "2020-03-21  2.194148e+07  570.127263  233.621134  239.620315  21.838259   \n",
       "2020-03-22  2.194121e+07  713.435206  270.137002  295.194743  27.618744   \n",
       "\n",
       "            Hospitalizados      ICUs  Recuperados  Defunciones  \\\n",
       "2020-03-20       16.114015  2.302058    84.435692     1.011380   \n",
       "2020-03-21       19.120866  2.812948   101.808853     1.222248   \n",
       "2020-03-22       22.600589  3.443317   122.657263     1.475673   \n",
       "\n",
       "            Confirmados_acumulados  \n",
       "2020-03-20              516.596836  \n",
       "2020-03-21              620.044623  \n",
       "2020-03-22              743.127331  "
      ]
     },
     "execution_count": 916,
     "metadata": {},
     "output_type": "execute_result"
    }
   ],
   "source": [
    "solucion[-3:]"
   ]
  },
  {
   "cell_type": "markdown",
   "metadata": {},
   "source": [
    "Graficación del modelo ajustado"
   ]
  },
  {
   "cell_type": "code",
   "execution_count": 917,
   "metadata": {},
   "outputs": [],
   "source": [
    "p = bpl.figure(x_axis_type=\"datetime\",plot_width=800,plot_height=600,title=\"Modelo CDMX\")"
   ]
  },
  {
   "cell_type": "code",
   "execution_count": 918,
   "metadata": {},
   "outputs": [],
   "source": [
    "p.line(x=casos_filt.index,y=casos_filt[\"Confirmados_acumulados\"],color=\"#0B9A53\",line_width=3,legend_label=\"Casos a ajustar\",line_dash=\"dashed\")\n",
    "#p.line(x=casos_pred.index,y=casos_pred[\"Confirmados_acumulados\"],color=\"#3999E4\",line_width=3,legend_label=\"Casos a predecir\",line_dash=\"dotted\")\n",
    "for label in [\"Confirmados_acumulados\"]:\n",
    "    p.line(x=solucion.index,y=solucion[label],color=\"#9B0E63\",line_width=3,legend_label=\"Casos confirmados, modelo R_0 = \" + str(R_f))"
   ]
  },
  {
   "cell_type": "code",
   "execution_count": 919,
   "metadata": {},
   "outputs": [],
   "source": [
    "p.xaxis.axis_label = 'Fecha'\n",
    "p.yaxis.axis_label = 'Miles de personas'\n",
    "p.legend.location = \"top_left\""
   ]
  },
  {
   "cell_type": "code",
   "execution_count": 920,
   "metadata": {},
   "outputs": [
    {
     "data": {
      "text/html": [
       "\n",
       "\n",
       "\n",
       "\n",
       "\n",
       "\n",
       "  <div class=\"bk-root\" id=\"1f2b7f4f-298c-4871-8005-67c4e799face\" data-root-id=\"175742\"></div>\n"
      ]
     },
     "metadata": {},
     "output_type": "display_data"
    },
    {
     "data": {
      "application/javascript": [
       "(function(root) {\n",
       "  function embed_document(root) {\n",
       "    \n",
       "  var docs_json = {\"cd2e249c-97df-491d-bc3e-a515a78d77ba\":{\"roots\":{\"references\":[{\"attributes\":{\"below\":[{\"id\":\"175753\"}],\"center\":[{\"id\":\"175756\"},{\"id\":\"175760\"},{\"id\":\"175798\"}],\"left\":[{\"id\":\"175757\"}],\"plot_width\":800,\"renderers\":[{\"id\":\"175778\"},{\"id\":\"175803\"}],\"title\":{\"id\":\"175743\"},\"toolbar\":{\"id\":\"175768\"},\"x_range\":{\"id\":\"175745\"},\"x_scale\":{\"id\":\"175749\"},\"y_range\":{\"id\":\"175747\"},\"y_scale\":{\"id\":\"175751\"}},\"id\":\"175742\",\"subtype\":\"Figure\",\"type\":\"Plot\"},{\"attributes\":{\"num_minor_ticks\":5,\"tickers\":[{\"id\":\"175786\"},{\"id\":\"175787\"},{\"id\":\"175788\"},{\"id\":\"175789\"},{\"id\":\"175790\"},{\"id\":\"175791\"},{\"id\":\"175792\"},{\"id\":\"175793\"},{\"id\":\"175794\"},{\"id\":\"175795\"},{\"id\":\"175796\"},{\"id\":\"175797\"}]},\"id\":\"175754\",\"type\":\"DatetimeTicker\"},{\"attributes\":{\"days\":[1,15]},\"id\":\"175792\",\"type\":\"DaysTicker\"},{\"attributes\":{\"label\":{\"value\":\"Casos confirmados, modelo R_0 = 3.077468494666358\"},\"renderers\":[{\"id\":\"175803\"}]},\"id\":\"175825\",\"type\":\"LegendItem\"},{\"attributes\":{},\"id\":\"175810\",\"type\":\"Selection\"},{\"attributes\":{\"bottom_units\":\"screen\",\"fill_alpha\":0.5,\"fill_color\":\"lightgrey\",\"left_units\":\"screen\",\"level\":\"overlay\",\"line_alpha\":1.0,\"line_color\":\"black\",\"line_dash\":[4,4],\"line_width\":2,\"render_mode\":\"css\",\"right_units\":\"screen\",\"top_units\":\"screen\"},\"id\":\"175767\",\"type\":\"BoxAnnotation\"},{\"attributes\":{\"axis\":{\"id\":\"175757\"},\"dimension\":1,\"ticker\":null},\"id\":\"175760\",\"type\":\"Grid\"},{\"attributes\":{\"active_drag\":\"auto\",\"active_inspect\":\"auto\",\"active_multi\":null,\"active_scroll\":\"auto\",\"active_tap\":\"auto\",\"tools\":[{\"id\":\"175761\"},{\"id\":\"175762\"},{\"id\":\"175763\"},{\"id\":\"175764\"},{\"id\":\"175765\"},{\"id\":\"175766\"}]},\"id\":\"175768\",\"type\":\"Toolbar\"},{\"attributes\":{},\"id\":\"175762\",\"type\":\"WheelZoomTool\"},{\"attributes\":{},\"id\":\"178505\",\"type\":\"Selection\"},{\"attributes\":{\"data_source\":{\"id\":\"175800\"},\"glyph\":{\"id\":\"175801\"},\"hover_glyph\":null,\"muted_glyph\":null,\"nonselection_glyph\":{\"id\":\"175802\"},\"selection_glyph\":null,\"view\":{\"id\":\"175804\"}},\"id\":\"175803\",\"type\":\"GlyphRenderer\"},{\"attributes\":{\"line_color\":\"#0B9A53\",\"line_dash\":[6],\"line_width\":3,\"x\":{\"field\":\"x\"},\"y\":{\"field\":\"y\"}},\"id\":\"175776\",\"type\":\"Line\"},{\"attributes\":{},\"id\":\"175766\",\"type\":\"HelpTool\"},{\"attributes\":{\"months\":[0,6]},\"id\":\"175796\",\"type\":\"MonthsTicker\"},{\"attributes\":{},\"id\":\"175764\",\"type\":\"SaveTool\"},{\"attributes\":{},\"id\":\"175781\",\"type\":\"DatetimeTickFormatter\"},{\"attributes\":{\"months\":[0,1,2,3,4,5,6,7,8,9,10,11]},\"id\":\"175793\",\"type\":\"MonthsTicker\"},{\"attributes\":{\"base\":60,\"mantissas\":[1,2,5,10,15,20,30],\"max_interval\":1800000.0,\"min_interval\":1000.0,\"num_minor_ticks\":0},\"id\":\"175787\",\"type\":\"AdaptiveTicker\"},{\"attributes\":{\"days\":[1,4,7,10,13,16,19,22,25,28]},\"id\":\"175790\",\"type\":\"DaysTicker\"},{\"attributes\":{\"days\":[1,2,3,4,5,6,7,8,9,10,11,12,13,14,15,16,17,18,19,20,21,22,23,24,25,26,27,28,29,30,31]},\"id\":\"175789\",\"type\":\"DaysTicker\"},{\"attributes\":{\"data\":{\"x\":{\"__ndarray__\":\"AADAHAcFd0IAAICCWQV3QgAAQOirBXdCAAAATv4Fd0IAAMCzUAZ3QgAAgBmjBndCAABAf/UGd0IAAADlRwd3QgAAwEqaB3dCAACAsOwHd0IAAEAWPwh3QgAAAHyRCHdCAADA4eMId0IAAIBHNgl3QgAAQK2ICXdCAAAAE9sJd0IAAMB4LQp3QgAAgN5/CndCAABARNIKd0IAAACqJAt3QgAAwA93C3dCAACAdckLd0IAAEDbGwx3QgAAAEFuDHdCAADApsAMd0IAAIAMEw13QgAAQHJlDXdCAAAA2LcNd0IAAMA9Cg53QgAAgKNcDndCAABACa8Od0IAAABvAQ93QgAAwNRTD3dCAACAOqYPd0IAAECg+A93Qg==\",\"dtype\":\"float64\",\"shape\":[35]},\"y\":{\"__ndarray__\":\"AAAAAAAA8D9qQokEYM3wPwAAAAAAAAAAAAAAAAAAAAAAAAAAAAAAAAAAAAAAAAAAAAAAAAAAAADG3+/mM6MaQCLMVRbpyTBAYuGpWKb1NkDzw4A7wRQzQDHHGgbD0iRAhQS1DW+tJEBmHHNUoEcxQA/eKqdoMzRAxOrcCmMRNEBE3qpaB703QFWy59z8vj5AvomnMIwjQkCrXyYBpslDQJd0KlEieEdA5Ts188N8TkDJVUzggvNTQLM4Nv0NRFhAhr8f2XdHW0BjO/CGX/RfQAS0NED092NAvBZj4SpGaUCLhmLqNWtuQIwzeLG9onFA+AiAseIYdUAm/mUHgBZ6QDJcxFHGJIBAQyshY1tgg0DCaDXGBDmHQA==\",\"dtype\":\"float64\",\"shape\":[35]}},\"selected\":{\"id\":\"178505\"},\"selection_policy\":{\"id\":\"178506\"}},\"id\":\"175800\",\"type\":\"ColumnDataSource\"},{\"attributes\":{\"axis_label\":\"Miles de personas\",\"formatter\":{\"id\":\"175783\"},\"ticker\":{\"id\":\"175758\"}},\"id\":\"175757\",\"type\":\"LinearAxis\"},{\"attributes\":{\"months\":[0,4,8]},\"id\":\"175795\",\"type\":\"MonthsTicker\"},{\"attributes\":{\"label\":{\"value\":\"Casos a ajustar\"},\"renderers\":[{\"id\":\"175778\"}]},\"id\":\"175799\",\"type\":\"LegendItem\"},{\"attributes\":{},\"id\":\"175745\",\"type\":\"DataRange1d\"},{\"attributes\":{},\"id\":\"175758\",\"type\":\"BasicTicker\"},{\"attributes\":{},\"id\":\"175751\",\"type\":\"LinearScale\"},{\"attributes\":{\"text\":\"Modelo CDMX\"},\"id\":\"175743\",\"type\":\"Title\"},{\"attributes\":{},\"id\":\"175747\",\"type\":\"DataRange1d\"},{\"attributes\":{\"mantissas\":[1,2,5],\"max_interval\":500.0,\"num_minor_ticks\":0},\"id\":\"175786\",\"type\":\"AdaptiveTicker\"},{\"attributes\":{\"days\":[1,8,15,22]},\"id\":\"175791\",\"type\":\"DaysTicker\"},{\"attributes\":{\"source\":{\"id\":\"175800\"}},\"id\":\"175804\",\"type\":\"CDSView\"},{\"attributes\":{},\"id\":\"175749\",\"type\":\"LinearScale\"},{\"attributes\":{},\"id\":\"175761\",\"type\":\"PanTool\"},{\"attributes\":{\"data_source\":{\"id\":\"175775\"},\"glyph\":{\"id\":\"175776\"},\"hover_glyph\":null,\"muted_glyph\":null,\"nonselection_glyph\":{\"id\":\"175777\"},\"selection_glyph\":null,\"view\":{\"id\":\"175779\"}},\"id\":\"175778\",\"type\":\"GlyphRenderer\"},{\"attributes\":{\"axis_label\":\"Fecha\",\"formatter\":{\"id\":\"175781\"},\"ticker\":{\"id\":\"175754\"}},\"id\":\"175753\",\"type\":\"DatetimeAxis\"},{\"attributes\":{},\"id\":\"175797\",\"type\":\"YearsTicker\"},{\"attributes\":{\"items\":[{\"id\":\"175799\"},{\"id\":\"175825\"}],\"location\":\"top_left\"},\"id\":\"175798\",\"type\":\"Legend\"},{\"attributes\":{\"line_alpha\":0.1,\"line_color\":\"#9B0E63\",\"line_width\":3,\"x\":{\"field\":\"x\"},\"y\":{\"field\":\"y\"}},\"id\":\"175802\",\"type\":\"Line\"},{\"attributes\":{},\"id\":\"175765\",\"type\":\"ResetTool\"},{\"attributes\":{\"months\":[0,2,4,6,8,10]},\"id\":\"175794\",\"type\":\"MonthsTicker\"},{\"attributes\":{\"source\":{\"id\":\"175775\"}},\"id\":\"175779\",\"type\":\"CDSView\"},{\"attributes\":{\"line_alpha\":0.1,\"line_color\":\"#0B9A53\",\"line_dash\":[6],\"line_width\":3,\"x\":{\"field\":\"x\"},\"y\":{\"field\":\"y\"}},\"id\":\"175777\",\"type\":\"Line\"},{\"attributes\":{},\"id\":\"175811\",\"type\":\"UnionRenderers\"},{\"attributes\":{\"data\":{\"x\":{\"__ndarray__\":\"AADAHAcFd0IAAICCWQV3QgAAQOirBXdCAAAATv4Fd0IAAMCzUAZ3QgAAgBmjBndCAABAf/UGd0IAAADlRwd3QgAAwEqaB3dCAACAsOwHd0IAAEAWPwh3QgAAAHyRCHdCAADA4eMId0IAAIBHNgl3QgAAQK2ICXdCAAAAE9sJd0IAAMB4LQp3QgAAgN5/CndCAABARNIKd0IAAACqJAt3QgAAwA93C3dCAACAdckLd0IAAEDbGwx3QgAAAEFuDHdCAADApsAMd0IAAIAMEw13QgAAQHJlDXdCAAAA2LcNd0IAAMA9Cg53QgAAgKNcDndCAABACa8Od0IAAABvAQ93QgAAwNRTD3dCAACAOqYPd0IAAECg+A93Qg==\",\"dtype\":\"float64\",\"shape\":[35]},\"y\":{\"__ndarray__\":\"AAAAAAAAAEAAAAAAAAAIQAAAAAAAABBAAAAAAAAAEEAAAAAAAAAUQAAAAAAAABhAAAAAAAAAHEAAAAAAAAAcQAAAAAAAABxAAAAAAAAAIEAAAAAAAAAiQAAAAAAAACZAAAAAAAAAKkAAAAAAAAAuQAAAAAAAADZAAAAAAAAAO0AAAAAAAAA/QAAAAAAAAEFAAAAAAAAAREAAAAAAAIBKQAAAAAAAgE5AAAAAAADAVkAAAAAAAMBcQAAAAAAAQGFAAAAAAAAAZEAAAAAAAMBoQAAAAAAAAG5AAAAAAADgcUAAAAAAAKB1QAAAAAAAoHdAAAAAAADAeUAAAAAAAGB8QAAAAAAAYIBAAAAAAACYgUAAAAAAAAiDQA==\",\"dtype\":\"float64\",\"shape\":[35]}},\"selected\":{\"id\":\"175810\"},\"selection_policy\":{\"id\":\"175811\"}},\"id\":\"175775\",\"type\":\"ColumnDataSource\"},{\"attributes\":{\"overlay\":{\"id\":\"175767\"}},\"id\":\"175763\",\"type\":\"BoxZoomTool\"},{\"attributes\":{\"base\":24,\"mantissas\":[1,2,4,6,8,12],\"max_interval\":43200000.0,\"min_interval\":3600000.0,\"num_minor_ticks\":0},\"id\":\"175788\",\"type\":\"AdaptiveTicker\"},{\"attributes\":{\"axis\":{\"id\":\"175753\"},\"ticker\":null},\"id\":\"175756\",\"type\":\"Grid\"},{\"attributes\":{\"line_color\":\"#9B0E63\",\"line_width\":3,\"x\":{\"field\":\"x\"},\"y\":{\"field\":\"y\"}},\"id\":\"175801\",\"type\":\"Line\"},{\"attributes\":{},\"id\":\"178506\",\"type\":\"UnionRenderers\"},{\"attributes\":{},\"id\":\"175783\",\"type\":\"BasicTickFormatter\"}],\"root_ids\":[\"175742\"]},\"title\":\"Bokeh Application\",\"version\":\"2.0.1\"}};\n",
       "  var render_items = [{\"docid\":\"cd2e249c-97df-491d-bc3e-a515a78d77ba\",\"root_ids\":[\"175742\"],\"roots\":{\"175742\":\"1f2b7f4f-298c-4871-8005-67c4e799face\"}}];\n",
       "  root.Bokeh.embed.embed_items_notebook(docs_json, render_items);\n",
       "\n",
       "  }\n",
       "  if (root.Bokeh !== undefined) {\n",
       "    embed_document(root);\n",
       "  } else {\n",
       "    var attempts = 0;\n",
       "    var timer = setInterval(function(root) {\n",
       "      if (root.Bokeh !== undefined) {\n",
       "        clearInterval(timer);\n",
       "        embed_document(root);\n",
       "      } else {\n",
       "        attempts++;\n",
       "        if (attempts > 100) {\n",
       "          clearInterval(timer);\n",
       "          console.log(\"Bokeh: ERROR: Unable to run BokehJS code because BokehJS library is missing\");\n",
       "        }\n",
       "      }\n",
       "    }, 10, root)\n",
       "  }\n",
       "})(window);"
      ],
      "application/vnd.bokehjs_exec.v0+json": ""
     },
     "metadata": {
      "application/vnd.bokehjs_exec.v0+json": {
       "id": "175742"
      }
     },
     "output_type": "display_data"
    }
   ],
   "source": [
    "bpl.show(p)"
   ]
  },
  {
   "cell_type": "markdown",
   "metadata": {},
   "source": [
    "El ajuste ya se parece bastante al de CDMX"
   ]
  },
  {
   "cell_type": "code",
   "execution_count": null,
   "metadata": {},
   "outputs": [],
   "source": []
  }
 ],
 "metadata": {
  "kernelspec": {
   "display_name": "Python 3",
   "language": "python",
   "name": "python3"
  },
  "language_info": {
   "codemirror_mode": {
    "name": "ipython",
    "version": 3
   },
   "file_extension": ".py",
   "mimetype": "text/x-python",
   "name": "python",
   "nbconvert_exporter": "python",
   "pygments_lexer": "ipython3",
   "version": "3.7.7"
  }
 },
 "nbformat": 4,
 "nbformat_minor": 4
}
