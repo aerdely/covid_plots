{
 "cells": [
  {
   "cell_type": "code",
   "execution_count": 138,
   "metadata": {},
   "outputs": [],
   "source": [
    "import pandas as pd\n",
    "import numpy as np\n",
    "import datetime as dt\n",
    "import bokeh.plotting as bpl\n",
    "import bokeh.palettes as bpt\n",
    "import colorcet as cc"
   ]
  },
  {
   "cell_type": "code",
   "execution_count": 8,
   "metadata": {},
   "outputs": [
    {
     "data": {
      "text/html": [
       "\n",
       "    <div class=\"bk-root\">\n",
       "        <a href=\"https://bokeh.org\" target=\"_blank\" class=\"bk-logo bk-logo-small bk-logo-notebook\"></a>\n",
       "        <span id=\"1002\">Loading BokehJS ...</span>\n",
       "    </div>"
      ]
     },
     "metadata": {},
     "output_type": "display_data"
    },
    {
     "data": {
      "application/javascript": [
       "\n",
       "(function(root) {\n",
       "  function now() {\n",
       "    return new Date();\n",
       "  }\n",
       "\n",
       "  var force = true;\n",
       "\n",
       "  if (typeof root._bokeh_onload_callbacks === \"undefined\" || force === true) {\n",
       "    root._bokeh_onload_callbacks = [];\n",
       "    root._bokeh_is_loading = undefined;\n",
       "  }\n",
       "\n",
       "  var JS_MIME_TYPE = 'application/javascript';\n",
       "  var HTML_MIME_TYPE = 'text/html';\n",
       "  var EXEC_MIME_TYPE = 'application/vnd.bokehjs_exec.v0+json';\n",
       "  var CLASS_NAME = 'output_bokeh rendered_html';\n",
       "\n",
       "  /**\n",
       "   * Render data to the DOM node\n",
       "   */\n",
       "  function render(props, node) {\n",
       "    var script = document.createElement(\"script\");\n",
       "    node.appendChild(script);\n",
       "  }\n",
       "\n",
       "  /**\n",
       "   * Handle when an output is cleared or removed\n",
       "   */\n",
       "  function handleClearOutput(event, handle) {\n",
       "    var cell = handle.cell;\n",
       "\n",
       "    var id = cell.output_area._bokeh_element_id;\n",
       "    var server_id = cell.output_area._bokeh_server_id;\n",
       "    // Clean up Bokeh references\n",
       "    if (id != null && id in Bokeh.index) {\n",
       "      Bokeh.index[id].model.document.clear();\n",
       "      delete Bokeh.index[id];\n",
       "    }\n",
       "\n",
       "    if (server_id !== undefined) {\n",
       "      // Clean up Bokeh references\n",
       "      var cmd = \"from bokeh.io.state import curstate; print(curstate().uuid_to_server['\" + server_id + \"'].get_sessions()[0].document.roots[0]._id)\";\n",
       "      cell.notebook.kernel.execute(cmd, {\n",
       "        iopub: {\n",
       "          output: function(msg) {\n",
       "            var id = msg.content.text.trim();\n",
       "            if (id in Bokeh.index) {\n",
       "              Bokeh.index[id].model.document.clear();\n",
       "              delete Bokeh.index[id];\n",
       "            }\n",
       "          }\n",
       "        }\n",
       "      });\n",
       "      // Destroy server and session\n",
       "      var cmd = \"import bokeh.io.notebook as ion; ion.destroy_server('\" + server_id + \"')\";\n",
       "      cell.notebook.kernel.execute(cmd);\n",
       "    }\n",
       "  }\n",
       "\n",
       "  /**\n",
       "   * Handle when a new output is added\n",
       "   */\n",
       "  function handleAddOutput(event, handle) {\n",
       "    var output_area = handle.output_area;\n",
       "    var output = handle.output;\n",
       "\n",
       "    // limit handleAddOutput to display_data with EXEC_MIME_TYPE content only\n",
       "    if ((output.output_type != \"display_data\") || (!output.data.hasOwnProperty(EXEC_MIME_TYPE))) {\n",
       "      return\n",
       "    }\n",
       "\n",
       "    var toinsert = output_area.element.find(\".\" + CLASS_NAME.split(' ')[0]);\n",
       "\n",
       "    if (output.metadata[EXEC_MIME_TYPE][\"id\"] !== undefined) {\n",
       "      toinsert[toinsert.length - 1].firstChild.textContent = output.data[JS_MIME_TYPE];\n",
       "      // store reference to embed id on output_area\n",
       "      output_area._bokeh_element_id = output.metadata[EXEC_MIME_TYPE][\"id\"];\n",
       "    }\n",
       "    if (output.metadata[EXEC_MIME_TYPE][\"server_id\"] !== undefined) {\n",
       "      var bk_div = document.createElement(\"div\");\n",
       "      bk_div.innerHTML = output.data[HTML_MIME_TYPE];\n",
       "      var script_attrs = bk_div.children[0].attributes;\n",
       "      for (var i = 0; i < script_attrs.length; i++) {\n",
       "        toinsert[toinsert.length - 1].firstChild.setAttribute(script_attrs[i].name, script_attrs[i].value);\n",
       "        toinsert[toinsert.length - 1].firstChild.textContent = bk_div.children[0].textContent\n",
       "      }\n",
       "      // store reference to server id on output_area\n",
       "      output_area._bokeh_server_id = output.metadata[EXEC_MIME_TYPE][\"server_id\"];\n",
       "    }\n",
       "  }\n",
       "\n",
       "  function register_renderer(events, OutputArea) {\n",
       "\n",
       "    function append_mime(data, metadata, element) {\n",
       "      // create a DOM node to render to\n",
       "      var toinsert = this.create_output_subarea(\n",
       "        metadata,\n",
       "        CLASS_NAME,\n",
       "        EXEC_MIME_TYPE\n",
       "      );\n",
       "      this.keyboard_manager.register_events(toinsert);\n",
       "      // Render to node\n",
       "      var props = {data: data, metadata: metadata[EXEC_MIME_TYPE]};\n",
       "      render(props, toinsert[toinsert.length - 1]);\n",
       "      element.append(toinsert);\n",
       "      return toinsert\n",
       "    }\n",
       "\n",
       "    /* Handle when an output is cleared or removed */\n",
       "    events.on('clear_output.CodeCell', handleClearOutput);\n",
       "    events.on('delete.Cell', handleClearOutput);\n",
       "\n",
       "    /* Handle when a new output is added */\n",
       "    events.on('output_added.OutputArea', handleAddOutput);\n",
       "\n",
       "    /**\n",
       "     * Register the mime type and append_mime function with output_area\n",
       "     */\n",
       "    OutputArea.prototype.register_mime_type(EXEC_MIME_TYPE, append_mime, {\n",
       "      /* Is output safe? */\n",
       "      safe: true,\n",
       "      /* Index of renderer in `output_area.display_order` */\n",
       "      index: 0\n",
       "    });\n",
       "  }\n",
       "\n",
       "  // register the mime type if in Jupyter Notebook environment and previously unregistered\n",
       "  if (root.Jupyter !== undefined) {\n",
       "    var events = require('base/js/events');\n",
       "    var OutputArea = require('notebook/js/outputarea').OutputArea;\n",
       "\n",
       "    if (OutputArea.prototype.mime_types().indexOf(EXEC_MIME_TYPE) == -1) {\n",
       "      register_renderer(events, OutputArea);\n",
       "    }\n",
       "  }\n",
       "\n",
       "  \n",
       "  if (typeof (root._bokeh_timeout) === \"undefined\" || force === true) {\n",
       "    root._bokeh_timeout = Date.now() + 5000;\n",
       "    root._bokeh_failed_load = false;\n",
       "  }\n",
       "\n",
       "  var NB_LOAD_WARNING = {'data': {'text/html':\n",
       "     \"<div style='background-color: #fdd'>\\n\"+\n",
       "     \"<p>\\n\"+\n",
       "     \"BokehJS does not appear to have successfully loaded. If loading BokehJS from CDN, this \\n\"+\n",
       "     \"may be due to a slow or bad network connection. Possible fixes:\\n\"+\n",
       "     \"</p>\\n\"+\n",
       "     \"<ul>\\n\"+\n",
       "     \"<li>re-rerun `output_notebook()` to attempt to load from CDN again, or</li>\\n\"+\n",
       "     \"<li>use INLINE resources instead, as so:</li>\\n\"+\n",
       "     \"</ul>\\n\"+\n",
       "     \"<code>\\n\"+\n",
       "     \"from bokeh.resources import INLINE\\n\"+\n",
       "     \"output_notebook(resources=INLINE)\\n\"+\n",
       "     \"</code>\\n\"+\n",
       "     \"</div>\"}};\n",
       "\n",
       "  function display_loaded() {\n",
       "    var el = document.getElementById(\"1002\");\n",
       "    if (el != null) {\n",
       "      el.textContent = \"BokehJS is loading...\";\n",
       "    }\n",
       "    if (root.Bokeh !== undefined) {\n",
       "      if (el != null) {\n",
       "        el.textContent = \"BokehJS \" + root.Bokeh.version + \" successfully loaded.\";\n",
       "      }\n",
       "    } else if (Date.now() < root._bokeh_timeout) {\n",
       "      setTimeout(display_loaded, 100)\n",
       "    }\n",
       "  }\n",
       "\n",
       "\n",
       "  function run_callbacks() {\n",
       "    try {\n",
       "      root._bokeh_onload_callbacks.forEach(function(callback) {\n",
       "        if (callback != null)\n",
       "          callback();\n",
       "      });\n",
       "    } finally {\n",
       "      delete root._bokeh_onload_callbacks\n",
       "    }\n",
       "    console.debug(\"Bokeh: all callbacks have finished\");\n",
       "  }\n",
       "\n",
       "  function load_libs(css_urls, js_urls, callback) {\n",
       "    if (css_urls == null) css_urls = [];\n",
       "    if (js_urls == null) js_urls = [];\n",
       "\n",
       "    root._bokeh_onload_callbacks.push(callback);\n",
       "    if (root._bokeh_is_loading > 0) {\n",
       "      console.debug(\"Bokeh: BokehJS is being loaded, scheduling callback at\", now());\n",
       "      return null;\n",
       "    }\n",
       "    if (js_urls == null || js_urls.length === 0) {\n",
       "      run_callbacks();\n",
       "      return null;\n",
       "    }\n",
       "    console.debug(\"Bokeh: BokehJS not loaded, scheduling load and callback at\", now());\n",
       "    root._bokeh_is_loading = css_urls.length + js_urls.length;\n",
       "\n",
       "    function on_load() {\n",
       "      root._bokeh_is_loading--;\n",
       "      if (root._bokeh_is_loading === 0) {\n",
       "        console.debug(\"Bokeh: all BokehJS libraries/stylesheets loaded\");\n",
       "        run_callbacks()\n",
       "      }\n",
       "    }\n",
       "\n",
       "    function on_error() {\n",
       "      console.error(\"failed to load \" + url);\n",
       "    }\n",
       "\n",
       "    for (var i = 0; i < css_urls.length; i++) {\n",
       "      var url = css_urls[i];\n",
       "      const element = document.createElement(\"link\");\n",
       "      element.onload = on_load;\n",
       "      element.onerror = on_error;\n",
       "      element.rel = \"stylesheet\";\n",
       "      element.type = \"text/css\";\n",
       "      element.href = url;\n",
       "      console.debug(\"Bokeh: injecting link tag for BokehJS stylesheet: \", url);\n",
       "      document.body.appendChild(element);\n",
       "    }\n",
       "\n",
       "    const hashes = {\"https://cdn.bokeh.org/bokeh/release/bokeh-2.0.1.min.js\": \"JpP8FXbgAZLkfur7LiK3j9AGBhHNIvF742meBJrjO2ShJDhCG2I1uVvW+0DUtrmc\", \"https://cdn.bokeh.org/bokeh/release/bokeh-widgets-2.0.1.min.js\": \"xZlADit0Q04ISQEdKg2k3L4W9AwQBAuDs9nJL9fM/WwzL1tEU9VPNezOFX0nLEAz\", \"https://cdn.bokeh.org/bokeh/release/bokeh-tables-2.0.1.min.js\": \"4BuPRZkdMKSnj3zoxiNrQ86XgNw0rYmBOxe7nshquXwwcauupgBF2DHLVG1WuZlV\", \"https://cdn.bokeh.org/bokeh/release/bokeh-gl-2.0.1.min.js\": \"Dv1SQ87hmDqK6S5OhBf0bCuwAEvL5QYL0PuR/F1SPVhCS/r/abjkbpKDYL2zeM19\"};\n",
       "\n",
       "    for (var i = 0; i < js_urls.length; i++) {\n",
       "      var url = js_urls[i];\n",
       "      var element = document.createElement('script');\n",
       "      element.onload = on_load;\n",
       "      element.onerror = on_error;\n",
       "      element.async = false;\n",
       "      element.src = url;\n",
       "      if (url in hashes) {\n",
       "        element.crossOrigin = \"anonymous\";\n",
       "        element.integrity = \"sha384-\" + hashes[url];\n",
       "      }\n",
       "      console.debug(\"Bokeh: injecting script tag for BokehJS library: \", url);\n",
       "      document.head.appendChild(element);\n",
       "    }\n",
       "  };var element = document.getElementById(\"1002\");\n",
       "  if (element == null) {\n",
       "    console.error(\"Bokeh: ERROR: autoload.js configured with elementid '1002' but no matching script tag was found. \")\n",
       "    return false;\n",
       "  }\n",
       "\n",
       "  function inject_raw_css(css) {\n",
       "    const element = document.createElement(\"style\");\n",
       "    element.appendChild(document.createTextNode(css));\n",
       "    document.body.appendChild(element);\n",
       "  }\n",
       "\n",
       "  \n",
       "  var js_urls = [\"https://cdn.bokeh.org/bokeh/release/bokeh-2.0.1.min.js\", \"https://cdn.bokeh.org/bokeh/release/bokeh-widgets-2.0.1.min.js\", \"https://cdn.bokeh.org/bokeh/release/bokeh-tables-2.0.1.min.js\", \"https://cdn.bokeh.org/bokeh/release/bokeh-gl-2.0.1.min.js\"];\n",
       "  var css_urls = [];\n",
       "  \n",
       "\n",
       "  var inline_js = [\n",
       "    function(Bokeh) {\n",
       "      Bokeh.set_log_level(\"info\");\n",
       "    },\n",
       "    function(Bokeh) {\n",
       "    \n",
       "    \n",
       "    }\n",
       "  ];\n",
       "\n",
       "  function run_inline_js() {\n",
       "    \n",
       "    if (root.Bokeh !== undefined || force === true) {\n",
       "      \n",
       "    for (var i = 0; i < inline_js.length; i++) {\n",
       "      inline_js[i].call(root, root.Bokeh);\n",
       "    }\n",
       "    if (force === true) {\n",
       "        display_loaded();\n",
       "      }} else if (Date.now() < root._bokeh_timeout) {\n",
       "      setTimeout(run_inline_js, 100);\n",
       "    } else if (!root._bokeh_failed_load) {\n",
       "      console.log(\"Bokeh: BokehJS failed to load within specified timeout.\");\n",
       "      root._bokeh_failed_load = true;\n",
       "    } else if (force !== true) {\n",
       "      var cell = $(document.getElementById(\"1002\")).parents('.cell').data().cell;\n",
       "      cell.output_area.append_execute_result(NB_LOAD_WARNING)\n",
       "    }\n",
       "\n",
       "  }\n",
       "\n",
       "  if (root._bokeh_is_loading === 0) {\n",
       "    console.debug(\"Bokeh: BokehJS loaded, going straight to plotting\");\n",
       "    run_inline_js();\n",
       "  } else {\n",
       "    load_libs(css_urls, js_urls, function() {\n",
       "      console.debug(\"Bokeh: BokehJS plotting callback run at\", now());\n",
       "      run_inline_js();\n",
       "    });\n",
       "  }\n",
       "}(window));"
      ],
      "application/vnd.bokehjs_load.v0+json": "\n(function(root) {\n  function now() {\n    return new Date();\n  }\n\n  var force = true;\n\n  if (typeof root._bokeh_onload_callbacks === \"undefined\" || force === true) {\n    root._bokeh_onload_callbacks = [];\n    root._bokeh_is_loading = undefined;\n  }\n\n  \n\n  \n  if (typeof (root._bokeh_timeout) === \"undefined\" || force === true) {\n    root._bokeh_timeout = Date.now() + 5000;\n    root._bokeh_failed_load = false;\n  }\n\n  var NB_LOAD_WARNING = {'data': {'text/html':\n     \"<div style='background-color: #fdd'>\\n\"+\n     \"<p>\\n\"+\n     \"BokehJS does not appear to have successfully loaded. If loading BokehJS from CDN, this \\n\"+\n     \"may be due to a slow or bad network connection. Possible fixes:\\n\"+\n     \"</p>\\n\"+\n     \"<ul>\\n\"+\n     \"<li>re-rerun `output_notebook()` to attempt to load from CDN again, or</li>\\n\"+\n     \"<li>use INLINE resources instead, as so:</li>\\n\"+\n     \"</ul>\\n\"+\n     \"<code>\\n\"+\n     \"from bokeh.resources import INLINE\\n\"+\n     \"output_notebook(resources=INLINE)\\n\"+\n     \"</code>\\n\"+\n     \"</div>\"}};\n\n  function display_loaded() {\n    var el = document.getElementById(\"1002\");\n    if (el != null) {\n      el.textContent = \"BokehJS is loading...\";\n    }\n    if (root.Bokeh !== undefined) {\n      if (el != null) {\n        el.textContent = \"BokehJS \" + root.Bokeh.version + \" successfully loaded.\";\n      }\n    } else if (Date.now() < root._bokeh_timeout) {\n      setTimeout(display_loaded, 100)\n    }\n  }\n\n\n  function run_callbacks() {\n    try {\n      root._bokeh_onload_callbacks.forEach(function(callback) {\n        if (callback != null)\n          callback();\n      });\n    } finally {\n      delete root._bokeh_onload_callbacks\n    }\n    console.debug(\"Bokeh: all callbacks have finished\");\n  }\n\n  function load_libs(css_urls, js_urls, callback) {\n    if (css_urls == null) css_urls = [];\n    if (js_urls == null) js_urls = [];\n\n    root._bokeh_onload_callbacks.push(callback);\n    if (root._bokeh_is_loading > 0) {\n      console.debug(\"Bokeh: BokehJS is being loaded, scheduling callback at\", now());\n      return null;\n    }\n    if (js_urls == null || js_urls.length === 0) {\n      run_callbacks();\n      return null;\n    }\n    console.debug(\"Bokeh: BokehJS not loaded, scheduling load and callback at\", now());\n    root._bokeh_is_loading = css_urls.length + js_urls.length;\n\n    function on_load() {\n      root._bokeh_is_loading--;\n      if (root._bokeh_is_loading === 0) {\n        console.debug(\"Bokeh: all BokehJS libraries/stylesheets loaded\");\n        run_callbacks()\n      }\n    }\n\n    function on_error() {\n      console.error(\"failed to load \" + url);\n    }\n\n    for (var i = 0; i < css_urls.length; i++) {\n      var url = css_urls[i];\n      const element = document.createElement(\"link\");\n      element.onload = on_load;\n      element.onerror = on_error;\n      element.rel = \"stylesheet\";\n      element.type = \"text/css\";\n      element.href = url;\n      console.debug(\"Bokeh: injecting link tag for BokehJS stylesheet: \", url);\n      document.body.appendChild(element);\n    }\n\n    const hashes = {\"https://cdn.bokeh.org/bokeh/release/bokeh-2.0.1.min.js\": \"JpP8FXbgAZLkfur7LiK3j9AGBhHNIvF742meBJrjO2ShJDhCG2I1uVvW+0DUtrmc\", \"https://cdn.bokeh.org/bokeh/release/bokeh-widgets-2.0.1.min.js\": \"xZlADit0Q04ISQEdKg2k3L4W9AwQBAuDs9nJL9fM/WwzL1tEU9VPNezOFX0nLEAz\", \"https://cdn.bokeh.org/bokeh/release/bokeh-tables-2.0.1.min.js\": \"4BuPRZkdMKSnj3zoxiNrQ86XgNw0rYmBOxe7nshquXwwcauupgBF2DHLVG1WuZlV\", \"https://cdn.bokeh.org/bokeh/release/bokeh-gl-2.0.1.min.js\": \"Dv1SQ87hmDqK6S5OhBf0bCuwAEvL5QYL0PuR/F1SPVhCS/r/abjkbpKDYL2zeM19\"};\n\n    for (var i = 0; i < js_urls.length; i++) {\n      var url = js_urls[i];\n      var element = document.createElement('script');\n      element.onload = on_load;\n      element.onerror = on_error;\n      element.async = false;\n      element.src = url;\n      if (url in hashes) {\n        element.crossOrigin = \"anonymous\";\n        element.integrity = \"sha384-\" + hashes[url];\n      }\n      console.debug(\"Bokeh: injecting script tag for BokehJS library: \", url);\n      document.head.appendChild(element);\n    }\n  };var element = document.getElementById(\"1002\");\n  if (element == null) {\n    console.error(\"Bokeh: ERROR: autoload.js configured with elementid '1002' but no matching script tag was found. \")\n    return false;\n  }\n\n  function inject_raw_css(css) {\n    const element = document.createElement(\"style\");\n    element.appendChild(document.createTextNode(css));\n    document.body.appendChild(element);\n  }\n\n  \n  var js_urls = [\"https://cdn.bokeh.org/bokeh/release/bokeh-2.0.1.min.js\", \"https://cdn.bokeh.org/bokeh/release/bokeh-widgets-2.0.1.min.js\", \"https://cdn.bokeh.org/bokeh/release/bokeh-tables-2.0.1.min.js\", \"https://cdn.bokeh.org/bokeh/release/bokeh-gl-2.0.1.min.js\"];\n  var css_urls = [];\n  \n\n  var inline_js = [\n    function(Bokeh) {\n      Bokeh.set_log_level(\"info\");\n    },\n    function(Bokeh) {\n    \n    \n    }\n  ];\n\n  function run_inline_js() {\n    \n    if (root.Bokeh !== undefined || force === true) {\n      \n    for (var i = 0; i < inline_js.length; i++) {\n      inline_js[i].call(root, root.Bokeh);\n    }\n    if (force === true) {\n        display_loaded();\n      }} else if (Date.now() < root._bokeh_timeout) {\n      setTimeout(run_inline_js, 100);\n    } else if (!root._bokeh_failed_load) {\n      console.log(\"Bokeh: BokehJS failed to load within specified timeout.\");\n      root._bokeh_failed_load = true;\n    } else if (force !== true) {\n      var cell = $(document.getElementById(\"1002\")).parents('.cell').data().cell;\n      cell.output_area.append_execute_result(NB_LOAD_WARNING)\n    }\n\n  }\n\n  if (root._bokeh_is_loading === 0) {\n    console.debug(\"Bokeh: BokehJS loaded, going straight to plotting\");\n    run_inline_js();\n  } else {\n    load_libs(css_urls, js_urls, function() {\n      console.debug(\"Bokeh: BokehJS plotting callback run at\", now());\n      run_inline_js();\n    });\n  }\n}(window));"
     },
     "metadata": {},
     "output_type": "display_data"
    }
   ],
   "source": [
    "bpl.output_notebook()"
   ]
  },
  {
   "cell_type": "code",
   "execution_count": 9,
   "metadata": {},
   "outputs": [],
   "source": [
    "primera_fecha = \"04/12/2020\" #No hay datos antes del 04/12/2020 en las bases federales\n",
    "ultima_fecha = \"05/18/2020\""
   ]
  },
  {
   "cell_type": "code",
   "execution_count": 10,
   "metadata": {},
   "outputs": [],
   "source": [
    "fechas = pd.date_range(start=primera_fecha, end=ultima_fecha)"
   ]
  },
  {
   "cell_type": "markdown",
   "metadata": {},
   "source": [
    "Adquisición de datos históricos, esta parte solo es necesaria una vez, guarda los archivos a disco"
   ]
  },
  {
   "cell_type": "markdown",
   "metadata": {},
   "source": [
    "Carga de datos históricos y actuales y conversión a DataFrame, para cada archivo se agrega una columna al dataframe que hace referencia a la fecha de la publicación del archivo, el país va a estar roto por problemas de encoding. En libre office se pueden abrir como utf8 pero python detecta un caracter que no puede decodificar y no abre los archivos. Se están forzando a 'latin1' pero entonces los acentos no son correctos."
   ]
  },
  {
   "cell_type": "code",
   "execution_count": 11,
   "metadata": {},
   "outputs": [],
   "source": [
    "fechas_csv = fechas.strftime(\"%y%m%d\")+\"COVID19MEXICO.csv\""
   ]
  },
  {
   "cell_type": "code",
   "execution_count": 12,
   "metadata": {},
   "outputs": [],
   "source": [
    "frames = []\n",
    "for fecha in fechas_csv:\n",
    "    data = pd.read_csv('./datos_federales/' + fecha,encoding=\"latin1\", low_memory=False)\n",
    "    data.loc[:,\"FECHA_ARCHIVO\"] = dt.datetime.strptime(fecha[:6],\"%y%m%d\").date()\n",
    "    frames.append(data)"
   ]
  },
  {
   "cell_type": "code",
   "execution_count": 13,
   "metadata": {},
   "outputs": [
    {
     "data": {
      "text/plain": [
       "37"
      ]
     },
     "execution_count": 13,
     "metadata": {},
     "output_type": "execute_result"
    }
   ],
   "source": [
    "len(frames)"
   ]
  },
  {
   "cell_type": "code",
   "execution_count": 14,
   "metadata": {},
   "outputs": [],
   "source": [
    "all_data = pd.concat(frames,axis=0,ignore_index=True)"
   ]
  },
  {
   "cell_type": "markdown",
   "metadata": {},
   "source": [
    "Conversión de fechas a formato de fecha"
   ]
  },
  {
   "cell_type": "code",
   "execution_count": 15,
   "metadata": {},
   "outputs": [],
   "source": [
    "all_data[\"FECHA_ARCHIVO\"] = pd.to_datetime(all_data[\"FECHA_ARCHIVO\"],format=\"%Y-%m-%d\")\n",
    "all_data[\"FECHA_ACTUALIZACION\"] = pd.to_datetime(all_data[\"FECHA_ACTUALIZACION\"],format=\"%Y-%m-%d\")\n",
    "all_data[\"FECHA_INGRESO\"] = pd.to_datetime(all_data[\"FECHA_INGRESO\"],format=\"%Y-%m-%d\")\n",
    "all_data[\"FECHA_DEF\"] = pd.to_datetime(all_data[\"FECHA_DEF\"].replace({\"9999-99-99\":None}),format=\"%Y-%m-%d\")\n",
    "all_data[\"FECHA_SINTOMAS\"] = pd.to_datetime(all_data[\"FECHA_SINTOMAS\"],format=\"%Y-%m-%d\")"
   ]
  },
  {
   "cell_type": "code",
   "execution_count": 16,
   "metadata": {},
   "outputs": [
    {
     "data": {
      "text/plain": [
       "Index(['FECHA_ACTUALIZACION', 'ID_REGISTRO', 'ORIGEN', 'SECTOR', 'ENTIDAD_UM',\n",
       "       'SEXO', 'ENTIDAD_NAC', 'ENTIDAD_RES', 'MUNICIPIO_RES', 'TIPO_PACIENTE',\n",
       "       'FECHA_INGRESO', 'FECHA_SINTOMAS', 'FECHA_DEF', 'INTUBADO', 'NEUMONIA',\n",
       "       'EDAD', 'NACIONALIDAD', 'EMBARAZO', 'HABLA_LENGUA_INDIG', 'DIABETES',\n",
       "       'EPOC', 'ASMA', 'INMUSUPR', 'HIPERTENSION', 'OTRA_COM',\n",
       "       'CARDIOVASCULAR', 'OBESIDAD', 'RENAL_CRONICA', 'TABAQUISMO',\n",
       "       'OTRO_CASO', 'RESULTADO', 'MIGRANTE', 'PAIS_NACIONALIDAD',\n",
       "       'PAIS_ORIGEN', 'UCI', 'FECHA_ARCHIVO'],\n",
       "      dtype='object')"
      ]
     },
     "execution_count": 16,
     "metadata": {},
     "output_type": "execute_result"
    }
   ],
   "source": [
    "all_data.columns"
   ]
  },
  {
   "cell_type": "code",
   "execution_count": 26,
   "metadata": {},
   "outputs": [],
   "source": [
    "confirmados = all_data[all_data[\"RESULTADO\"]==1]"
   ]
  },
  {
   "cell_type": "code",
   "execution_count": 79,
   "metadata": {},
   "outputs": [],
   "source": [
    "por_fecha = confirmados.groupby([\"ID_REGISTRO\",\"FECHA_ARCHIVO\"]).size().reset_index().pivot(index=\"FECHA_ARCHIVO\",columns=\"ID_REGISTRO\",values=0).sort_index().T"
   ]
  },
  {
   "cell_type": "code",
   "execution_count": 120,
   "metadata": {},
   "outputs": [],
   "source": [
    "fechas_validas = por_fecha.columns"
   ]
  },
  {
   "cell_type": "code",
   "execution_count": 139,
   "metadata": {},
   "outputs": [],
   "source": [
    "colores = list(bpt.inferno(len(fechas_validas)))\n",
    "colores.reverse()"
   ]
  },
  {
   "cell_type": "code",
   "execution_count": 91,
   "metadata": {},
   "outputs": [],
   "source": [
    "conf_acum = por_fecha.sum().to_frame(\"Confirmados\").reset_index()"
   ]
  },
  {
   "cell_type": "code",
   "execution_count": 182,
   "metadata": {},
   "outputs": [],
   "source": [
    "p = bpl.figure(x_axis_type=\"datetime\",plot_width=1000,plot_height=500,x_range=(fechas_validas[0]-pd.Timedelta(\"3 days\"),fechas_validas[-1]+pd.Timedelta(\"1 days\")))"
   ]
  },
  {
   "cell_type": "code",
   "execution_count": 183,
   "metadata": {},
   "outputs": [
    {
     "data": {
      "text/html": [
       "<div style=\"display: table;\"><div style=\"display: table-row;\"><div style=\"display: table-cell;\"><b title=\"bokeh.models.renderers.GlyphRenderer\">GlyphRenderer</b>(</div><div style=\"display: table-cell;\">id&nbsp;=&nbsp;'16475', <span id=\"16499\" style=\"cursor: pointer;\">&hellip;)</span></div></div><div class=\"16498\" style=\"display: none;\"><div style=\"display: table-cell;\"></div><div style=\"display: table-cell;\">data_source&nbsp;=&nbsp;ColumnDataSource(id='16472', ...),</div></div><div class=\"16498\" style=\"display: none;\"><div style=\"display: table-cell;\"></div><div style=\"display: table-cell;\">glyph&nbsp;=&nbsp;VBar(id='16473', ...),</div></div><div class=\"16498\" style=\"display: none;\"><div style=\"display: table-cell;\"></div><div style=\"display: table-cell;\">hover_glyph&nbsp;=&nbsp;None,</div></div><div class=\"16498\" style=\"display: none;\"><div style=\"display: table-cell;\"></div><div style=\"display: table-cell;\">js_event_callbacks&nbsp;=&nbsp;{},</div></div><div class=\"16498\" style=\"display: none;\"><div style=\"display: table-cell;\"></div><div style=\"display: table-cell;\">js_property_callbacks&nbsp;=&nbsp;{},</div></div><div class=\"16498\" style=\"display: none;\"><div style=\"display: table-cell;\"></div><div style=\"display: table-cell;\">level&nbsp;=&nbsp;'glyph',</div></div><div class=\"16498\" style=\"display: none;\"><div style=\"display: table-cell;\"></div><div style=\"display: table-cell;\">muted&nbsp;=&nbsp;False,</div></div><div class=\"16498\" style=\"display: none;\"><div style=\"display: table-cell;\"></div><div style=\"display: table-cell;\">muted_glyph&nbsp;=&nbsp;None,</div></div><div class=\"16498\" style=\"display: none;\"><div style=\"display: table-cell;\"></div><div style=\"display: table-cell;\">name&nbsp;=&nbsp;None,</div></div><div class=\"16498\" style=\"display: none;\"><div style=\"display: table-cell;\"></div><div style=\"display: table-cell;\">nonselection_glyph&nbsp;=&nbsp;VBar(id='16474', ...),</div></div><div class=\"16498\" style=\"display: none;\"><div style=\"display: table-cell;\"></div><div style=\"display: table-cell;\">selection_glyph&nbsp;=&nbsp;None,</div></div><div class=\"16498\" style=\"display: none;\"><div style=\"display: table-cell;\"></div><div style=\"display: table-cell;\">subscribed_events&nbsp;=&nbsp;[],</div></div><div class=\"16498\" style=\"display: none;\"><div style=\"display: table-cell;\"></div><div style=\"display: table-cell;\">tags&nbsp;=&nbsp;[],</div></div><div class=\"16498\" style=\"display: none;\"><div style=\"display: table-cell;\"></div><div style=\"display: table-cell;\">view&nbsp;=&nbsp;CDSView(id='16476', ...),</div></div><div class=\"16498\" style=\"display: none;\"><div style=\"display: table-cell;\"></div><div style=\"display: table-cell;\">visible&nbsp;=&nbsp;True,</div></div><div class=\"16498\" style=\"display: none;\"><div style=\"display: table-cell;\"></div><div style=\"display: table-cell;\">x_range_name&nbsp;=&nbsp;'default',</div></div><div class=\"16498\" style=\"display: none;\"><div style=\"display: table-cell;\"></div><div style=\"display: table-cell;\">y_range_name&nbsp;=&nbsp;'default')</div></div></div>\n",
       "<script>\n",
       "(function() {\n",
       "  var expanded = false;\n",
       "  var ellipsis = document.getElementById(\"16499\");\n",
       "  ellipsis.addEventListener(\"click\", function() {\n",
       "    var rows = document.getElementsByClassName(\"16498\");\n",
       "    for (var i = 0; i < rows.length; i++) {\n",
       "      var el = rows[i];\n",
       "      el.style.display = expanded ? \"none\" : \"table-row\";\n",
       "    }\n",
       "    ellipsis.innerHTML = expanded ? \"&hellip;)\" : \"&lsaquo;&lsaquo;&lsaquo;\";\n",
       "    expanded = !expanded;\n",
       "  });\n",
       "})();\n",
       "</script>\n"
      ],
      "text/plain": [
       "GlyphRenderer(id='16475', ...)"
      ]
     },
     "execution_count": 183,
     "metadata": {},
     "output_type": "execute_result"
    }
   ],
   "source": [
    "p.vbar(x=conf_acum[\"FECHA_ARCHIVO\"],bottom=1,top=conf_acum[\"Confirmados\"],width=pd.Timedelta(\"1 days\")*0.8,line_color=\"#A8A8A8\",color=\"#E0E0E0\",legend_label=\"Casos reportados en las conferencias\")"
   ]
  },
  {
   "cell_type": "code",
   "execution_count": 184,
   "metadata": {},
   "outputs": [],
   "source": [
    "for i,fecha in enumerate(fechas_validas):\n",
    "    conf_temp = confirmados[confirmados[\"FECHA_ARCHIVO\"]==fecha]\n",
    "    conf_sint = conf_temp.groupby(\"FECHA_SINTOMAS\").size().cumsum().to_frame(\"Confirmados_fs\").reset_index()\n",
    "    if (np.mod(i,10)==0 or i == len(fechas_validas)-1):\n",
    "        p.line(x=conf_sint[\"FECHA_SINTOMAS\"],y=conf_sint[\"Confirmados_fs\"],color=colores[i],legend_label=\"Casos por inicio de síntomas al \" + fecha.strftime(\"%d/%m/%Y\"))\n",
    "    else:\n",
    "        p.line(x=conf_sint[\"FECHA_SINTOMAS\"],y=conf_sint[\"Confirmados_fs\"],color=colores[i])"
   ]
  },
  {
   "cell_type": "code",
   "execution_count": 185,
   "metadata": {},
   "outputs": [],
   "source": [
    "p.xaxis.axis_label = 'Fecha'\n",
    "p.yaxis.axis_label = 'Casos confirmados'\n",
    "p.legend.location = \"top_left\""
   ]
  },
  {
   "cell_type": "code",
   "execution_count": 186,
   "metadata": {},
   "outputs": [
    {
     "data": {
      "text/html": [
       "\n",
       "\n",
       "\n",
       "\n",
       "\n",
       "\n",
       "  <div class=\"bk-root\" id=\"623a95a2-0977-486e-8041-a3645f69d073\" data-root-id=\"16441\"></div>\n"
      ]
     },
     "metadata": {},
     "output_type": "display_data"
    },
    {
     "data": {
      "application/javascript": [
       "(function(root) {\n",
       "  function embed_document(root) {\n",
       "    \n",
       "  var docs_json = {\"629e97b0-2e68-4bb2-8ea3-6da64ef02d3f\":{\"roots\":{\"references\":[{\"attributes\":{\"below\":[{\"id\":\"16450\"}],\"center\":[{\"id\":\"16453\"},{\"id\":\"16457\"},{\"id\":\"16496\"}],\"left\":[{\"id\":\"16454\"}],\"plot_height\":500,\"plot_width\":1000,\"renderers\":[{\"id\":\"16475\"},{\"id\":\"16503\"},{\"id\":\"16530\"},{\"id\":\"16535\"},{\"id\":\"16540\"},{\"id\":\"16545\"},{\"id\":\"16550\"},{\"id\":\"16555\"},{\"id\":\"16560\"},{\"id\":\"16565\"},{\"id\":\"16570\"},{\"id\":\"16575\"},{\"id\":\"16622\"},{\"id\":\"16627\"},{\"id\":\"16632\"},{\"id\":\"16637\"},{\"id\":\"16642\"},{\"id\":\"16647\"},{\"id\":\"16652\"},{\"id\":\"16657\"},{\"id\":\"16662\"},{\"id\":\"16667\"},{\"id\":\"16734\"},{\"id\":\"16739\"},{\"id\":\"16744\"},{\"id\":\"16749\"},{\"id\":\"16754\"},{\"id\":\"16759\"},{\"id\":\"16764\"},{\"id\":\"16769\"},{\"id\":\"16774\"},{\"id\":\"16779\"},{\"id\":\"16866\"},{\"id\":\"16871\"},{\"id\":\"16876\"},{\"id\":\"16881\"},{\"id\":\"16886\"},{\"id\":\"16891\"}],\"title\":{\"id\":\"16477\"},\"toolbar\":{\"id\":\"16465\"},\"x_range\":{\"id\":\"16442\"},\"x_scale\":{\"id\":\"16446\"},\"y_range\":{\"id\":\"16444\"},\"y_scale\":{\"id\":\"16448\"}},\"id\":\"16441\",\"subtype\":\"Figure\",\"type\":\"Plot\"},{\"attributes\":{\"data_source\":{\"id\":\"16542\"},\"glyph\":{\"id\":\"16543\"},\"hover_glyph\":null,\"muted_glyph\":null,\"nonselection_glyph\":{\"id\":\"16544\"},\"selection_glyph\":null,\"view\":{\"id\":\"16546\"}},\"id\":\"16545\",\"type\":\"GlyphRenderer\"},{\"attributes\":{\"source\":{\"id\":\"16557\"}},\"id\":\"16561\",\"type\":\"CDSView\"},{\"attributes\":{\"data_source\":{\"id\":\"16557\"},\"glyph\":{\"id\":\"16558\"},\"hover_glyph\":null,\"muted_glyph\":null,\"nonselection_glyph\":{\"id\":\"16559\"},\"selection_glyph\":null,\"view\":{\"id\":\"16561\"}},\"id\":\"16560\",\"type\":\"GlyphRenderer\"},{\"attributes\":{\"line_alpha\":0.1,\"line_color\":\"#FBB318\",\"x\":{\"field\":\"x\"},\"y\":{\"field\":\"y\"}},\"id\":\"16554\",\"type\":\"Line\"},{\"attributes\":{\"source\":{\"id\":\"16542\"}},\"id\":\"16546\",\"type\":\"CDSView\"},{\"attributes\":{\"data\":{\"x\":{\"__ndarray__\":\"AABAa4L3dkIAAEAjzwF3QgAAwBwHBXdCAABA6KsFd0IAAMCzUAZ3QgAAgBmjBndCAABAf/UGd0IAAMBKmgd3QgAAgLDsB3dCAABAFj8Id0IAAAB8kQh3QgAAwOHjCHdCAACARzYJd0IAAECtiAl3QgAAABPbCXdCAADAeC0Kd0IAAIDefwp3QgAAQETSCndCAAAAqiQLd0IAAMAPdwt3QgAAgHXJC3dCAABA2xsMd0IAAABBbgx3QgAAwKbADHdCAACADBMNd0IAAEByZQ13QgAAANi3DXdCAADAPQoOd0IAAICjXA53QgAAQAmvDndCAAAAbwEPd0IAAMDUUw93QgAAgDqmD3dCAABAoPgPd0IAAAAGSxB3QgAAwGudEHdCAACA0e8Qd0IAAEA3QhF3QgAAAJ2UEXdCAADAAucRd0IAAIBoORJ3QgAAQM6LEndCAAAANN4Sd0IAAMCZMBN3QgAAgP+CE3dCAABAZdUTd0IAAADLJxR3QgAAwDB6FHdCAACAlswUd0IAAED8HhV3QgAAAGJxFXdCAADAx8MVd0IAAIAtFhZ3QgAAQJNoFndCAAAA+boWd0IAAMBeDRd3QgAAgMRfF3dCAABAKrIXd0IAAACQBBh3QgAAwPVWGHdCAACAW6kYd0IAAEDB+xh3Qg==\",\"dtype\":\"float64\",\"shape\":[62]},\"y\":[1,2,4,6,7,9,11,13,14,15,17,19,25,32,38,45,52,61,80,101,161,210,258,313,396,486,582,714,814,934,1038,1208,1331,1464,1665,1833,2011,2232,2485,2727,2958,3278,3562,3938,4306,4679,5041,5385,5807,6155,6531,6881,7375,7717,8031,8330,8526,8662,8727,8763,8770,8772]},\"selected\":{\"id\":\"16602\"},\"selection_policy\":{\"id\":\"16601\"}},\"id\":\"16562\",\"type\":\"ColumnDataSource\"},{\"attributes\":{\"line_color\":\"#FAC128\",\"x\":{\"field\":\"x\"},\"y\":{\"field\":\"y\"}},\"id\":\"16548\",\"type\":\"Line\"},{\"attributes\":{},\"id\":\"18030\",\"type\":\"UnionRenderers\"},{\"attributes\":{\"source\":{\"id\":\"16552\"}},\"id\":\"16556\",\"type\":\"CDSView\"},{\"attributes\":{\"line_color\":\"#FBA60B\",\"x\":{\"field\":\"x\"},\"y\":{\"field\":\"y\"}},\"id\":\"16558\",\"type\":\"Line\"},{\"attributes\":{\"source\":{\"id\":\"16547\"}},\"id\":\"16551\",\"type\":\"CDSView\"},{\"attributes\":{\"line_color\":\"#F98C09\",\"x\":{\"field\":\"x\"},\"y\":{\"field\":\"y\"}},\"id\":\"16568\",\"type\":\"Line\"},{\"attributes\":{\"data\":{\"x\":{\"__ndarray__\":\"AADAHAcFd0IAAEDoqwV3QgAAwLNQBndCAACAGaMGd0IAAEB/9QZ3QgAAwEqaB3dCAACAsOwHd0IAAEAWPwh3QgAAAHyRCHdCAADA4eMId0IAAIBHNgl3QgAAQK2ICXdCAAAAE9sJd0IAAMB4LQp3QgAAgN5/CndCAABARNIKd0IAAACqJAt3QgAAwA93C3dCAACAdckLd0IAAEDbGwx3QgAAAEFuDHdCAADApsAMd0IAAIAMEw13QgAAQHJlDXdCAAAA2LcNd0IAAMA9Cg53QgAAgKNcDndCAABACa8Od0IAAABvAQ93QgAAwNRTD3dCAACAOqYPd0IAAECg+A93QgAAAAZLEHdCAADAa50Qd0IAAIDR7xB3QgAAQDdCEXdCAAAAnZQRd0IAAMAC5xF3QgAAgGg5EndCAABAzosSd0IAAAA03hJ3QgAAwJkwE3dCAACA/4ITd0IAAEBl1RN3QgAAAMsnFHdCAADAMHoUd0IAAICWzBR3QgAAQPweFXdCAAAAYnEVd0IAAMDHwxV3QgAAgC0WFndCAABAk2gWd0IAAAD5uhZ3QgAAwF4NF3dCAACAxF8Xd0IAAEAqshd3QgAAAJAEGHdC\",\"dtype\":\"float64\",\"shape\":[57]},\"y\":[2,4,5,7,9,11,12,13,15,17,23,30,36,43,50,59,78,99,159,206,254,309,390,478,573,702,802,920,1023,1191,1314,1447,1647,1808,1985,2203,2455,2696,2923,3226,3494,3825,4148,4488,4809,5098,5439,5697,5950,6144,6410,6580,6716,6813,6862,6873,6875]},\"selected\":{\"id\":\"16596\"},\"selection_policy\":{\"id\":\"16595\"}},\"id\":\"16547\",\"type\":\"ColumnDataSource\"},{\"attributes\":{\"line_color\":\"#FB9906\",\"x\":{\"field\":\"x\"},\"y\":{\"field\":\"y\"}},\"id\":\"16563\",\"type\":\"Line\"},{\"attributes\":{\"line_color\":\"#FBB318\",\"x\":{\"field\":\"x\"},\"y\":{\"field\":\"y\"}},\"id\":\"16553\",\"type\":\"Line\"},{\"attributes\":{\"data_source\":{\"id\":\"16547\"},\"glyph\":{\"id\":\"16548\"},\"hover_glyph\":null,\"muted_glyph\":null,\"nonselection_glyph\":{\"id\":\"16549\"},\"selection_glyph\":null,\"view\":{\"id\":\"16551\"}},\"id\":\"16550\",\"type\":\"GlyphRenderer\"},{\"attributes\":{\"data\":{\"x\":{\"__ndarray__\":\"AABAa4L3dkIAAMA2J/h2QgAAQCPPAXdCAADAHAcFd0IAAICCWQV3QgAAQOirBXdCAADAs1AGd0IAAIAZowZ3QgAAQH/1BndCAADASpoHd0IAAICw7Ad3QgAAQBY/CHdCAAAAfJEId0IAAMDh4wh3QgAAgEc2CXdCAABArYgJd0IAAAAT2wl3QgAAwHgtCndCAACA3n8Kd0IAAEBE0gp3QgAAAKokC3dCAADAD3cLd0IAAIB1yQt3QgAAQNsbDHdCAAAAQW4Md0IAAMCmwAx3QgAAgAwTDXdCAABAcmUNd0IAAADYtw13QgAAwD0KDndCAACAo1wOd0IAAEAJrw53QgAAAG8BD3dCAADA1FMPd0IAAIA6pg93QgAAQKD4D3dCAAAABksQd0IAAMBrnRB3QgAAgNHvEHdCAABAN0IRd0IAAACdlBF3QgAAwALnEXdCAACAaDkSd0IAAEDOixJ3QgAAADTeEndCAADAmTATd0IAAID/ghN3QgAAQGXVE3dCAAAAyycUd0IAAMAwehR3QgAAgJbMFHdCAABA/B4Vd0IAAABicRV3QgAAwMfDFXdCAACALRYWd0IAAECTaBZ3QgAAAPm6FndCAADAXg0Xd0IAAIDEXxd3QgAAQCqyF3dCAAAAkAQYd0IAAMD1Vhh3QgAAgFupGHdCAABAwfsYd0I=\",\"dtype\":\"float64\",\"shape\":[64]},\"y\":[1,2,3,5,6,8,9,11,13,15,16,17,19,21,27,33,39,46,53,62,81,102,162,211,259,314,397,487,584,716,816,937,1041,1213,1336,1469,1671,1839,2021,2246,2502,2747,2986,3311,3600,3990,4368,4756,5136,5489,5945,6316,6738,7140,7702,8105,8480,8843,9097,9290,9401,9460,9492,9501]},\"selected\":{\"id\":\"16604\"},\"selection_policy\":{\"id\":\"16603\"}},\"id\":\"16567\",\"type\":\"ColumnDataSource\"},{\"attributes\":{\"data\":{\"x\":{\"__ndarray__\":\"AADAHAcFd0IAAEDoqwV3QgAAwLNQBndCAACAGaMGd0IAAEB/9QZ3QgAAwEqaB3dCAACAsOwHd0IAAEAWPwh3QgAAAHyRCHdCAADA4eMId0IAAIBHNgl3QgAAQK2ICXdCAAAAE9sJd0IAAMB4LQp3QgAAgN5/CndCAABARNIKd0IAAACqJAt3QgAAwA93C3dCAACAdckLd0IAAEDbGwx3QgAAAEFuDHdCAADApsAMd0IAAIAMEw13QgAAQHJlDXdCAAAA2LcNd0IAAMA9Cg53QgAAgKNcDndCAABACa8Od0IAAABvAQ93QgAAwNRTD3dCAACAOqYPd0IAAECg+A93QgAAAAZLEHdCAADAa50Qd0IAAIDR7xB3QgAAQDdCEXdCAAAAnZQRd0IAAMAC5xF3QgAAgGg5EndCAABAzosSd0IAAAA03hJ3QgAAwJkwE3dCAACA/4ITd0IAAEBl1RN3QgAAAMsnFHdCAADAMHoUd0IAAICWzBR3QgAAQPweFXdCAAAAYnEVd0IAAMDHwxV3QgAAgC0WFndCAABAk2gWd0IAAAD5uhZ3QgAAwF4NF3dCAACAxF8Xd0IAAEAqshd3QgAAAJAEGHdCAADA9VYYd0IAAIBbqRh3Qg==\",\"dtype\":\"float64\",\"shape\":[59]},\"y\":[2,4,5,7,9,11,12,13,15,17,23,30,36,43,50,59,78,99,159,208,256,311,393,483,579,711,811,930,1034,1204,1327,1460,1661,1827,2005,2226,2477,2718,2947,3266,3548,3907,4268,4632,4979,5306,5711,6046,6392,6707,7150,7440,7719,7964,8108,8201,8238,8257,8261]},\"selected\":{\"id\":\"16600\"},\"selection_policy\":{\"id\":\"16599\"}},\"id\":\"16557\",\"type\":\"ColumnDataSource\"},{\"attributes\":{\"line_alpha\":0.1,\"line_color\":\"#FBA60B\",\"x\":{\"field\":\"x\"},\"y\":{\"field\":\"y\"}},\"id\":\"16559\",\"type\":\"Line\"},{\"attributes\":{\"data_source\":{\"id\":\"16552\"},\"glyph\":{\"id\":\"16553\"},\"hover_glyph\":null,\"muted_glyph\":null,\"nonselection_glyph\":{\"id\":\"16554\"},\"selection_glyph\":null,\"view\":{\"id\":\"16556\"}},\"id\":\"16555\",\"type\":\"GlyphRenderer\"},{\"attributes\":{\"line_alpha\":0.1,\"line_color\":\"#FAC128\",\"x\":{\"field\":\"x\"},\"y\":{\"field\":\"y\"}},\"id\":\"16549\",\"type\":\"Line\"},{\"attributes\":{\"data\":{\"x\":{\"__ndarray__\":\"AADAHAcFd0IAAEDoqwV3QgAAwLNQBndCAACAGaMGd0IAAEB/9QZ3QgAAwEqaB3dCAACAsOwHd0IAAEAWPwh3QgAAAHyRCHdCAADA4eMId0IAAIBHNgl3QgAAQK2ICXdCAAAAE9sJd0IAAMB4LQp3QgAAgN5/CndCAABARNIKd0IAAACqJAt3QgAAwA93C3dCAACAdckLd0IAAEDbGwx3QgAAAEFuDHdCAADApsAMd0IAAIAMEw13QgAAQHJlDXdCAAAA2LcNd0IAAMA9Cg53QgAAgKNcDndCAABACa8Od0IAAABvAQ93QgAAwNRTD3dCAACAOqYPd0IAAECg+A93QgAAAAZLEHdCAADAa50Qd0IAAIDR7xB3QgAAQDdCEXdCAAAAnZQRd0IAAMAC5xF3QgAAgGg5EndCAABAzosSd0IAAAA03hJ3QgAAwJkwE3dCAACA/4ITd0IAAEBl1RN3QgAAAMsnFHdCAADAMHoUd0IAAICWzBR3QgAAQPweFXdCAAAAYnEVd0IAAMDHwxV3QgAAgC0WFndCAABAk2gWd0IAAAD5uhZ3QgAAwF4NF3dCAACAxF8Xd0IAAEAqshd3QgAAAJAEGHdCAADA9VYYd0I=\",\"dtype\":\"float64\",\"shape\":[58]},\"y\":[2,4,5,7,9,11,12,13,15,17,23,30,36,43,50,59,78,99,159,208,256,311,393,483,579,711,813,932,1036,1205,1328,1461,1661,1826,2003,2224,2476,2717,2944,3254,3531,3881,4225,4576,4905,5224,5583,5876,6179,6436,6780,6998,7195,7354,7435,7471,7492,7497]},\"selected\":{\"id\":\"16598\"},\"selection_policy\":{\"id\":\"16597\"}},\"id\":\"16552\",\"type\":\"ColumnDataSource\"},{\"attributes\":{\"data\":{\"x\":{\"__ndarray__\":\"AADAHAcFd0IAAEDoqwV3QgAAwLNQBndCAACAGaMGd0IAAEB/9QZ3QgAAwEqaB3dCAACAsOwHd0IAAEAWPwh3QgAAAHyRCHdCAADA4eMId0IAAIBHNgl3QgAAQK2ICXdCAAAAE9sJd0IAAMB4LQp3QgAAgN5/CndCAABARNIKd0IAAACqJAt3QgAAwA93C3dCAACAdckLd0IAAEDbGwx3QgAAAEFuDHdCAADApsAMd0IAAIAMEw13QgAAQHJlDXdCAAAA2LcNd0IAAMA9Cg53QgAAgKNcDndCAABACa8Od0IAAABvAQ93QgAAwNRTD3dCAACAOqYPd0IAAECg+A93QgAAAAZLEHdCAADAa50Qd0IAAIDR7xB3QgAAQDdCEXdCAAAAnZQRd0IAAMAC5xF3QgAAgGg5EndCAABAzosSd0IAAAA03hJ3QgAAwJkwE3dCAACA/4ITd0IAAEBl1RN3QgAAAMsnFHdCAADAMHoUd0IAAICWzBR3QgAAQPweFXdCAAAAYnEVd0IAAMDHwxV3QgAAgC0WFndCAABAk2gWd0I=\",\"dtype\":\"float64\",\"shape\":[52]},\"y\":[2,4,5,7,9,11,12,13,15,17,23,30,36,42,49,58,77,98,157,204,252,306,387,474,567,691,792,909,1017,1184,1304,1435,1632,1793,1965,2180,2419,2645,2858,3126,3363,3616,3843,4076,4253,4406,4545,4604,4636,4651,4657,4661]},\"selected\":{\"id\":\"16586\"},\"selection_policy\":{\"id\":\"16585\"}},\"id\":\"16500\",\"type\":\"ColumnDataSource\"},{\"attributes\":{\"data_source\":{\"id\":\"16562\"},\"glyph\":{\"id\":\"16563\"},\"hover_glyph\":null,\"muted_glyph\":null,\"nonselection_glyph\":{\"id\":\"16564\"},\"selection_glyph\":null,\"view\":{\"id\":\"16566\"}},\"id\":\"16565\",\"type\":\"GlyphRenderer\"},{\"attributes\":{\"label\":{\"value\":\"Casos reportados en las conferencias\"},\"renderers\":[{\"id\":\"16475\"}]},\"id\":\"16497\",\"type\":\"LegendItem\"},{\"attributes\":{\"source\":{\"id\":\"16562\"}},\"id\":\"16566\",\"type\":\"CDSView\"},{\"attributes\":{\"line_alpha\":0.1,\"line_color\":\"#FB9906\",\"x\":{\"field\":\"x\"},\"y\":{\"field\":\"y\"}},\"id\":\"16564\",\"type\":\"Line\"},{\"attributes\":{\"bottom_units\":\"screen\",\"fill_alpha\":0.5,\"fill_color\":\"lightgrey\",\"left_units\":\"screen\",\"level\":\"overlay\",\"line_alpha\":1.0,\"line_color\":\"black\",\"line_dash\":[4,4],\"line_width\":2,\"render_mode\":\"css\",\"right_units\":\"screen\",\"top_units\":\"screen\"},\"id\":\"16464\",\"type\":\"BoxAnnotation\"},{\"attributes\":{\"active_drag\":\"auto\",\"active_inspect\":\"auto\",\"active_multi\":null,\"active_scroll\":\"auto\",\"active_tap\":\"auto\",\"tools\":[{\"id\":\"16458\"},{\"id\":\"16459\"},{\"id\":\"16460\"},{\"id\":\"16461\"},{\"id\":\"16462\"},{\"id\":\"16463\"}]},\"id\":\"16465\",\"type\":\"Toolbar\"},{\"attributes\":{\"source\":{\"id\":\"16761\"}},\"id\":\"16765\",\"type\":\"CDSView\"},{\"attributes\":{\"data\":{\"x\":{\"__ndarray__\":\"AADAHAcFd0IAAEDoqwV3QgAAwLNQBndCAACAGaMGd0IAAEB/9QZ3QgAAwEqaB3dCAACAsOwHd0IAAEAWPwh3QgAAAHyRCHdCAADA4eMId0IAAIBHNgl3QgAAQK2ICXdCAAAAE9sJd0IAAMB4LQp3QgAAgN5/CndCAABARNIKd0IAAACqJAt3QgAAwA93C3dCAACAdckLd0IAAEDbGwx3QgAAAEFuDHdCAADApsAMd0IAAIAMEw13QgAAQHJlDXdCAAAA2LcNd0IAAMA9Cg53QgAAgKNcDndCAABACa8Od0IAAABvAQ93QgAAwNRTD3dCAACAOqYPd0IAAECg+A93QgAAAAZLEHdCAADAa50Qd0IAAIDR7xB3QgAAQDdCEXdCAAAAnZQRd0IAAMAC5xF3QgAAgGg5EndCAABAzosSd0IAAAA03hJ3QgAAwJkwE3dCAACA/4ITd0IAAEBl1RN3QgAAAMsnFHdCAADAMHoUd0IAAICWzBR3QgAAQPweFXdCAAAAYnEVd0IAAMDHwxV3QgAAgC0WFndCAABAk2gWd0IAAAD5uhZ3QgAAwF4NF3dC\",\"dtype\":\"float64\",\"shape\":[54]},\"y\":[2,4,5,7,9,11,12,13,15,17,23,30,36,43,50,59,78,99,159,206,254,308,390,478,571,698,799,916,1019,1188,1309,1441,1639,1800,1977,2196,2441,2676,2898,3184,3435,3729,4010,4310,4559,4772,5001,5137,5236,5304,5359,5383,5397,5399]},\"selected\":{\"id\":\"16590\"},\"selection_policy\":{\"id\":\"16589\"}},\"id\":\"16532\",\"type\":\"ColumnDataSource\"},{\"attributes\":{\"line_alpha\":0.1,\"line_color\":\"#C43C4E\",\"x\":{\"field\":\"x\"},\"y\":{\"field\":\"y\"}},\"id\":\"16651\",\"type\":\"Line\"},{\"attributes\":{\"line_alpha\":0.1,\"line_color\":\"#AF315B\",\"x\":{\"field\":\"x\"},\"y\":{\"field\":\"y\"}},\"id\":\"16661\",\"type\":\"Line\"},{\"attributes\":{\"source\":{\"id\":\"16649\"}},\"id\":\"16653\",\"type\":\"CDSView\"},{\"attributes\":{\"data_source\":{\"id\":\"16761\"},\"glyph\":{\"id\":\"16762\"},\"hover_glyph\":null,\"muted_glyph\":null,\"nonselection_glyph\":{\"id\":\"16763\"},\"selection_glyph\":null,\"view\":{\"id\":\"16765\"}},\"id\":\"16764\",\"type\":\"GlyphRenderer\"},{\"attributes\":{\"line_color\":\"#BA3655\",\"x\":{\"field\":\"x\"},\"y\":{\"field\":\"y\"}},\"id\":\"16655\",\"type\":\"Line\"},{\"attributes\":{\"line_alpha\":0.1,\"line_color\":\"#550F6D\",\"x\":{\"field\":\"x\"},\"y\":{\"field\":\"y\"}},\"id\":\"16763\",\"type\":\"Line\"},{\"attributes\":{\"line_alpha\":0.1,\"line_color\":\"#F2F485\",\"x\":{\"field\":\"x\"},\"y\":{\"field\":\"y\"}},\"id\":\"16529\",\"type\":\"Line\"},{\"attributes\":{\"data\":{\"x\":{\"__ndarray__\":\"AADANif4dkIAAECZFfp2QgAAgMoM+3ZCAADAKZf+dkIAAED1O/92QgAAgL18AXdCAABAI88Bd0IAAMAcBwV3QgAAgIJZBXdCAABA6KsFd0IAAMCzUAZ3QgAAgBmjBndCAABAf/UGd0IAAMBKmgd3QgAAgLDsB3dCAABAFj8Id0IAAAB8kQh3QgAAwOHjCHdCAACARzYJd0IAAECtiAl3QgAAABPbCXdCAADAeC0Kd0IAAIDefwp3QgAAQETSCndCAAAAqiQLd0IAAMAPdwt3QgAAgHXJC3dCAABA2xsMd0IAAABBbgx3QgAAwKbADHdCAACADBMNd0IAAEByZQ13QgAAANi3DXdCAADAPQoOd0IAAICjXA53QgAAQAmvDndCAAAAbwEPd0IAAMDUUw93QgAAgDqmD3dCAABAoPgPd0IAAAAGSxB3QgAAwGudEHdCAACA0e8Qd0IAAEA3QhF3QgAAAJ2UEXdCAADAAucRd0IAAIBoORJ3QgAAQM6LEndCAAAANN4Sd0IAAMCZMBN3QgAAgP+CE3dCAABAZdUTd0IAAADLJxR3QgAAwDB6FHdCAACAlswUd0IAAED8HhV3QgAAAGJxFXdCAADAx8MVd0IAAIAtFhZ3QgAAQJNoFndCAAAA+boWd0IAAMBeDRd3QgAAgMRfF3dCAABAKrIXd0IAAACQBBh3QgAAwPVWGHdCAACAW6kYd0IAAEDB+xh3QgAAACdOGXdCAADAjKAZd0IAAIDy8hl3QgAAQFhFGndCAAAAvpcad0IAAMAj6hp3QgAAgIk8G3dCAABA744bd0IAAABV4Rt3QgAAwLozHHdCAACAIIYcd0IAAECG2Bx3QgAAAOwqHXdCAADAUX0dd0IAAIC3zx13QgAAQB0iHndCAAAAg3Qed0IAAMDoxh53QgAAgE4ZH3dCAABAtGsfd0I=\",\"dtype\":\"float64\",\"shape\":[88]},\"y\":[1,2,3,4,5,6,7,8,9,10,11,13,14,15,16,18,20,22,28,37,43,50,57,67,87,108,170,220,271,329,414,506,605,738,844,967,1076,1258,1384,1521,1741,1918,2121,2365,2640,2903,3163,3536,3840,4282,4707,5138,5578,5988,6543,7026,7623,8214,9132,9816,10552,11457,12322,13316,14287,15375,16560,17628,19321,20412,21534,22694,24063,25397,26565,27928,29026,29959,31058,32220,32996,33636,34250,34658,34873,34975,35020,35022]},\"selected\":{\"id\":\"16846\"},\"selection_policy\":{\"id\":\"16845\"}},\"id\":\"16766\",\"type\":\"ColumnDataSource\"},{\"attributes\":{\"line_color\":\"#F2F485\",\"x\":{\"field\":\"x\"},\"y\":{\"field\":\"y\"}},\"id\":\"16528\",\"type\":\"Line\"},{\"attributes\":{\"data\":{\"x\":{\"__ndarray__\":\"AADANif4dkIAAECZFfp2QgAAgMoM+3ZCAADAKZf+dkIAAED1O/92QgAAgL18AXdCAABAI88Bd0IAAMAcBwV3QgAAgIJZBXdCAABA6KsFd0IAAMCzUAZ3QgAAgBmjBndCAABAf/UGd0IAAMBKmgd3QgAAgLDsB3dCAABAFj8Id0IAAAB8kQh3QgAAwOHjCHdCAACARzYJd0IAAECtiAl3QgAAABPbCXdCAADAeC0Kd0IAAIDefwp3QgAAQETSCndCAAAAqiQLd0IAAMAPdwt3QgAAgHXJC3dCAABA2xsMd0IAAABBbgx3QgAAwKbADHdCAACADBMNd0IAAEByZQ13QgAAANi3DXdCAADAPQoOd0IAAICjXA53QgAAQAmvDndCAAAAbwEPd0IAAMDUUw93QgAAgDqmD3dCAABAoPgPd0IAAAAGSxB3QgAAwGudEHdCAACA0e8Qd0IAAEA3QhF3QgAAAJ2UEXdCAADAAucRd0IAAIBoORJ3QgAAQM6LEndCAAAANN4Sd0IAAMCZMBN3QgAAgP+CE3dCAABAZdUTd0IAAADLJxR3QgAAwDB6FHdCAACAlswUd0IAAED8HhV3QgAAAGJxFXdCAADAx8MVd0IAAIAtFhZ3QgAAQJNoFndCAAAA+boWd0IAAMBeDRd3QgAAgMRfF3dCAABAKrIXd0IAAACQBBh3QgAAwPVWGHdCAACAW6kYd0IAAEDB+xh3QgAAACdOGXdCAADAjKAZd0IAAIDy8hl3QgAAQFhFGndCAAAAvpcad0IAAMAj6hp3QgAAgIk8G3dCAABA744bd0IAAABV4Rt3QgAAwLozHHdCAACAIIYcd0IAAECG2Bx3QgAAAOwqHXdCAADAUX0dd0IAAIC3zx13QgAAQB0iHndCAAAAg3Qed0IAAMDoxh53QgAAgE4ZH3dCAABAtGsfd0IAAAAavh93QgAAwH8QIHdC\",\"dtype\":\"float64\",\"shape\":[90]},\"y\":[1,2,3,4,5,6,7,8,9,10,11,13,14,15,16,18,20,22,28,37,43,50,57,67,87,108,170,220,271,329,414,506,605,738,844,967,1076,1258,1386,1523,1744,1921,2124,2367,2643,2907,3167,3542,3846,4288,4714,5147,5588,5997,6558,7042,7639,8234,9157,9844,10585,11493,12362,13359,14341,15434,16631,17708,19423,20521,21662,22848,24250,25644,26871,28318,29507,30562,31860,33360,34388,35312,36309,37094,37625,37977,38210,38272,38306,38324]},\"selected\":{\"id\":\"16962\"},\"selection_policy\":{\"id\":\"16961\"}},\"id\":\"16776\",\"type\":\"ColumnDataSource\"},{\"attributes\":{\"line_color\":\"#4A0B6A\",\"x\":{\"field\":\"x\"},\"y\":{\"field\":\"y\"}},\"id\":\"16767\",\"type\":\"Line\"},{\"attributes\":{\"data_source\":{\"id\":\"16500\"},\"glyph\":{\"id\":\"16501\"},\"hover_glyph\":null,\"muted_glyph\":null,\"nonselection_glyph\":{\"id\":\"16502\"},\"selection_glyph\":null,\"view\":{\"id\":\"16504\"}},\"id\":\"16503\",\"type\":\"GlyphRenderer\"},{\"attributes\":{\"source\":{\"id\":\"16654\"}},\"id\":\"16658\",\"type\":\"CDSView\"},{\"attributes\":{\"source\":{\"id\":\"16766\"}},\"id\":\"16770\",\"type\":\"CDSView\"},{\"attributes\":{\"data_source\":{\"id\":\"16649\"},\"glyph\":{\"id\":\"16650\"},\"hover_glyph\":null,\"muted_glyph\":null,\"nonselection_glyph\":{\"id\":\"16651\"},\"selection_glyph\":null,\"view\":{\"id\":\"16653\"}},\"id\":\"16652\",\"type\":\"GlyphRenderer\"},{\"attributes\":{\"line_color\":\"#AF315B\",\"x\":{\"field\":\"x\"},\"y\":{\"field\":\"y\"}},\"id\":\"16660\",\"type\":\"Line\"},{\"attributes\":{\"data_source\":{\"id\":\"16654\"},\"glyph\":{\"id\":\"16655\"},\"hover_glyph\":null,\"muted_glyph\":null,\"nonselection_glyph\":{\"id\":\"16656\"},\"selection_glyph\":null,\"view\":{\"id\":\"16658\"}},\"id\":\"16657\",\"type\":\"GlyphRenderer\"},{\"attributes\":{\"data\":{\"x\":{\"__ndarray__\":\"AADAHAcFd0IAAEDoqwV3QgAAwLNQBndCAACAGaMGd0IAAEB/9QZ3QgAAwEqaB3dCAACAsOwHd0IAAEAWPwh3QgAAAHyRCHdCAADA4eMId0IAAIBHNgl3QgAAQK2ICXdCAAAAE9sJd0IAAMB4LQp3QgAAgN5/CndCAABARNIKd0IAAACqJAt3QgAAwA93C3dCAACAdckLd0IAAEDbGwx3QgAAAEFuDHdCAADApsAMd0IAAIAMEw13QgAAQHJlDXdCAAAA2LcNd0IAAMA9Cg53QgAAgKNcDndCAABACa8Od0IAAABvAQ93QgAAwNRTD3dCAACAOqYPd0IAAECg+A93QgAAAAZLEHdCAADAa50Qd0IAAIDR7xB3QgAAQDdCEXdCAAAAnZQRd0IAAMAC5xF3QgAAgGg5EndCAABAzosSd0IAAAA03hJ3QgAAwJkwE3dCAACA/4ITd0IAAEBl1RN3QgAAAMsnFHdCAADAMHoUd0IAAICWzBR3QgAAQPweFXdCAAAAYnEVd0IAAMDHwxV3QgAAgC0WFndCAABAk2gWd0IAAAD5uhZ3Qg==\",\"dtype\":\"float64\",\"shape\":[53]},\"y\":[2,4,5,7,9,11,12,13,15,17,23,30,36,42,49,58,77,98,157,204,252,306,387,475,568,693,794,911,1019,1186,1306,1438,1635,1796,1969,2186,2427,2659,2875,3149,3394,3676,3933,4205,4419,4601,4785,4885,4946,4982,5003,5011,5014]},\"selected\":{\"id\":\"16588\"},\"selection_policy\":{\"id\":\"16587\"}},\"id\":\"16527\",\"type\":\"ColumnDataSource\"},{\"attributes\":{\"line_alpha\":0.1,\"line_color\":\"#FCFEA4\",\"x\":{\"field\":\"x\"},\"y\":{\"field\":\"y\"}},\"id\":\"16502\",\"type\":\"Line\"},{\"attributes\":{\"data_source\":{\"id\":\"16766\"},\"glyph\":{\"id\":\"16767\"},\"hover_glyph\":null,\"muted_glyph\":null,\"nonselection_glyph\":{\"id\":\"16768\"},\"selection_glyph\":null,\"view\":{\"id\":\"16770\"}},\"id\":\"16769\",\"type\":\"GlyphRenderer\"},{\"attributes\":{\"data\":{\"x\":{\"__ndarray__\":\"AABAa4L3dkIAAMA2J/h2QgAAQJkV+nZCAAAA/2f6dkIAAIDKDPt2QgAAgL18AXdCAABAI88Bd0IAAMAcBwV3QgAAgIJZBXdCAABA6KsFd0IAAMCzUAZ3QgAAgBmjBndCAABAf/UGd0IAAMBKmgd3QgAAgLDsB3dCAABAFj8Id0IAAAB8kQh3QgAAwOHjCHdCAACARzYJd0IAAECtiAl3QgAAABPbCXdCAADAeC0Kd0IAAIDefwp3QgAAQETSCndCAAAAqiQLd0IAAMAPdwt3QgAAgHXJC3dCAABA2xsMd0IAAABBbgx3QgAAwKbADHdCAACADBMNd0IAAEByZQ13QgAAANi3DXdCAADAPQoOd0IAAICjXA53QgAAQAmvDndCAAAAbwEPd0IAAMDUUw93QgAAgDqmD3dCAABAoPgPd0IAAAAGSxB3QgAAwGudEHdCAACA0e8Qd0IAAEA3QhF3QgAAAJ2UEXdCAADAAucRd0IAAIBoORJ3QgAAQM6LEndCAAAANN4Sd0IAAMCZMBN3QgAAgP+CE3dCAABAZdUTd0IAAADLJxR3QgAAwDB6FHdCAACAlswUd0IAAED8HhV3QgAAAGJxFXdCAADAx8MVd0IAAIAtFhZ3QgAAQJNoFndCAAAA+boWd0IAAMBeDRd3QgAAgMRfF3dCAABAKrIXd0IAAACQBBh3QgAAwPVWGHdCAACAW6kYd0IAAEDB+xh3QgAAACdOGXdCAADAjKAZd0IAAIDy8hl3QgAAQFhFGndCAAAAvpcad0IAAMAj6hp3QgAAgIk8G3dCAABA744bd0IAAABV4Rt3QgAAwLozHHdCAACAIIYcd0IAAECG2Bx3Qg==\",\"dtype\":\"float64\",\"shape\":[80]},\"y\":[1,2,3,4,5,6,8,9,10,11,12,14,16,18,19,21,23,25,31,39,45,52,59,68,87,108,170,220,271,328,413,505,603,734,839,961,1067,1243,1367,1498,1709,1879,2068,2306,2572,2830,3078,3432,3730,4145,4546,4968,5394,5793,6334,6800,7369,7927,8804,9451,10145,10990,11765,12664,13550,14492,15508,16376,17659,18445,19166,19865,20566,21087,21496,21839,22001,22073,22087,22088]},\"selected\":{\"id\":\"16830\"},\"selection_policy\":{\"id\":\"16829\"}},\"id\":\"16664\",\"type\":\"ColumnDataSource\"},{\"attributes\":{\"line_alpha\":0.1,\"line_color\":\"#992864\",\"x\":{\"field\":\"x\"},\"y\":{\"field\":\"y\"}},\"id\":\"16733\",\"type\":\"Line\"},{\"attributes\":{\"line_color\":\"#FCFEA4\",\"x\":{\"field\":\"x\"},\"y\":{\"field\":\"y\"}},\"id\":\"16501\",\"type\":\"Line\"},{\"attributes\":{\"data\":{\"top\":{\"__ndarray__\":\"AAAAAAA1skAAAAAAAJazQAAAAAAAF7VAAAAAAADXtkAAAAAAAJm4QAAAAAAA27pAAAAAAABJvUAAAAAAgCLAQAAAAAAAIsFAAAAAAICOwkAAAAAAAJjEQAAAAACAuMZAAAAAAAAkyUAAAAAAAAnLQAAAAACAqsxAAAAAAIBUzkAAAAAAAFzQQAAAAADAYdFAAAAAAADG0kAAAAAAwEDUQAAAAAAAktVAAAAAAMDr1kAAAAAAQFLYQAAAAABAatlAAAAAAID82kAAAAAAAOzcQAAAAACAyN5AAAAAAIBW4EAAAAAAwBnhQAAAAADgvOFAAAAAAIC24kAAAAAAQJ/jQAAAAABgzORAAAAAAAD95UAAAAAAAAXnQAAAAABgCOhAAAAAACA26UA=\",\"dtype\":\"float64\",\"shape\":[37]},\"x\":{\"__ndarray__\":\"AAAA+boWd0IAAMBeDRd3QgAAgMRfF3dCAABAKrIXd0IAAACQBBh3QgAAwPVWGHdCAACAW6kYd0IAAEDB+xh3QgAAACdOGXdCAADAjKAZd0IAAIDy8hl3QgAAQFhFGndCAAAAvpcad0IAAMAj6hp3QgAAgIk8G3dCAABA744bd0IAAABV4Rt3QgAAwLozHHdCAACAIIYcd0IAAECG2Bx3QgAAAOwqHXdCAADAUX0dd0IAAIC3zx13QgAAQB0iHndCAAAAg3Qed0IAAMDoxh53QgAAgE4ZH3dCAABAtGsfd0IAAAAavh93QgAAwH8QIHdCAACA5WIgd0IAAEBLtSB3QgAAALEHIXdCAADAFlohd0IAAIB8rCF3QgAAQOL+IXdCAAAASFEid0I=\",\"dtype\":\"float64\",\"shape\":[37]}},\"selected\":{\"id\":\"16512\"},\"selection_policy\":{\"id\":\"16511\"}},\"id\":\"16472\",\"type\":\"ColumnDataSource\"},{\"attributes\":{\"source\":{\"id\":\"16500\"}},\"id\":\"16504\",\"type\":\"CDSView\"},{\"attributes\":{\"line_color\":\"#3E0966\",\"x\":{\"field\":\"x\"},\"y\":{\"field\":\"y\"}},\"id\":\"16772\",\"type\":\"Line\"},{\"attributes\":{\"bottom\":{\"value\":1},\"fill_alpha\":{\"value\":0.1},\"fill_color\":{\"value\":\"#E0E0E0\"},\"line_alpha\":{\"value\":0.1},\"line_color\":{\"value\":\"#A8A8A8\"},\"top\":{\"field\":\"top\"},\"width\":{\"value\":69120000.0},\"x\":{\"field\":\"x\"}},\"id\":\"16474\",\"type\":\"VBar\"},{\"attributes\":{\"label\":{\"value\":\"Casos por inicio de s\\u00edntomas al 22/04/2020\"},\"renderers\":[{\"id\":\"16575\"}]},\"id\":\"16618\",\"type\":\"LegendItem\"},{\"attributes\":{\"line_alpha\":0.1,\"line_color\":\"#BA3655\",\"x\":{\"field\":\"x\"},\"y\":{\"field\":\"y\"}},\"id\":\"16656\",\"type\":\"Line\"},{\"attributes\":{\"data_source\":{\"id\":\"16472\"},\"glyph\":{\"id\":\"16473\"},\"hover_glyph\":null,\"muted_glyph\":null,\"nonselection_glyph\":{\"id\":\"16474\"},\"selection_glyph\":null,\"view\":{\"id\":\"16476\"}},\"id\":\"16475\",\"type\":\"GlyphRenderer\"},{\"attributes\":{\"data_source\":{\"id\":\"16527\"},\"glyph\":{\"id\":\"16528\"},\"hover_glyph\":null,\"muted_glyph\":null,\"nonselection_glyph\":{\"id\":\"16529\"},\"selection_glyph\":null,\"view\":{\"id\":\"16531\"}},\"id\":\"16530\",\"type\":\"GlyphRenderer\"},{\"attributes\":{\"data_source\":{\"id\":\"16659\"},\"glyph\":{\"id\":\"16660\"},\"hover_glyph\":null,\"muted_glyph\":null,\"nonselection_glyph\":{\"id\":\"16661\"},\"selection_glyph\":null,\"view\":{\"id\":\"16663\"}},\"id\":\"16662\",\"type\":\"GlyphRenderer\"},{\"attributes\":{\"data\":{\"x\":{\"__ndarray__\":\"AABAa4L3dkIAAMA2J/h2QgAAQJkV+nZCAAAA/2f6dkIAAIDKDPt2QgAAgL18AXdCAABAI88Bd0IAAMAcBwV3QgAAgIJZBXdCAABA6KsFd0IAAMCzUAZ3QgAAgBmjBndCAABAf/UGd0IAAMBKmgd3QgAAgLDsB3dCAABAFj8Id0IAAAB8kQh3QgAAwOHjCHdCAACARzYJd0IAAECtiAl3QgAAABPbCXdCAADAeC0Kd0IAAIDefwp3QgAAQETSCndCAAAAqiQLd0IAAMAPdwt3QgAAgHXJC3dCAABA2xsMd0IAAABBbgx3QgAAwKbADHdCAACADBMNd0IAAEByZQ13QgAAANi3DXdCAADAPQoOd0IAAICjXA53QgAAQAmvDndCAAAAbwEPd0IAAMDUUw93QgAAgDqmD3dCAABAoPgPd0IAAAAGSxB3QgAAwGudEHdCAACA0e8Qd0IAAEA3QhF3QgAAAJ2UEXdCAADAAucRd0IAAIBoORJ3QgAAQM6LEndCAAAANN4Sd0IAAMCZMBN3QgAAgP+CE3dCAABAZdUTd0IAAADLJxR3QgAAwDB6FHdCAACAlswUd0IAAED8HhV3QgAAAGJxFXdCAADAx8MVd0IAAIAtFhZ3QgAAQJNoFndCAAAA+boWd0IAAMBeDRd3QgAAgMRfF3dCAABAKrIXd0IAAACQBBh3QgAAwPVWGHdCAACAW6kYd0IAAEDB+xh3QgAAACdOGXdCAADAjKAZd0IAAIDy8hl3QgAAQFhFGndCAAAAvpcad0IAAMAj6hp3QgAAgIk8G3dCAABA744bd0IAAABV4Rt3QgAAwLozHHdC\",\"dtype\":\"float64\",\"shape\":[78]},\"y\":[1,2,3,4,5,6,8,9,10,11,12,14,16,18,19,21,23,25,31,39,45,52,59,68,87,108,170,218,269,326,411,503,600,730,833,954,1058,1234,1358,1489,1700,1869,2056,2292,2557,2814,3059,3409,3705,4119,4520,4938,5363,5758,6290,6755,7323,7878,8753,9397,10082,10920,11683,12565,13430,14349,15339,16164,17325,18034,18661,19228,19794,20180,20460,20650,20716,20739]},\"selected\":{\"id\":\"16716\"},\"selection_policy\":{\"id\":\"16715\"}},\"id\":\"16659\",\"type\":\"ColumnDataSource\"},{\"attributes\":{\"line_alpha\":0.1,\"line_color\":\"#3E0966\",\"x\":{\"field\":\"x\"},\"y\":{\"field\":\"y\"}},\"id\":\"16773\",\"type\":\"Line\"},{\"attributes\":{\"data\":{\"x\":{\"__ndarray__\":\"AADANif4dkIAAECZFfp2QgAAgMoM+3ZCAADAKZf+dkIAAED1O/92QgAAgL18AXdCAABAI88Bd0IAAMAcBwV3QgAAgIJZBXdCAABA6KsFd0IAAMCzUAZ3QgAAgBmjBndCAABAf/UGd0IAAMBKmgd3QgAAgLDsB3dCAABAFj8Id0IAAAB8kQh3QgAAwOHjCHdCAACARzYJd0IAAECtiAl3QgAAABPbCXdCAADAeC0Kd0IAAIDefwp3QgAAQETSCndCAAAAqiQLd0IAAMAPdwt3QgAAgHXJC3dCAABA2xsMd0IAAABBbgx3QgAAwKbADHdCAACADBMNd0IAAEByZQ13QgAAANi3DXdCAADAPQoOd0IAAICjXA53QgAAQAmvDndCAAAAbwEPd0IAAMDUUw93QgAAgDqmD3dCAABAoPgPd0IAAAAGSxB3QgAAwGudEHdCAACA0e8Qd0IAAEA3QhF3QgAAAJ2UEXdCAADAAucRd0IAAIBoORJ3QgAAQM6LEndCAAAANN4Sd0IAAMCZMBN3QgAAgP+CE3dCAABAZdUTd0IAAADLJxR3QgAAwDB6FHdCAACAlswUd0IAAED8HhV3QgAAAGJxFXdCAADAx8MVd0IAAIAtFhZ3QgAAQJNoFndCAAAA+boWd0IAAMBeDRd3QgAAgMRfF3dCAABAKrIXd0IAAACQBBh3QgAAwPVWGHdCAACAW6kYd0IAAEDB+xh3QgAAACdOGXdCAADAjKAZd0IAAIDy8hl3QgAAQFhFGndCAAAAvpcad0IAAMAj6hp3QgAAgIk8G3dCAABA744bd0IAAABV4Rt3QgAAwLozHHdCAACAIIYcd0IAAECG2Bx3QgAAAOwqHXdCAADAUX0dd0IAAIC3zx13QgAAQB0iHndCAAAAg3Qed0IAAMDoxh53QgAAgE4ZH3dCAABAtGsfd0IAAAAavh93Qg==\",\"dtype\":\"float64\",\"shape\":[89]},\"y\":[1,2,3,4,5,6,7,8,9,10,11,13,14,15,16,18,20,22,28,37,43,50,57,67,87,108,170,220,271,329,414,506,605,738,844,967,1076,1258,1385,1522,1742,1919,2122,2365,2640,2903,3163,3536,3840,4281,4706,5136,5576,5985,6543,7026,7622,8213,9130,9813,10549,11453,12318,13312,14285,15376,16566,17633,19334,20428,21553,22722,24104,25459,26643,28039,29172,30153,31345,32630,33525,34306,35100,35672,36020,36201,36298,36318,36327]},\"selected\":{\"id\":\"16848\"},\"selection_policy\":{\"id\":\"16847\"}},\"id\":\"16771\",\"type\":\"ColumnDataSource\"},{\"attributes\":{\"line_alpha\":0.1,\"line_color\":\"#4A0B6A\",\"x\":{\"field\":\"x\"},\"y\":{\"field\":\"y\"}},\"id\":\"16768\",\"type\":\"Line\"},{\"attributes\":{\"bottom\":{\"value\":1},\"fill_color\":{\"value\":\"#E0E0E0\"},\"line_color\":{\"value\":\"#A8A8A8\"},\"top\":{\"field\":\"top\"},\"width\":{\"value\":69120000.0},\"x\":{\"field\":\"x\"}},\"id\":\"16473\",\"type\":\"VBar\"},{\"attributes\":{\"source\":{\"id\":\"16472\"}},\"id\":\"16476\",\"type\":\"CDSView\"},{\"attributes\":{\"data_source\":{\"id\":\"16736\"},\"glyph\":{\"id\":\"16737\"},\"hover_glyph\":null,\"muted_glyph\":null,\"nonselection_glyph\":{\"id\":\"16738\"},\"selection_glyph\":null,\"view\":{\"id\":\"16740\"}},\"id\":\"16739\",\"type\":\"GlyphRenderer\"},{\"attributes\":{\"source\":{\"id\":\"16567\"}},\"id\":\"16571\",\"type\":\"CDSView\"},{\"attributes\":{\"source\":{\"id\":\"16751\"}},\"id\":\"16755\",\"type\":\"CDSView\"},{\"attributes\":{\"data\":{\"x\":{\"__ndarray__\":\"AADANif4dkIAAECZFfp2QgAAAP9n+nZCAACAygz7dkIAAMApl/52QgAAQPU7/3ZCAACAvXwBd0IAAEAjzwF3QgAAwBwHBXdCAACAglkFd0IAAEDoqwV3QgAAwLNQBndCAACAGaMGd0IAAEB/9QZ3QgAAwEqaB3dCAACAsOwHd0IAAEAWPwh3QgAAAHyRCHdCAADA4eMId0IAAIBHNgl3QgAAQK2ICXdCAAAAE9sJd0IAAMB4LQp3QgAAgN5/CndCAABARNIKd0IAAACqJAt3QgAAwA93C3dCAACAdckLd0IAAEDbGwx3QgAAAEFuDHdCAADApsAMd0IAAIAMEw13QgAAQHJlDXdCAAAA2LcNd0IAAMA9Cg53QgAAgKNcDndCAABACa8Od0IAAABvAQ93QgAAwNRTD3dCAACAOqYPd0IAAECg+A93QgAAAAZLEHdCAADAa50Qd0IAAIDR7xB3QgAAQDdCEXdCAAAAnZQRd0IAAMAC5xF3QgAAgGg5EndCAABAzosSd0IAAAA03hJ3QgAAwJkwE3dCAACA/4ITd0IAAEBl1RN3QgAAAMsnFHdCAADAMHoUd0IAAICWzBR3QgAAQPweFXdCAAAAYnEVd0IAAMDHwxV3QgAAgC0WFndCAABAk2gWd0IAAAD5uhZ3QgAAwF4NF3dCAACAxF8Xd0IAAEAqshd3QgAAAJAEGHdCAADA9VYYd0IAAIBbqRh3QgAAQMH7GHdCAAAAJ04Zd0IAAMCMoBl3QgAAgPLyGXdCAABAWEUad0IAAAC+lxp3QgAAwCPqGndCAACAiTwbd0IAAEDvjht3QgAAAFXhG3dCAADAujMcd0IAAIAghhx3QgAAQIbYHHdCAAAA7Codd0IAAMBRfR13QgAAgLfPHXdCAABAHSIed0IAAACDdB53Qg==\",\"dtype\":\"float64\",\"shape\":[86]},\"y\":[1,2,3,4,5,6,7,8,9,10,11,12,14,15,16,17,19,21,23,29,38,44,51,58,68,88,109,171,221,272,330,416,509,608,741,847,970,1077,1256,1381,1516,1732,1907,2103,2342,2613,2872,3123,3485,3782,4201,4608,5032,5462,5859,6400,6869,7442,8008,8904,9558,10271,11148,11970,12935,13880,14923,16045,17075,18666,19694,20734,21814,23061,24237,25248,26351,27157,27793,28407,28907,29200,29396,29549,29614,29616]},\"selected\":{\"id\":\"16840\"},\"selection_policy\":{\"id\":\"16839\"}},\"id\":\"16751\",\"type\":\"ColumnDataSource\"},{\"attributes\":{},\"id\":\"16701\",\"type\":\"UnionRenderers\"},{\"attributes\":{\"line_alpha\":0.1,\"line_color\":\"#F98C09\",\"x\":{\"field\":\"x\"},\"y\":{\"field\":\"y\"}},\"id\":\"16569\",\"type\":\"Line\"},{\"attributes\":{\"source\":{\"id\":\"16664\"}},\"id\":\"16668\",\"type\":\"CDSView\"},{\"attributes\":{\"source\":{\"id\":\"16741\"}},\"id\":\"16745\",\"type\":\"CDSView\"},{\"attributes\":{\"data_source\":{\"id\":\"16664\"},\"glyph\":{\"id\":\"16665\"},\"hover_glyph\":null,\"muted_glyph\":null,\"nonselection_glyph\":{\"id\":\"16666\"},\"selection_glyph\":null,\"view\":{\"id\":\"16668\"}},\"id\":\"16667\",\"type\":\"GlyphRenderer\"},{\"attributes\":{\"data_source\":{\"id\":\"16741\"},\"glyph\":{\"id\":\"16742\"},\"hover_glyph\":null,\"muted_glyph\":null,\"nonselection_glyph\":{\"id\":\"16743\"},\"selection_glyph\":null,\"view\":{\"id\":\"16745\"}},\"id\":\"16744\",\"type\":\"GlyphRenderer\"},{\"attributes\":{\"line_alpha\":0.1,\"line_color\":\"#F2741C\",\"x\":{\"field\":\"x\"},\"y\":{\"field\":\"y\"}},\"id\":\"16621\",\"type\":\"Line\"},{\"attributes\":{\"source\":{\"id\":\"16746\"}},\"id\":\"16750\",\"type\":\"CDSView\"},{\"attributes\":{},\"id\":\"16495\",\"type\":\"YearsTicker\"},{\"attributes\":{\"data_source\":{\"id\":\"16751\"},\"glyph\":{\"id\":\"16752\"},\"hover_glyph\":null,\"muted_glyph\":null,\"nonselection_glyph\":{\"id\":\"16753\"},\"selection_glyph\":null,\"view\":{\"id\":\"16755\"}},\"id\":\"16754\",\"type\":\"GlyphRenderer\"},{\"attributes\":{\"data\":{\"x\":{\"__ndarray__\":\"AABAa4L3dkIAAMA2J/h2QgAAAMRE/nZCAABAI88Bd0IAAMAcBwV3QgAAgIJZBXdCAABA6KsFd0IAAMCzUAZ3QgAAgBmjBndCAABAf/UGd0IAAMBKmgd3QgAAgLDsB3dCAABAFj8Id0IAAAB8kQh3QgAAwOHjCHdCAACARzYJd0IAAECtiAl3QgAAABPbCXdCAADAeC0Kd0IAAIDefwp3QgAAQETSCndCAAAAqiQLd0IAAMAPdwt3QgAAgHXJC3dCAABA2xsMd0IAAABBbgx3QgAAwKbADHdCAACADBMNd0IAAEByZQ13QgAAANi3DXdCAADAPQoOd0IAAICjXA53QgAAQAmvDndCAAAAbwEPd0IAAMDUUw93QgAAgDqmD3dCAABAoPgPd0IAAAAGSxB3QgAAwGudEHdCAACA0e8Qd0IAAEA3QhF3QgAAAJ2UEXdCAADAAucRd0IAAIBoORJ3QgAAQM6LEndCAAAANN4Sd0IAAMCZMBN3QgAAgP+CE3dCAABAZdUTd0IAAADLJxR3QgAAwDB6FHdCAACAlswUd0IAAED8HhV3QgAAAGJxFXdCAADAx8MVd0IAAIAtFhZ3QgAAQJNoFndCAAAA+boWd0IAAMBeDRd3QgAAgMRfF3dCAABAKrIXd0IAAACQBBh3QgAAwPVWGHdCAACAW6kYd0IAAEDB+xh3QgAAACdOGXdCAADAjKAZd0I=\",\"dtype\":\"float64\",\"shape\":[67]},\"y\":[1,2,3,4,7,8,10,11,13,15,17,18,19,21,23,29,35,41,48,55,64,83,104,164,213,262,319,402,492,589,721,823,944,1047,1220,1343,1475,1677,1844,2027,2252,2508,2757,2999,3334,3626,4022,4413,4812,5214,5579,6060,6454,6926,7367,8016,8478,8918,9381,9742,10042,10247,10387,10474,10525,10537,10544]},\"selected\":{\"id\":\"16698\"},\"selection_policy\":{\"id\":\"16697\"}},\"id\":\"16572\",\"type\":\"ColumnDataSource\"},{\"attributes\":{\"line_color\":\"#F68012\",\"x\":{\"field\":\"x\"},\"y\":{\"field\":\"y\"}},\"id\":\"16573\",\"type\":\"Line\"},{\"attributes\":{\"label\":{\"value\":\"Casos por inicio de s\\u00edntomas al 12/04/2020\"},\"renderers\":[{\"id\":\"16503\"}]},\"id\":\"16526\",\"type\":\"LegendItem\"},{\"attributes\":{},\"id\":\"16697\",\"type\":\"UnionRenderers\"},{\"attributes\":{\"line_alpha\":0.1,\"line_color\":\"#ED6825\",\"x\":{\"field\":\"x\"},\"y\":{\"field\":\"y\"}},\"id\":\"16626\",\"type\":\"Line\"},{\"attributes\":{\"source\":{\"id\":\"16659\"}},\"id\":\"16663\",\"type\":\"CDSView\"},{\"attributes\":{\"source\":{\"id\":\"16736\"}},\"id\":\"16740\",\"type\":\"CDSView\"},{\"attributes\":{\"line_color\":\"#A42C60\",\"x\":{\"field\":\"x\"},\"y\":{\"field\":\"y\"}},\"id\":\"16665\",\"type\":\"Line\"},{\"attributes\":{\"line_color\":\"#83206B\",\"x\":{\"field\":\"x\"},\"y\":{\"field\":\"y\"}},\"id\":\"16742\",\"type\":\"Line\"},{\"attributes\":{\"months\":[0,6]},\"id\":\"16494\",\"type\":\"MonthsTicker\"},{\"attributes\":{\"source\":{\"id\":\"16572\"}},\"id\":\"16576\",\"type\":\"CDSView\"},{\"attributes\":{},\"id\":\"16587\",\"type\":\"UnionRenderers\"},{\"attributes\":{\"data\":{\"x\":{\"__ndarray__\":\"AADANif4dkIAAECZFfp2QgAAgMoM+3ZCAADAKZf+dkIAAED1O/92QgAAgL18AXdCAABAI88Bd0IAAMAcBwV3QgAAgIJZBXdCAABA6KsFd0IAAMCzUAZ3QgAAgBmjBndCAABAf/UGd0IAAMBKmgd3QgAAgLDsB3dCAABAFj8Id0IAAAB8kQh3QgAAwOHjCHdCAACARzYJd0IAAECtiAl3QgAAABPbCXdCAADAeC0Kd0IAAIDefwp3QgAAQETSCndCAAAAqiQLd0IAAMAPdwt3QgAAgHXJC3dCAABA2xsMd0IAAABBbgx3QgAAwKbADHdCAACADBMNd0IAAEByZQ13QgAAANi3DXdCAADAPQoOd0IAAICjXA53QgAAQAmvDndCAAAAbwEPd0IAAMDUUw93QgAAgDqmD3dCAABAoPgPd0IAAAAGSxB3QgAAwGudEHdCAACA0e8Qd0IAAEA3QhF3QgAAAJ2UEXdCAADAAucRd0IAAIBoORJ3QgAAQM6LEndCAAAANN4Sd0IAAMCZMBN3QgAAgP+CE3dCAABAZdUTd0IAAADLJxR3QgAAwDB6FHdCAACAlswUd0IAAED8HhV3QgAAAGJxFXdCAADAx8MVd0IAAIAtFhZ3QgAAQJNoFndCAAAA+boWd0IAAMBeDRd3QgAAgMRfF3dCAABAKrIXd0IAAACQBBh3QgAAwPVWGHdCAACAW6kYd0IAAEDB+xh3QgAAACdOGXdCAADAjKAZd0IAAIDy8hl3QgAAQFhFGndCAAAAvpcad0IAAMAj6hp3QgAAgIk8G3dCAABA744bd0IAAABV4Rt3QgAAwLozHHdCAACAIIYcd0IAAECG2Bx3QgAAAOwqHXdCAADAUX0dd0IAAIC3zx13QgAAQB0iHndCAAAAg3Qed0IAAMDoxh53Qg==\",\"dtype\":\"float64\",\"shape\":[86]},\"y\":[1,2,3,4,5,6,7,8,9,10,11,13,14,15,16,18,20,22,28,37,43,50,57,67,87,108,170,220,271,329,415,507,606,739,845,968,1077,1257,1383,1519,1737,1913,2110,2354,2627,2889,3144,3514,3815,4247,4661,5088,5527,5932,6476,6950,7535,8114,9021,9690,10408,11300,12140,13113,14063,15119,16255,17300,18930,19984,21052,22173,23474,24718,25797,27005,27922,28683,29460,30204,30652,30988,31302,31475,31519,31522]},\"selected\":{\"id\":\"16842\"},\"selection_policy\":{\"id\":\"16841\"}},\"id\":\"16756\",\"type\":\"ColumnDataSource\"},{\"attributes\":{\"line_alpha\":0.1,\"line_color\":\"#8E2468\",\"x\":{\"field\":\"x\"},\"y\":{\"field\":\"y\"}},\"id\":\"16738\",\"type\":\"Line\"},{\"attributes\":{\"line_color\":\"#60136E\",\"x\":{\"field\":\"x\"},\"y\":{\"field\":\"y\"}},\"id\":\"16757\",\"type\":\"Line\"},{\"attributes\":{\"data_source\":{\"id\":\"16572\"},\"glyph\":{\"id\":\"16573\"},\"hover_glyph\":null,\"muted_glyph\":null,\"nonselection_glyph\":{\"id\":\"16574\"},\"selection_glyph\":null,\"view\":{\"id\":\"16576\"}},\"id\":\"16575\",\"type\":\"GlyphRenderer\"},{\"attributes\":{\"line_color\":\"#550F6D\",\"x\":{\"field\":\"x\"},\"y\":{\"field\":\"y\"}},\"id\":\"16762\",\"type\":\"Line\"},{\"attributes\":{\"line_color\":\"#6B176E\",\"x\":{\"field\":\"x\"},\"y\":{\"field\":\"y\"}},\"id\":\"16752\",\"type\":\"Line\"},{\"attributes\":{\"data_source\":{\"id\":\"16567\"},\"glyph\":{\"id\":\"16568\"},\"hover_glyph\":null,\"muted_glyph\":null,\"nonselection_glyph\":{\"id\":\"16569\"},\"selection_glyph\":null,\"view\":{\"id\":\"16571\"}},\"id\":\"16570\",\"type\":\"GlyphRenderer\"},{\"attributes\":{\"data\":{\"x\":{\"__ndarray__\":\"AADANif4dkIAAECZFfp2QgAAgMoM+3ZCAADAKZf+dkIAAED1O/92QgAAgL18AXdCAABAI88Bd0IAAMAcBwV3QgAAgIJZBXdCAABA6KsFd0IAAMCzUAZ3QgAAgBmjBndCAABAf/UGd0IAAMBKmgd3QgAAgLDsB3dCAABAFj8Id0IAAAB8kQh3QgAAwOHjCHdCAACARzYJd0IAAECtiAl3QgAAABPbCXdCAADAeC0Kd0IAAIDefwp3QgAAQETSCndCAAAAqiQLd0IAAMAPdwt3QgAAgHXJC3dCAABA2xsMd0IAAABBbgx3QgAAwKbADHdCAACADBMNd0IAAEByZQ13QgAAANi3DXdCAADAPQoOd0IAAICjXA53QgAAQAmvDndCAAAAbwEPd0IAAMDUUw93QgAAgDqmD3dCAABAoPgPd0IAAAAGSxB3QgAAwGudEHdCAACA0e8Qd0IAAEA3QhF3QgAAAJ2UEXdCAADAAucRd0IAAIBoORJ3QgAAQM6LEndCAAAANN4Sd0IAAMCZMBN3QgAAgP+CE3dCAABAZdUTd0IAAADLJxR3QgAAwDB6FHdCAACAlswUd0IAAED8HhV3QgAAAGJxFXdCAADAx8MVd0IAAIAtFhZ3QgAAQJNoFndCAAAA+boWd0IAAMBeDRd3QgAAgMRfF3dCAABAKrIXd0IAAACQBBh3QgAAwPVWGHdCAACAW6kYd0IAAEDB+xh3QgAAACdOGXdCAADAjKAZd0IAAIDy8hl3QgAAQFhFGndCAAAAvpcad0IAAMAj6hp3QgAAgIk8G3dCAABA744bd0IAAABV4Rt3QgAAwLozHHdCAACAIIYcd0IAAECG2Bx3QgAAAOwqHXdCAADAUX0dd0IAAIC3zx13QgAAQB0iHndCAAAAg3Qed0IAAMDoxh53QgAAgE4ZH3dC\",\"dtype\":\"float64\",\"shape\":[87]},\"y\":[1,2,3,4,5,6,7,8,9,10,11,13,14,15,16,18,20,22,28,37,43,50,57,67,87,108,170,220,271,329,415,507,606,739,845,968,1077,1257,1383,1520,1739,1916,2116,2360,2634,2896,3151,3520,3822,4260,4678,5106,5545,5953,6501,6979,7572,8158,9073,9755,10488,11390,12249,13238,14205,15287,16459,17521,19201,20277,21383,22525,23870,25177,26303,27604,28641,29508,30450,31422,32044,32545,33012,33296,33417,33457,33460]},\"selected\":{\"id\":\"16844\"},\"selection_policy\":{\"id\":\"16843\"}},\"id\":\"16761\",\"type\":\"ColumnDataSource\"},{\"attributes\":{\"line_color\":\"#ED6825\",\"x\":{\"field\":\"x\"},\"y\":{\"field\":\"y\"}},\"id\":\"16625\",\"type\":\"Line\"},{\"attributes\":{\"line_color\":\"#992864\",\"x\":{\"field\":\"x\"},\"y\":{\"field\":\"y\"}},\"id\":\"16732\",\"type\":\"Line\"},{\"attributes\":{},\"id\":\"16698\",\"type\":\"Selection\"},{\"attributes\":{},\"id\":\"16699\",\"type\":\"UnionRenderers\"},{\"attributes\":{\"line_alpha\":0.1,\"line_color\":\"#6B176E\",\"x\":{\"field\":\"x\"},\"y\":{\"field\":\"y\"}},\"id\":\"16753\",\"type\":\"Line\"},{\"attributes\":{\"line_color\":\"#F2741C\",\"x\":{\"field\":\"x\"},\"y\":{\"field\":\"y\"}},\"id\":\"16620\",\"type\":\"Line\"},{\"attributes\":{\"data_source\":{\"id\":\"16731\"},\"glyph\":{\"id\":\"16732\"},\"hover_glyph\":null,\"muted_glyph\":null,\"nonselection_glyph\":{\"id\":\"16733\"},\"selection_glyph\":null,\"view\":{\"id\":\"16735\"}},\"id\":\"16734\",\"type\":\"GlyphRenderer\"},{\"attributes\":{\"data_source\":{\"id\":\"16746\"},\"glyph\":{\"id\":\"16747\"},\"hover_glyph\":null,\"muted_glyph\":null,\"nonselection_glyph\":{\"id\":\"16748\"},\"selection_glyph\":null,\"view\":{\"id\":\"16750\"}},\"id\":\"16749\",\"type\":\"GlyphRenderer\"},{\"attributes\":{\"source\":{\"id\":\"16756\"}},\"id\":\"16760\",\"type\":\"CDSView\"},{\"attributes\":{},\"id\":\"16586\",\"type\":\"Selection\"},{\"attributes\":{\"data\":{\"x\":{\"__ndarray__\":\"AABAa4L3dkIAAECZFfp2QgAAAP9n+nZCAACAygz7dkIAAIC9fAF3QgAAQCPPAXdCAADAHAcFd0IAAICCWQV3QgAAQOirBXdCAADAs1AGd0IAAIAZowZ3QgAAQH/1BndCAADASpoHd0IAAICw7Ad3QgAAQBY/CHdCAAAAfJEId0IAAMDh4wh3QgAAgEc2CXdCAABArYgJd0IAAAAT2wl3QgAAwHgtCndCAACA3n8Kd0IAAEBE0gp3QgAAAKokC3dCAADAD3cLd0IAAIB1yQt3QgAAQNsbDHdCAAAAQW4Md0IAAMCmwAx3QgAAgAwTDXdCAABAcmUNd0IAAADYtw13QgAAwD0KDndCAACAo1wOd0IAAEAJrw53QgAAAG8BD3dCAADA1FMPd0IAAIA6pg93QgAAQKD4D3dCAAAABksQd0IAAMBrnRB3QgAAgNHvEHdCAABAN0IRd0IAAACdlBF3QgAAwALnEXdCAACAaDkSd0IAAEDOixJ3QgAAADTeEndCAADAmTATd0IAAID/ghN3QgAAQGXVE3dCAAAAyycUd0IAAMAwehR3QgAAgJbMFHdCAABA/B4Vd0IAAABicRV3QgAAwMfDFXdCAACALRYWd0IAAECTaBZ3QgAAAPm6FndCAADAXg0Xd0IAAIDEXxd3QgAAQCqyF3dCAAAAkAQYd0IAAMD1Vhh3QgAAgFupGHdCAABAwfsYd0IAAAAnThl3QgAAwIygGXdCAACA8vIZd0IAAEBYRRp3QgAAAL6XGndCAADAI+oad0IAAICJPBt3QgAAQO+OG3dCAAAAVeEbd0IAAMC6Mxx3QgAAgCCGHHdCAABAhtgcd0IAAADsKh13Qg==\",\"dtype\":\"float64\",\"shape\":[80]},\"y\":[1,2,3,4,5,7,8,9,10,11,13,15,17,18,20,22,24,30,38,44,51,58,67,86,107,169,219,270,327,412,504,602,733,838,960,1065,1240,1364,1495,1706,1876,2066,2305,2573,2831,3081,3437,3736,4152,4555,4981,5413,5813,6352,6822,7393,7958,8838,9489,10187,11038,11821,12742,13636,14599,15633,16538,17927,18785,19609,20419,21259,21953,22506,22975,23261,23404,23466,23470,23471]},\"selected\":{\"id\":\"16832\"},\"selection_policy\":{\"id\":\"16831\"}},\"id\":\"16731\",\"type\":\"ColumnDataSource\"},{\"attributes\":{\"data\":{\"x\":{\"__ndarray__\":\"AADANif4dkIAAECZFfp2QgAAAP9n+nZCAACAygz7dkIAAIC9fAF3QgAAQCPPAXdCAADAHAcFd0IAAICCWQV3QgAAQOirBXdCAADAs1AGd0IAAIAZowZ3QgAAQH/1BndCAADASpoHd0IAAICw7Ad3QgAAQBY/CHdCAAAAfJEId0IAAMDh4wh3QgAAgEc2CXdCAABArYgJd0IAAAAT2wl3QgAAwHgtCndCAACA3n8Kd0IAAEBE0gp3QgAAAKokC3dCAADAD3cLd0IAAIB1yQt3QgAAQNsbDHdCAAAAQW4Md0IAAMCmwAx3QgAAgAwTDXdCAABAcmUNd0IAAADYtw13QgAAwD0KDndCAACAo1wOd0IAAEAJrw53QgAAAG8BD3dCAADA1FMPd0IAAIA6pg93QgAAQKD4D3dCAAAABksQd0IAAMBrnRB3QgAAgNHvEHdCAABAN0IRd0IAAACdlBF3QgAAwALnEXdCAACAaDkSd0IAAEDOixJ3QgAAADTeEndCAADAmTATd0IAAID/ghN3QgAAQGXVE3dCAAAAyycUd0IAAMAwehR3QgAAgJbMFHdCAABA/B4Vd0IAAABicRV3QgAAwMfDFXdCAACALRYWd0IAAECTaBZ3QgAAAPm6FndCAADAXg0Xd0IAAIDEXxd3QgAAQCqyF3dCAAAAkAQYd0IAAMD1Vhh3QgAAgFupGHdCAABAwfsYd0IAAAAnThl3QgAAwIygGXdCAACA8vIZd0IAAEBYRRp3QgAAAL6XGndCAADAI+oad0IAAICJPBt3QgAAQO+OG3dCAAAAVeEbd0IAAMC6Mxx3QgAAgCCGHHdCAABAhtgcd0IAAADsKh13QgAAwFF9HXdCAACAt88dd0IAAEAdIh53Qg==\",\"dtype\":\"float64\",\"shape\":[83]},\"y\":[1,2,3,4,5,6,7,8,9,10,12,14,16,17,19,21,23,29,37,43,50,57,66,85,106,168,218,269,327,413,505,603,734,840,962,1067,1243,1367,1500,1709,1881,2072,2311,2580,2838,3087,3445,3742,4156,4559,4982,5410,5805,6342,6811,7384,7949,8837,9490,10202,11078,11891,12851,13793,14821,15933,16939,18497,19492,20485,21512,22672,23731,24614,25558,26216,26705,27105,27376,27515,27586,27625,27634]},\"selected\":{\"id\":\"16838\"},\"selection_policy\":{\"id\":\"16837\"}},\"id\":\"16746\",\"type\":\"ColumnDataSource\"},{\"attributes\":{\"line_alpha\":0.1,\"line_color\":\"#A42C60\",\"x\":{\"field\":\"x\"},\"y\":{\"field\":\"y\"}},\"id\":\"16666\",\"type\":\"Line\"},{\"attributes\":{\"line_alpha\":0.1,\"line_color\":\"#83206B\",\"x\":{\"field\":\"x\"},\"y\":{\"field\":\"y\"}},\"id\":\"16743\",\"type\":\"Line\"},{\"attributes\":{},\"id\":\"16585\",\"type\":\"UnionRenderers\"},{\"attributes\":{},\"id\":\"16703\",\"type\":\"UnionRenderers\"},{\"attributes\":{\"line_alpha\":0.1,\"line_color\":\"#F68012\",\"x\":{\"field\":\"x\"},\"y\":{\"field\":\"y\"}},\"id\":\"16574\",\"type\":\"Line\"},{\"attributes\":{\"line_color\":\"#781C6D\",\"x\":{\"field\":\"x\"},\"y\":{\"field\":\"y\"}},\"id\":\"16747\",\"type\":\"Line\"},{\"attributes\":{},\"id\":\"16700\",\"type\":\"Selection\"},{\"attributes\":{},\"id\":\"16702\",\"type\":\"Selection\"},{\"attributes\":{\"data_source\":{\"id\":\"16619\"},\"glyph\":{\"id\":\"16620\"},\"hover_glyph\":null,\"muted_glyph\":null,\"nonselection_glyph\":{\"id\":\"16621\"},\"selection_glyph\":null,\"view\":{\"id\":\"16623\"}},\"id\":\"16622\",\"type\":\"GlyphRenderer\"},{\"attributes\":{\"data_source\":{\"id\":\"16756\"},\"glyph\":{\"id\":\"16757\"},\"hover_glyph\":null,\"muted_glyph\":null,\"nonselection_glyph\":{\"id\":\"16758\"},\"selection_glyph\":null,\"view\":{\"id\":\"16760\"}},\"id\":\"16759\",\"type\":\"GlyphRenderer\"},{\"attributes\":{\"data\":{\"x\":{\"__ndarray__\":\"AABAa4L3dkIAAMA2J/h2QgAAgMoM+3ZCAACAvXwBd0IAAEAjzwF3QgAAwBwHBXdCAACAglkFd0IAAEDoqwV3QgAAwLNQBndCAACAGaMGd0IAAEB/9QZ3QgAAwEqaB3dCAACAsOwHd0IAAEAWPwh3QgAAAHyRCHdCAADA4eMId0IAAIBHNgl3QgAAQK2ICXdCAAAAE9sJd0IAAMB4LQp3QgAAgN5/CndCAABARNIKd0IAAACqJAt3QgAAwA93C3dCAACAdckLd0IAAEDbGwx3QgAAAEFuDHdCAADApsAMd0IAAIAMEw13QgAAQHJlDXdCAAAA2LcNd0IAAMA9Cg53QgAAgKNcDndCAABACa8Od0IAAABvAQ93QgAAwNRTD3dCAACAOqYPd0IAAECg+A93QgAAAAZLEHdCAADAa50Qd0IAAIDR7xB3QgAAQDdCEXdCAAAAnZQRd0IAAMAC5xF3QgAAgGg5EndCAABAzosSd0IAAAA03hJ3QgAAwJkwE3dCAACA/4ITd0IAAEBl1RN3QgAAAMsnFHdCAADAMHoUd0IAAICWzBR3QgAAQPweFXdCAAAAYnEVd0IAAMDHwxV3QgAAgC0WFndCAABAk2gWd0IAAAD5uhZ3QgAAwF4NF3dCAACAxF8Xd0IAAEAqshd3QgAAAJAEGHdCAADA9VYYd0IAAIBbqRh3QgAAQMH7GHdCAAAAJ04Zd0IAAMCMoBl3QgAAgPLyGXdC\",\"dtype\":\"float64\",\"shape\":[69]},\"y\":[1,2,3,4,6,9,10,12,13,15,17,19,20,21,23,25,31,37,43,50,57,66,85,106,166,214,263,320,403,493,589,720,821,942,1045,1219,1341,1473,1675,1839,2023,2249,2508,2757,3000,3342,3633,4030,4423,4827,5238,5613,6113,6532,7031,7506,8218,8730,9221,9773,10232,10649,10980,11241,11439,11557,11606,11628,11633]},\"selected\":{\"id\":\"16700\"},\"selection_policy\":{\"id\":\"16699\"}},\"id\":\"16619\",\"type\":\"ColumnDataSource\"},{\"attributes\":{\"line_alpha\":0.1,\"line_color\":\"#60136E\",\"x\":{\"field\":\"x\"},\"y\":{\"field\":\"y\"}},\"id\":\"16758\",\"type\":\"Line\"},{\"attributes\":{},\"id\":\"16588\",\"type\":\"Selection\"},{\"attributes\":{},\"id\":\"16704\",\"type\":\"Selection\"},{\"attributes\":{},\"id\":\"16591\",\"type\":\"UnionRenderers\"},{\"attributes\":{},\"id\":\"16707\",\"type\":\"UnionRenderers\"},{\"attributes\":{},\"id\":\"16589\",\"type\":\"UnionRenderers\"},{\"attributes\":{},\"id\":\"16705\",\"type\":\"UnionRenderers\"},{\"attributes\":{},\"id\":\"16590\",\"type\":\"Selection\"},{\"attributes\":{},\"id\":\"16706\",\"type\":\"Selection\"},{\"attributes\":{},\"id\":\"16444\",\"type\":\"DataRange1d\"},{\"attributes\":{},\"id\":\"16593\",\"type\":\"UnionRenderers\"},{\"attributes\":{},\"id\":\"16709\",\"type\":\"UnionRenderers\"},{\"attributes\":{},\"id\":\"16592\",\"type\":\"Selection\"},{\"attributes\":{},\"id\":\"16708\",\"type\":\"Selection\"},{\"attributes\":{},\"id\":\"16446\",\"type\":\"LinearScale\"},{\"attributes\":{},\"id\":\"16595\",\"type\":\"UnionRenderers\"},{\"attributes\":{},\"id\":\"16711\",\"type\":\"UnionRenderers\"},{\"attributes\":{},\"id\":\"16594\",\"type\":\"Selection\"},{\"attributes\":{\"end\":1589846400000.0,\"start\":1586390400000.0},\"id\":\"16442\",\"type\":\"Range1d\"},{\"attributes\":{},\"id\":\"16710\",\"type\":\"Selection\"},{\"attributes\":{},\"id\":\"16597\",\"type\":\"UnionRenderers\"},{\"attributes\":{},\"id\":\"16713\",\"type\":\"UnionRenderers\"},{\"attributes\":{},\"id\":\"16596\",\"type\":\"Selection\"},{\"attributes\":{},\"id\":\"16712\",\"type\":\"Selection\"},{\"attributes\":{\"axis_label\":\"Fecha\",\"formatter\":{\"id\":\"16481\"},\"ticker\":{\"id\":\"16451\"}},\"id\":\"16450\",\"type\":\"DatetimeAxis\"},{\"attributes\":{},\"id\":\"16599\",\"type\":\"UnionRenderers\"},{\"attributes\":{},\"id\":\"16715\",\"type\":\"UnionRenderers\"},{\"attributes\":{},\"id\":\"16448\",\"type\":\"LinearScale\"},{\"attributes\":{},\"id\":\"16598\",\"type\":\"Selection\"},{\"attributes\":{},\"id\":\"16714\",\"type\":\"Selection\"},{\"attributes\":{},\"id\":\"16601\",\"type\":\"UnionRenderers\"},{\"attributes\":{\"num_minor_ticks\":5,\"tickers\":[{\"id\":\"16484\"},{\"id\":\"16485\"},{\"id\":\"16486\"},{\"id\":\"16487\"},{\"id\":\"16488\"},{\"id\":\"16489\"},{\"id\":\"16490\"},{\"id\":\"16491\"},{\"id\":\"16492\"},{\"id\":\"16493\"},{\"id\":\"16494\"},{\"id\":\"16495\"}]},\"id\":\"16451\",\"type\":\"DatetimeTicker\"},{\"attributes\":{},\"id\":\"16600\",\"type\":\"Selection\"},{\"attributes\":{},\"id\":\"16455\",\"type\":\"BasicTicker\"},{\"attributes\":{},\"id\":\"16716\",\"type\":\"Selection\"},{\"attributes\":{\"axis_label\":\"Casos confirmados\",\"formatter\":{\"id\":\"16479\"},\"ticker\":{\"id\":\"16455\"}},\"id\":\"16454\",\"type\":\"LinearAxis\"},{\"attributes\":{},\"id\":\"16603\",\"type\":\"UnionRenderers\"},{\"attributes\":{\"axis\":{\"id\":\"16450\"},\"ticker\":null},\"id\":\"16453\",\"type\":\"Grid\"},{\"attributes\":{},\"id\":\"16602\",\"type\":\"Selection\"},{\"attributes\":{\"data\":{\"x\":{\"__ndarray__\":\"AADANif4dkIAAECZFfp2QgAAAP9n+nZCAACAygz7dkIAAIC9fAF3QgAAQCPPAXdCAADAHAcFd0IAAICCWQV3QgAAQOirBXdCAADAs1AGd0IAAIAZowZ3QgAAQH/1BndCAADASpoHd0IAAICw7Ad3QgAAQBY/CHdCAAAAfJEId0IAAMDh4wh3QgAAgEc2CXdCAABArYgJd0IAAAAT2wl3QgAAwHgtCndCAACA3n8Kd0IAAEBE0gp3QgAAAKokC3dCAADAD3cLd0IAAIB1yQt3QgAAQNsbDHdCAAAAQW4Md0IAAMCmwAx3QgAAgAwTDXdCAABAcmUNd0IAAADYtw13QgAAwD0KDndCAACAo1wOd0IAAEAJrw53QgAAAG8BD3dCAADA1FMPd0IAAIA6pg93QgAAQKD4D3dCAAAABksQd0IAAMBrnRB3QgAAgNHvEHdCAABAN0IRd0IAAACdlBF3QgAAwALnEXdCAACAaDkSd0IAAEDOixJ3QgAAADTeEndCAADAmTATd0IAAID/ghN3QgAAQGXVE3dCAAAAyycUd0IAAMAwehR3QgAAgJbMFHdCAABA/B4Vd0IAAABicRV3QgAAwMfDFXdCAACALRYWd0IAAECTaBZ3QgAAAPm6FndCAADAXg0Xd0IAAIDEXxd3QgAAQCqyF3dCAAAAkAQYd0IAAMD1Vhh3QgAAgFupGHdCAABAwfsYd0IAAAAnThl3QgAAwIygGXdCAACA8vIZd0IAAEBYRRp3QgAAAL6XGndCAADAI+oad0IAAICJPBt3QgAAQO+OG3dCAAAAVeEbd0IAAMC6Mxx3QgAAgCCGHHdCAABAhtgcd0IAAADsKh13QgAAwFF9HXdCAACAt88dd0I=\",\"dtype\":\"float64\",\"shape\":[82]},\"y\":[1,2,3,4,5,6,7,8,9,10,12,14,16,17,19,21,23,29,37,43,50,57,66,85,106,168,218,269,327,413,505,603,734,839,961,1066,1241,1365,1496,1707,1878,2069,2309,2579,2837,3086,3443,3741,4154,4557,4980,5409,5805,6341,6809,7382,7946,8832,9487,10197,11069,11875,12825,13751,14766,15859,16840,18349,19317,20256,21222,22284,23206,23970,24737,25262,25607,25847,25954,26011,26024,26025]},\"selected\":{\"id\":\"16836\"},\"selection_policy\":{\"id\":\"16835\"}},\"id\":\"16741\",\"type\":\"ColumnDataSource\"},{\"attributes\":{},\"id\":\"16604\",\"type\":\"Selection\"},{\"attributes\":{\"axis\":{\"id\":\"16454\"},\"dimension\":1,\"ticker\":null},\"id\":\"16457\",\"type\":\"Grid\"},{\"attributes\":{\"data\":{\"x\":{\"__ndarray__\":\"AABAa4L3dkIAAMA2J/h2QgAAgMoM+3ZCAACAvXwBd0IAAEAjzwF3QgAAgOsPBHdCAADAHAcFd0IAAICCWQV3QgAAQOirBXdCAADAs1AGd0IAAIAZowZ3QgAAQH/1BndCAADASpoHd0IAAICw7Ad3QgAAQBY/CHdCAAAAfJEId0IAAMDh4wh3QgAAgEc2CXdCAABArYgJd0IAAAAT2wl3QgAAwHgtCndCAACA3n8Kd0IAAEBE0gp3QgAAAKokC3dCAADAD3cLd0IAAIB1yQt3QgAAQNsbDHdCAAAAQW4Md0IAAMCmwAx3QgAAgAwTDXdCAABAcmUNd0IAAADYtw13QgAAwD0KDndCAACAo1wOd0IAAEAJrw53QgAAAG8BD3dCAADA1FMPd0IAAIA6pg93QgAAQKD4D3dCAAAABksQd0IAAMBrnRB3QgAAgNHvEHdCAABAN0IRd0IAAACdlBF3QgAAwALnEXdCAACAaDkSd0IAAEDOixJ3QgAAADTeEndCAADAmTATd0IAAID/ghN3QgAAQGXVE3dCAAAAyycUd0IAAMAwehR3QgAAgJbMFHdCAABA/B4Vd0IAAABicRV3QgAAwMfDFXdCAACALRYWd0IAAECTaBZ3QgAAAPm6FndCAADAXg0Xd0IAAIDEXxd3QgAAQCqyF3dCAAAAkAQYd0IAAMD1Vhh3QgAAgFupGHdCAABAwfsYd0IAAAAnThl3QgAAwIygGXdCAACA8vIZd0IAAEBYRRp3QgAAAL6XGndC\",\"dtype\":\"float64\",\"shape\":[72]},\"y\":[1,2,3,4,6,7,9,10,12,13,15,17,19,20,21,23,25,31,39,45,52,59,68,87,108,168,216,266,323,407,499,595,727,828,949,1053,1229,1353,1484,1686,1852,2037,2267,2528,2782,3025,3372,3664,4070,4466,4874,5290,5674,6185,6631,7167,7685,8473,9044,9624,10322,10903,11507,12071,12583,13058,13381,13621,13750,13811,13841,13842]},\"selected\":{\"id\":\"16704\"},\"selection_policy\":{\"id\":\"16703\"}},\"id\":\"16629\",\"type\":\"ColumnDataSource\"},{\"attributes\":{\"overlay\":{\"id\":\"16464\"}},\"id\":\"16460\",\"type\":\"BoxZoomTool\"},{\"attributes\":{},\"id\":\"16459\",\"type\":\"WheelZoomTool\"},{\"attributes\":{},\"id\":\"16458\",\"type\":\"PanTool\"},{\"attributes\":{\"data\":{\"x\":{\"__ndarray__\":\"AABAa4L3dkIAAMA2J/h2QgAAgMoM+3ZCAACAvXwBd0IAAEAjzwF3QgAAgOsPBHdCAADAHAcFd0IAAICCWQV3QgAAQOirBXdCAADAs1AGd0IAAIAZowZ3QgAAQH/1BndCAADASpoHd0IAAICw7Ad3QgAAQBY/CHdCAAAAfJEId0IAAMDh4wh3QgAAgEc2CXdCAABArYgJd0IAAAAT2wl3QgAAwHgtCndCAACA3n8Kd0IAAEBE0gp3QgAAAKokC3dCAADAD3cLd0IAAIB1yQt3QgAAQNsbDHdCAAAAQW4Md0IAAMCmwAx3QgAAgAwTDXdCAABAcmUNd0IAAADYtw13QgAAwD0KDndCAACAo1wOd0IAAEAJrw53QgAAAG8BD3dCAADA1FMPd0IAAIA6pg93QgAAQKD4D3dCAAAABksQd0IAAMBrnRB3QgAAgNHvEHdCAABAN0IRd0IAAACdlBF3QgAAwALnEXdCAACAaDkSd0IAAEDOixJ3QgAAADTeEndCAADAmTATd0IAAID/ghN3QgAAQGXVE3dCAAAAyycUd0IAAMAwehR3QgAAgJbMFHdCAABA/B4Vd0IAAABicRV3QgAAwMfDFXdCAACALRYWd0IAAECTaBZ3QgAAAPm6FndCAADAXg0Xd0IAAIDEXxd3QgAAQCqyF3dCAAAAkAQYd0IAAMD1Vhh3QgAAgFupGHdCAABAwfsYd0IAAAAnThl3QgAAwIygGXdCAACA8vIZd0IAAEBYRRp3Qg==\",\"dtype\":\"float64\",\"shape\":[71]},\"y\":[1,2,3,4,6,7,9,10,12,13,15,17,19,20,21,23,25,31,38,44,51,58,67,86,107,167,215,264,321,404,494,590,721,822,943,1046,1221,1343,1473,1675,1839,2023,2251,2512,2761,3003,3348,3640,4041,4436,4842,5259,5639,6147,6585,7107,7612,8370,8920,9478,10122,10666,11193,11663,12063,12399,12620,12762,12827,12863,12872]},\"selected\":{\"id\":\"16702\"},\"selection_policy\":{\"id\":\"16701\"}},\"id\":\"16624\",\"type\":\"ColumnDataSource\"},{\"attributes\":{},\"id\":\"16463\",\"type\":\"HelpTool\"},{\"attributes\":{},\"id\":\"16461\",\"type\":\"SaveTool\"},{\"attributes\":{\"source\":{\"id\":\"16731\"}},\"id\":\"16735\",\"type\":\"CDSView\"},{\"attributes\":{},\"id\":\"16462\",\"type\":\"ResetTool\"},{\"attributes\":{\"line_alpha\":0.1,\"line_color\":\"#781C6D\",\"x\":{\"field\":\"x\"},\"y\":{\"field\":\"y\"}},\"id\":\"16748\",\"type\":\"Line\"},{\"attributes\":{\"source\":{\"id\":\"16619\"}},\"id\":\"16623\",\"type\":\"CDSView\"},{\"attributes\":{\"months\":[0,4,8]},\"id\":\"16493\",\"type\":\"MonthsTicker\"},{\"attributes\":{\"line_color\":\"#8E2468\",\"x\":{\"field\":\"x\"},\"y\":{\"field\":\"y\"}},\"id\":\"16737\",\"type\":\"Line\"},{\"attributes\":{\"data\":{\"x\":{\"__ndarray__\":\"AABAa4L3dkIAAMA2J/h2QgAAQJkV+nZCAAAA/2f6dkIAAIDKDPt2QgAAgPif/XZCAACAvXwBd0IAAEAjzwF3QgAAwBwHBXdCAACAglkFd0IAAEDoqwV3QgAAwLNQBndCAACAGaMGd0IAAEB/9QZ3QgAAwEqaB3dCAACAsOwHd0IAAEAWPwh3QgAAAHyRCHdCAADA4eMId0IAAIBHNgl3QgAAQK2ICXdCAAAAE9sJd0IAAMB4LQp3QgAAgN5/CndCAABARNIKd0IAAACqJAt3QgAAwA93C3dCAACAdckLd0IAAEDbGwx3QgAAAEFuDHdCAADApsAMd0IAAIAMEw13QgAAQHJlDXdCAAAA2LcNd0IAAMA9Cg53QgAAgKNcDndCAABACa8Od0IAAABvAQ93QgAAwNRTD3dCAACAOqYPd0IAAECg+A93QgAAAAZLEHdCAADAa50Qd0IAAIDR7xB3QgAAQDdCEXdCAAAAnZQRd0IAAMAC5xF3QgAAgGg5EndCAABAzosSd0IAAAA03hJ3QgAAwJkwE3dCAACA/4ITd0IAAEBl1RN3QgAAAMsnFHdCAADAMHoUd0IAAICWzBR3QgAAQPweFXdCAAAAYnEVd0IAAMDHwxV3QgAAgC0WFndCAABAk2gWd0IAAAD5uhZ3QgAAwF4NF3dCAACAxF8Xd0IAAEAqshd3QgAAAJAEGHdCAADA9VYYd0IAAIBbqRh3QgAAQMH7GHdCAAAAJ04Zd0IAAMCMoBl3QgAAgPLyGXdCAABAWEUad0IAAAC+lxp3QgAAwCPqGndCAACAiTwbd0IAAEDvjht3QgAAAFXhG3dCAADAujMcd0IAAIAghhx3QgAAQIbYHHdCAAAA7Codd0IAAMBRfR13Qg==\",\"dtype\":\"float64\",\"shape\":[83]},\"y\":[1,2,3,4,5,6,7,9,10,11,12,13,15,17,19,20,22,24,26,32,40,46,53,60,69,88,109,171,221,272,330,415,507,605,736,841,963,1068,1243,1367,1498,1709,1880,2071,2310,2579,2837,3086,3443,3741,4154,4556,4979,5407,5805,6341,6811,7385,7954,8844,9499,10204,11070,11869,12813,13733,14728,15798,16752,18209,19122,20005,20910,21887,22706,23393,24054,24463,24702,24840,24888,24904,24905]},\"selected\":{\"id\":\"16834\"},\"selection_policy\":{\"id\":\"16833\"}},\"id\":\"16736\",\"type\":\"ColumnDataSource\"},{\"attributes\":{\"label\":{\"value\":\"Casos por inicio de s\\u00edntomas al 02/05/2020\"},\"renderers\":[{\"id\":\"16667\"}]},\"id\":\"16730\",\"type\":\"LegendItem\"},{\"attributes\":{\"months\":[0,2,4,6,8,10]},\"id\":\"16492\",\"type\":\"MonthsTicker\"},{\"attributes\":{\"months\":[0,1,2,3,4,5,6,7,8,9,10,11]},\"id\":\"16491\",\"type\":\"MonthsTicker\"},{\"attributes\":{\"data_source\":{\"id\":\"16878\"},\"glyph\":{\"id\":\"16879\"},\"hover_glyph\":null,\"muted_glyph\":null,\"nonselection_glyph\":{\"id\":\"16880\"},\"selection_glyph\":null,\"view\":{\"id\":\"16882\"}},\"id\":\"16881\",\"type\":\"GlyphRenderer\"},{\"attributes\":{\"source\":{\"id\":\"16644\"}},\"id\":\"16648\",\"type\":\"CDSView\"},{\"attributes\":{\"line_alpha\":0.1,\"line_color\":\"#000003\",\"x\":{\"field\":\"x\"},\"y\":{\"field\":\"y\"}},\"id\":\"16890\",\"type\":\"Line\"},{\"attributes\":{\"source\":{\"id\":\"16639\"}},\"id\":\"16643\",\"type\":\"CDSView\"},{\"attributes\":{\"source\":{\"id\":\"16878\"}},\"id\":\"16882\",\"type\":\"CDSView\"},{\"attributes\":{\"line_color\":\"#020210\",\"x\":{\"field\":\"x\"},\"y\":{\"field\":\"y\"}},\"id\":\"16884\",\"type\":\"Line\"},{\"attributes\":{\"source\":{\"id\":\"16634\"}},\"id\":\"16638\",\"type\":\"CDSView\"},{\"attributes\":{\"data\":{\"x\":{\"__ndarray__\":\"AABAa4L3dkIAAMA2J/h2QgAAQJkV+nZCAACAygz7dkIAAIC9fAF3QgAAQCPPAXdCAACA6w8Ed0IAAMAcBwV3QgAAgIJZBXdCAABA6KsFd0IAAMCzUAZ3QgAAgBmjBndCAABAf/UGd0IAAMBKmgd3QgAAgLDsB3dCAABAFj8Id0IAAAB8kQh3QgAAwOHjCHdCAACARzYJd0IAAECtiAl3QgAAABPbCXdCAADAeC0Kd0IAAIDefwp3QgAAQETSCndCAAAAqiQLd0IAAMAPdwt3QgAAgHXJC3dCAABA2xsMd0IAAABBbgx3QgAAwKbADHdCAACADBMNd0IAAEByZQ13QgAAANi3DXdCAADAPQoOd0IAAICjXA53QgAAQAmvDndCAAAAbwEPd0IAAMDUUw93QgAAgDqmD3dCAABAoPgPd0IAAAAGSxB3QgAAwGudEHdCAACA0e8Qd0IAAEA3QhF3QgAAAJ2UEXdCAADAAucRd0IAAIBoORJ3QgAAQM6LEndCAAAANN4Sd0IAAMCZMBN3QgAAgP+CE3dCAABAZdUTd0IAAADLJxR3QgAAwDB6FHdCAACAlswUd0IAAED8HhV3QgAAAGJxFXdCAADAx8MVd0IAAIAtFhZ3QgAAQJNoFndCAAAA+boWd0IAAMBeDRd3QgAAgMRfF3dCAABAKrIXd0IAAACQBBh3QgAAwPVWGHdCAACAW6kYd0IAAEDB+xh3QgAAACdOGXdCAADAjKAZd0IAAIDy8hl3QgAAQFhFGndCAAAAvpcad0IAAMAj6hp3QgAAgIk8G3dCAABA744bd0IAAABV4Rt3Qg==\",\"dtype\":\"float64\",\"shape\":[77]},\"y\":[1,2,3,4,5,7,8,10,11,13,14,16,18,20,21,23,25,27,33,41,47,54,61,70,89,110,172,220,271,328,413,505,602,733,835,956,1060,1235,1359,1490,1699,1866,2051,2287,2551,2807,3049,3400,3695,4106,4506,4922,5345,5739,6269,6730,7295,7844,8703,9334,9996,10811,11539,12355,13156,13958,14805,15472,16314,16765,17132,17401,17600,17719,17778,17798,17799]},\"selected\":{\"id\":\"16712\"},\"selection_policy\":{\"id\":\"16711\"}},\"id\":\"16649\",\"type\":\"ColumnDataSource\"},{\"attributes\":{\"data\":{\"x\":{\"__ndarray__\":\"AABAa4L3dkIAAMA2J/h2QgAAQJkV+nZCAACAygz7dkIAAIC9fAF3QgAAQCPPAXdCAADAHAcFd0IAAICCWQV3QgAAQOirBXdCAADAs1AGd0IAAIAZowZ3QgAAQH/1BndCAADASpoHd0IAAICw7Ad3QgAAQBY/CHdCAAAAfJEId0IAAMDh4wh3QgAAgEc2CXdCAABArYgJd0IAAAAT2wl3QgAAwHgtCndCAACA3n8Kd0IAAEBE0gp3QgAAAKokC3dCAADAD3cLd0IAAIB1yQt3QgAAQNsbDHdCAAAAQW4Md0IAAMCmwAx3QgAAgAwTDXdCAABAcmUNd0IAAADYtw13QgAAwD0KDndCAACAo1wOd0IAAEAJrw53QgAAAG8BD3dCAADA1FMPd0IAAIA6pg93QgAAQKD4D3dCAAAABksQd0IAAMBrnRB3QgAAgNHvEHdCAABAN0IRd0IAAACdlBF3QgAAwALnEXdCAACAaDkSd0IAAEDOixJ3QgAAADTeEndCAADAmTATd0IAAID/ghN3QgAAQGXVE3dCAAAAyycUd0IAAMAwehR3QgAAgJbMFHdCAABA/B4Vd0IAAABicRV3QgAAwMfDFXdCAACALRYWd0IAAECTaBZ3QgAAAPm6FndCAADAXg0Xd0IAAIDEXxd3QgAAQCqyF3dCAAAAkAQYd0IAAMD1Vhh3QgAAgFupGHdCAABAwfsYd0IAAAAnThl3QgAAwIygGXdCAACA8vIZd0IAAEBYRRp3QgAAAL6XGndCAADAI+oad0IAAICJPBt3QgAAQO+OG3dCAAAAVeEbd0IAAMC6Mxx3Qg==\",\"dtype\":\"float64\",\"shape\":[77]},\"y\":[1,2,3,4,5,7,8,9,10,11,13,15,17,18,20,22,24,30,38,44,51,58,67,86,107,169,217,268,325,410,502,599,729,832,953,1056,1232,1356,1487,1696,1865,2050,2286,2550,2807,3050,3400,3696,4109,4510,4927,5350,5745,6276,6739,7307,7861,8727,9367,10040,10867,11621,12473,13312,14176,15099,15841,16834,17425,17924,18346,18729,18960,19122,19204,19222,19224]},\"selected\":{\"id\":\"16714\"},\"selection_policy\":{\"id\":\"16713\"}},\"id\":\"16654\",\"type\":\"ColumnDataSource\"},{\"attributes\":{\"source\":{\"id\":\"16883\"}},\"id\":\"16887\",\"type\":\"CDSView\"},{\"attributes\":{\"data_source\":{\"id\":\"16639\"},\"glyph\":{\"id\":\"16640\"},\"hover_glyph\":null,\"muted_glyph\":null,\"nonselection_glyph\":{\"id\":\"16641\"},\"selection_glyph\":null,\"view\":{\"id\":\"16643\"}},\"id\":\"16642\",\"type\":\"GlyphRenderer\"},{\"attributes\":{\"data\":{\"x\":{\"__ndarray__\":\"AABAa4L3dkIAAMA2J/h2QgAAQJkV+nZCAACAygz7dkIAAIC9fAF3QgAAQCPPAXdCAACA6w8Ed0IAAMAcBwV3QgAAgIJZBXdCAABA6KsFd0IAAMCzUAZ3QgAAgBmjBndCAABAf/UGd0IAAMBKmgd3QgAAgLDsB3dCAABAFj8Id0IAAAB8kQh3QgAAwOHjCHdCAACARzYJd0IAAECtiAl3QgAAABPbCXdCAADAeC0Kd0IAAIDefwp3QgAAQETSCndCAAAAqiQLd0IAAMAPdwt3QgAAgHXJC3dCAABA2xsMd0IAAABBbgx3QgAAwKbADHdCAACADBMNd0IAAEByZQ13QgAAANi3DXdCAADAPQoOd0IAAICjXA53QgAAQAmvDndCAAAAbwEPd0IAAMDUUw93QgAAgDqmD3dCAABAoPgPd0IAAAAGSxB3QgAAwGudEHdCAACA0e8Qd0IAAEA3QhF3QgAAAJ2UEXdCAADAAucRd0IAAIBoORJ3QgAAQM6LEndCAAAANN4Sd0IAAMCZMBN3QgAAgP+CE3dCAABAZdUTd0IAAADLJxR3QgAAwDB6FHdCAACAlswUd0IAAED8HhV3QgAAAGJxFXdCAADAx8MVd0IAAIAtFhZ3QgAAQJNoFndCAAAA+boWd0IAAMBeDRd3QgAAgMRfF3dCAABAKrIXd0IAAACQBBh3QgAAwPVWGHdCAACAW6kYd0IAAEDB+xh3QgAAACdOGXdCAADAjKAZd0IAAIDy8hl3QgAAQFhFGndCAAAAvpcad0IAAMAj6hp3QgAAgIk8G3dCAABA744bd0I=\",\"dtype\":\"float64\",\"shape\":[76]},\"y\":[1,2,3,4,5,7,8,10,11,13,14,16,18,20,21,23,25,27,33,41,47,54,61,70,89,110,172,220,271,328,413,505,602,734,836,957,1062,1238,1362,1493,1702,1868,2054,2288,2551,2806,3049,3399,3694,4106,4505,4920,5341,5732,6258,6717,7271,7814,8661,9279,9928,10716,11423,12187,12939,13688,14472,15075,15762,16116,16404,16589,16681,16723,16749,16752]},\"selected\":{\"id\":\"16710\"},\"selection_policy\":{\"id\":\"16709\"}},\"id\":\"16644\",\"type\":\"ColumnDataSource\"},{\"attributes\":{\"line_color\":\"#CD4247\",\"x\":{\"field\":\"x\"},\"y\":{\"field\":\"y\"}},\"id\":\"16645\",\"type\":\"Line\"},{\"attributes\":{\"line_color\":\"#000003\",\"x\":{\"field\":\"x\"},\"y\":{\"field\":\"y\"}},\"id\":\"16889\",\"type\":\"Line\"},{\"attributes\":{\"data_source\":{\"id\":\"16883\"},\"glyph\":{\"id\":\"16884\"},\"hover_glyph\":null,\"muted_glyph\":null,\"nonselection_glyph\":{\"id\":\"16885\"},\"selection_glyph\":null,\"view\":{\"id\":\"16887\"}},\"id\":\"16886\",\"type\":\"GlyphRenderer\"},{\"attributes\":{\"line_color\":\"#D64A3F\",\"x\":{\"field\":\"x\"},\"y\":{\"field\":\"y\"}},\"id\":\"16640\",\"type\":\"Line\"},{\"attributes\":{\"line_alpha\":0.1,\"line_color\":\"#D64A3F\",\"x\":{\"field\":\"x\"},\"y\":{\"field\":\"y\"}},\"id\":\"16641\",\"type\":\"Line\"},{\"attributes\":{\"data_source\":{\"id\":\"16644\"},\"glyph\":{\"id\":\"16645\"},\"hover_glyph\":null,\"muted_glyph\":null,\"nonselection_glyph\":{\"id\":\"16646\"},\"selection_glyph\":null,\"view\":{\"id\":\"16648\"}},\"id\":\"16647\",\"type\":\"GlyphRenderer\"},{\"attributes\":{\"data_source\":{\"id\":\"16888\"},\"glyph\":{\"id\":\"16889\"},\"hover_glyph\":null,\"muted_glyph\":null,\"nonselection_glyph\":{\"id\":\"16890\"},\"selection_glyph\":null,\"view\":{\"id\":\"16892\"}},\"id\":\"16891\",\"type\":\"GlyphRenderer\"},{\"attributes\":{},\"id\":\"18031\",\"type\":\"Selection\"},{\"attributes\":{\"line_alpha\":0.1,\"line_color\":\"#020210\",\"x\":{\"field\":\"x\"},\"y\":{\"field\":\"y\"}},\"id\":\"16885\",\"type\":\"Line\"},{\"attributes\":{},\"id\":\"16512\",\"type\":\"Selection\"},{\"attributes\":{\"line_color\":\"#C43C4E\",\"x\":{\"field\":\"x\"},\"y\":{\"field\":\"y\"}},\"id\":\"16650\",\"type\":\"Line\"},{\"attributes\":{\"items\":[{\"id\":\"16497\"},{\"id\":\"16526\"},{\"id\":\"16618\"},{\"id\":\"16730\"},{\"id\":\"16862\"},{\"id\":\"16986\"}],\"location\":\"top_left\"},\"id\":\"16496\",\"type\":\"Legend\"},{\"attributes\":{\"data\":{\"x\":{\"__ndarray__\":\"AADANif4dkIAAECZFfp2QgAAgMoM+3ZCAADAKZf+dkIAAED1O/92QgAAgL18AXdCAADAHAcFd0IAAEDoqwV3QgAAwLNQBndCAACAGaMGd0IAAEB/9QZ3QgAAwEqaB3dCAACAsOwHd0IAAEAWPwh3QgAAAHyRCHdCAADA4eMId0IAAIBHNgl3QgAAQK2ICXdCAAAAE9sJd0IAAMB4LQp3QgAAgN5/CndCAABARNIKd0IAAACqJAt3QgAAwA93C3dCAACAdckLd0IAAEDbGwx3QgAAAEFuDHdCAADApsAMd0IAAIAMEw13QgAAQHJlDXdCAAAA2LcNd0IAAMA9Cg53QgAAgKNcDndCAABACa8Od0IAAABvAQ93QgAAwNRTD3dCAACAOqYPd0IAAECg+A93QgAAAAZLEHdCAADAa50Qd0IAAIDR7xB3QgAAQDdCEXdCAAAAnZQRd0IAAMAC5xF3QgAAgGg5EndCAABAzosSd0IAAAA03hJ3QgAAwJkwE3dCAACA/4ITd0IAAEBl1RN3QgAAAMsnFHdCAADAMHoUd0IAAICWzBR3QgAAQPweFXdCAAAAYnEVd0IAAMDHwxV3QgAAgC0WFndCAABAk2gWd0IAAAD5uhZ3QgAAwF4NF3dCAACAxF8Xd0IAAEAqshd3QgAAAJAEGHdCAADA9VYYd0IAAIBbqRh3QgAAQMH7GHdCAAAAJ04Zd0IAAMCMoBl3QgAAgPLyGXdCAABAWEUad0IAAAC+lxp3QgAAwCPqGndCAACAiTwbd0IAAEDvjht3QgAAAFXhG3dCAADAujMcd0IAAIAghhx3QgAAQIbYHHdCAAAA7Codd0IAAMBRfR13QgAAgLfPHXdCAABAHSIed0IAAACDdB53QgAAwOjGHndCAACAThkfd0IAAEC0ax93QgAAABq+H3dCAADAfxAgd0IAAIDlYiB3QgAAQEu1IHdCAAAAsQchd0IAAMAWWiF3QgAAgHysIXdCAABA4v4hd0I=\",\"dtype\":\"float64\",\"shape\":[94]},\"y\":[1,2,3,4,5,6,7,8,9,11,12,13,14,16,18,20,26,35,41,48,55,65,86,107,169,219,270,328,413,505,604,737,843,967,1076,1258,1386,1523,1745,1924,2129,2372,2651,2915,3174,3549,3852,4301,4728,5168,5614,6029,6593,7077,7681,8282,9214,9911,10652,11570,12442,13448,14441,15559,16779,17875,19640,20786,21966,23218,24697,26204,27558,29178,30584,31860,33514,35688,37167,38593,40333,41961,43329,44798,46338,47596,48945,49983,50703,51212,51473,51581,51629,51633]},\"selected\":{\"id\":\"18031\"},\"selection_policy\":{\"id\":\"18030\"}},\"id\":\"16888\",\"type\":\"ColumnDataSource\"},{\"attributes\":{\"line_alpha\":0.1,\"line_color\":\"#CD4247\",\"x\":{\"field\":\"x\"},\"y\":{\"field\":\"y\"}},\"id\":\"16646\",\"type\":\"Line\"},{\"attributes\":{\"label\":{\"value\":\"Casos por inicio de s\\u00edntomas al 18/05/2020\"},\"renderers\":[{\"id\":\"16891\"}]},\"id\":\"16986\",\"type\":\"LegendItem\"},{\"attributes\":{},\"id\":\"16971\",\"type\":\"UnionRenderers\"},{\"attributes\":{\"source\":{\"id\":\"16537\"}},\"id\":\"16541\",\"type\":\"CDSView\"},{\"attributes\":{\"source\":{\"id\":\"16532\"}},\"id\":\"16536\",\"type\":\"CDSView\"},{\"attributes\":{},\"id\":\"16972\",\"type\":\"Selection\"},{\"attributes\":{\"source\":{\"id\":\"16527\"}},\"id\":\"16531\",\"type\":\"CDSView\"},{\"attributes\":{\"data_source\":{\"id\":\"16532\"},\"glyph\":{\"id\":\"16533\"},\"hover_glyph\":null,\"muted_glyph\":null,\"nonselection_glyph\":{\"id\":\"16534\"},\"selection_glyph\":null,\"view\":{\"id\":\"16536\"}},\"id\":\"16535\",\"type\":\"GlyphRenderer\"},{\"attributes\":{\"data\":{\"x\":{\"__ndarray__\":\"AADAHAcFd0IAAEDoqwV3QgAAwLNQBndCAACAGaMGd0IAAEB/9QZ3QgAAwEqaB3dCAACAsOwHd0IAAEAWPwh3QgAAAHyRCHdCAADA4eMId0IAAIBHNgl3QgAAQK2ICXdCAAAAE9sJd0IAAMB4LQp3QgAAgN5/CndCAABARNIKd0IAAACqJAt3QgAAwA93C3dCAACAdckLd0IAAEDbGwx3QgAAAEFuDHdCAADApsAMd0IAAIAMEw13QgAAQHJlDXdCAAAA2LcNd0IAAMA9Cg53QgAAgKNcDndCAABACa8Od0IAAABvAQ93QgAAwNRTD3dCAACAOqYPd0IAAECg+A93QgAAAAZLEHdCAADAa50Qd0IAAIDR7xB3QgAAQDdCEXdCAAAAnZQRd0IAAMAC5xF3QgAAgGg5EndCAABAzosSd0IAAAA03hJ3QgAAwJkwE3dCAACA/4ITd0IAAEBl1RN3QgAAAMsnFHdCAADAMHoUd0IAAICWzBR3QgAAQPweFXdCAAAAYnEVd0IAAMDHwxV3QgAAgC0WFndCAABAk2gWd0IAAAD5uhZ3QgAAwF4NF3dCAACAxF8Xd0I=\",\"dtype\":\"float64\",\"shape\":[55]},\"y\":[2,4,5,7,9,11,12,13,15,17,23,30,36,43,50,59,78,99,159,206,254,308,389,477,571,698,800,918,1022,1191,1313,1446,1644,1805,1982,2201,2449,2687,2913,3208,3471,3789,4084,4401,4687,4929,5215,5399,5538,5636,5734,5795,5831,5843,5847]},\"selected\":{\"id\":\"16592\"},\"selection_policy\":{\"id\":\"16591\"}},\"id\":\"16537\",\"type\":\"ColumnDataSource\"},{\"attributes\":{\"line_color\":\"#F4DC4F\",\"x\":{\"field\":\"x\"},\"y\":{\"field\":\"y\"}},\"id\":\"16538\",\"type\":\"Line\"},{\"attributes\":{\"line_color\":\"#F1E968\",\"x\":{\"field\":\"x\"},\"y\":{\"field\":\"y\"}},\"id\":\"16533\",\"type\":\"Line\"},{\"attributes\":{\"line_alpha\":0.1,\"line_color\":\"#F1E968\",\"x\":{\"field\":\"x\"},\"y\":{\"field\":\"y\"}},\"id\":\"16534\",\"type\":\"Line\"},{\"attributes\":{\"data_source\":{\"id\":\"16537\"},\"glyph\":{\"id\":\"16538\"},\"hover_glyph\":null,\"muted_glyph\":null,\"nonselection_glyph\":{\"id\":\"16539\"},\"selection_glyph\":null,\"view\":{\"id\":\"16541\"}},\"id\":\"16540\",\"type\":\"GlyphRenderer\"},{\"attributes\":{\"line_color\":\"#F7CF3A\",\"x\":{\"field\":\"x\"},\"y\":{\"field\":\"y\"}},\"id\":\"16543\",\"type\":\"Line\"},{\"attributes\":{\"data\":{\"x\":{\"__ndarray__\":\"AADAHAcFd0IAAEDoqwV3QgAAwLNQBndCAACAGaMGd0IAAEB/9QZ3QgAAwEqaB3dCAACAsOwHd0IAAEAWPwh3QgAAAHyRCHdCAADA4eMId0IAAIBHNgl3QgAAQK2ICXdCAAAAE9sJd0IAAMB4LQp3QgAAgN5/CndCAABARNIKd0IAAACqJAt3QgAAwA93C3dCAACAdckLd0IAAEDbGwx3QgAAAEFuDHdCAADApsAMd0IAAIAMEw13QgAAQHJlDXdCAAAA2LcNd0IAAMA9Cg53QgAAgKNcDndCAABACa8Od0IAAABvAQ93QgAAwNRTD3dCAACAOqYPd0IAAECg+A93QgAAAAZLEHdCAADAa50Qd0IAAIDR7xB3QgAAQDdCEXdCAAAAnZQRd0IAAMAC5xF3QgAAgGg5EndCAABAzosSd0IAAAA03hJ3QgAAwJkwE3dCAACA/4ITd0IAAEBl1RN3QgAAAMsnFHdCAADAMHoUd0IAAICWzBR3QgAAQPweFXdCAAAAYnEVd0IAAMDHwxV3QgAAgC0WFndCAABAk2gWd0IAAAD5uhZ3QgAAwF4NF3dCAACAxF8Xd0IAAEAqshd3Qg==\",\"dtype\":\"float64\",\"shape\":[56]},\"y\":[2,4,5,7,9,11,12,13,15,17,23,30,36,43,50,59,78,99,159,206,254,308,389,477,571,698,799,917,1021,1189,1311,1445,1644,1805,1982,2200,2449,2687,2915,3213,3478,3800,4113,4440,4740,5014,5326,5550,5740,5885,6062,6160,6238,6278,6295,6297]},\"selected\":{\"id\":\"16594\"},\"selection_policy\":{\"id\":\"16593\"}},\"id\":\"16542\",\"type\":\"ColumnDataSource\"},{\"attributes\":{\"line_alpha\":0.1,\"line_color\":\"#F7CF3A\",\"x\":{\"field\":\"x\"},\"y\":{\"field\":\"y\"}},\"id\":\"16544\",\"type\":\"Line\"},{\"attributes\":{\"line_alpha\":0.1,\"line_color\":\"#F4DC4F\",\"x\":{\"field\":\"x\"},\"y\":{\"field\":\"y\"}},\"id\":\"16539\",\"type\":\"Line\"},{\"attributes\":{},\"id\":\"16835\",\"type\":\"UnionRenderers\"},{\"attributes\":{\"source\":{\"id\":\"16868\"}},\"id\":\"16872\",\"type\":\"CDSView\"},{\"attributes\":{},\"id\":\"16833\",\"type\":\"UnionRenderers\"},{\"attributes\":{},\"id\":\"16479\",\"type\":\"BasicTickFormatter\"},{\"attributes\":{},\"id\":\"16834\",\"type\":\"Selection\"},{\"attributes\":{},\"id\":\"16837\",\"type\":\"UnionRenderers\"},{\"attributes\":{},\"id\":\"16481\",\"type\":\"DatetimeTickFormatter\"},{\"attributes\":{},\"id\":\"16836\",\"type\":\"Selection\"},{\"attributes\":{\"mantissas\":[1,2,5],\"max_interval\":500.0,\"num_minor_ticks\":0},\"id\":\"16484\",\"type\":\"AdaptiveTicker\"},{\"attributes\":{},\"id\":\"16839\",\"type\":\"UnionRenderers\"},{\"attributes\":{},\"id\":\"16961\",\"type\":\"UnionRenderers\"},{\"attributes\":{\"base\":60,\"mantissas\":[1,2,5,10,15,20,30],\"max_interval\":1800000.0,\"min_interval\":1000.0,\"num_minor_ticks\":0},\"id\":\"16485\",\"type\":\"AdaptiveTicker\"},{\"attributes\":{\"data_source\":{\"id\":\"16868\"},\"glyph\":{\"id\":\"16869\"},\"hover_glyph\":null,\"muted_glyph\":null,\"nonselection_glyph\":{\"id\":\"16870\"},\"selection_glyph\":null,\"view\":{\"id\":\"16872\"}},\"id\":\"16871\",\"type\":\"GlyphRenderer\"},{\"attributes\":{},\"id\":\"16965\",\"type\":\"UnionRenderers\"},{\"attributes\":{\"text\":\"\"},\"id\":\"16477\",\"type\":\"Title\"},{\"attributes\":{\"line_alpha\":0.1,\"line_color\":\"#1A0B40\",\"x\":{\"field\":\"x\"},\"y\":{\"field\":\"y\"}},\"id\":\"16870\",\"type\":\"Line\"},{\"attributes\":{},\"id\":\"16838\",\"type\":\"Selection\"},{\"attributes\":{},\"id\":\"16962\",\"type\":\"Selection\"},{\"attributes\":{},\"id\":\"16963\",\"type\":\"UnionRenderers\"},{\"attributes\":{\"days\":[1,2,3,4,5,6,7,8,9,10,11,12,13,14,15,16,17,18,19,20,21,22,23,24,25,26,27,28,29,30,31]},\"id\":\"16487\",\"type\":\"DaysTicker\"},{\"attributes\":{},\"id\":\"16841\",\"type\":\"UnionRenderers\"},{\"attributes\":{\"data\":{\"x\":{\"__ndarray__\":\"AADANif4dkIAAECZFfp2QgAAgMoM+3ZCAADAKZf+dkIAAED1O/92QgAAgL18AXdCAABAI88Bd0IAAMAcBwV3QgAAgIJZBXdCAABA6KsFd0IAAMCzUAZ3QgAAgBmjBndCAABAf/UGd0IAAMBKmgd3QgAAgLDsB3dCAABAFj8Id0IAAAB8kQh3QgAAwOHjCHdCAACARzYJd0IAAECtiAl3QgAAABPbCXdCAADAeC0Kd0IAAIDefwp3QgAAQETSCndCAAAAqiQLd0IAAMAPdwt3QgAAgHXJC3dCAABA2xsMd0IAAABBbgx3QgAAwKbADHdCAACADBMNd0IAAEByZQ13QgAAANi3DXdCAADAPQoOd0IAAICjXA53QgAAQAmvDndCAAAAbwEPd0IAAMDUUw93QgAAgDqmD3dCAABAoPgPd0IAAAAGSxB3QgAAwGudEHdCAACA0e8Qd0IAAEA3QhF3QgAAAJ2UEXdCAADAAucRd0IAAIBoORJ3QgAAQM6LEndCAAAANN4Sd0IAAMCZMBN3QgAAgP+CE3dCAABAZdUTd0IAAADLJxR3QgAAwDB6FHdCAACAlswUd0IAAED8HhV3QgAAAGJxFXdCAADAx8MVd0IAAIAtFhZ3QgAAQJNoFndCAAAA+boWd0IAAMBeDRd3QgAAgMRfF3dCAABAKrIXd0IAAACQBBh3QgAAwPVWGHdCAACAW6kYd0IAAEDB+xh3QgAAACdOGXdCAADAjKAZd0IAAIDy8hl3QgAAQFhFGndCAAAAvpcad0IAAMAj6hp3QgAAgIk8G3dCAABA744bd0IAAABV4Rt3QgAAwLozHHdCAACAIIYcd0IAAECG2Bx3QgAAAOwqHXdCAADAUX0dd0IAAIC3zx13QgAAQB0iHndCAAAAg3Qed0IAAMDoxh53QgAAgE4ZH3dCAABAtGsfd0IAAAAavh93QgAAwH8QIHdCAACA5WIgd0IAAEBLtSB3QgAAALEHIXdC\",\"dtype\":\"float64\",\"shape\":[93]},\"y\":[1,2,3,4,5,6,7,8,9,10,11,13,14,15,16,18,20,22,28,37,43,50,57,67,88,109,171,221,272,330,415,507,606,739,845,968,1077,1259,1387,1524,1745,1924,2128,2371,2650,2914,3173,3548,3852,4299,4725,5165,5610,6022,6585,7068,7667,8265,9193,9883,10620,11530,12398,13399,14388,15491,16703,17792,19537,20675,21841,23058,24514,25972,27289,28846,30180,31366,32886,34794,36077,37316,38783,40108,41166,42191,43165,43855,44399,44759,44936,45029,45032]},\"selected\":{\"id\":\"16968\"},\"selection_policy\":{\"id\":\"16967\"}},\"id\":\"16873\",\"type\":\"ColumnDataSource\"},{\"attributes\":{\"base\":24,\"mantissas\":[1,2,4,6,8,12],\"max_interval\":43200000.0,\"min_interval\":3600000.0,\"num_minor_ticks\":0},\"id\":\"16486\",\"type\":\"AdaptiveTicker\"},{\"attributes\":{\"data\":{\"x\":{\"__ndarray__\":\"AADANif4dkIAAECZFfp2QgAAgMoM+3ZCAADAKZf+dkIAAED1O/92QgAAgL18AXdCAABAI88Bd0IAAMAcBwV3QgAAgIJZBXdCAABA6KsFd0IAAMCzUAZ3QgAAgBmjBndCAABAf/UGd0IAAMBKmgd3QgAAgLDsB3dCAABAFj8Id0IAAAB8kQh3QgAAwOHjCHdCAACARzYJd0IAAECtiAl3QgAAABPbCXdCAADAeC0Kd0IAAIDefwp3QgAAQETSCndCAAAAqiQLd0IAAMAPdwt3QgAAgHXJC3dCAABA2xsMd0IAAABBbgx3QgAAwKbADHdCAACADBMNd0IAAEByZQ13QgAAANi3DXdCAADAPQoOd0IAAICjXA53QgAAQAmvDndCAAAAbwEPd0IAAMDUUw93QgAAgDqmD3dCAABAoPgPd0IAAAAGSxB3QgAAwGudEHdCAACA0e8Qd0IAAEA3QhF3QgAAAJ2UEXdCAADAAucRd0IAAIBoORJ3QgAAQM6LEndCAAAANN4Sd0IAAMCZMBN3QgAAgP+CE3dCAABAZdUTd0IAAADLJxR3QgAAwDB6FHdCAACAlswUd0IAAED8HhV3QgAAAGJxFXdCAADAx8MVd0IAAIAtFhZ3QgAAQJNoFndCAAAA+boWd0IAAMBeDRd3QgAAgMRfF3dCAABAKrIXd0IAAACQBBh3QgAAwPVWGHdCAACAW6kYd0IAAEDB+xh3QgAAACdOGXdCAADAjKAZd0IAAIDy8hl3QgAAQFhFGndCAAAAvpcad0IAAMAj6hp3QgAAgIk8G3dCAABA744bd0IAAABV4Rt3QgAAwLozHHdCAACAIIYcd0IAAECG2Bx3QgAAAOwqHXdCAADAUX0dd0IAAIC3zx13QgAAQB0iHndCAAAAg3Qed0IAAMDoxh53QgAAgE4ZH3dCAABAtGsfd0IAAAAavh93QgAAwH8QIHdCAACA5WIgd0IAAEBLtSB3QgAAALEHIXdCAADAFlohd0IAAIB8rCF3Qg==\",\"dtype\":\"float64\",\"shape\":[95]},\"y\":[1,2,3,4,5,6,7,8,9,10,11,13,14,15,16,18,20,22,28,37,43,50,57,67,88,109,171,221,272,330,415,507,606,739,845,969,1078,1260,1388,1525,1746,1925,2129,2372,2651,2915,3174,3548,3851,4299,4726,5166,5612,6027,6591,7076,7677,8278,9209,9904,10645,11560,12431,13436,14428,15539,16757,17847,19610,20754,21927,23169,24641,26132,27473,29072,30452,31699,33306,35353,36770,38114,39772,41298,42570,43919,45287,46359,47421,48230,48722,49045,49192,49218,49219]},\"selected\":{\"id\":\"16972\"},\"selection_policy\":{\"id\":\"16971\"}},\"id\":\"16883\",\"type\":\"ColumnDataSource\"},{\"attributes\":{},\"id\":\"16840\",\"type\":\"Selection\"},{\"attributes\":{\"line_color\":\"#10092F\",\"x\":{\"field\":\"x\"},\"y\":{\"field\":\"y\"}},\"id\":\"16874\",\"type\":\"Line\"},{\"attributes\":{\"source\":{\"id\":\"16888\"}},\"id\":\"16892\",\"type\":\"CDSView\"},{\"attributes\":{},\"id\":\"16843\",\"type\":\"UnionRenderers\"},{\"attributes\":{},\"id\":\"16842\",\"type\":\"Selection\"},{\"attributes\":{\"days\":[1,8,15,22]},\"id\":\"16489\",\"type\":\"DaysTicker\"},{\"attributes\":{\"days\":[1,4,7,10,13,16,19,22,25,28]},\"id\":\"16488\",\"type\":\"DaysTicker\"},{\"attributes\":{},\"id\":\"16845\",\"type\":\"UnionRenderers\"},{\"attributes\":{\"source\":{\"id\":\"16873\"}},\"id\":\"16877\",\"type\":\"CDSView\"},{\"attributes\":{},\"id\":\"16844\",\"type\":\"Selection\"},{\"attributes\":{\"days\":[1,15]},\"id\":\"16490\",\"type\":\"DaysTicker\"},{\"attributes\":{},\"id\":\"16847\",\"type\":\"UnionRenderers\"},{\"attributes\":{},\"id\":\"16846\",\"type\":\"Selection\"},{\"attributes\":{},\"id\":\"16964\",\"type\":\"Selection\"},{\"attributes\":{\"data_source\":{\"id\":\"16863\"},\"glyph\":{\"id\":\"16864\"},\"hover_glyph\":null,\"muted_glyph\":null,\"nonselection_glyph\":{\"id\":\"16865\"},\"selection_glyph\":null,\"view\":{\"id\":\"16867\"}},\"id\":\"16866\",\"type\":\"GlyphRenderer\"},{\"attributes\":{},\"id\":\"16848\",\"type\":\"Selection\"},{\"attributes\":{},\"id\":\"16966\",\"type\":\"Selection\"},{\"attributes\":{},\"id\":\"16967\",\"type\":\"UnionRenderers\"},{\"attributes\":{\"data\":{\"x\":{\"__ndarray__\":\"AADANif4dkIAAECZFfp2QgAAgMoM+3ZCAADAKZf+dkIAAED1O/92QgAAgL18AXdCAABAI88Bd0IAAMAcBwV3QgAAgIJZBXdCAABA6KsFd0IAAMCzUAZ3QgAAgBmjBndCAABAf/UGd0IAAMBKmgd3QgAAgLDsB3dCAABAFj8Id0IAAAB8kQh3QgAAwOHjCHdCAACARzYJd0IAAECtiAl3QgAAABPbCXdCAADAeC0Kd0IAAIDefwp3QgAAQETSCndCAAAAqiQLd0IAAMAPdwt3QgAAgHXJC3dCAABA2xsMd0IAAABBbgx3QgAAwKbADHdCAACADBMNd0IAAEByZQ13QgAAANi3DXdCAADAPQoOd0IAAICjXA53QgAAQAmvDndCAAAAbwEPd0IAAMDUUw93QgAAgDqmD3dCAABAoPgPd0IAAAAGSxB3QgAAwGudEHdCAACA0e8Qd0IAAEA3QhF3QgAAAJ2UEXdCAADAAucRd0IAAIBoORJ3QgAAQM6LEndCAAAANN4Sd0IAAMCZMBN3QgAAgP+CE3dCAABAZdUTd0IAAADLJxR3QgAAwDB6FHdCAACAlswUd0IAAED8HhV3QgAAAGJxFXdCAADAx8MVd0IAAIAtFhZ3QgAAQJNoFndCAAAA+boWd0IAAMBeDRd3QgAAgMRfF3dCAABAKrIXd0IAAACQBBh3QgAAwPVWGHdCAACAW6kYd0IAAEDB+xh3QgAAACdOGXdCAADAjKAZd0IAAIDy8hl3QgAAQFhFGndCAAAAvpcad0IAAMAj6hp3QgAAgIk8G3dCAABA744bd0IAAABV4Rt3QgAAwLozHHdCAACAIIYcd0IAAECG2Bx3QgAAAOwqHXdCAADAUX0dd0IAAIC3zx13QgAAQB0iHndCAAAAg3Qed0IAAMDoxh53QgAAgE4ZH3dCAABAtGsfd0IAAAAavh93QgAAwH8QIHdCAACA5WIgd0IAAEBLtSB3Qg==\",\"dtype\":\"float64\",\"shape\":[92]},\"y\":[1,2,3,4,5,6,7,8,9,10,11,13,14,15,16,18,20,22,28,37,43,50,57,67,87,108,170,220,271,329,414,506,605,738,844,967,1076,1258,1386,1523,1744,1922,2126,2369,2647,2910,3170,3545,3849,4293,4719,5153,5596,6008,6569,7053,7652,8248,9173,9862,10601,11509,12377,13375,14363,15462,16669,17749,19489,20613,21773,22976,24422,25859,27148,28677,29959,31094,32538,34310,35519,36661,37998,39152,40054,40868,41592,42025,42314,42505,42568,42595]},\"selected\":{\"id\":\"16966\"},\"selection_policy\":{\"id\":\"16965\"}},\"id\":\"16868\",\"type\":\"ColumnDataSource\"},{\"attributes\":{\"data_source\":{\"id\":\"16873\"},\"glyph\":{\"id\":\"16874\"},\"hover_glyph\":null,\"muted_glyph\":null,\"nonselection_glyph\":{\"id\":\"16875\"},\"selection_glyph\":null,\"view\":{\"id\":\"16877\"}},\"id\":\"16876\",\"type\":\"GlyphRenderer\"},{\"attributes\":{},\"id\":\"16968\",\"type\":\"Selection\"},{\"attributes\":{},\"id\":\"16969\",\"type\":\"UnionRenderers\"},{\"attributes\":{\"line_color\":\"#08061F\",\"x\":{\"field\":\"x\"},\"y\":{\"field\":\"y\"}},\"id\":\"16879\",\"type\":\"Line\"},{\"attributes\":{},\"id\":\"16511\",\"type\":\"UnionRenderers\"},{\"attributes\":{\"line_color\":\"#1A0B40\",\"x\":{\"field\":\"x\"},\"y\":{\"field\":\"y\"}},\"id\":\"16869\",\"type\":\"Line\"},{\"attributes\":{},\"id\":\"16970\",\"type\":\"Selection\"},{\"attributes\":{\"line_alpha\":0.1,\"line_color\":\"#260B50\",\"x\":{\"field\":\"x\"},\"y\":{\"field\":\"y\"}},\"id\":\"16865\",\"type\":\"Line\"},{\"attributes\":{\"line_alpha\":0.1,\"line_color\":\"#08061F\",\"x\":{\"field\":\"x\"},\"y\":{\"field\":\"y\"}},\"id\":\"16880\",\"type\":\"Line\"},{\"attributes\":{\"line_color\":\"#260B50\",\"x\":{\"field\":\"x\"},\"y\":{\"field\":\"y\"}},\"id\":\"16864\",\"type\":\"Line\"},{\"attributes\":{\"data\":{\"x\":{\"__ndarray__\":\"AADANif4dkIAAECZFfp2QgAAgMoM+3ZCAADAKZf+dkIAAED1O/92QgAAgL18AXdCAABAI88Bd0IAAMAcBwV3QgAAgIJZBXdCAABA6KsFd0IAAMCzUAZ3QgAAgBmjBndCAABAf/UGd0IAAMBKmgd3QgAAgLDsB3dCAABAFj8Id0IAAAB8kQh3QgAAwOHjCHdCAACARzYJd0IAAECtiAl3QgAAABPbCXdCAADAeC0Kd0IAAIDefwp3QgAAQETSCndCAAAAqiQLd0IAAMAPdwt3QgAAgHXJC3dCAABA2xsMd0IAAABBbgx3QgAAwKbADHdCAACADBMNd0IAAEByZQ13QgAAANi3DXdCAADAPQoOd0IAAICjXA53QgAAQAmvDndCAAAAbwEPd0IAAMDUUw93QgAAgDqmD3dCAABAoPgPd0IAAAAGSxB3QgAAwGudEHdCAACA0e8Qd0IAAEA3QhF3QgAAAJ2UEXdCAADAAucRd0IAAIBoORJ3QgAAQM6LEndCAAAANN4Sd0IAAMCZMBN3QgAAgP+CE3dCAABAZdUTd0IAAADLJxR3QgAAwDB6FHdCAACAlswUd0IAAED8HhV3QgAAAGJxFXdCAADAx8MVd0IAAIAtFhZ3QgAAQJNoFndCAAAA+boWd0IAAMBeDRd3QgAAgMRfF3dCAABAKrIXd0IAAACQBBh3QgAAwPVWGHdCAACAW6kYd0IAAEDB+xh3QgAAACdOGXdCAADAjKAZd0IAAIDy8hl3QgAAQFhFGndCAAAAvpcad0IAAMAj6hp3QgAAgIk8G3dCAABA744bd0IAAABV4Rt3QgAAwLozHHdCAACAIIYcd0IAAECG2Bx3QgAAAOwqHXdCAADAUX0dd0IAAIC3zx13QgAAQB0iHndCAAAAg3Qed0IAAMDoxh53QgAAgE4ZH3dCAABAtGsfd0IAAAAavh93QgAAwH8QIHdCAACA5WIgd0IAAEBLtSB3QgAAALEHIXdC\",\"dtype\":\"float64\",\"shape\":[93]},\"y\":[1,2,3,4,5,6,7,8,9,10,11,13,14,15,16,18,20,22,28,37,43,50,57,67,88,109,171,221,272,330,415,507,606,739,845,969,1078,1260,1388,1525,1746,1925,2129,2372,2650,2913,3172,3546,3850,4297,4724,5164,5610,6024,6588,7073,7674,8275,9204,9899,10639,11554,12424,13427,14419,15528,16745,17838,19600,20744,21918,23157,24629,26113,27443,29019,30376,31586,33142,35111,36463,37754,39334,40780,41940,43126,44307,45191,46011,46600,46913,47097,47144]},\"selected\":{\"id\":\"16970\"},\"selection_policy\":{\"id\":\"16969\"}},\"id\":\"16878\",\"type\":\"ColumnDataSource\"},{\"attributes\":{\"line_alpha\":0.1,\"line_color\":\"#10092F\",\"x\":{\"field\":\"x\"},\"y\":{\"field\":\"y\"}},\"id\":\"16875\",\"type\":\"Line\"},{\"attributes\":{\"data_source\":{\"id\":\"16624\"},\"glyph\":{\"id\":\"16625\"},\"hover_glyph\":null,\"muted_glyph\":null,\"nonselection_glyph\":{\"id\":\"16626\"},\"selection_glyph\":null,\"view\":{\"id\":\"16628\"}},\"id\":\"16627\",\"type\":\"GlyphRenderer\"},{\"attributes\":{\"data_source\":{\"id\":\"16771\"},\"glyph\":{\"id\":\"16772\"},\"hover_glyph\":null,\"muted_glyph\":null,\"nonselection_glyph\":{\"id\":\"16773\"},\"selection_glyph\":null,\"view\":{\"id\":\"16775\"}},\"id\":\"16774\",\"type\":\"GlyphRenderer\"},{\"attributes\":{\"line_alpha\":0.1,\"line_color\":\"#DE5337\",\"x\":{\"field\":\"x\"},\"y\":{\"field\":\"y\"}},\"id\":\"16636\",\"type\":\"Line\"},{\"attributes\":{\"source\":{\"id\":\"16624\"}},\"id\":\"16628\",\"type\":\"CDSView\"},{\"attributes\":{\"source\":{\"id\":\"16863\"}},\"id\":\"16867\",\"type\":\"CDSView\"},{\"attributes\":{\"source\":{\"id\":\"16771\"}},\"id\":\"16775\",\"type\":\"CDSView\"},{\"attributes\":{\"line_color\":\"#32095D\",\"x\":{\"field\":\"x\"},\"y\":{\"field\":\"y\"}},\"id\":\"16777\",\"type\":\"Line\"},{\"attributes\":{\"data\":{\"x\":{\"__ndarray__\":\"AABAa4L3dkIAAMA2J/h2QgAAgMoM+3ZCAACAvXwBd0IAAEAjzwF3QgAAgOsPBHdCAADAHAcFd0IAAICCWQV3QgAAQOirBXdCAADAs1AGd0IAAIAZowZ3QgAAQH/1BndCAADASpoHd0IAAICw7Ad3QgAAQBY/CHdCAAAAfJEId0IAAMDh4wh3QgAAgEc2CXdCAABArYgJd0IAAAAT2wl3QgAAwHgtCndCAACA3n8Kd0IAAEBE0gp3QgAAAKokC3dCAADAD3cLd0IAAIB1yQt3QgAAQNsbDHdCAAAAQW4Md0IAAMCmwAx3QgAAgAwTDXdCAABAcmUNd0IAAADYtw13QgAAwD0KDndCAACAo1wOd0IAAEAJrw53QgAAAG8BD3dCAADA1FMPd0IAAIA6pg93QgAAQKD4D3dCAAAABksQd0IAAMBrnRB3QgAAgNHvEHdCAABAN0IRd0IAAACdlBF3QgAAwALnEXdCAACAaDkSd0IAAEDOixJ3QgAAADTeEndCAADAmTATd0IAAID/ghN3QgAAQGXVE3dCAAAAyycUd0IAAMAwehR3QgAAgJbMFHdCAABA/B4Vd0IAAABicRV3QgAAwMfDFXdCAACALRYWd0IAAECTaBZ3QgAAAPm6FndCAADAXg0Xd0IAAIDEXxd3QgAAQCqyF3dCAAAAkAQYd0IAAMD1Vhh3QgAAgFupGHdCAABAwfsYd0IAAAAnThl3QgAAwIygGXdCAACA8vIZd0IAAEBYRRp3QgAAAL6XGndCAADAI+oad0IAAICJPBt3Qg==\",\"dtype\":\"float64\",\"shape\":[74]},\"y\":[1,2,3,4,6,7,9,10,12,13,15,17,19,20,22,24,26,32,40,46,53,60,69,88,109,169,217,267,324,408,500,596,728,829,950,1054,1230,1354,1485,1692,1858,2044,2278,2540,2794,3037,3385,3679,4088,4486,4900,5319,5704,6220,6675,7223,7755,8565,9164,9773,10520,11166,11867,12543,13199,13869,14357,14867,15148,15333,15459,15493,15514,15529]},\"selected\":{\"id\":\"16708\"},\"selection_policy\":{\"id\":\"16707\"}},\"id\":\"16639\",\"type\":\"ColumnDataSource\"},{\"attributes\":{\"source\":{\"id\":\"16629\"}},\"id\":\"16633\",\"type\":\"CDSView\"},{\"attributes\":{\"source\":{\"id\":\"16776\"}},\"id\":\"16780\",\"type\":\"CDSView\"},{\"attributes\":{\"label\":{\"value\":\"Casos por inicio de s\\u00edntomas al 12/05/2020\"},\"renderers\":[{\"id\":\"16779\"}]},\"id\":\"16862\",\"type\":\"LegendItem\"},{\"attributes\":{\"data_source\":{\"id\":\"16629\"},\"glyph\":{\"id\":\"16630\"},\"hover_glyph\":null,\"muted_glyph\":null,\"nonselection_glyph\":{\"id\":\"16631\"},\"selection_glyph\":null,\"view\":{\"id\":\"16633\"}},\"id\":\"16632\",\"type\":\"GlyphRenderer\"},{\"attributes\":{\"line_color\":\"#E65C2E\",\"x\":{\"field\":\"x\"},\"y\":{\"field\":\"y\"}},\"id\":\"16630\",\"type\":\"Line\"},{\"attributes\":{},\"id\":\"16831\",\"type\":\"UnionRenderers\"},{\"attributes\":{\"data_source\":{\"id\":\"16776\"},\"glyph\":{\"id\":\"16777\"},\"hover_glyph\":null,\"muted_glyph\":null,\"nonselection_glyph\":{\"id\":\"16778\"},\"selection_glyph\":null,\"view\":{\"id\":\"16780\"}},\"id\":\"16779\",\"type\":\"GlyphRenderer\"},{\"attributes\":{\"line_color\":\"#DE5337\",\"x\":{\"field\":\"x\"},\"y\":{\"field\":\"y\"}},\"id\":\"16635\",\"type\":\"Line\"},{\"attributes\":{},\"id\":\"16830\",\"type\":\"Selection\"},{\"attributes\":{},\"id\":\"16829\",\"type\":\"UnionRenderers\"},{\"attributes\":{\"line_alpha\":0.1,\"line_color\":\"#E65C2E\",\"x\":{\"field\":\"x\"},\"y\":{\"field\":\"y\"}},\"id\":\"16631\",\"type\":\"Line\"},{\"attributes\":{\"data_source\":{\"id\":\"16634\"},\"glyph\":{\"id\":\"16635\"},\"hover_glyph\":null,\"muted_glyph\":null,\"nonselection_glyph\":{\"id\":\"16636\"},\"selection_glyph\":null,\"view\":{\"id\":\"16638\"}},\"id\":\"16637\",\"type\":\"GlyphRenderer\"},{\"attributes\":{\"data\":{\"x\":{\"__ndarray__\":\"AABAa4L3dkIAAMA2J/h2QgAAgMoM+3ZCAACAvXwBd0IAAEAjzwF3QgAAgOsPBHdCAADAHAcFd0IAAICCWQV3QgAAQOirBXdCAADAs1AGd0IAAIAZowZ3QgAAQH/1BndCAADASpoHd0IAAICw7Ad3QgAAQBY/CHdCAAAAfJEId0IAAMDh4wh3QgAAgEc2CXdCAABArYgJd0IAAAAT2wl3QgAAwHgtCndCAACA3n8Kd0IAAEBE0gp3QgAAAKokC3dCAADAD3cLd0IAAIB1yQt3QgAAQNsbDHdCAAAAQW4Md0IAAMCmwAx3QgAAgAwTDXdCAABAcmUNd0IAAADYtw13QgAAwD0KDndCAACAo1wOd0IAAEAJrw53QgAAAG8BD3dCAADA1FMPd0IAAIA6pg93QgAAQKD4D3dCAAAABksQd0IAAMBrnRB3QgAAgNHvEHdCAABAN0IRd0IAAACdlBF3QgAAwALnEXdCAACAaDkSd0IAAEDOixJ3QgAAADTeEndCAADAmTATd0IAAID/ghN3QgAAQGXVE3dCAAAAyycUd0IAAMAwehR3QgAAgJbMFHdCAABA/B4Vd0IAAABicRV3QgAAwMfDFXdCAACALRYWd0IAAECTaBZ3QgAAAPm6FndCAADAXg0Xd0IAAIDEXxd3QgAAQCqyF3dCAAAAkAQYd0IAAMD1Vhh3QgAAgFupGHdCAABAwfsYd0IAAAAnThl3QgAAwIygGXdCAACA8vIZd0IAAEBYRRp3QgAAAL6XGndCAADAI+oad0IAAICJPBt3Qg==\",\"dtype\":\"float64\",\"shape\":[74]},\"y\":[1,2,3,4,6,7,9,10,12,13,15,17,19,20,22,24,26,32,40,46,53,60,69,88,109,169,217,267,324,408,500,596,728,830,951,1055,1231,1355,1486,1691,1857,2043,2274,2536,2790,3033,3381,3674,4081,4478,4888,5304,5689,6204,6656,7202,7727,8526,9109,9705,10427,11044,11700,12333,12925,13493,13911,14282,14481,14595,14658,14666,14676,14677]},\"selected\":{\"id\":\"16706\"},\"selection_policy\":{\"id\":\"16705\"}},\"id\":\"16634\",\"type\":\"ColumnDataSource\"},{\"attributes\":{\"line_alpha\":0.1,\"line_color\":\"#32095D\",\"x\":{\"field\":\"x\"},\"y\":{\"field\":\"y\"}},\"id\":\"16778\",\"type\":\"Line\"},{\"attributes\":{\"data\":{\"x\":{\"__ndarray__\":\"AADANif4dkIAAECZFfp2QgAAgMoM+3ZCAADAKZf+dkIAAED1O/92QgAAgL18AXdCAABAI88Bd0IAAMAcBwV3QgAAgIJZBXdCAABA6KsFd0IAAMCzUAZ3QgAAgBmjBndCAABAf/UGd0IAAMBKmgd3QgAAgLDsB3dCAABAFj8Id0IAAAB8kQh3QgAAwOHjCHdCAACARzYJd0IAAECtiAl3QgAAABPbCXdCAADAeC0Kd0IAAIDefwp3QgAAQETSCndCAAAAqiQLd0IAAMAPdwt3QgAAgHXJC3dCAABA2xsMd0IAAABBbgx3QgAAwKbADHdCAACADBMNd0IAAEByZQ13QgAAANi3DXdCAADAPQoOd0IAAICjXA53QgAAQAmvDndCAAAAbwEPd0IAAMDUUw93QgAAgDqmD3dCAABAoPgPd0IAAAAGSxB3QgAAwGudEHdCAACA0e8Qd0IAAEA3QhF3QgAAAJ2UEXdCAADAAucRd0IAAIBoORJ3QgAAQM6LEndCAAAANN4Sd0IAAMCZMBN3QgAAgP+CE3dCAABAZdUTd0IAAADLJxR3QgAAwDB6FHdCAACAlswUd0IAAED8HhV3QgAAAGJxFXdCAADAx8MVd0IAAIAtFhZ3QgAAQJNoFndCAAAA+boWd0IAAMBeDRd3QgAAgMRfF3dCAABAKrIXd0IAAACQBBh3QgAAwPVWGHdCAACAW6kYd0IAAEDB+xh3QgAAACdOGXdCAADAjKAZd0IAAIDy8hl3QgAAQFhFGndCAAAAvpcad0IAAMAj6hp3QgAAgIk8G3dCAABA744bd0IAAABV4Rt3QgAAwLozHHdCAACAIIYcd0IAAECG2Bx3QgAAAOwqHXdCAADAUX0dd0IAAIC3zx13QgAAQB0iHndCAAAAg3Qed0IAAMDoxh53QgAAgE4ZH3dCAABAtGsfd0IAAAAavh93QgAAwH8QIHdCAACA5WIgd0I=\",\"dtype\":\"float64\",\"shape\":[91]},\"y\":[1,2,3,4,5,6,7,8,9,10,11,13,14,15,16,18,20,22,28,37,43,50,57,67,87,108,170,220,271,329,414,506,605,738,844,967,1076,1258,1386,1523,1744,1921,2124,2367,2643,2906,3166,3541,3845,4288,4714,5147,5589,5999,6560,7044,7641,8236,9160,9849,10589,11496,12364,13361,14345,15439,16638,17715,19443,20562,21714,22907,24334,25739,26991,28486,29720,30808,32179,33806,34936,35983,37145,38104,38809,39377,39815,40015,40118,40182,40186]},\"selected\":{\"id\":\"16964\"},\"selection_policy\":{\"id\":\"16963\"}},\"id\":\"16863\",\"type\":\"ColumnDataSource\"},{\"attributes\":{},\"id\":\"16832\",\"type\":\"Selection\"}],\"root_ids\":[\"16441\"]},\"title\":\"Bokeh Application\",\"version\":\"2.0.1\"}};\n",
       "  var render_items = [{\"docid\":\"629e97b0-2e68-4bb2-8ea3-6da64ef02d3f\",\"root_ids\":[\"16441\"],\"roots\":{\"16441\":\"623a95a2-0977-486e-8041-a3645f69d073\"}}];\n",
       "  root.Bokeh.embed.embed_items_notebook(docs_json, render_items);\n",
       "\n",
       "  }\n",
       "  if (root.Bokeh !== undefined) {\n",
       "    embed_document(root);\n",
       "  } else {\n",
       "    var attempts = 0;\n",
       "    var timer = setInterval(function(root) {\n",
       "      if (root.Bokeh !== undefined) {\n",
       "        clearInterval(timer);\n",
       "        embed_document(root);\n",
       "      } else {\n",
       "        attempts++;\n",
       "        if (attempts > 100) {\n",
       "          clearInterval(timer);\n",
       "          console.log(\"Bokeh: ERROR: Unable to run BokehJS code because BokehJS library is missing\");\n",
       "        }\n",
       "      }\n",
       "    }, 10, root)\n",
       "  }\n",
       "})(window);"
      ],
      "application/vnd.bokehjs_exec.v0+json": ""
     },
     "metadata": {
      "application/vnd.bokehjs_exec.v0+json": {
       "id": "16441"
      }
     },
     "output_type": "display_data"
    }
   ],
   "source": [
    "bpl.show(p)"
   ]
  },
  {
   "cell_type": "code",
   "execution_count": null,
   "metadata": {},
   "outputs": [],
   "source": []
  }
 ],
 "metadata": {
  "kernelspec": {
   "display_name": "Python 3",
   "language": "python",
   "name": "python3"
  },
  "language_info": {
   "codemirror_mode": {
    "name": "ipython",
    "version": 3
   },
   "file_extension": ".py",
   "mimetype": "text/x-python",
   "name": "python",
   "nbconvert_exporter": "python",
   "pygments_lexer": "ipython3",
   "version": "3.7.7"
  }
 },
 "nbformat": 4,
 "nbformat_minor": 4
}
